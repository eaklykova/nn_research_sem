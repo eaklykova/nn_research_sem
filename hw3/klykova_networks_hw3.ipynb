{
 "cells": [
  {
   "cell_type": "markdown",
   "metadata": {},
   "source": [
    "# Домашняя работа №3\n",
    "## Выполнила Елизавета Клыкова, БКЛ181\n",
    "### Импорт библиотек"
   ]
  },
  {
   "cell_type": "code",
   "execution_count": 1,
   "metadata": {},
   "outputs": [],
   "source": [
    "%load_ext pycodestyle_magic\n",
    "%pycodestyle_on"
   ]
  },
  {
   "cell_type": "code",
   "execution_count": 2,
   "metadata": {
    "id": "e5BgHdtW2sO3"
   },
   "outputs": [
    {
     "name": "stdout",
     "output_type": "stream",
     "text": [
      "Requirement already satisfied: transformers in c:\\programdata\\anaconda3\\lib\\site-packages (4.14.1)\n",
      "Requirement already satisfied: pyyaml>=5.1 in c:\\programdata\\anaconda3\\lib\\site-packages (from transformers) (6.0)\n",
      "Requirement already satisfied: packaging>=20.0 in c:\\programdata\\anaconda3\\lib\\site-packages (from transformers) (21.0)\n",
      "Requirement already satisfied: filelock in c:\\programdata\\anaconda3\\lib\\site-packages (from transformers) (3.3.1)\n",
      "Requirement already satisfied: tqdm>=4.27 in c:\\programdata\\anaconda3\\lib\\site-packages (from transformers) (4.62.3)\n",
      "Requirement already satisfied: regex!=2019.12.17 in c:\\programdata\\anaconda3\\lib\\site-packages (from transformers) (2021.8.3)\n",
      "Requirement already satisfied: numpy>=1.17 in c:\\programdata\\anaconda3\\lib\\site-packages (from transformers) (1.20.3)\n",
      "Requirement already satisfied: sacremoses in c:\\programdata\\anaconda3\\lib\\site-packages (from transformers) (0.0.46)\n",
      "Requirement already satisfied: tokenizers<0.11,>=0.10.1 in c:\\programdata\\anaconda3\\lib\\site-packages (from transformers) (0.10.3)\n",
      "Requirement already satisfied: requests in c:\\programdata\\anaconda3\\lib\\site-packages (from transformers) (2.26.0)\n",
      "Requirement already satisfied: huggingface-hub<1.0,>=0.1.0 in c:\\programdata\\anaconda3\\lib\\site-packages (from transformers) (0.2.1)\n",
      "Requirement already satisfied: typing-extensions>=3.7.4.3 in c:\\programdata\\anaconda3\\lib\\site-packages (from huggingface-hub<1.0,>=0.1.0->transformers) (3.10.0.2)\n",
      "Requirement already satisfied: pyparsing>=2.0.2 in c:\\programdata\\anaconda3\\lib\\site-packages (from packaging>=20.0->transformers) (3.0.4)\n",
      "Requirement already satisfied: colorama in c:\\programdata\\anaconda3\\lib\\site-packages (from tqdm>=4.27->transformers) (0.4.4)\n",
      "Requirement already satisfied: idna<4,>=2.5 in c:\\programdata\\anaconda3\\lib\\site-packages (from requests->transformers) (3.2)\n",
      "Requirement already satisfied: urllib3<1.27,>=1.21.1 in c:\\programdata\\anaconda3\\lib\\site-packages (from requests->transformers) (1.26.7)\n",
      "Requirement already satisfied: charset-normalizer~=2.0.0 in c:\\programdata\\anaconda3\\lib\\site-packages (from requests->transformers) (2.0.4)\n",
      "Requirement already satisfied: certifi>=2017.4.17 in c:\\programdata\\anaconda3\\lib\\site-packages (from requests->transformers) (2021.10.8)\n",
      "Requirement already satisfied: six in c:\\programdata\\anaconda3\\lib\\site-packages (from sacremoses->transformers) (1.16.0)\n",
      "Requirement already satisfied: joblib in c:\\programdata\\anaconda3\\lib\\site-packages (from sacremoses->transformers) (1.1.0)\n",
      "Requirement already satisfied: click in c:\\programdata\\anaconda3\\lib\\site-packages (from sacremoses->transformers) (8.0.3)\n"
     ]
    }
   ],
   "source": [
    "!pip install transformers"
   ]
  },
  {
   "cell_type": "code",
   "execution_count": 3,
   "metadata": {
    "id": "qmzaEwy9W-Ae"
   },
   "outputs": [],
   "source": [
    "import random\n",
    "import time\n",
    "import datetime\n",
    "\n",
    "import numpy as np\n",
    "import pandas as pd\n",
    "\n",
    "from math import sqrt\n",
    "from tqdm.auto import tqdm\n",
    "from nltk.tokenize import word_tokenize, wordpunct_tokenize\n",
    "\n",
    "import seaborn as sns\n",
    "from matplotlib import pyplot as plt\n",
    "\n",
    "import torch\n",
    "from torch.utils.data import Dataset, DataLoader, TensorDataset,\\\n",
    "    RandomSampler, SequentialSampler\n",
    "\n",
    "from sklearn.model_selection import train_test_split\n",
    "from sklearn.metrics import f1_score\n",
    "from sklearn.utils.class_weight import compute_class_weight\n",
    "\n",
    "from transformers import BertTokenizer\n",
    "from transformers import BertForSequenceClassification, AdamW, BertConfig\n",
    "from transformers import get_linear_schedule_with_warmup\n",
    "from keras.preprocessing.sequence import pad_sequences\n",
    "\n",
    "import warnings\n",
    "warnings.simplefilter(action='ignore', category=FutureWarning)"
   ]
  },
  {
   "cell_type": "code",
   "execution_count": 4,
   "metadata": {},
   "outputs": [
    {
     "name": "stderr",
     "output_type": "stream",
     "text": [
      "[nltk_data] Downloading package punkt to\n",
      "[nltk_data]     C:\\Users\\ASUS\\AppData\\Roaming\\nltk_data...\n",
      "[nltk_data]   Package punkt is already up-to-date!\n"
     ]
    },
    {
     "data": {
      "text/plain": [
       "True"
      ]
     },
     "execution_count": 4,
     "metadata": {},
     "output_type": "execute_result"
    }
   ],
   "source": [
    "import nltk\n",
    "nltk.download('punkt')"
   ]
  },
  {
   "cell_type": "code",
   "execution_count": 5,
   "metadata": {},
   "outputs": [],
   "source": [
    "seed = 117\n",
    "random.seed(seed)\n",
    "np.random.seed(seed)\n",
    "torch.manual_seed(seed)\n",
    "torch.cuda.manual_seed(seed)\n",
    "torch.cuda.manual_seed_all(seed)\n",
    "torch.backends.cudnn.deterministic = True"
   ]
  },
  {
   "cell_type": "markdown",
   "metadata": {
    "id": "m9XIrxSmW-AX"
   },
   "source": [
    "### Скачиваем данные"
   ]
  },
  {
   "cell_type": "code",
   "execution_count": 6,
   "metadata": {
    "colab": {
     "base_uri": "https://localhost:8080/",
     "height": 204
    },
    "id": "ep1FB3IBW-AY",
    "outputId": "ed833b2b-3b1a-492a-d9a3-ad845a9074c0"
   },
   "outputs": [
    {
     "name": "stderr",
     "output_type": "stream",
     "text": [
      "1:80: E501 line too long (118 > 79 characters)\n"
     ]
    }
   ],
   "source": [
    "# !wget https://raw.githubusercontent.com/semensorokin/DLforNLP_course_material/master/Homework2/answers_subsample.csv"
   ]
  },
  {
   "cell_type": "code",
   "execution_count": 7,
   "metadata": {
    "id": "BWA7IClKW-Aa"
   },
   "outputs": [],
   "source": [
    "# если ругается на то, что нет wget\n",
    "# !apt-get install wget"
   ]
  },
  {
   "cell_type": "code",
   "execution_count": 8,
   "metadata": {
    "id": "BbDKxq4EW-Ag"
   },
   "outputs": [
    {
     "data": {
      "text/html": [
       "<div>\n",
       "<style scoped>\n",
       "    .dataframe tbody tr th:only-of-type {\n",
       "        vertical-align: middle;\n",
       "    }\n",
       "\n",
       "    .dataframe tbody tr th {\n",
       "        vertical-align: top;\n",
       "    }\n",
       "\n",
       "    .dataframe thead th {\n",
       "        text-align: right;\n",
       "    }\n",
       "</style>\n",
       "<table border=\"1\" class=\"dataframe\">\n",
       "  <thead>\n",
       "    <tr style=\"text-align: right;\">\n",
       "      <th></th>\n",
       "      <th>category</th>\n",
       "      <th>text</th>\n",
       "    </tr>\n",
       "  </thead>\n",
       "  <tbody>\n",
       "    <tr>\n",
       "      <th>0</th>\n",
       "      <td>business</td>\n",
       "      <td>Могут ли в россельхозбанке дать в залог норков...</td>\n",
       "    </tr>\n",
       "    <tr>\n",
       "      <th>1</th>\n",
       "      <td>law</td>\n",
       "      <td>Может ли срочник перевестись на контракт после...</td>\n",
       "    </tr>\n",
       "    <tr>\n",
       "      <th>2</th>\n",
       "      <td>business</td>\n",
       "      <td>Продажа недвижимости по ипотеки ? ( арестованы...</td>\n",
       "    </tr>\n",
       "    <tr>\n",
       "      <th>3</th>\n",
       "      <td>business</td>\n",
       "      <td>В чем смысл криптовалюты, какая от неё выгода ...</td>\n",
       "    </tr>\n",
       "    <tr>\n",
       "      <th>4</th>\n",
       "      <td>law</td>\n",
       "      <td>часть 1 статья 158 похитил телефон</td>\n",
       "    </tr>\n",
       "    <tr>\n",
       "      <th>...</th>\n",
       "      <td>...</td>\n",
       "      <td>...</td>\n",
       "    </tr>\n",
       "    <tr>\n",
       "      <th>237774</th>\n",
       "      <td>relax</td>\n",
       "      <td>елку нарядили? =)</td>\n",
       "    </tr>\n",
       "    <tr>\n",
       "      <th>237775</th>\n",
       "      <td>law</td>\n",
       "      <td>Имеется переработка при 75% ставки, отгулы не ...</td>\n",
       "    </tr>\n",
       "    <tr>\n",
       "      <th>237776</th>\n",
       "      <td>food</td>\n",
       "      <td>Попробовала варить рис с половиной кубика для ...</td>\n",
       "    </tr>\n",
       "    <tr>\n",
       "      <th>237777</th>\n",
       "      <td>food</td>\n",
       "      <td>Почему рекоменд... Почему рекомендуют есть фру...</td>\n",
       "    </tr>\n",
       "    <tr>\n",
       "      <th>237778</th>\n",
       "      <td>business</td>\n",
       "      <td>Подскажите какие риски бывают в семье среднест...</td>\n",
       "    </tr>\n",
       "  </tbody>\n",
       "</table>\n",
       "<p>237779 rows × 2 columns</p>\n",
       "</div>"
      ],
      "text/plain": [
       "        category                                               text\n",
       "0       business  Могут ли в россельхозбанке дать в залог норков...\n",
       "1            law  Может ли срочник перевестись на контракт после...\n",
       "2       business  Продажа недвижимости по ипотеки ? ( арестованы...\n",
       "3       business  В чем смысл криптовалюты, какая от неё выгода ...\n",
       "4            law                 часть 1 статья 158 похитил телефон\n",
       "...          ...                                                ...\n",
       "237774     relax                                  елку нарядили? =)\n",
       "237775       law  Имеется переработка при 75% ставки, отгулы не ...\n",
       "237776      food  Попробовала варить рис с половиной кубика для ...\n",
       "237777      food  Почему рекоменд... Почему рекомендуют есть фру...\n",
       "237778  business  Подскажите какие риски бывают в семье среднест...\n",
       "\n",
       "[237779 rows x 2 columns]"
      ]
     },
     "execution_count": 8,
     "metadata": {},
     "output_type": "execute_result"
    }
   ],
   "source": [
    "data = pd.read_csv('answers_subsample.csv')\n",
    "data"
   ]
  },
  {
   "cell_type": "code",
   "execution_count": 9,
   "metadata": {
    "colab": {
     "base_uri": "https://localhost:8080/",
     "height": 119
    },
    "id": "90tXLjfsW-Aj",
    "outputId": "5a41f708-1102-49c7-a38f-795783ccdd81"
   },
   "outputs": [
    {
     "data": {
      "text/plain": [
       "law         29.793211\n",
       "relax       22.016242\n",
       "business    19.309527\n",
       "food        18.367055\n",
       "love        10.513965\n",
       "Name: category, dtype: float64"
      ]
     },
     "execution_count": 9,
     "metadata": {},
     "output_type": "execute_result"
    }
   ],
   "source": [
    "data.category.value_counts() * 100 / data.shape[0]"
   ]
  },
  {
   "cell_type": "markdown",
   "metadata": {
    "id": "gfHbifWIW-Al"
   },
   "source": [
    "### Предобученные эмбеддинги\n",
    "[Источник](https://fasttext.cc/docs/en/crawl-vectors.html)\n",
    "\n",
    "Вы можете взять любые word2vec-подобные эмббединги. Если вы хотите использовать elmo, bert, etc., сначала попробуйте с word2vec-подобными эмббедингами, а потом можете перейти к более сложным моделям.\n",
    "\n",
    "Ниже мы сначала скачиваем, а потом распаковываем эмбеддинги."
   ]
  },
  {
   "cell_type": "code",
   "execution_count": 10,
   "metadata": {
    "colab": {
     "base_uri": "https://localhost:8080/",
     "height": 204
    },
    "id": "PVhCzM3LW-Al",
    "outputId": "7b800ec8-bcad-4859-f110-2ac5ddb07f0e"
   },
   "outputs": [],
   "source": [
    "# !wget https://dl.fbaipublicfiles.com/fasttext/vectors-crawl/cc.ru.300.vec.gz"
   ]
  },
  {
   "cell_type": "code",
   "execution_count": 11,
   "metadata": {},
   "outputs": [],
   "source": [
    "# !gzip -d cc.ru.300.vec.gz"
   ]
  },
  {
   "cell_type": "code",
   "execution_count": 12,
   "metadata": {
    "id": "QQpX51Y4W-Aq"
   },
   "outputs": [],
   "source": [
    "# потом можете добавить свою предобработку\n",
    "\n",
    "def process_text(text):\n",
    "    words = wordpunct_tokenize(text.lower())\n",
    "    return words"
   ]
  },
  {
   "cell_type": "code",
   "execution_count": 13,
   "metadata": {
    "colab": {
     "base_uri": "https://localhost:8080/",
     "height": 34
    },
    "id": "HyI2erCDW-Ar",
    "outputId": "0e1fe01d-03f8-4073-b646-53f1a0834d90"
   },
   "outputs": [
    {
     "data": {
      "application/vnd.jupyter.widget-view+json": {
       "model_id": "26563ee38aa64409a22293c2808d11ce",
       "version_major": 2,
       "version_minor": 0
      },
      "text/plain": [
       "  0%|          | 0/237779 [00:00<?, ?it/s]"
      ]
     },
     "metadata": {},
     "output_type": "display_data"
    }
   ],
   "source": [
    "word2freq = {}\n",
    "lengths = []\n",
    "\n",
    "for text in tqdm(data.text):\n",
    "\n",
    "    words = process_text(text)\n",
    "    lengths.append(len(words))\n",
    "\n",
    "    for word in words:\n",
    "\n",
    "        if word in word2freq:\n",
    "            word2freq[word] += 1\n",
    "        else:\n",
    "            word2freq[word] = 1"
   ]
  },
  {
   "cell_type": "code",
   "execution_count": 14,
   "metadata": {
    "colab": {
     "base_uri": "https://localhost:8080/",
     "height": 639
    },
    "id": "iZBR-aYDW-Av",
    "outputId": "940b9a8b-91a9-4cdb-f79e-bcd0016e6958"
   },
   "outputs": [
    {
     "data": {
      "text/plain": [
       "<AxesSubplot:title={'center':'Распределение длин слов в текстах'}, xlabel='Длина предложения', ylabel='Доля'>"
      ]
     },
     "execution_count": 14,
     "metadata": {},
     "output_type": "execute_result"
    },
    {
     "data": {
      "image/png": "[encoded data removed]",
      "text/plain": [
       "<Figure size 720x432 with 1 Axes>"
      ]
     },
     "metadata": {
      "needs_background": "light"
     },
     "output_type": "display_data"
    }
   ],
   "source": [
    "plt.figure(figsize=(10, 6))\n",
    "plt.title('Распределение длин слов в текстах')\n",
    "plt.xlabel('Длина предложения')\n",
    "plt.ylabel('Доля')\n",
    "sns.distplot(lengths)"
   ]
  },
  {
   "cell_type": "code",
   "execution_count": 15,
   "metadata": {
    "colab": {
     "base_uri": "https://localhost:8080/",
     "height": 34
    },
    "id": "OBzmPqXIW-Aw",
    "outputId": "e4430b5f-2d2a-4ac9-fc1a-fa194edd7645"
   },
   "outputs": [
    {
     "data": {
      "text/plain": [
       "'99.66 % текстов содержат от 3 до 32 слов'"
      ]
     },
     "execution_count": 15,
     "metadata": {},
     "output_type": "execute_result"
    }
   ],
   "source": [
    "upper_threshold = 32\n",
    "lower_threshold = 3\n",
    "\n",
    "correct_percent = len([sent_len for sent_len in lengths\n",
    "                       if sent_len <= upper_threshold\n",
    "                       and sent_len >= lower_threshold]) \\\n",
    "                  * 100 / len(lengths)\n",
    "\n",
    "'{:.2f} % текстов содержат от {} до {} слов'.format(\n",
    "    correct_percent, lower_threshold, upper_threshold)"
   ]
  },
  {
   "cell_type": "code",
   "execution_count": 16,
   "metadata": {
    "colab": {
     "base_uri": "https://localhost:8080/",
     "height": 34
    },
    "id": "GbSer_0bW-Ay",
    "outputId": "d71619df-f68b-42a8-d851-3c909ceb6370"
   },
   "outputs": [
    {
     "data": {
      "text/plain": [
       "152179"
      ]
     },
     "execution_count": 16,
     "metadata": {},
     "output_type": "execute_result"
    }
   ],
   "source": [
    "len(word2freq)"
   ]
  },
  {
   "cell_type": "code",
   "execution_count": 17,
   "metadata": {
    "colab": {
     "base_uri": "https://localhost:8080/",
     "height": 34
    },
    "id": "szg6XD3EW-Az",
    "outputId": "f41121aa-cbb5-426b-b7bb-8f21b1822bd0"
   },
   "outputs": [
    {
     "data": {
      "text/plain": [
       "'Слов с частотностью <= 3: 114332'"
      ]
     },
     "execution_count": 17,
     "metadata": {},
     "output_type": "execute_result"
    }
   ],
   "source": [
    "'Слов с частотностью <= 3: {}'.format(\n",
    "    len([word for word in word2freq if word2freq[word] <= 3]))"
   ]
  },
  {
   "cell_type": "markdown",
   "metadata": {
    "id": "bZbOg0FqW-A1"
   },
   "source": [
    "### Читаем файл с эмбеддингами\n",
    "Это файл с 300 числами для 2 000 000 слов и он может не влезть в память, поэтому прочитаем только те слова, которые мы знаем."
   ]
  },
  {
   "cell_type": "code",
   "execution_count": 18,
   "metadata": {
    "colab": {
     "base_uri": "https://localhost:8080/",
     "height": 34
    },
    "id": "BLEgfnaWW-A4",
    "outputId": "05846f70-6229-4df2-bcd5-68cc08e0d010"
   },
   "outputs": [
    {
     "data": {
      "application/vnd.jupyter.widget-view+json": {
       "model_id": "a580d6effa424c3aa586e1b662d18cee",
       "version_major": 2,
       "version_minor": 0
      },
      "text/plain": [
       "Read word2vec:   0%|          | 0/2000000 [00:00<?, ?it/s]"
      ]
     },
     "metadata": {},
     "output_type": "display_data"
    }
   ],
   "source": [
    "word2index = {'PAD': 0}\n",
    "vectors = []\n",
    "\n",
    "word2vec_file = open('cc.ru.300.vec', encoding='utf-8')\n",
    "\n",
    "n_words, embedding_dim = word2vec_file.readline().split()\n",
    "n_words, embedding_dim = int(n_words), int(embedding_dim)\n",
    "\n",
    "# Zero vector for PAD\n",
    "vectors.append(np.zeros((1, embedding_dim)))\n",
    "\n",
    "progress_bar = tqdm(desc='Read word2vec', total=n_words)\n",
    "\n",
    "while True:\n",
    "\n",
    "    line = word2vec_file.readline().strip()\n",
    "\n",
    "    if not line:\n",
    "        break\n",
    "\n",
    "    current_parts = line.split()\n",
    "\n",
    "    current_word = ' '.join(current_parts[:-embedding_dim])\n",
    "\n",
    "    if current_word in word2freq:\n",
    "\n",
    "        word2index[current_word] = len(word2index)\n",
    "\n",
    "        current_vectors = current_parts[-embedding_dim:]\n",
    "        current_vectors = np.array(list(map(float, current_vectors)))\n",
    "        current_vectors = np.expand_dims(current_vectors, 0)\n",
    "\n",
    "        vectors.append(current_vectors)\n",
    "\n",
    "    progress_bar.update(1)\n",
    "\n",
    "progress_bar.close()\n",
    "\n",
    "word2vec_file.close()\n",
    "\n",
    "vectors = np.concatenate(vectors)"
   ]
  },
  {
   "cell_type": "code",
   "execution_count": 19,
   "metadata": {
    "colab": {
     "base_uri": "https://localhost:8080/",
     "height": 34
    },
    "id": "AYJMzgpnW-A7",
    "outputId": "4fec5db6-fca6-42a2-93da-be988702d797"
   },
   "outputs": [
    {
     "data": {
      "text/plain": [
       "117619"
      ]
     },
     "execution_count": 19,
     "metadata": {},
     "output_type": "execute_result"
    }
   ],
   "source": [
    "len(word2index)"
   ]
  },
  {
   "cell_type": "code",
   "execution_count": 20,
   "metadata": {
    "colab": {
     "base_uri": "https://localhost:8080/",
     "height": 187
    },
    "id": "KE06fafiW-A8",
    "outputId": "d6c87428-4474-4275-f300-d246364d7865"
   },
   "outputs": [
    {
     "name": "stdout",
     "output_type": "stream",
     "text": [
      "Мы не знаем 2.50 % слов в датасете\n",
      "Количество неизвестных слов 34561 из 152179, то есть 22.71 % уникальных слов в словаре\n",
      "В среднем каждое встречается 1.98 раз\n",
      "\n",
      "Топ 5 невошедших слов:\n",
      "??? с количеством вхождениий - 3641\n",
      "?? с количеством вхождениий - 2448\n",
      "!!! с количеством вхождениий - 2214\n",
      "?) с количеством вхождениий - 2069\n",
      "\"? с количеством вхождениий - 1429\n"
     ]
    }
   ],
   "source": [
    "unk_words = [word for word in word2freq if word not in word2index]\n",
    "unk_counts = [word2freq[word] for word in unk_words]\n",
    "n_unk = sum(unk_counts) * 100 / sum(list(word2freq.values()))\n",
    "\n",
    "sub_sample_unk_words = {word: word2freq[word] for word in unk_words}\n",
    "sorted_unk_words = list(sorted(sub_sample_unk_words,\n",
    "                               key=lambda x: sub_sample_unk_words[x],\n",
    "                               reverse=True))\n",
    "\n",
    "print('Мы не знаем {:.2f} % слов в датасете'.format(n_unk))\n",
    "print('Количество неизвестных слов {} из {}, то есть {:.2f} % \\\n",
    "уникальных слов в словаре'.format(len(unk_words), len(word2freq),\n",
    "                                  len(unk_words) * 100 / len(word2freq)))\n",
    "print('В среднем каждое встречается {:.2f} раз'.format(np.mean(unk_counts)))\n",
    "print()\n",
    "print('Топ 5 невошедших слов:')\n",
    "\n",
    "for i in range(5):\n",
    "    print(sorted_unk_words[i],\n",
    "          'с количеством вхождениий -',\n",
    "          word2freq[sorted_unk_words[i]])"
   ]
  },
  {
   "cell_type": "markdown",
   "metadata": {
    "id": "GFPNApUjW-A9"
   },
   "source": [
    "### Потеря 2.5 % слов в датасете\n",
    "Эта ситуация не то, чтобы сильно плохая, в учебных целях нормально, к тому же в среднем они редко встречаются. Вы можете поиграть с предобработкой."
   ]
  },
  {
   "cell_type": "markdown",
   "metadata": {
    "id": "pEKAjCg3W-BA"
   },
   "source": [
    "- 128 - размер батча\n",
    "- 64 - количество слов\n",
    "- 1024 - эмбеддинг слова"
   ]
  },
  {
   "cell_type": "code",
   "execution_count": 21,
   "metadata": {
    "id": "D19pDyQBW-BA"
   },
   "outputs": [],
   "source": [
    "x = torch.rand(128, 64, 1024)"
   ]
  },
  {
   "cell_type": "code",
   "execution_count": 22,
   "metadata": {
    "id": "Yxsxr7edW-BB"
   },
   "outputs": [],
   "source": [
    "lstm = torch.nn.LSTM(1024, 512, batch_first=True)"
   ]
  },
  {
   "cell_type": "code",
   "execution_count": 23,
   "metadata": {
    "colab": {
     "base_uri": "https://localhost:8080/",
     "height": 34
    },
    "id": "TZy0lKr2W-BC",
    "outputId": "4556ff61-4bd7-4ba5-da18-a26410a64d25"
   },
   "outputs": [],
   "source": [
    "%%timeit\n",
    "\n",
    "pred = lstm(x)"
   ]
  },
  {
   "cell_type": "markdown",
   "metadata": {
    "id": "s611e34SW-BE"
   },
   "source": [
    "```286 ms ± 18.8 ms per loop (mean ± std. dev. of 7 runs, 1 loop each)```\n",
    "\n",
    "(в финальном варианте не запускаю, потому что timeit отрубает мне принты в юпитере))\n",
    "\n",
    "### А что GPU?"
   ]
  },
  {
   "cell_type": "code",
   "execution_count": 24,
   "metadata": {
    "colab": {
     "base_uri": "https://localhost:8080/",
     "height": 51
    },
    "id": "xjFlWdgtW-BE",
    "outputId": "93205b98-fd2b-4bea-a93f-5544f82c5a2c"
   },
   "outputs": [
    {
     "name": "stdout",
     "output_type": "stream",
     "text": [
      "Доступна ли видеокарта: True\n",
      "Если недоступна, поменяйте runtime, если в колабе\n"
     ]
    }
   ],
   "source": [
    "print('Доступна ли видеокарта:', torch.cuda.is_available())\n",
    "print('Если недоступна, поменяйте runtime, если в колабе')"
   ]
  },
  {
   "cell_type": "code",
   "execution_count": 25,
   "metadata": {
    "id": "jaMMD5CDW-BG"
   },
   "outputs": [],
   "source": [
    "device = torch.device('cuda') if torch.cuda.is_available()\\\n",
    "    else torch.device('cpu')"
   ]
  },
  {
   "cell_type": "code",
   "execution_count": 26,
   "metadata": {
    "id": "GeQCiSYdW-BH"
   },
   "outputs": [],
   "source": [
    "# перенесли x на gpu\n",
    "x_gpu = x.to(device)"
   ]
  },
  {
   "cell_type": "code",
   "execution_count": 27,
   "metadata": {
    "id": "S_qUdMcbW-BJ"
   },
   "outputs": [],
   "source": [
    "# зададим lstm на gpu\n",
    "lstm_gpu = torch.nn.LSTM(1024, 512, batch_first=True)\n",
    "lstm_gpu = lstm_gpu.to(device)"
   ]
  },
  {
   "cell_type": "code",
   "execution_count": 28,
   "metadata": {
    "colab": {
     "base_uri": "https://localhost:8080/",
     "height": 34
    },
    "id": "hSUQmRgtW-BK",
    "outputId": "44da2f5b-6421-44d9-829b-499212280ee1"
   },
   "outputs": [],
   "source": [
    "%%timeit\n",
    "\n",
    "pred = lstm_gpu(x_gpu)"
   ]
  },
  {
   "cell_type": "markdown",
   "metadata": {
    "id": "gPvqNWkQW-BM"
   },
   "source": [
    "```1.02 ms ± 272 µs per loop (mean ± std. dev. of 7 runs, 1 loop each)```"
   ]
  },
  {
   "cell_type": "code",
   "execution_count": 29,
   "metadata": {
    "id": "FaPKGO5aW-BN"
   },
   "outputs": [],
   "source": [
    "# если у нас модель на гпу, а то, что мы туда подаем нет, то работать не будет\n",
    "# справедлива и обратная ситуация\n",
    "\n",
    "# выскочит ошибка\n",
    "# посмотрите на нее, возможно, вы еще встретитесь\n",
    "# pred = lstm_gpu(x)"
   ]
  },
  {
   "cell_type": "markdown",
   "metadata": {
    "id": "9NX5HHDOW-BO"
   },
   "source": [
    "### Важные и не очень интуитивные моменты про LSTM и CNN в торче"
   ]
  },
  {
   "cell_type": "markdown",
   "metadata": {
    "id": "zKr22rklW-BP"
   },
   "source": [
    "По умолчанию LSTM принимает данные с такой размерностью:\n",
    "```python\n",
    "(seq_len, batch, input_size)\n",
    "```\n",
    "Сделано это с целью оптимизации на более низком уровне.  \n",
    "Мы оперируем такими объектами:\n",
    "```python\n",
    "(batch, seq_len, input_size)\n",
    "```\n",
    "Чтобы LSTM у нас заработала правильно, мы можем либо передать параметр ```batch_first=True``` во время инициализации слоя,\n",
    "либо транспонировать (поменять) первую и вторую размерность у нашего x перед подачей в слой.\n",
    "\n",
    "[Подробнее про LSTM](https://pytorch.org/docs/stable/nn.html#lstm)"
   ]
  },
  {
   "cell_type": "markdown",
   "metadata": {
    "id": "Bny8SvCgW-BQ"
   },
   "source": [
    "- 128 - размер батча\n",
    "- 64 - количество слов\n",
    "- 1024 - эмбеддинг слова"
   ]
  },
  {
   "cell_type": "code",
   "execution_count": 30,
   "metadata": {
    "id": "vc-bLok2W-BQ"
   },
   "outputs": [],
   "source": [
    "# первый способ\n",
    "lstm = torch.nn.LSTM(1024, 512, batch_first=True)\n",
    "\n",
    "pred, mem = lstm(x)"
   ]
  },
  {
   "cell_type": "code",
   "execution_count": 31,
   "metadata": {
    "colab": {
     "base_uri": "https://localhost:8080/",
     "height": 34
    },
    "id": "OHpit-1tW-BR",
    "outputId": "e33f0f23-f029-4e7b-b1ff-d3b12276db82"
   },
   "outputs": [
    {
     "data": {
      "text/plain": [
       "torch.Size([128, 64, 512])"
      ]
     },
     "execution_count": 31,
     "metadata": {},
     "output_type": "execute_result"
    }
   ],
   "source": [
    "pred.shape"
   ]
  },
  {
   "cell_type": "code",
   "execution_count": 32,
   "metadata": {
    "id": "ru_WzGSJW-BS"
   },
   "outputs": [],
   "source": [
    "lstm = torch.nn.LSTM(1024, 512)\n",
    "\n",
    "# меняем размерность batch и seq_len местами\n",
    "x_transposed = x.transpose(0, 1)\n",
    "pred_transposed, mem = lstm(x_transposed)"
   ]
  },
  {
   "cell_type": "code",
   "execution_count": 33,
   "metadata": {
    "colab": {
     "base_uri": "https://localhost:8080/",
     "height": 34
    },
    "id": "NHdBavTWW-BT",
    "outputId": "ba454a8b-fec7-402f-a7a1-c4f9f9556e6d"
   },
   "outputs": [
    {
     "data": {
      "text/plain": [
       "torch.Size([64, 128, 512])"
      ]
     },
     "execution_count": 33,
     "metadata": {},
     "output_type": "execute_result"
    }
   ],
   "source": [
    "# у нас все еще осталась размерность (seq_len, batch, input_size)\n",
    "pred_transposed.shape"
   ]
  },
  {
   "cell_type": "code",
   "execution_count": 34,
   "metadata": {
    "colab": {
     "base_uri": "https://localhost:8080/",
     "height": 34
    },
    "id": "Rcxv55j7W-BV",
    "outputId": "f560450f-75bf-4397-d9f0-f88e3d06705c"
   },
   "outputs": [
    {
     "data": {
      "text/plain": [
       "torch.Size([128, 64, 512])"
      ]
     },
     "execution_count": 34,
     "metadata": {},
     "output_type": "execute_result"
    }
   ],
   "source": [
    "# просто транспонируем еще раз\n",
    "pred = pred_transposed.transpose(0, 1)\n",
    "pred.shape"
   ]
  },
  {
   "cell_type": "markdown",
   "metadata": {
    "id": "PmJt6cqkW-BW"
   },
   "source": [
    "### Conv1d & MaxPool1d\n",
    "Примерно такая же ситуация происходит со сверточными слоями и пулингами.  \n",
    "1d реализация как раз для текстов, в ней матрица-фильтр ходит только по одной размерности.\n",
    "\n",
    "[Подробнее про CNN](https://pytorch.org/docs/stable/nn.html#conv1d)\n",
    "\n",
    "[Подробнее про пулинг](https://pytorch.org/docs/stable/nn.html#maxpool1d)\n",
    "\n",
    "Ожидается такая размерность:\n",
    "```python\n",
    "(batch, input_size, seq_len)\n",
    "```\n",
    "Мы все еще хоти подавать такую размерность:\n",
    "```python\n",
    "(batch, seq_len, input_size)\n",
    "```\n",
    "В случае со свертками и пулингами у нас есть вариант только транспонировать x перед подачей и транспонировать полученный результат. Обратите внимание, что транспонируем мы первую и вторую размерность (индексация с нуля)."
   ]
  },
  {
   "cell_type": "code",
   "execution_count": 35,
   "metadata": {
    "colab": {
     "base_uri": "https://localhost:8080/",
     "height": 34
    },
    "id": "TyM8Xl24W-BX",
    "outputId": "2a5512ca-bc14-43f1-804b-e71df3a7ad7e"
   },
   "outputs": [
    {
     "data": {
      "text/plain": [
       "torch.Size([128, 64, 1024])"
      ]
     },
     "execution_count": 35,
     "metadata": {},
     "output_type": "execute_result"
    }
   ],
   "source": [
    "x.shape"
   ]
  },
  {
   "cell_type": "markdown",
   "metadata": {
    "id": "grPNMjEZW-BY"
   },
   "source": [
    "- 128 - размер батча\n",
    "- 64 - количество слов\n",
    "- 1024 - эмбеддинг слова"
   ]
  },
  {
   "cell_type": "code",
   "execution_count": 36,
   "metadata": {
    "id": "btJ-ApiOW-BY"
   },
   "outputs": [],
   "source": [
    "# in_channels - размер входных эмбеддингов\n",
    "# out_channels - количество/какой размер эмбеддингов мы хотим получить\n",
    "# kernel_size - размер окна/н-граммы\n",
    "cnn = torch.nn.Conv1d(in_channels=1024, out_channels=512, kernel_size=3)"
   ]
  },
  {
   "cell_type": "code",
   "execution_count": 37,
   "metadata": {
    "id": "QIYff7YyW-Bb"
   },
   "outputs": [],
   "source": [
    "# выпадет ошибка, посмотрите какая\n",
    "# pred = cnn(x)"
   ]
  },
  {
   "cell_type": "code",
   "execution_count": 38,
   "metadata": {
    "colab": {
     "base_uri": "https://localhost:8080/",
     "height": 34
    },
    "id": "7tVn6YKLW-Bd",
    "outputId": "7a1a5f4c-b44f-4ed6-f90c-a9d00f78dfe6"
   },
   "outputs": [
    {
     "data": {
      "text/plain": [
       "torch.Size([128, 1024, 64])"
      ]
     },
     "execution_count": 38,
     "metadata": {},
     "output_type": "execute_result"
    }
   ],
   "source": [
    "x_transposed = x.transpose(1, 2)\n",
    "x_transposed.shape\n",
    "# перевели в (batch, input_size, seq_len)"
   ]
  },
  {
   "cell_type": "code",
   "execution_count": 39,
   "metadata": {
    "colab": {
     "base_uri": "https://localhost:8080/",
     "height": 34
    },
    "id": "2N4w6-iWW-Be",
    "outputId": "bf29af13-5bd4-4882-f60f-b01575b100e8"
   },
   "outputs": [
    {
     "data": {
      "text/plain": [
       "torch.Size([128, 512, 62])"
      ]
     },
     "execution_count": 39,
     "metadata": {},
     "output_type": "execute_result"
    }
   ],
   "source": [
    "pred_transposed = cnn(x_transposed)\n",
    "pred_transposed.shape\n",
    "# осталась разрмерность (batch, output_size, seq_len)"
   ]
  },
  {
   "cell_type": "code",
   "execution_count": 40,
   "metadata": {
    "colab": {
     "base_uri": "https://localhost:8080/",
     "height": 34
    },
    "id": "7-C3_phaW-Bf",
    "outputId": "2ce7a78f-5492-404a-aeb5-2911386734d4"
   },
   "outputs": [
    {
     "data": {
      "text/plain": [
       "torch.Size([128, 62, 512])"
      ]
     },
     "execution_count": 40,
     "metadata": {},
     "output_type": "execute_result"
    }
   ],
   "source": [
    "# переведем обратно в (batch, seq_len, input_size)\n",
    "pred = pred_transposed.transpose(1, 2)\n",
    "pred.shape"
   ]
  },
  {
   "cell_type": "markdown",
   "metadata": {
    "id": "stBQ3yhqW-Bi"
   },
   "source": [
    "### Подготовим данные в DataLoader"
   ]
  },
  {
   "cell_type": "code",
   "execution_count": 41,
   "metadata": {
    "colab": {
     "base_uri": "https://localhost:8080/",
     "height": 34
    },
    "id": "hV76BdN0W-Bj",
    "outputId": "befb4dd0-0df1-4ada-fe1d-dae478226f35"
   },
   "outputs": [
    {
     "data": {
      "text/plain": [
       "False"
      ]
     },
     "execution_count": 41,
     "metadata": {},
     "output_type": "execute_result"
    }
   ],
   "source": [
    "'UNK' in word2index"
   ]
  },
  {
   "cell_type": "code",
   "execution_count": 42,
   "metadata": {
    "colab": {
     "base_uri": "https://localhost:8080/",
     "height": 204
    },
    "id": "INB_dPAnW-Bk",
    "outputId": "8bb90efa-4c9c-4908-c872-393906ed8619"
   },
   "outputs": [
    {
     "data": {
      "text/html": [
       "<div>\n",
       "<style scoped>\n",
       "    .dataframe tbody tr th:only-of-type {\n",
       "        vertical-align: middle;\n",
       "    }\n",
       "\n",
       "    .dataframe tbody tr th {\n",
       "        vertical-align: top;\n",
       "    }\n",
       "\n",
       "    .dataframe thead th {\n",
       "        text-align: right;\n",
       "    }\n",
       "</style>\n",
       "<table border=\"1\" class=\"dataframe\">\n",
       "  <thead>\n",
       "    <tr style=\"text-align: right;\">\n",
       "      <th></th>\n",
       "      <th>category</th>\n",
       "      <th>text</th>\n",
       "    </tr>\n",
       "  </thead>\n",
       "  <tbody>\n",
       "    <tr>\n",
       "      <th>0</th>\n",
       "      <td>business</td>\n",
       "      <td>Могут ли в россельхозбанке дать в залог норков...</td>\n",
       "    </tr>\n",
       "    <tr>\n",
       "      <th>1</th>\n",
       "      <td>law</td>\n",
       "      <td>Может ли срочник перевестись на контракт после...</td>\n",
       "    </tr>\n",
       "    <tr>\n",
       "      <th>2</th>\n",
       "      <td>business</td>\n",
       "      <td>Продажа недвижимости по ипотеки ? ( арестованы...</td>\n",
       "    </tr>\n",
       "    <tr>\n",
       "      <th>3</th>\n",
       "      <td>business</td>\n",
       "      <td>В чем смысл криптовалюты, какая от неё выгода ...</td>\n",
       "    </tr>\n",
       "    <tr>\n",
       "      <th>4</th>\n",
       "      <td>law</td>\n",
       "      <td>часть 1 статья 158 похитил телефон</td>\n",
       "    </tr>\n",
       "  </tbody>\n",
       "</table>\n",
       "</div>"
      ],
      "text/plain": [
       "   category                                               text\n",
       "0  business  Могут ли в россельхозбанке дать в залог норков...\n",
       "1       law  Может ли срочник перевестись на контракт после...\n",
       "2  business  Продажа недвижимости по ипотеки ? ( арестованы...\n",
       "3  business  В чем смысл криптовалюты, какая от неё выгода ...\n",
       "4       law                 часть 1 статья 158 похитил телефон"
      ]
     },
     "execution_count": 42,
     "metadata": {},
     "output_type": "execute_result"
    }
   ],
   "source": [
    "data.head()"
   ]
  },
  {
   "cell_type": "markdown",
   "metadata": {
    "id": "1qv1mKAeW-Bl"
   },
   "source": [
    "### Замапим категории в индексы"
   ]
  },
  {
   "cell_type": "code",
   "execution_count": 43,
   "metadata": {
    "id": "iHeFzZe1W-Bl"
   },
   "outputs": [],
   "source": [
    "cat_mapper = {cat: n for n, cat in enumerate(data.category.unique())}"
   ]
  },
  {
   "cell_type": "code",
   "execution_count": 44,
   "metadata": {
    "colab": {
     "base_uri": "https://localhost:8080/",
     "height": 34
    },
    "id": "X3x9QhXYW-Bn",
    "outputId": "0a4dff58-d739-4847-f818-c3e0d321e78a"
   },
   "outputs": [
    {
     "data": {
      "text/plain": [
       "{'business': 0, 'law': 1, 'love': 2, 'relax': 3, 'food': 4}"
      ]
     },
     "execution_count": 44,
     "metadata": {},
     "output_type": "execute_result"
    }
   ],
   "source": [
    "cat_mapper"
   ]
  },
  {
   "cell_type": "code",
   "execution_count": 45,
   "metadata": {
    "id": "ef--8SWbW-Bo"
   },
   "outputs": [],
   "source": [
    "data.category = data.category.map(cat_mapper)"
   ]
  },
  {
   "cell_type": "markdown",
   "metadata": {
    "id": "vc48ALg_W-Bp"
   },
   "source": [
    "## Читалка данных"
   ]
  },
  {
   "cell_type": "markdown",
   "metadata": {
    "id": "WFIQEv6nvE4c"
   },
   "source": [
    "### Что происходит ниже\n",
    "1. Мы задаем x_data, y_data (таргеты), word2index (маппер из слова в индекс слова), sequence_length (максимальная длина последовательности; если больше, ограничить ею), pad_token (токен паддинга и задаем его индекс pad_index).\n",
    "\n",
    "\n",
    "2. Загружаем данные:\n",
    "    1. Проходимся по датасету\n",
    "    2. Предобрабатываем каждый текст в датасете\n",
    "    3. Индексируем его\n",
    "    4. Паддим до нужной длины\n",
    "\n",
    "\n",
    "3. Когда нам нужно достать пример из датасета, мы берем индексированный ```x``` и соответствующий этому индексу ```y```, наш ```x``` также паддим (или ограничиваем длину) и переводим в ```torch.Tensor(x).long()```. Для ```y``` этого делать не потребуется, в dataloader'е таргеты преобразуются в тензор сами."
   ]
  },
  {
   "cell_type": "code",
   "execution_count": 46,
   "metadata": {
    "id": "ZkX8SC_sW-Bp"
   },
   "outputs": [],
   "source": [
    "class WordData(Dataset):\n",
    "\n",
    "    def __init__(self, x_data, y_data, word2index,\n",
    "                 sequence_length=32, pad_token='PAD',\n",
    "                 verbose=True):\n",
    "\n",
    "        super().__init__()\n",
    "\n",
    "        self.x_data = []\n",
    "        self.y_data = y_data\n",
    "\n",
    "        self.word2index = word2index\n",
    "        self.sequence_length = sequence_length\n",
    "\n",
    "        self.pad_token = pad_token\n",
    "        self.pad_index = self.word2index[self.pad_token]\n",
    "\n",
    "        self.load(x_data, verbose=verbose)\n",
    "\n",
    "    @staticmethod\n",
    "    def process_text(text):\n",
    "\n",
    "        # Место для вашей предобработки\n",
    "\n",
    "        words = wordpunct_tokenize(text.lower())\n",
    "        # words = re.findall('[a-яА-ЯеЁ]+', text.lower())\n",
    "        return words\n",
    "\n",
    "    def load(self, data, verbose=True):\n",
    "\n",
    "        data_iterator = tqdm(data, desc='Loading data', disable=not verbose)\n",
    "\n",
    "        for text in data_iterator:\n",
    "\n",
    "            words = self.process_text(text)\n",
    "\n",
    "            indexed_words = self.indexing(words)\n",
    "\n",
    "            self.x_data.append(indexed_words)\n",
    "\n",
    "    def indexing(self, tokenized_text):\n",
    "\n",
    "        # здесь не используем токен UNK, потому что мы его специально не учили\n",
    "        # становится непонятно какой же эмбеддинг присвоить неизвестному слову,\n",
    "        # поэтому просто выбрасываем наши неизветсные слова\n",
    "\n",
    "        return [self.word2index[word] for word in tokenized_text\n",
    "                if word in self.word2index]\n",
    "\n",
    "    def padding(self, sequence):\n",
    "\n",
    "        # ограничить длину self.sequence_length\n",
    "        # если длина меньше максимальной - западить\n",
    "        if len(sequence) < self.sequence_length:\n",
    "            add_pad = self.sequence_length - len(sequence)\n",
    "            return sequence+[self.pad_index] * add_pad\n",
    "        else:\n",
    "            return sequence[:self.sequence_length]\n",
    "\n",
    "    def __len__(self):\n",
    "\n",
    "        return len(self.x_data)\n",
    "\n",
    "    def __getitem__(self, idx):\n",
    "\n",
    "        x = self.x_data[idx]\n",
    "        x = self.padding(x)\n",
    "        x = torch.Tensor(x).long()\n",
    "        y = self.y_data[idx]\n",
    "\n",
    "        return x, y"
   ]
  },
  {
   "cell_type": "code",
   "execution_count": 47,
   "metadata": {
    "colab": {
     "base_uri": "https://localhost:8080/",
     "height": 51
    },
    "id": "Lnc2nD8gW-Br",
    "outputId": "d72654f9-7a85-49a6-e0c2-429b5db04c4e"
   },
   "outputs": [
    {
     "data": {
      "application/vnd.jupyter.widget-view+json": {
       "model_id": "0a3f05c6425243a28ab329d95090b9ff",
       "version_major": 2,
       "version_minor": 0
      },
      "text/plain": [
       "Loading data:   0%|          | 0/214001 [00:00<?, ?it/s]"
      ]
     },
     "metadata": {},
     "output_type": "display_data"
    },
    {
     "data": {
      "application/vnd.jupyter.widget-view+json": {
       "model_id": "85b45a91562a464e8713e93eca31aba6",
       "version_major": 2,
       "version_minor": 0
      },
      "text/plain": [
       "Loading data:   0%|          | 0/23778 [00:00<?, ?it/s]"
      ]
     },
     "metadata": {},
     "output_type": "display_data"
    }
   ],
   "source": [
    "x_train, x_validation, y_train, y_validation = \\\n",
    "    train_test_split(data.text, data.category, test_size=0.1,\n",
    "                     random_state=seed)\n",
    "\n",
    "train_dataset = WordData(list(x_train), list(y_train), word2index)\n",
    "train_loader = DataLoader(train_dataset, batch_size=64)\n",
    "\n",
    "validation_dataset = WordData(list(x_validation), list(y_validation),\n",
    "                              word2index)\n",
    "validation_loader = DataLoader(validation_dataset, batch_size=64)"
   ]
  },
  {
   "cell_type": "code",
   "execution_count": 48,
   "metadata": {
    "id": "dGeftxdgW-Br"
   },
   "outputs": [],
   "source": [
    "for x, y in train_loader:\n",
    "    break"
   ]
  },
  {
   "cell_type": "code",
   "execution_count": 49,
   "metadata": {
    "colab": {
     "base_uri": "https://localhost:8080/",
     "height": 136
    },
    "id": "nNkGQffBW-Bs",
    "outputId": "77e1ecb5-4bdc-414d-fb89-b7650ed25fba"
   },
   "outputs": [
    {
     "data": {
      "text/plain": [
       "tensor([[   24,  1539,  2377,  ...,     0,     0,     0],\n",
       "        [10778,  1067,  2454,  ...,     0,     0,     0],\n",
       "        [  789,   451,   197,  ...,     0,     0,     0],\n",
       "        ...,\n",
       "        [  593,   764,  5139,  ...,     0,     0,     0],\n",
       "        [  593,   520, 26324,  ...,     0,     0,     0],\n",
       "        [   24, 34368,   114,  ...,     0,     0,     0]])"
      ]
     },
     "execution_count": 49,
     "metadata": {},
     "output_type": "execute_result"
    }
   ],
   "source": [
    "x"
   ]
  },
  {
   "cell_type": "code",
   "execution_count": 50,
   "metadata": {
    "colab": {
     "base_uri": "https://localhost:8080/",
     "height": 68
    },
    "id": "fxUk4nGcW-Bt",
    "outputId": "bae977fd-25ef-4fd7-c451-402e8ea287a4"
   },
   "outputs": [
    {
     "data": {
      "text/plain": [
       "tensor([3, 0, 3, 3, 2, 1, 4, 0, 1, 1, 4, 0, 4, 1, 1, 1, 3, 0, 1, 0, 4, 1, 0, 1,\n",
       "        2, 4, 3, 4, 2, 4, 3, 0, 1, 2, 1, 1, 2, 4, 1, 3, 1, 0, 2, 1, 3, 2, 3, 2,\n",
       "        2, 1, 1, 2, 4, 3, 3, 0, 1, 4, 3, 0, 1, 3, 3, 3])"
      ]
     },
     "execution_count": 50,
     "metadata": {},
     "output_type": "execute_result"
    }
   ],
   "source": [
    "y"
   ]
  },
  {
   "cell_type": "markdown",
   "metadata": {
    "id": "Zy0dkkTIW-Bw"
   },
   "source": [
    "### Обучить нейронку\n",
    "![title](attention.jpg)"
   ]
  },
  {
   "cell_type": "code",
   "execution_count": 51,
   "metadata": {
    "id": "3wwkxZm1vE43"
   },
   "outputs": [],
   "source": [
    "class model_with_att(torch.nn.Module):\n",
    "\n",
    "    def __init__(self, vocab_size, matrix_w, n=5, emb_size=300,\n",
    "                 lstm_size=256, lin_size_3=256, cnn_out_size=128,\n",
    "                 inner_lin_size=256):\n",
    "        \"\"\"\n",
    "        vocab_size = размер словаря\n",
    "        matrix_w = матрица весов\n",
    "        n = кол-во категорий\n",
    "        emb_size = размер эмбеддинга\n",
    "        \"\"\"\n",
    "\n",
    "        super().__init__()\n",
    "\n",
    "        self.n = n\n",
    "        self.emb_size = emb_size\n",
    "        self.emb_layer = torch.nn.Embedding.from_pretrained(\n",
    "            torch.Tensor(matrix_w))\n",
    "\n",
    "        self.LSTM = torch.nn.LSTM(emb_size, lstm_size, num_layers=2,\n",
    "                                  batch_first=True, dropout=0.1,\n",
    "                                  bidirectional=True)\n",
    "\n",
    "        self.q_proj = torch.nn.Linear(in_features=lstm_size*2,\n",
    "                                      out_features=lin_size_3,\n",
    "                                      bias=True)\n",
    "        self.k_proj = torch.nn.Linear(in_features=lstm_size*2,\n",
    "                                      out_features=lin_size_3,\n",
    "                                      bias=True)\n",
    "        self.v_proj = torch.nn.Linear(in_features=lstm_size*2,\n",
    "                                      out_features=lin_size_3,\n",
    "                                      bias=True)\n",
    "\n",
    "        self.att_soft = torch.nn.Softmax(dim=2)\n",
    "\n",
    "        self.cnn_3gr = torch.nn.Conv1d(lin_size_3, cnn_out_size,\n",
    "                                       kernel_size=(3,), stride=(1,))\n",
    "        self.cnn_4gr = torch.nn.Conv1d(lin_size_3, cnn_out_size,\n",
    "                                       kernel_size=(4,), stride=(1,))\n",
    "        self.cnn_5gr = torch.nn.Conv1d(lin_size_3, cnn_out_size,\n",
    "                                       kernel_size=(5,), stride=(1,))\n",
    "\n",
    "        self.linear_1 = torch.nn.Linear(in_features=cnn_out_size*3,\n",
    "                                        out_features=inner_lin_size,\n",
    "                                        bias=True)\n",
    "        self.relu = torch.nn.ReLU()\n",
    "        self.linear_2 = torch.nn.Linear(inner_lin_size, out_features=n)\n",
    "\n",
    "    def forward(self, x):\n",
    "\n",
    "        # применяем эмбеддинги\n",
    "        x_emb = self.emb_layer(x)\n",
    "        # транспонируем тензор для лстм, как было описано выше\n",
    "        x_emb = x_emb.transpose(0, 1)\n",
    "        # применим лстм\n",
    "        x, _ = self.LSTM(x_emb)\n",
    "        # транспонируем обратно\n",
    "        x = x.transpose(0, 1)\n",
    "\n",
    "        # применим линейные преобразования для селф-эттеншена\n",
    "        x_q = self.q_proj(x)\n",
    "        x_k = self.k_proj(x)\n",
    "        x_v = self.v_proj(x)\n",
    "        # транспонируем одну из матриц\n",
    "        X_k_T = x_k.transpose(2, 1)\n",
    "\n",
    "        # перемножаем тензоры, делим на корень из emb_size\n",
    "        # на картинке неправильный порядок тензоров\n",
    "        att_scores = torch.bmm(x_q, X_k_T) / sqrt(self.emb_size)\n",
    "        # накидываем софтмакс\n",
    "        att_dist = self.att_soft(att_scores)\n",
    "        attention_vectors = torch.bmm(att_dist, x_v)\n",
    "\n",
    "        # транспонируем для конволюционных фильтров\n",
    "        x_att = attention_vectors.transpose(2, 1)\n",
    "\n",
    "        # применяем свертки\n",
    "        x_cnn3 = self.cnn_3gr(x_att)\n",
    "        x_cnn4 = self.cnn_4gr(x_att)\n",
    "        x_cnn5 = self.cnn_5gr(x_att)\n",
    "\n",
    "        # max pooling\n",
    "        frst, _ = x_cnn3.max(dim=-1,)\n",
    "        sc, _ = x_cnn4.max(dim=-1,)\n",
    "        thr, _ = x_cnn5.max(dim=-1,)\n",
    "\n",
    "        # объединяем результаты\n",
    "        x_cat = torch.cat((frst, sc, thr), dim=-1)\n",
    "\n",
    "        # полносвязные слои с ReLU для классификации\n",
    "        x = self.linear_1(x_cat)\n",
    "        x = self.relu(x)\n",
    "        x = self.linear_2(x)\n",
    "\n",
    "        return x"
   ]
  },
  {
   "cell_type": "code",
   "execution_count": 52,
   "metadata": {
    "id": "jFbyUXLE0WPv"
   },
   "outputs": [],
   "source": [
    "n_classes = data.category.unique().shape[0]"
   ]
  },
  {
   "cell_type": "code",
   "execution_count": 53,
   "metadata": {
    "id": "OZgh4ONx0HvT"
   },
   "outputs": [],
   "source": [
    "model = model_with_att(len(word2index), vectors, n_classes)"
   ]
  },
  {
   "cell_type": "code",
   "execution_count": 54,
   "metadata": {},
   "outputs": [
    {
     "data": {
      "text/plain": [
       "model_with_att(\n",
       "  (emb_layer): Embedding(117619, 300)\n",
       "  (LSTM): LSTM(300, 256, num_layers=2, batch_first=True, dropout=0.1, bidirectional=True)\n",
       "  (q_proj): Linear(in_features=512, out_features=256, bias=True)\n",
       "  (k_proj): Linear(in_features=512, out_features=256, bias=True)\n",
       "  (v_proj): Linear(in_features=512, out_features=256, bias=True)\n",
       "  (att_soft): Softmax(dim=2)\n",
       "  (cnn_3gr): Conv1d(256, 128, kernel_size=(3,), stride=(1,))\n",
       "  (cnn_4gr): Conv1d(256, 128, kernel_size=(4,), stride=(1,))\n",
       "  (cnn_5gr): Conv1d(256, 128, kernel_size=(5,), stride=(1,))\n",
       "  (linear_1): Linear(in_features=384, out_features=256, bias=True)\n",
       "  (relu): ReLU()\n",
       "  (linear_2): Linear(in_features=256, out_features=5, bias=True)\n",
       ")"
      ]
     },
     "execution_count": 54,
     "metadata": {},
     "output_type": "execute_result"
    }
   ],
   "source": [
    "model"
   ]
  },
  {
   "cell_type": "code",
   "execution_count": 55,
   "metadata": {
    "id": "E66MWNgM0QKM"
   },
   "outputs": [],
   "source": [
    "with torch.no_grad():\n",
    "    pred = model(x)"
   ]
  },
  {
   "cell_type": "code",
   "execution_count": 56,
   "metadata": {
    "id": "ErboeQbv0dnC"
   },
   "outputs": [
    {
     "data": {
      "text/plain": [
       "torch.Size([64, 5])"
      ]
     },
     "execution_count": 56,
     "metadata": {},
     "output_type": "execute_result"
    }
   ],
   "source": [
    "pred.shape"
   ]
  },
  {
   "cell_type": "code",
   "execution_count": 57,
   "metadata": {
    "id": "Vsxw4M2m0m2B"
   },
   "outputs": [],
   "source": [
    "criterion = torch.nn.CrossEntropyLoss()\n",
    "optimizer = torch.optim.Adam(params=model.parameters())\n",
    "\n",
    "model = model.to(device)\n",
    "criterion = criterion.to(device)"
   ]
  },
  {
   "cell_type": "code",
   "execution_count": 58,
   "metadata": {},
   "outputs": [],
   "source": [
    "def train(model, criterion, optimizer, train_loader,\n",
    "          validation_loader, device, epochs=10):\n",
    "\n",
    "    losses = []\n",
    "    best_test_loss = 10.\n",
    "    test_f1 = []\n",
    "\n",
    "    for n_epoch in range(epochs):\n",
    "\n",
    "        train_losses = []\n",
    "        test_losses = []\n",
    "        test_targets = []\n",
    "        test_pred_class = []\n",
    "\n",
    "        progress_bar = tqdm(total=len(train_loader.dataset),\n",
    "                            desc='Epoch {}'.format(n_epoch + 1))\n",
    "\n",
    "        model.train()\n",
    "\n",
    "        for x, y in train_loader:\n",
    "\n",
    "            x = x.to(device)\n",
    "            y = y.to(device)\n",
    "\n",
    "            optimizer.zero_grad()\n",
    "            pred = model(x)\n",
    "            loss = criterion(pred, y)\n",
    "            loss.backward()\n",
    "            optimizer.step()\n",
    "\n",
    "            train_losses.append(loss.item())\n",
    "            losses.append(loss.item())\n",
    "\n",
    "            progress_bar.set_postfix(train_loss=np.mean(losses[-500:]))\n",
    "            progress_bar.update(x.shape[0])\n",
    "\n",
    "        progress_bar.close()\n",
    "\n",
    "        model.eval()\n",
    "\n",
    "        for x, y in validation_loader:\n",
    "\n",
    "            x = x.to(device)\n",
    "\n",
    "            with torch.no_grad():\n",
    "\n",
    "                pred = model(x)\n",
    "                pred = pred.cpu()\n",
    "\n",
    "                test_targets.append(y.numpy())\n",
    "                test_pred_class.append(np.argmax(pred, axis=1))\n",
    "\n",
    "                # перенос на GPU из-за весов в функции ошибки, см. ниже\n",
    "                loss = criterion(pred.to(device), y.to(device))\n",
    "                test_losses.append(loss.item())\n",
    "\n",
    "        mean_test_loss = np.mean(test_losses)\n",
    "\n",
    "        test_targets = np.concatenate(test_targets).squeeze()\n",
    "        test_pred_class = np.concatenate(test_pred_class).squeeze()\n",
    "\n",
    "        f1 = f1_score(test_targets, test_pred_class, average='micro')\n",
    "        test_f1.append(f1)\n",
    "\n",
    "        print()\n",
    "        print('Losses: train - {:.3f}, test - {:.3f}'.format(\n",
    "            np.mean(train_losses), mean_test_loss))\n",
    "\n",
    "        print('F1 test - {:.3f}'.format(f1))\n",
    "\n",
    "        # Early stopping:\n",
    "        if mean_test_loss < best_test_loss:\n",
    "            best_test_loss = mean_test_loss\n",
    "        else:\n",
    "            print('Early stopping')\n",
    "            break\n",
    "\n",
    "    return losses, test_f1, best_test_loss"
   ]
  },
  {
   "cell_type": "code",
   "execution_count": 59,
   "metadata": {
    "colab": {
     "base_uri": "https://localhost:8080/",
     "height": 323
    },
    "id": "7rUTc0l60pV9",
    "outputId": "ea81b9b3-b1d3-4122-869b-da0592397d76"
   },
   "outputs": [
    {
     "data": {
      "application/vnd.jupyter.widget-view+json": {
       "model_id": "c5297c72be224740972fe420b4c5ffb7",
       "version_major": 2,
       "version_minor": 0
      },
      "text/plain": [
       "Epoch 1:   0%|          | 0/214001 [00:00<?, ?it/s]"
      ]
     },
     "metadata": {},
     "output_type": "display_data"
    },
    {
     "name": "stdout",
     "output_type": "stream",
     "text": [
      "\n",
      "Losses: train - 0.612, test - 0.490\n",
      "F1 test - 0.821\n"
     ]
    },
    {
     "data": {
      "application/vnd.jupyter.widget-view+json": {
       "model_id": "c81b2335f3b14701ab3e27317d53b262",
       "version_major": 2,
       "version_minor": 0
      },
      "text/plain": [
       "Epoch 2:   0%|          | 0/214001 [00:00<?, ?it/s]"
      ]
     },
     "metadata": {},
     "output_type": "display_data"
    },
    {
     "name": "stdout",
     "output_type": "stream",
     "text": [
      "\n",
      "Losses: train - 0.477, test - 0.472\n",
      "F1 test - 0.830\n"
     ]
    },
    {
     "data": {
      "application/vnd.jupyter.widget-view+json": {
       "model_id": "e249533c782c433e9a159757f7496450",
       "version_major": 2,
       "version_minor": 0
      },
      "text/plain": [
       "Epoch 3:   0%|          | 0/214001 [00:00<?, ?it/s]"
      ]
     },
     "metadata": {},
     "output_type": "display_data"
    },
    {
     "name": "stdout",
     "output_type": "stream",
     "text": [
      "\n",
      "Losses: train - 0.453, test - 0.469\n",
      "F1 test - 0.833\n"
     ]
    },
    {
     "data": {
      "application/vnd.jupyter.widget-view+json": {
       "model_id": "7110c0013cdc412c8cbf0dd6b6387566",
       "version_major": 2,
       "version_minor": 0
      },
      "text/plain": [
       "Epoch 4:   0%|          | 0/214001 [00:00<?, ?it/s]"
      ]
     },
     "metadata": {},
     "output_type": "display_data"
    },
    {
     "name": "stdout",
     "output_type": "stream",
     "text": [
      "\n",
      "Losses: train - 0.434, test - 0.464\n",
      "F1 test - 0.837\n"
     ]
    },
    {
     "data": {
      "application/vnd.jupyter.widget-view+json": {
       "model_id": "8ad8b2d925eb4d10b50301fd5b06aa7a",
       "version_major": 2,
       "version_minor": 0
      },
      "text/plain": [
       "Epoch 5:   0%|          | 0/214001 [00:00<?, ?it/s]"
      ]
     },
     "metadata": {},
     "output_type": "display_data"
    },
    {
     "name": "stdout",
     "output_type": "stream",
     "text": [
      "\n",
      "Losses: train - 0.415, test - 0.478\n",
      "F1 test - 0.833\n",
      "Early stopping\n"
     ]
    }
   ],
   "source": [
    "losses, test_f1, best_test_loss = train(model, criterion,\n",
    "                                        optimizer, train_loader,\n",
    "                                        validation_loader, device)"
   ]
  },
  {
   "cell_type": "markdown",
   "metadata": {},
   "source": [
    "**Было:**  \n",
    "```Losses: train - 0.402, test - 0.447```  \n",
    "```F1 test - 0.841```  \n",
    "```Early stopping``` после 4 эпохи\n",
    "\n",
    "**Стало:**  \n",
    "```Losses: train - 0.434, test - 0.464```  \n",
    "```F1 test - 0.837``` (на 4 эпохе)  \n",
    "```Early stopping``` после 5 эпохи"
   ]
  },
  {
   "cell_type": "markdown",
   "metadata": {
    "id": "1TMaPbh3oWwc"
   },
   "source": [
    "Если вы запускаете много раз колаб окна и ткдм начинает беситься, можно запустить окно ниже, ткдм обновится и все снова станет хорошо"
   ]
  },
  {
   "cell_type": "code",
   "execution_count": null,
   "metadata": {
    "colab": {
     "base_uri": "https://localhost:8080/",
     "height": 34
    },
    "id": "_aPjTQcR0vm2",
    "outputId": "03d584f8-2f8c-4e0b-ae8e-7112f6624275"
   },
   "outputs": [],
   "source": [
    "# for instance in list(tqdm._instances):\n",
    "#     tqdm._decr_instances(instance)"
   ]
  },
  {
   "cell_type": "code",
   "execution_count": 60,
   "metadata": {},
   "outputs": [],
   "source": [
    "def plot_training(losses):\n",
    "    plt.figure(figsize=(10, 8))\n",
    "    plt.title('Training Process')\n",
    "    plt.xlabel('Iterations')\n",
    "    plt.ylabel('Cross Entropy Loss')\n",
    "    plt.grid()\n",
    "    plt.plot(losses)"
   ]
  },
  {
   "cell_type": "code",
   "execution_count": 61,
   "metadata": {},
   "outputs": [
    {
     "data": {
      "image/png": "[encoded data removed]",
      "text/plain": [
       "<Figure size 720x576 with 1 Axes>"
      ]
     },
     "metadata": {
      "needs_background": "light"
     },
     "output_type": "display_data"
    }
   ],
   "source": [
    "plot_training(losses)"
   ]
  },
  {
   "cell_type": "markdown",
   "metadata": {},
   "source": [
    "## Оценка\n",
    "1. ✔ Добрались сюда - очень хорошо - получилась такая же точность или около того - 7 баллов.\n",
    "2. Поставили эксперименты и повысили точность относительно своей и не ниже F1 test - 0.841 - 8 баллов.\n",
    "3. Запустили бертовую тетрадку и разобрались. Получился сравнимый результат - 10 баллов \n",
    "\n",
    "Переходим к экспериментам. Начнем с дропаутов."
   ]
  },
  {
   "cell_type": "code",
   "execution_count": 62,
   "metadata": {},
   "outputs": [],
   "source": [
    "class model_with_dropout(torch.nn.Module):\n",
    "\n",
    "    def __init__(self, vocab_size, matrix_w, n=5, emb_size=300,\n",
    "                 lstm_size=256, lin_size_3=256, cnn_out_size=128,\n",
    "                 inner_lin_size=256, dropout_rate=0.5):\n",
    "        \"\"\"\n",
    "        vocab_size = размер словаря\n",
    "        matrix_w = матрица весов\n",
    "        n = кол-во категорий\n",
    "        emb_size = размер эмбеддинга\n",
    "        \"\"\"\n",
    "\n",
    "        super().__init__()\n",
    "\n",
    "        self.n = n\n",
    "        self.emb_size = emb_size\n",
    "        self.emb_layer = torch.nn.Embedding.from_pretrained(\n",
    "            torch.Tensor(matrix_w))\n",
    "\n",
    "        self.LSTM = torch.nn.LSTM(emb_size, lstm_size, num_layers=2,\n",
    "                                  batch_first=True, dropout=0.1,\n",
    "                                  bidirectional=True)\n",
    "\n",
    "        self.q_proj = torch.nn.Linear(in_features=lstm_size*2,\n",
    "                                      out_features=lin_size_3,\n",
    "                                      bias=True)\n",
    "        self.k_proj = torch.nn.Linear(in_features=lstm_size*2,\n",
    "                                      out_features=lin_size_3,\n",
    "                                      bias=True)\n",
    "        self.v_proj = torch.nn.Linear(in_features=lstm_size*2,\n",
    "                                      out_features=lin_size_3,\n",
    "                                      bias=True)\n",
    "\n",
    "        self.att_soft = torch.nn.Softmax(dim=2)\n",
    "\n",
    "        self.cnn_3gr = torch.nn.Conv1d(lin_size_3, cnn_out_size,\n",
    "                                       kernel_size=(3,), stride=(1,))\n",
    "        self.cnn_4gr = torch.nn.Conv1d(lin_size_3, cnn_out_size,\n",
    "                                       kernel_size=(4,), stride=(1,))\n",
    "        self.cnn_5gr = torch.nn.Conv1d(lin_size_3, cnn_out_size,\n",
    "                                       kernel_size=(5,), stride=(1,))\n",
    "\n",
    "        self.linear_1 = torch.nn.Linear(in_features=cnn_out_size*3,\n",
    "                                        out_features=inner_lin_size,\n",
    "                                        bias=True)\n",
    "        self.relu = torch.nn.ReLU()\n",
    "        # новая штука\n",
    "        self.dropout = torch.nn.Dropout(p=dropout_rate)\n",
    "        self.linear_2 = torch.nn.Linear(inner_lin_size, out_features=n)\n",
    "\n",
    "    def forward(self, x):\n",
    "\n",
    "        # применяем эмбеддинги\n",
    "        x_emb = self.emb_layer(x)\n",
    "        # транспонируем тензор для лстм, как было описано выше\n",
    "        x_emb = x_emb.transpose(0, 1)\n",
    "        # применим лстм\n",
    "        x, _ = self.LSTM(x_emb)\n",
    "        # транспонируем обратно\n",
    "        x = x.transpose(0, 1)\n",
    "\n",
    "        # применим линейные преобразования для селф-эттеншена\n",
    "        x_q = self.q_proj(x)\n",
    "        x_k = self.k_proj(x)\n",
    "        x_v = self.v_proj(x)\n",
    "        # транспонируем одну из матриц\n",
    "        X_k_T = x_k.transpose(2, 1)\n",
    "\n",
    "        # перемножаем тензоры, делим на корень из emb_size\n",
    "        # на картинке неправильный порядок тензоров\n",
    "        att_scores = torch.bmm(x_q, X_k_T) / sqrt(self.emb_size)\n",
    "        # накидываем софтмакс\n",
    "        att_dist = self.att_soft(att_scores)\n",
    "        attention_vectors = torch.bmm(att_dist, x_v)\n",
    "\n",
    "        # транспонируем для конволюционных фильтров\n",
    "        x_att = attention_vectors.transpose(2, 1)\n",
    "\n",
    "        # применяем свертки\n",
    "        x_cnn3 = self.cnn_3gr(x_att)\n",
    "        x_cnn4 = self.cnn_4gr(x_att)\n",
    "        x_cnn5 = self.cnn_5gr(x_att)\n",
    "\n",
    "        # max pooling\n",
    "        frst, _ = x_cnn3.max(dim=-1,)\n",
    "        sc, _ = x_cnn4.max(dim=-1,)\n",
    "        thr, _ = x_cnn5.max(dim=-1,)\n",
    "\n",
    "        # объединяем результаты\n",
    "        x_cat = torch.cat((frst, sc, thr), dim=-1)\n",
    "\n",
    "        # новая штука: добавляем дропаут\n",
    "        x = self.dropout(x_cat)\n",
    "\n",
    "        # полносвязные слои с ReLU для классификации\n",
    "        x = self.linear_1(x)\n",
    "        x = self.relu(x)\n",
    "        x = self.linear_2(x)\n",
    "\n",
    "        return x"
   ]
  },
  {
   "cell_type": "code",
   "execution_count": 63,
   "metadata": {},
   "outputs": [],
   "source": [
    "model = model_with_dropout(len(word2index), vectors, n_classes)\n",
    "\n",
    "criterion = torch.nn.CrossEntropyLoss()\n",
    "optimizer = torch.optim.Adam(params=model.parameters())\n",
    "\n",
    "model = model.to(device)\n",
    "criterion = criterion.to(device)"
   ]
  },
  {
   "cell_type": "code",
   "execution_count": 64,
   "metadata": {},
   "outputs": [
    {
     "data": {
      "application/vnd.jupyter.widget-view+json": {
       "model_id": "567a70192b104e2c9b502690639c4108",
       "version_major": 2,
       "version_minor": 0
      },
      "text/plain": [
       "Epoch 1:   0%|          | 0/214001 [00:00<?, ?it/s]"
      ]
     },
     "metadata": {},
     "output_type": "display_data"
    },
    {
     "name": "stdout",
     "output_type": "stream",
     "text": [
      "\n",
      "Losses: train - 0.629, test - 0.495\n",
      "F1 test - 0.820\n"
     ]
    },
    {
     "data": {
      "application/vnd.jupyter.widget-view+json": {
       "model_id": "52c375ac822044ffb703a021192f873b",
       "version_major": 2,
       "version_minor": 0
      },
      "text/plain": [
       "Epoch 2:   0%|          | 0/214001 [00:00<?, ?it/s]"
      ]
     },
     "metadata": {},
     "output_type": "display_data"
    },
    {
     "name": "stdout",
     "output_type": "stream",
     "text": [
      "\n",
      "Losses: train - 0.480, test - 0.473\n",
      "F1 test - 0.829\n"
     ]
    },
    {
     "data": {
      "application/vnd.jupyter.widget-view+json": {
       "model_id": "c52ef98b59ca4cf48ccf31f28014c920",
       "version_major": 2,
       "version_minor": 0
      },
      "text/plain": [
       "Epoch 3:   0%|          | 0/214001 [00:00<?, ?it/s]"
      ]
     },
     "metadata": {},
     "output_type": "display_data"
    },
    {
     "name": "stdout",
     "output_type": "stream",
     "text": [
      "\n",
      "Losses: train - 0.458, test - 0.472\n",
      "F1 test - 0.831\n"
     ]
    },
    {
     "data": {
      "application/vnd.jupyter.widget-view+json": {
       "model_id": "613be28ca80d40d1a9b16103ca2d0952",
       "version_major": 2,
       "version_minor": 0
      },
      "text/plain": [
       "Epoch 4:   0%|          | 0/214001 [00:00<?, ?it/s]"
      ]
     },
     "metadata": {},
     "output_type": "display_data"
    },
    {
     "name": "stdout",
     "output_type": "stream",
     "text": [
      "\n",
      "Losses: train - 0.440, test - 0.463\n",
      "F1 test - 0.837\n"
     ]
    },
    {
     "data": {
      "application/vnd.jupyter.widget-view+json": {
       "model_id": "0335ba770da64613ba2d792f65ad886c",
       "version_major": 2,
       "version_minor": 0
      },
      "text/plain": [
       "Epoch 5:   0%|          | 0/214001 [00:00<?, ?it/s]"
      ]
     },
     "metadata": {},
     "output_type": "display_data"
    },
    {
     "name": "stdout",
     "output_type": "stream",
     "text": [
      "\n",
      "Losses: train - 0.422, test - 0.468\n",
      "F1 test - 0.836\n",
      "Early stopping\n"
     ]
    }
   ],
   "source": [
    "losses, test_f1, best_test_loss = train(model, criterion,\n",
    "                                        optimizer, train_loader,\n",
    "                                        validation_loader, device)"
   ]
  },
  {
   "cell_type": "markdown",
   "metadata": {},
   "source": [
    "**Было:**  \n",
    "```Losses: train - 0.434, test - 0.464```  \n",
    "```F1 test - 0.837``` (на 4 эпохе)  \n",
    "```Early stopping``` после 5 эпохи\n",
    "\n",
    "**Стало:**  \n",
    "```Losses: train - 0.440, test - 0.463```  \n",
    "```F1 test - 0.837``` (на 4 эпохе)  \n",
    "```Early stopping``` после 5 эпохи\n",
    "\n",
    "Качество не улучшилось, лосс почти идентичный :(\n",
    "\n",
    "Посмотрим на распределение классов в датасете."
   ]
  },
  {
   "cell_type": "code",
   "execution_count": 65,
   "metadata": {},
   "outputs": [
    {
     "data": {
      "text/plain": [
       "1    70842\n",
       "3    52350\n",
       "0    45914\n",
       "4    43673\n",
       "2    25000\n",
       "Name: category, dtype: int64"
      ]
     },
     "execution_count": 65,
     "metadata": {},
     "output_type": "execute_result"
    }
   ],
   "source": [
    "data.category.value_counts()"
   ]
  },
  {
   "cell_type": "code",
   "execution_count": 66,
   "metadata": {},
   "outputs": [
    {
     "data": {
      "text/plain": [
       "<AxesSubplot:>"
      ]
     },
     "execution_count": 66,
     "metadata": {},
     "output_type": "execute_result"
    },
    {
     "data": {
      "image/png": "[encoded data removed]",
      "text/plain": [
       "<Figure size 432x288 with 1 Axes>"
      ]
     },
     "metadata": {
      "needs_background": "light"
     },
     "output_type": "display_data"
    }
   ],
   "source": [
    "data.category.hist()"
   ]
  },
  {
   "cell_type": "markdown",
   "metadata": {},
   "source": [
    "Ситуация не ужасная, но видно, что самый большой класс примерно в 2.5 раза больше самого маленького. Попробуем передать веса функции кросс-энтропии."
   ]
  },
  {
   "cell_type": "code",
   "execution_count": 67,
   "metadata": {},
   "outputs": [
    {
     "data": {
      "text/plain": [
       "array([1.03417098, 0.6704187 , 1.90350011, 0.91011972, 1.09011767])"
      ]
     },
     "execution_count": 67,
     "metadata": {},
     "output_type": "execute_result"
    }
   ],
   "source": [
    "class_weights = compute_class_weight(class_weight='balanced',\n",
    "                                     classes=np.unique(y_train),\n",
    "                                     y=y_train)\n",
    "class_weights"
   ]
  },
  {
   "cell_type": "markdown",
   "metadata": {},
   "source": [
    "Попробуем обучить исходную модель, но с учетом полученных весов."
   ]
  },
  {
   "cell_type": "code",
   "execution_count": 68,
   "metadata": {},
   "outputs": [],
   "source": [
    "model = model_with_att(len(word2index), vectors, n_classes)\n",
    "\n",
    "criterion = torch.nn.CrossEntropyLoss(\n",
    "    weight=torch.FloatTensor(class_weights).to(device))\n",
    "optimizer = torch.optim.Adam(params=model.parameters())\n",
    "\n",
    "model = model.to(device)\n",
    "criterion = criterion.to(device)"
   ]
  },
  {
   "cell_type": "code",
   "execution_count": 69,
   "metadata": {},
   "outputs": [
    {
     "data": {
      "application/vnd.jupyter.widget-view+json": {
       "model_id": "08d0d9835d9541cfbe40ce534106d6ea",
       "version_major": 2,
       "version_minor": 0
      },
      "text/plain": [
       "Epoch 1:   0%|          | 0/214001 [00:00<?, ?it/s]"
      ]
     },
     "metadata": {},
     "output_type": "display_data"
    },
    {
     "name": "stdout",
     "output_type": "stream",
     "text": [
      "\n",
      "Losses: train - 0.614, test - 0.496\n",
      "F1 test - 0.806\n"
     ]
    },
    {
     "data": {
      "application/vnd.jupyter.widget-view+json": {
       "model_id": "faab434b8d534527a679515c90e6e780",
       "version_major": 2,
       "version_minor": 0
      },
      "text/plain": [
       "Epoch 2:   0%|          | 0/214001 [00:00<?, ?it/s]"
      ]
     },
     "metadata": {},
     "output_type": "display_data"
    },
    {
     "name": "stdout",
     "output_type": "stream",
     "text": [
      "\n",
      "Losses: train - 0.479, test - 0.474\n",
      "F1 test - 0.818\n"
     ]
    },
    {
     "data": {
      "application/vnd.jupyter.widget-view+json": {
       "model_id": "9901d611c613498f868b4be3bca34f6d",
       "version_major": 2,
       "version_minor": 0
      },
      "text/plain": [
       "Epoch 3:   0%|          | 0/214001 [00:00<?, ?it/s]"
      ]
     },
     "metadata": {},
     "output_type": "display_data"
    },
    {
     "name": "stdout",
     "output_type": "stream",
     "text": [
      "\n",
      "Losses: train - 0.453, test - 0.464\n",
      "F1 test - 0.824\n"
     ]
    },
    {
     "data": {
      "application/vnd.jupyter.widget-view+json": {
       "model_id": "73f85633fe784d3790c233a1b21f095e",
       "version_major": 2,
       "version_minor": 0
      },
      "text/plain": [
       "Epoch 4:   0%|          | 0/214001 [00:00<?, ?it/s]"
      ]
     },
     "metadata": {},
     "output_type": "display_data"
    },
    {
     "name": "stdout",
     "output_type": "stream",
     "text": [
      "\n",
      "Losses: train - 0.432, test - 0.461\n",
      "F1 test - 0.827\n"
     ]
    },
    {
     "data": {
      "application/vnd.jupyter.widget-view+json": {
       "model_id": "c2b15ecff65349b58f3e1e04783c3bdb",
       "version_major": 2,
       "version_minor": 0
      },
      "text/plain": [
       "Epoch 5:   0%|          | 0/214001 [00:00<?, ?it/s]"
      ]
     },
     "metadata": {},
     "output_type": "display_data"
    },
    {
     "name": "stdout",
     "output_type": "stream",
     "text": [
      "\n",
      "Losses: train - 0.412, test - 0.466\n",
      "F1 test - 0.828\n",
      "Early stopping\n"
     ]
    }
   ],
   "source": [
    "losses, test_f1, best_test_loss = train(model, criterion,\n",
    "                                        optimizer, train_loader,\n",
    "                                        validation_loader, device)"
   ]
  },
  {
   "cell_type": "markdown",
   "metadata": {},
   "source": [
    "**Было:**  \n",
    "```Losses: train - 0.434, test - 0.464```  \n",
    "```F1 test - 0.837``` (на 4 эпохе)  \n",
    "```Early stopping``` после 5 эпохи\n",
    "\n",
    "**Стало:**  \n",
    "```Losses: train - 0.412, test - 0.466```  \n",
    "```F1 test - 0.828```  \n",
    "```Early stopping``` после 5 эпохи\n",
    "\n",
    "Не помогло :( Попробуем пошаманить с архитектурой модели. Вместо сверточного слоя 5-грамм сделаем слой биграмм."
   ]
  },
  {
   "cell_type": "code",
   "execution_count": 70,
   "metadata": {},
   "outputs": [],
   "source": [
    "class new_model(torch.nn.Module):\n",
    "\n",
    "    def __init__(self, vocab_size, matrix_w, n=5, emb_size=300,\n",
    "                 lstm_size=256, lin_size_3=256, cnn_out_size=128,\n",
    "                 inner_lin_size=256):\n",
    "        \"\"\"\n",
    "        vocab_size = размер словаря\n",
    "        matrix_w = матрица весов\n",
    "        n = кол-во категорий\n",
    "        emb_size = размер эмбеддинга\n",
    "        \"\"\"\n",
    "\n",
    "        super().__init__()\n",
    "\n",
    "        self.n = n\n",
    "        self.emb_size = emb_size\n",
    "        self.emb_layer = torch.nn.Embedding.from_pretrained(\n",
    "            torch.Tensor(matrix_w))\n",
    "\n",
    "        self.LSTM = torch.nn.LSTM(emb_size, lstm_size, num_layers=2,\n",
    "                                  batch_first=True, dropout=0.1,\n",
    "                                  bidirectional=True)\n",
    "\n",
    "        self.q_proj = torch.nn.Linear(in_features=lstm_size*2,\n",
    "                                      out_features=lin_size_3,\n",
    "                                      bias=True)\n",
    "        self.k_proj = torch.nn.Linear(in_features=lstm_size*2,\n",
    "                                      out_features=lin_size_3,\n",
    "                                      bias=True)\n",
    "        self.v_proj = torch.nn.Linear(in_features=lstm_size*2,\n",
    "                                      out_features=lin_size_3,\n",
    "                                      bias=True)\n",
    "\n",
    "        self.att_soft = torch.nn.Softmax(dim=2)\n",
    "\n",
    "        self.cnn_2gr = torch.nn.Conv1d(lin_size_3, cnn_out_size,\n",
    "                                       kernel_size=(2,), stride=(1,))\n",
    "        self.cnn_3gr = torch.nn.Conv1d(lin_size_3, cnn_out_size,\n",
    "                                       kernel_size=(3,), stride=(1,))\n",
    "        self.cnn_4gr = torch.nn.Conv1d(lin_size_3, cnn_out_size,\n",
    "                                       kernel_size=(4,), stride=(1,))\n",
    "\n",
    "        self.linear_1 = torch.nn.Linear(in_features=cnn_out_size*3,\n",
    "                                        out_features=inner_lin_size,\n",
    "                                        bias=True)\n",
    "        self.relu = torch.nn.ReLU()\n",
    "        self.linear_2 = torch.nn.Linear(inner_lin_size, out_features=n)\n",
    "\n",
    "    def forward(self, x):\n",
    "\n",
    "        # применяем эмбеддинги\n",
    "        x_emb = self.emb_layer(x)\n",
    "        # транспонируем тензор для лстм, как было описано выше\n",
    "        x_emb = x_emb.transpose(0, 1)\n",
    "        # применим лстм\n",
    "        x, _ = self.LSTM(x_emb)\n",
    "        # транспонируем обратно\n",
    "        x = x.transpose(0, 1)\n",
    "\n",
    "        # применим линейные преобразования для селф-эттеншена\n",
    "        x_q = self.q_proj(x)\n",
    "        x_k = self.k_proj(x)\n",
    "        x_v = self.v_proj(x)\n",
    "        # транспонируем одну из матриц\n",
    "        X_k_T = x_k.transpose(2, 1)\n",
    "\n",
    "        # перемножаем тензоры, делим на корень из emb_size\n",
    "        # на картинке неправильный порядок тензоров\n",
    "        att_scores = torch.bmm(x_q, X_k_T) / sqrt(self.emb_size)\n",
    "        # накидываем софтмакс\n",
    "        att_dist = self.att_soft(att_scores)\n",
    "        attention_vectors = torch.bmm(att_dist, x_v)\n",
    "\n",
    "        # транспонируем для конволюционных фильтров\n",
    "        x_att = attention_vectors.transpose(2, 1)\n",
    "\n",
    "        # применяем свертки\n",
    "        x_cnn2 = self.cnn_2gr(x_att)\n",
    "        x_cnn3 = self.cnn_3gr(x_att)\n",
    "        x_cnn4 = self.cnn_4gr(x_att)\n",
    "\n",
    "        # max pooling\n",
    "        frst, _ = x_cnn2.max(dim=-1,)\n",
    "        sc, _ = x_cnn3.max(dim=-1,)\n",
    "        thr, _ = x_cnn4.max(dim=-1,)\n",
    "\n",
    "        # объединяем результаты\n",
    "        x_cat = torch.cat((frst, sc, thr), dim=-1)\n",
    "\n",
    "        # полносвязные слои с ReLU для классификации\n",
    "        x = self.linear_1(x_cat)\n",
    "        x = self.relu(x)\n",
    "        x = self.linear_2(x)\n",
    "\n",
    "        return x"
   ]
  },
  {
   "cell_type": "code",
   "execution_count": 71,
   "metadata": {},
   "outputs": [],
   "source": [
    "model = new_model(len(word2index), vectors, n_classes)\n",
    "\n",
    "criterion = torch.nn.CrossEntropyLoss()\n",
    "optimizer = torch.optim.Adam(params=model.parameters())\n",
    "\n",
    "model = model.to(device)\n",
    "criterion = criterion.to(device)"
   ]
  },
  {
   "cell_type": "code",
   "execution_count": 72,
   "metadata": {},
   "outputs": [
    {
     "data": {
      "application/vnd.jupyter.widget-view+json": {
       "model_id": "72330546849049b9856041676c473be2",
       "version_major": 2,
       "version_minor": 0
      },
      "text/plain": [
       "Epoch 1:   0%|          | 0/214001 [00:00<?, ?it/s]"
      ]
     },
     "metadata": {},
     "output_type": "display_data"
    },
    {
     "name": "stdout",
     "output_type": "stream",
     "text": [
      "\n",
      "Losses: train - 0.597, test - 0.490\n",
      "F1 test - 0.825\n"
     ]
    },
    {
     "data": {
      "application/vnd.jupyter.widget-view+json": {
       "model_id": "240343c9ec4148638c817dac43f9686b",
       "version_major": 2,
       "version_minor": 0
      },
      "text/plain": [
       "Epoch 2:   0%|          | 0/214001 [00:00<?, ?it/s]"
      ]
     },
     "metadata": {},
     "output_type": "display_data"
    },
    {
     "name": "stdout",
     "output_type": "stream",
     "text": [
      "\n",
      "Losses: train - 0.473, test - 0.473\n",
      "F1 test - 0.830\n"
     ]
    },
    {
     "data": {
      "application/vnd.jupyter.widget-view+json": {
       "model_id": "8271730c8c424d2ea3097f954b460529",
       "version_major": 2,
       "version_minor": 0
      },
      "text/plain": [
       "Epoch 3:   0%|          | 0/214001 [00:00<?, ?it/s]"
      ]
     },
     "metadata": {},
     "output_type": "display_data"
    },
    {
     "name": "stdout",
     "output_type": "stream",
     "text": [
      "\n",
      "Losses: train - 0.452, test - 0.462\n",
      "F1 test - 0.834\n"
     ]
    },
    {
     "data": {
      "application/vnd.jupyter.widget-view+json": {
       "model_id": "86e6c88055824e09a17d97e572bc6337",
       "version_major": 2,
       "version_minor": 0
      },
      "text/plain": [
       "Epoch 4:   0%|          | 0/214001 [00:00<?, ?it/s]"
      ]
     },
     "metadata": {},
     "output_type": "display_data"
    },
    {
     "name": "stdout",
     "output_type": "stream",
     "text": [
      "\n",
      "Losses: train - 0.433, test - 0.463\n",
      "F1 test - 0.836\n",
      "Early stopping\n"
     ]
    }
   ],
   "source": [
    "losses, test_f1, best_test_loss = train(model, criterion,\n",
    "                                        optimizer, train_loader,\n",
    "                                        validation_loader, device)"
   ]
  },
  {
   "cell_type": "markdown",
   "metadata": {},
   "source": [
    "Опять не помогло :( (Самое интересное, что я делала ровно то же самое с другим сидом, и был прирост качества 0.003)\n",
    "\n",
    "**Было:**  \n",
    "```Losses: train - 0.434, test - 0.464```  \n",
    "```F1 test - 0.837``` (на 4 эпохе)  \n",
    "```Early stopping``` после 5 эпохи\n",
    "\n",
    "**Стало:**  \n",
    "```Losses: train - 0.433, test - 0.463```  \n",
    "```F1 test - 0.836```  \n",
    "```Early stopping``` после 4 эпохи   \n",
    "\n",
    "Попробуем еще что-то поменять, чтобы добить качество до 0.841 (но это вряд ли удастся, потому что у меня изначально не самый удачный сид и плохое качество). Уменьшим размерность LSTM."
   ]
  },
  {
   "cell_type": "code",
   "execution_count": 74,
   "metadata": {},
   "outputs": [],
   "source": [
    "model = model_with_att(len(word2index), vectors, n_classes,\n",
    "                       lstm_size=128)\n",
    "\n",
    "criterion = torch.nn.CrossEntropyLoss()\n",
    "optimizer = torch.optim.Adam(params=model.parameters())\n",
    "\n",
    "model = model.to(device)\n",
    "criterion = criterion.to(device)"
   ]
  },
  {
   "cell_type": "code",
   "execution_count": 75,
   "metadata": {},
   "outputs": [
    {
     "data": {
      "application/vnd.jupyter.widget-view+json": {
       "model_id": "b704d7ba19d54025bf335fc2117b0969",
       "version_major": 2,
       "version_minor": 0
      },
      "text/plain": [
       "Epoch 1:   0%|          | 0/214001 [00:00<?, ?it/s]"
      ]
     },
     "metadata": {},
     "output_type": "display_data"
    },
    {
     "name": "stdout",
     "output_type": "stream",
     "text": [
      "\n",
      "Losses: train - 0.625, test - 0.489\n",
      "F1 test - 0.824\n"
     ]
    },
    {
     "data": {
      "application/vnd.jupyter.widget-view+json": {
       "model_id": "8c7bb80d26fb49a1ab921395ae6c6c7d",
       "version_major": 2,
       "version_minor": 0
      },
      "text/plain": [
       "Epoch 2:   0%|          | 0/214001 [00:00<?, ?it/s]"
      ]
     },
     "metadata": {},
     "output_type": "display_data"
    },
    {
     "name": "stdout",
     "output_type": "stream",
     "text": [
      "\n",
      "Losses: train - 0.474, test - 0.470\n",
      "F1 test - 0.831\n"
     ]
    },
    {
     "data": {
      "application/vnd.jupyter.widget-view+json": {
       "model_id": "4df1e040caf2483d9d8209c9ccafe1ef",
       "version_major": 2,
       "version_minor": 0
      },
      "text/plain": [
       "Epoch 3:   0%|          | 0/214001 [00:00<?, ?it/s]"
      ]
     },
     "metadata": {},
     "output_type": "display_data"
    },
    {
     "name": "stdout",
     "output_type": "stream",
     "text": [
      "\n",
      "Losses: train - 0.453, test - 0.462\n",
      "F1 test - 0.835\n"
     ]
    },
    {
     "data": {
      "application/vnd.jupyter.widget-view+json": {
       "model_id": "8b90305da1d445c49572461f361c44e2",
       "version_major": 2,
       "version_minor": 0
      },
      "text/plain": [
       "Epoch 4:   0%|          | 0/214001 [00:00<?, ?it/s]"
      ]
     },
     "metadata": {},
     "output_type": "display_data"
    },
    {
     "name": "stdout",
     "output_type": "stream",
     "text": [
      "\n",
      "Losses: train - 0.436, test - 0.464\n",
      "F1 test - 0.836\n",
      "Early stopping\n"
     ]
    }
   ],
   "source": [
    "losses, test_f1, best_test_loss = train(model, criterion,\n",
    "                                        optimizer, train_loader,\n",
    "                                        validation_loader, device)"
   ]
  },
  {
   "cell_type": "markdown",
   "metadata": {},
   "source": [
    "Все еще не помогло :( (Это я тоже делала с другим сидом и был прирост качества)\n",
    "\n",
    "**Было:**  \n",
    "```Losses: train - 0.434, test - 0.464```  \n",
    "```F1 test - 0.837``` (на 4 эпохе)  \n",
    "```Early stopping``` после 5 эпохи\n",
    "\n",
    "**Стало:**  \n",
    "```Losses: train - 0.436, test - 0.464```  \n",
    "```F1 test - 0.836```  \n",
    "```Early stopping``` после 4 эпохи \n",
    "\n",
    "Попробуем еще поменять функцию активации на Parametriс ReLU (Leaky ReLU не будем пробовать, она вряд ли значительно повлияет)."
   ]
  },
  {
   "cell_type": "code",
   "execution_count": 76,
   "metadata": {},
   "outputs": [],
   "source": [
    "class model_with_prelu(torch.nn.Module):\n",
    "\n",
    "    def __init__(self, vocab_size, matrix_w, n=5, emb_size=300,\n",
    "                 lstm_size=256, lin_size_3=256, cnn_out_size=128,\n",
    "                 inner_lin_size=256):\n",
    "        \"\"\"\n",
    "        vocab_size = размер словаря\n",
    "        matrix_w = матрица весов\n",
    "        n = кол-во категорий\n",
    "        emb_size = размер эмбеддинга\n",
    "        \"\"\"\n",
    "\n",
    "        super().__init__()\n",
    "\n",
    "        self.n = n\n",
    "        self.emb_size = emb_size\n",
    "        self.emb_layer = torch.nn.Embedding.from_pretrained(\n",
    "            torch.Tensor(matrix_w))\n",
    "\n",
    "        self.LSTM = torch.nn.LSTM(emb_size, lstm_size, num_layers=2,\n",
    "                                  batch_first=True, dropout=0.1,\n",
    "                                  bidirectional=True)\n",
    "\n",
    "        self.q_proj = torch.nn.Linear(in_features=lstm_size*2,\n",
    "                                      out_features=lin_size_3,\n",
    "                                      bias=True)\n",
    "        self.k_proj = torch.nn.Linear(in_features=lstm_size*2,\n",
    "                                      out_features=lin_size_3,\n",
    "                                      bias=True)\n",
    "        self.v_proj = torch.nn.Linear(in_features=lstm_size*2,\n",
    "                                      out_features=lin_size_3,\n",
    "                                      bias=True)\n",
    "\n",
    "        self.att_soft = torch.nn.Softmax(dim=2)\n",
    "\n",
    "        self.cnn_3gr = torch.nn.Conv1d(lin_size_3, cnn_out_size,\n",
    "                                       kernel_size=(3,), stride=(1,))\n",
    "        self.cnn_4gr = torch.nn.Conv1d(lin_size_3, cnn_out_size,\n",
    "                                       kernel_size=(4,), stride=(1,))\n",
    "        self.cnn_5gr = torch.nn.Conv1d(lin_size_3, cnn_out_size,\n",
    "                                       kernel_size=(5,), stride=(1,))\n",
    "\n",
    "        self.linear_1 = torch.nn.Linear(in_features=cnn_out_size*3,\n",
    "                                        out_features=inner_lin_size,\n",
    "                                        bias=True)\n",
    "        self.relu = torch.nn.PReLU()\n",
    "        self.linear_2 = torch.nn.Linear(inner_lin_size, out_features=n)\n",
    "\n",
    "    def forward(self, x):\n",
    "\n",
    "        # применяем эмбеддинги\n",
    "        x_emb = self.emb_layer(x)\n",
    "        # транспонируем тензор для лстм, как было описано выше\n",
    "        x_emb = x_emb.transpose(0, 1)\n",
    "        # применим лстм\n",
    "        x, _ = self.LSTM(x_emb)\n",
    "        # транспонируем обратно\n",
    "        x = x.transpose(0, 1)\n",
    "\n",
    "        # применим линейные преобразования для селф-эттеншена\n",
    "        x_q = self.q_proj(x)\n",
    "        x_k = self.k_proj(x)\n",
    "        x_v = self.v_proj(x)\n",
    "        # транспонируем одну из матриц\n",
    "        X_k_T = x_k.transpose(2, 1)\n",
    "\n",
    "        # перемножаем тензоры, делим на корень из emb_size\n",
    "        # на картинке неправильный порядок тензоров\n",
    "        att_scores = torch.bmm(x_q, X_k_T) / sqrt(self.emb_size)\n",
    "        # накидываем софтмакс\n",
    "        att_dist = self.att_soft(att_scores)\n",
    "        attention_vectors = torch.bmm(att_dist, x_v)\n",
    "\n",
    "        # транспонируем для конволюционных фильтров\n",
    "        x_att = attention_vectors.transpose(2, 1)\n",
    "\n",
    "        # применяем свертки\n",
    "        x_cnn3 = self.cnn_3gr(x_att)\n",
    "        x_cnn4 = self.cnn_4gr(x_att)\n",
    "        x_cnn5 = self.cnn_5gr(x_att)\n",
    "\n",
    "        # max pooling\n",
    "        frst, _ = x_cnn3.max(dim=-1,)\n",
    "        sc, _ = x_cnn4.max(dim=-1,)\n",
    "        thr, _ = x_cnn5.max(dim=-1,)\n",
    "\n",
    "        # объединяем результаты\n",
    "        x_cat = torch.cat((frst, sc, thr), dim=-1)\n",
    "\n",
    "        # полносвязные слои с ReLU для классификации\n",
    "        x = self.linear_1(x_cat)\n",
    "        x = self.relu(x)\n",
    "        x = self.linear_2(x)\n",
    "\n",
    "        return x"
   ]
  },
  {
   "cell_type": "code",
   "execution_count": 77,
   "metadata": {},
   "outputs": [],
   "source": [
    "model = model_with_prelu(len(word2index), vectors, n_classes)\n",
    "\n",
    "criterion = torch.nn.CrossEntropyLoss()\n",
    "optimizer = torch.optim.Adam(params=model.parameters())\n",
    "\n",
    "model = model.to(device)\n",
    "criterion = criterion.to(device)"
   ]
  },
  {
   "cell_type": "code",
   "execution_count": 78,
   "metadata": {},
   "outputs": [
    {
     "data": {
      "application/vnd.jupyter.widget-view+json": {
       "model_id": "361baea5d5604ffabb2b2b01368b23f5",
       "version_major": 2,
       "version_minor": 0
      },
      "text/plain": [
       "Epoch 1:   0%|          | 0/214001 [00:00<?, ?it/s]"
      ]
     },
     "metadata": {},
     "output_type": "display_data"
    },
    {
     "name": "stdout",
     "output_type": "stream",
     "text": [
      "\n",
      "Losses: train - 0.596, test - 0.491\n",
      "F1 test - 0.824\n"
     ]
    },
    {
     "data": {
      "application/vnd.jupyter.widget-view+json": {
       "model_id": "e8ae97e4efec48cbb14a8d586250a252",
       "version_major": 2,
       "version_minor": 0
      },
      "text/plain": [
       "Epoch 2:   0%|          | 0/214001 [00:00<?, ?it/s]"
      ]
     },
     "metadata": {},
     "output_type": "display_data"
    },
    {
     "name": "stdout",
     "output_type": "stream",
     "text": [
      "\n",
      "Losses: train - 0.472, test - 0.473\n",
      "F1 test - 0.830\n"
     ]
    },
    {
     "data": {
      "application/vnd.jupyter.widget-view+json": {
       "model_id": "2ea43a4b9ca24e209043e532a12400c4",
       "version_major": 2,
       "version_minor": 0
      },
      "text/plain": [
       "Epoch 3:   0%|          | 0/214001 [00:00<?, ?it/s]"
      ]
     },
     "metadata": {},
     "output_type": "display_data"
    },
    {
     "name": "stdout",
     "output_type": "stream",
     "text": [
      "\n",
      "Losses: train - 0.450, test - 0.465\n",
      "F1 test - 0.833\n"
     ]
    },
    {
     "data": {
      "application/vnd.jupyter.widget-view+json": {
       "model_id": "63d591b9e92742d6ad91b42fab316f0b",
       "version_major": 2,
       "version_minor": 0
      },
      "text/plain": [
       "Epoch 4:   0%|          | 0/214001 [00:00<?, ?it/s]"
      ]
     },
     "metadata": {},
     "output_type": "display_data"
    },
    {
     "name": "stdout",
     "output_type": "stream",
     "text": [
      "\n",
      "Losses: train - 0.432, test - 0.465\n",
      "F1 test - 0.836\n"
     ]
    },
    {
     "data": {
      "application/vnd.jupyter.widget-view+json": {
       "model_id": "9cfbf4d667734f8797fa32d99795060d",
       "version_major": 2,
       "version_minor": 0
      },
      "text/plain": [
       "Epoch 5:   0%|          | 0/214001 [00:00<?, ?it/s]"
      ]
     },
     "metadata": {},
     "output_type": "display_data"
    },
    {
     "name": "stdout",
     "output_type": "stream",
     "text": [
      "\n",
      "Losses: train - 0.412, test - 0.473\n",
      "F1 test - 0.834\n",
      "Early stopping\n"
     ]
    }
   ],
   "source": [
    "losses, test_f1, best_test_loss = train(model, criterion,\n",
    "                                        optimizer, train_loader,\n",
    "                                        validation_loader, device)"
   ]
  },
  {
   "cell_type": "markdown",
   "metadata": {},
   "source": [
    "**Было:**  \n",
    "```Losses: train - 0.434, test - 0.464```  \n",
    "```F1 test - 0.837``` (на 4 эпохе)  \n",
    "```Early stopping``` после 5 эпохи\n",
    "\n",
    "**Стало:**  \n",
    "```Losses: train - 0.432, test - 0.465```  \n",
    "```F1 test - 0.836``` (на 4 эпохе)  \n",
    "```Early stopping``` после 4 эпохи \n",
    "\n",
    "\\*дергающийся глаз\\*\n",
    "\n",
    "Попробуем добавить scheduler, после чего я сдаюсь))"
   ]
  },
  {
   "cell_type": "code",
   "execution_count": 79,
   "metadata": {},
   "outputs": [],
   "source": [
    "from torch.optim.lr_scheduler import ExponentialLR\n",
    "\n",
    "model = model_with_att(len(word2index), vectors, n_classes)\n",
    "\n",
    "criterion = torch.nn.CrossEntropyLoss()\n",
    "optimizer = torch.optim.Adam(params=model.parameters())\n",
    "scheduler = ExponentialLR(optimizer, gamma=0.4)\n",
    "\n",
    "model = model.to(device)\n",
    "criterion = criterion.to(device)"
   ]
  },
  {
   "cell_type": "code",
   "execution_count": 80,
   "metadata": {},
   "outputs": [],
   "source": [
    "def train_with_scheduler(model, criterion, optimizer,\n",
    "                         train_loader, validation_loader,\n",
    "                         scheduler, device, epochs=10):\n",
    "\n",
    "    losses = []\n",
    "    best_test_loss = 10.\n",
    "    test_f1 = []\n",
    "\n",
    "    for n_epoch in range(epochs):\n",
    "\n",
    "        train_losses = []\n",
    "        test_losses = []\n",
    "        test_targets = []\n",
    "        test_pred_class = []\n",
    "\n",
    "        progress_bar = tqdm(total=len(train_loader.dataset),\n",
    "                            desc='Epoch {}'.format(n_epoch + 1))\n",
    "\n",
    "        model.train()\n",
    "\n",
    "        for x, y in train_loader:\n",
    "\n",
    "            x = x.to(device)\n",
    "            y = y.to(device)\n",
    "\n",
    "            optimizer.zero_grad()\n",
    "            pred = model(x)\n",
    "            loss = criterion(pred, y)\n",
    "            loss.backward()\n",
    "            optimizer.step()\n",
    "\n",
    "            train_losses.append(loss.item())\n",
    "            losses.append(loss.item())\n",
    "\n",
    "            progress_bar.set_postfix(train_loss=np.mean(losses[-500:]))\n",
    "            progress_bar.update(x.shape[0])\n",
    "\n",
    "        scheduler.step()\n",
    "        progress_bar.close()\n",
    "\n",
    "        model.eval()\n",
    "\n",
    "        for x, y in validation_loader:\n",
    "\n",
    "            x = x.to(device)\n",
    "\n",
    "            with torch.no_grad():\n",
    "\n",
    "                pred = model(x)\n",
    "                pred = pred.cpu()\n",
    "\n",
    "                test_targets.append(y.numpy())\n",
    "                test_pred_class.append(np.argmax(pred, axis=1))\n",
    "\n",
    "                # перенос на GPU из-за весов в функции ошибки, см. ниже\n",
    "                loss = criterion(pred.to(device), y.to(device))\n",
    "                test_losses.append(loss.item())\n",
    "\n",
    "        mean_test_loss = np.mean(test_losses)\n",
    "\n",
    "        test_targets = np.concatenate(test_targets).squeeze()\n",
    "        test_pred_class = np.concatenate(test_pred_class).squeeze()\n",
    "\n",
    "        f1 = f1_score(test_targets, test_pred_class, average='micro')\n",
    "        test_f1.append(f1)\n",
    "\n",
    "        print()\n",
    "        print('Losses: train - {:.3f}, test - {:.3f}'.format(\n",
    "            np.mean(train_losses), mean_test_loss))\n",
    "\n",
    "        print('F1 test - {:.3f}'.format(f1))\n",
    "\n",
    "        # Early stopping:\n",
    "        if mean_test_loss < best_test_loss:\n",
    "            best_test_loss = mean_test_loss\n",
    "        else:\n",
    "            print('Early stopping')\n",
    "            break\n",
    "\n",
    "    return losses, test_f1, best_test_loss"
   ]
  },
  {
   "cell_type": "code",
   "execution_count": 82,
   "metadata": {},
   "outputs": [
    {
     "data": {
      "application/vnd.jupyter.widget-view+json": {
       "model_id": "03eb625e810d40ea86220d0ffd13c80d",
       "version_major": 2,
       "version_minor": 0
      },
      "text/plain": [
       "Epoch 1:   0%|          | 0/214001 [00:00<?, ?it/s]"
      ]
     },
     "metadata": {},
     "output_type": "display_data"
    },
    {
     "name": "stdout",
     "output_type": "stream",
     "text": [
      "\n",
      "Losses: train - 0.602, test - 0.493\n",
      "F1 test - 0.823\n"
     ]
    },
    {
     "data": {
      "application/vnd.jupyter.widget-view+json": {
       "model_id": "1b8b9d63c62146e7acc8689031095c47",
       "version_major": 2,
       "version_minor": 0
      },
      "text/plain": [
       "Epoch 2:   0%|          | 0/214001 [00:00<?, ?it/s]"
      ]
     },
     "metadata": {},
     "output_type": "display_data"
    },
    {
     "name": "stdout",
     "output_type": "stream",
     "text": [
      "\n",
      "Losses: train - 0.457, test - 0.462\n",
      "F1 test - 0.834\n"
     ]
    },
    {
     "data": {
      "application/vnd.jupyter.widget-view+json": {
       "model_id": "ca553cefe3d841279bd2d744f9b25206",
       "version_major": 2,
       "version_minor": 0
      },
      "text/plain": [
       "Epoch 3:   0%|          | 0/214001 [00:00<?, ?it/s]"
      ]
     },
     "metadata": {},
     "output_type": "display_data"
    },
    {
     "name": "stdout",
     "output_type": "stream",
     "text": [
      "\n",
      "Losses: train - 0.436, test - 0.454\n",
      "F1 test - 0.837\n"
     ]
    },
    {
     "data": {
      "application/vnd.jupyter.widget-view+json": {
       "model_id": "54fb8fe33dda48bcaf94b40aea3775af",
       "version_major": 2,
       "version_minor": 0
      },
      "text/plain": [
       "Epoch 4:   0%|          | 0/214001 [00:00<?, ?it/s]"
      ]
     },
     "metadata": {},
     "output_type": "display_data"
    },
    {
     "name": "stdout",
     "output_type": "stream",
     "text": [
      "\n",
      "Losses: train - 0.425, test - 0.449\n",
      "F1 test - 0.838\n"
     ]
    },
    {
     "data": {
      "application/vnd.jupyter.widget-view+json": {
       "model_id": "9723de92c66d42e596f80cecbd9d8f3d",
       "version_major": 2,
       "version_minor": 0
      },
      "text/plain": [
       "Epoch 5:   0%|          | 0/214001 [00:00<?, ?it/s]"
      ]
     },
     "metadata": {},
     "output_type": "display_data"
    },
    {
     "name": "stdout",
     "output_type": "stream",
     "text": [
      "\n",
      "Losses: train - 0.420, test - 0.447\n",
      "F1 test - 0.839\n"
     ]
    },
    {
     "data": {
      "application/vnd.jupyter.widget-view+json": {
       "model_id": "a43161cde511425c8c057317e3f926bd",
       "version_major": 2,
       "version_minor": 0
      },
      "text/plain": [
       "Epoch 6:   0%|          | 0/214001 [00:00<?, ?it/s]"
      ]
     },
     "metadata": {},
     "output_type": "display_data"
    },
    {
     "name": "stdout",
     "output_type": "stream",
     "text": [
      "\n",
      "Losses: train - 0.418, test - 0.446\n",
      "F1 test - 0.839\n"
     ]
    },
    {
     "data": {
      "application/vnd.jupyter.widget-view+json": {
       "model_id": "4e479a1f37a3407b8a7747c3d867865d",
       "version_major": 2,
       "version_minor": 0
      },
      "text/plain": [
       "Epoch 7:   0%|          | 0/214001 [00:00<?, ?it/s]"
      ]
     },
     "metadata": {},
     "output_type": "display_data"
    },
    {
     "name": "stdout",
     "output_type": "stream",
     "text": [
      "\n",
      "Losses: train - 0.417, test - 0.445\n",
      "F1 test - 0.839\n"
     ]
    },
    {
     "data": {
      "application/vnd.jupyter.widget-view+json": {
       "model_id": "a4cca357a1c8464eaab6a802db7e0bcc",
       "version_major": 2,
       "version_minor": 0
      },
      "text/plain": [
       "Epoch 8:   0%|          | 0/214001 [00:00<?, ?it/s]"
      ]
     },
     "metadata": {},
     "output_type": "display_data"
    },
    {
     "name": "stdout",
     "output_type": "stream",
     "text": [
      "\n",
      "Losses: train - 0.416, test - 0.444\n",
      "F1 test - 0.839\n"
     ]
    },
    {
     "data": {
      "application/vnd.jupyter.widget-view+json": {
       "model_id": "6881d29d1e744f6e93aae06e5148fe5b",
       "version_major": 2,
       "version_minor": 0
      },
      "text/plain": [
       "Epoch 9:   0%|          | 0/214001 [00:00<?, ?it/s]"
      ]
     },
     "metadata": {},
     "output_type": "display_data"
    },
    {
     "name": "stdout",
     "output_type": "stream",
     "text": [
      "\n",
      "Losses: train - 0.416, test - 0.444\n",
      "F1 test - 0.839\n"
     ]
    },
    {
     "data": {
      "application/vnd.jupyter.widget-view+json": {
       "model_id": "05e445906b58418583ee86be821c8c18",
       "version_major": 2,
       "version_minor": 0
      },
      "text/plain": [
       "Epoch 10:   0%|          | 0/214001 [00:00<?, ?it/s]"
      ]
     },
     "metadata": {},
     "output_type": "display_data"
    },
    {
     "name": "stdout",
     "output_type": "stream",
     "text": [
      "\n",
      "Losses: train - 0.416, test - 0.444\n",
      "F1 test - 0.840\n"
     ]
    }
   ],
   "source": [
    "losses, test_f1, best_test_loss = train_with_scheduler(\n",
    "    model, criterion, optimizer, train_loader,\n",
    "    validation_loader, scheduler, device)"
   ]
  },
  {
   "cell_type": "markdown",
   "metadata": {},
   "source": [
    " Ура, победа!\n",
    "\n",
    "**Было:**  \n",
    "```Losses: train - 0.434, test - 0.464```  \n",
    "```F1 test - 0.837``` (на 4 эпохе)  \n",
    "```Early stopping``` после 5 эпохи\n",
    "\n",
    "**Стало:**  \n",
    "```Losses: train - 0.416, test - 0.444```  \n",
    "```F1 test - 0.840```  \n",
    "```10 эпох``` (можно было еще поучить, но вряд ли сильно улучшится, а домашку хочется сдать до дедлайна))\n",
    "\n",
    "**Итоги по улучшениям:**\n",
    "* попробовали добавлять **dropout** (p=0.5) -- стало хуже\n",
    "* попробовали учитывать **веса классов** в CrossEntropyLoss -- стало хуже\n",
    "* попробовали заменять **5-граммный слой на биграммный** -- не улучшилось (но улучшалось на 0.003 с другим сидом, тут не угадаешь)\n",
    "* попробовали уменьшать **размерность LSTM** -- не улучшилось (тоже улучшалось на 0.003 с другим сидом)\n",
    "* попробовали заменить ReLU на **PReLU** -- не улучшилось (очень близко к бейслайну, на самом деле ожидаемо)\n",
    "* попробовали использовать **scheduler** -- **качество улучшилось до 0.840**\n",
    "\n",
    "Если останется время (сомневаюсь), то попробую увеличить гамму и лернинг рейт.\n",
    "\n",
    "В свое оправдание скажу, что, видимо, чем хуже исходное качество, тем легче улучшать. С прошлым сидом у меня качество бейслайна было 0.833, и до 0.837 я смогла его поднять даже без scheduler'а, а сейчас исходный f1 уже 0.837, и даже со scheduler я смогла улучшить всего на 0.003 :(\n",
    "\n",
    "## BERT\n",
    "Будет в другой тетрадке."
   ]
  }
 ],
 "metadata": {
  "accelerator": "GPU",
  "colab": {
   "name": "QuesT_Homework3_classification.ipynb",
   "provenance": []
  },
  "kernelspec": {
   "display_name": "Python 3 (ipykernel)",
   "language": "python",
   "name": "python3"
  },
  "language_info": {
   "codemirror_mode": {
    "name": "ipython",
    "version": 3
   },
   "file_extension": ".py",
   "mimetype": "text/x-python",
   "name": "python",
   "nbconvert_exporter": "python",
   "pygments_lexer": "ipython3",
   "version": "3.9.7"
  }
 },
 "nbformat": 4,
 "nbformat_minor": 1
}
