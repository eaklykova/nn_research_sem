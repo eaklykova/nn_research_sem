{
 "cells": [
  {
   "cell_type": "markdown",
   "metadata": {},
   "source": [
    "# Домашняя работа №3\n",
    "## Выполнила Елизавета Клыкова, БКЛ181\n",
    "### Импорт библиотек"
   ]
  },
  {
   "cell_type": "code",
   "execution_count": 1,
   "metadata": {
    "execution": {
     "iopub.execute_input": "2021-12-20T19:01:22.814621Z",
     "iopub.status.busy": "2021-12-20T19:01:22.814056Z",
     "iopub.status.idle": "2021-12-20T19:01:22.836208Z",
     "shell.execute_reply": "2021-12-20T19:01:22.835507Z",
     "shell.execute_reply.started": "2021-12-20T19:01:22.814525Z"
    },
    "id": "e5BgHdtW2sO3"
   },
   "outputs": [],
   "source": [
    "# !pip install transformers"
   ]
  },
  {
   "cell_type": "code",
   "execution_count": 2,
   "metadata": {
    "execution": {
     "iopub.execute_input": "2021-12-20T19:01:25.789557Z",
     "iopub.status.busy": "2021-12-20T19:01:25.789044Z",
     "iopub.status.idle": "2021-12-20T19:01:33.438011Z",
     "shell.execute_reply": "2021-12-20T19:01:33.437283Z",
     "shell.execute_reply.started": "2021-12-20T19:01:25.789520Z"
    },
    "id": "qmzaEwy9W-Ae"
   },
   "outputs": [],
   "source": [
    "import random\n",
    "import time\n",
    "import datetime\n",
    "\n",
    "import numpy as np\n",
    "import pandas as pd\n",
    "\n",
    "from math import sqrt\n",
    "from tqdm.auto import tqdm\n",
    "\n",
    "import torch\n",
    "from torch.utils.data import Dataset, DataLoader, TensorDataset,\\\n",
    "    RandomSampler, SequentialSampler\n",
    "\n",
    "from sklearn.model_selection import train_test_split\n",
    "from sklearn.metrics import f1_score\n",
    "from sklearn.utils.class_weight import compute_class_weight\n",
    "\n",
    "from transformers import BertTokenizer\n",
    "from transformers import BertForSequenceClassification, AdamW, BertConfig\n",
    "from transformers import get_linear_schedule_with_warmup\n",
    "from keras.preprocessing.sequence import pad_sequences\n",
    "\n",
    "import warnings\n",
    "warnings.simplefilter(action='ignore', category=FutureWarning)"
   ]
  },
  {
   "cell_type": "code",
   "execution_count": 3,
   "metadata": {
    "execution": {
     "iopub.execute_input": "2021-12-20T19:01:38.511706Z",
     "iopub.status.busy": "2021-12-20T19:01:38.511236Z",
     "iopub.status.idle": "2021-12-20T19:01:38.520118Z",
     "shell.execute_reply": "2021-12-20T19:01:38.519307Z",
     "shell.execute_reply.started": "2021-12-20T19:01:38.511668Z"
    }
   },
   "outputs": [],
   "source": [
    "seed = 117\n",
    "random.seed(seed)\n",
    "np.random.seed(seed)\n",
    "torch.manual_seed(seed)\n",
    "torch.cuda.manual_seed(seed)\n",
    "torch.cuda.manual_seed_all(seed)\n",
    "torch.backends.cudnn.deterministic = True"
   ]
  },
  {
   "cell_type": "markdown",
   "metadata": {},
   "source": [
    "## BERT\n",
    "Я перенесла нужные ячейки в эту тетрадку вместо того, чтобы запускать исходную (мне кажется, так легче воспринимать код и внесенные изменения).\n",
    "\n",
    "#### Загрузка"
   ]
  },
  {
   "cell_type": "code",
   "execution_count": 4,
   "metadata": {
    "execution": {
     "iopub.execute_input": "2021-12-20T19:01:57.895623Z",
     "iopub.status.busy": "2021-12-20T19:01:57.895361Z",
     "iopub.status.idle": "2021-12-20T19:01:59.241712Z",
     "shell.execute_reply": "2021-12-20T19:01:59.240971Z",
     "shell.execute_reply.started": "2021-12-20T19:01:57.895596Z"
    }
   },
   "outputs": [],
   "source": [
    "data = pd.read_csv('../input/answers-subsample/answers_subsample.csv')\n",
    "cat_mapper = {cat: n for n, cat in enumerate(data.category.unique())}\n",
    "data.category = data.category.map(cat_mapper)"
   ]
  },
  {
   "cell_type": "code",
   "execution_count": 5,
   "metadata": {
    "execution": {
     "iopub.execute_input": "2021-12-20T19:02:02.339559Z",
     "iopub.status.busy": "2021-12-20T19:02:02.338939Z",
     "iopub.status.idle": "2021-12-20T19:02:07.179411Z",
     "shell.execute_reply": "2021-12-20T19:02:07.178667Z",
     "shell.execute_reply.started": "2021-12-20T19:02:02.339522Z"
    }
   },
   "outputs": [
    {
     "name": "stdout",
     "output_type": "stream",
     "text": [
      "Loading BERT tokenizer...\n"
     ]
    },
    {
     "data": {
      "application/vnd.jupyter.widget-view+json": {
       "model_id": "ea377da474ab412598d9ed9f205f0027",
       "version_major": 2,
       "version_minor": 0
      },
      "text/plain": [
       "Downloading:   0%|          | 0.00/851k [00:00<?, ?B/s]"
      ]
     },
     "metadata": {},
     "output_type": "display_data"
    },
    {
     "data": {
      "application/vnd.jupyter.widget-view+json": {
       "model_id": "db9d7f2efb70473f895b3e6a02133b05",
       "version_major": 2,
       "version_minor": 0
      },
      "text/plain": [
       "Downloading:   0%|          | 0.00/28.0 [00:00<?, ?B/s]"
      ]
     },
     "metadata": {},
     "output_type": "display_data"
    },
    {
     "data": {
      "application/vnd.jupyter.widget-view+json": {
       "model_id": "fdb469935cb34753b97caa4b3d085d02",
       "version_major": 2,
       "version_minor": 0
      },
      "text/plain": [
       "Downloading:   0%|          | 0.00/1.64M [00:00<?, ?B/s]"
      ]
     },
     "metadata": {},
     "output_type": "display_data"
    },
    {
     "data": {
      "application/vnd.jupyter.widget-view+json": {
       "model_id": "bc6ea881971941b6aafc21bd198e1852",
       "version_major": 2,
       "version_minor": 0
      },
      "text/plain": [
       "Downloading:   0%|          | 0.00/625 [00:00<?, ?B/s]"
      ]
     },
     "metadata": {},
     "output_type": "display_data"
    }
   ],
   "source": [
    "print('Loading BERT tokenizer...')\n",
    "tokenizer = BertTokenizer.from_pretrained('bert-base-multilingual-uncased',\n",
    "                                          do_lower_case=True)"
   ]
  },
  {
   "cell_type": "code",
   "execution_count": 6,
   "metadata": {
    "execution": {
     "iopub.execute_input": "2021-12-20T19:02:14.528124Z",
     "iopub.status.busy": "2021-12-20T19:02:14.527845Z",
     "iopub.status.idle": "2021-12-20T19:02:14.532197Z",
     "shell.execute_reply": "2021-12-20T19:02:14.531540Z",
     "shell.execute_reply.started": "2021-12-20T19:02:14.528097Z"
    }
   },
   "outputs": [],
   "source": [
    "sentences = data.text.values\n",
    "labels = data.category.values"
   ]
  },
  {
   "cell_type": "code",
   "execution_count": 7,
   "metadata": {
    "execution": {
     "iopub.execute_input": "2021-12-20T19:02:17.542579Z",
     "iopub.status.busy": "2021-12-20T19:02:17.542014Z",
     "iopub.status.idle": "2021-12-20T19:02:17.554808Z",
     "shell.execute_reply": "2021-12-20T19:02:17.553979Z",
     "shell.execute_reply.started": "2021-12-20T19:02:17.542542Z"
    }
   },
   "outputs": [
    {
     "name": "stdout",
     "output_type": "stream",
     "text": [
      "Original:  Могут ли в россельхозбанке дать в залог норковых шуб помогите пожалуйста\n",
      "\n",
      "Tokenized:  ['могут', 'ли', 'в', 'рос', '##сель', '##хо', '##з', '##бан', '##ке', 'да', '##ть', 'в', 'зал', '##ог', 'но', '##рк', '##овых', 'ш', '##уб', 'пом', '##оги', '##те', 'по', '##жал', '##уи', '##ста']\n",
      "\n",
      "Token IDs:  [22553, 23029, 309, 26673, 80686, 37489, 11637, 42572, 11827, 10448, 11569, 309, 53932, 19820, 11299, 53464, 20565, 330, 58675, 86074, 60338, 10740, 10291, 28704, 62848, 15294]\n"
     ]
    }
   ],
   "source": [
    "# Print the original sentence.\n",
    "print('Original: ', sentences[0])\n",
    "print()\n",
    "\n",
    "# Print the sentence split into tokens.\n",
    "print('Tokenized: ', tokenizer.tokenize(sentences[0]))\n",
    "print()\n",
    "\n",
    "# Print the sentence mapped to token ids.\n",
    "print('Token IDs: ', tokenizer.convert_tokens_to_ids(\n",
    "    tokenizer.tokenize(sentences[0])))"
   ]
  },
  {
   "cell_type": "markdown",
   "metadata": {},
   "source": [
    "#### Токенизация + индексация"
   ]
  },
  {
   "cell_type": "code",
   "execution_count": 8,
   "metadata": {
    "execution": {
     "iopub.execute_input": "2021-12-20T19:02:22.517350Z",
     "iopub.status.busy": "2021-12-20T19:02:22.516797Z",
     "iopub.status.idle": "2021-12-20T19:04:43.434988Z",
     "shell.execute_reply": "2021-12-20T19:04:43.434283Z",
     "shell.execute_reply.started": "2021-12-20T19:02:22.517316Z"
    }
   },
   "outputs": [
    {
     "data": {
      "application/vnd.jupyter.widget-view+json": {
       "model_id": "a868a5eef60444c6a0d2491bf0f2ad45",
       "version_major": 2,
       "version_minor": 0
      },
      "text/plain": [
       "  0%|          | 0/237779 [00:00<?, ?it/s]"
      ]
     },
     "metadata": {},
     "output_type": "display_data"
    },
    {
     "name": "stdout",
     "output_type": "stream",
     "text": [
      "Original:  Могут ли в россельхозбанке дать в залог норковых шуб помогите пожалуйста\n",
      "Token IDs: [101, 22553, 23029, 309, 26673, 80686, 37489, 11637, 42572, 11827, 10448, 11569, 309, 53932, 19820, 11299, 53464, 20565, 330, 58675, 86074, 60338, 10740, 10291, 28704, 62848, 15294, 102]\n"
     ]
    }
   ],
   "source": [
    "# Tokenize all of the sentences and map the tokens to their word IDs.\n",
    "input_ids = []\n",
    "\n",
    "# For every sentence...\n",
    "for sent in tqdm(sentences):\n",
    "    # `encode` will:\n",
    "    #   (1) Tokenize the sentence.\n",
    "    #   (2) Prepend the `[CLS]` token to the start.\n",
    "    #   (3) Append the `[SEP]` token to the end.\n",
    "    #   (4) Map tokens to their IDs.\n",
    "    encoded_sent = tokenizer.encode(\n",
    "                        sent,                      # Sentence to encode.\n",
    "                        add_special_tokens=True,  # Add '[CLS]' and '[SEP]'\n",
    "\n",
    "                        # This function also supports truncation and conversion\n",
    "                        # to pytorch tensors, but we need to do padding, so we\n",
    "                        # can't use these features :( .\n",
    "                        # max_length = 128,          # Truncate all sentences.\n",
    "                        # return_tensors = 'pt',     # Return pytorch tensors.\n",
    "                   )\n",
    "\n",
    "    # Add the encoded sentence to the list.\n",
    "    input_ids.append(encoded_sent)\n",
    "\n",
    "# Print sentence 0, now as a list of IDs.\n",
    "print('Original: ', sentences[0])\n",
    "print('Token IDs:', input_ids[0])"
   ]
  },
  {
   "cell_type": "markdown",
   "metadata": {},
   "source": [
    "#### Паддинг"
   ]
  },
  {
   "cell_type": "code",
   "execution_count": 9,
   "metadata": {
    "execution": {
     "iopub.execute_input": "2021-12-20T19:04:47.769790Z",
     "iopub.status.busy": "2021-12-20T19:04:47.769533Z",
     "iopub.status.idle": "2021-12-20T19:04:47.804071Z",
     "shell.execute_reply": "2021-12-20T19:04:47.803149Z",
     "shell.execute_reply.started": "2021-12-20T19:04:47.769763Z"
    }
   },
   "outputs": [
    {
     "name": "stdout",
     "output_type": "stream",
     "text": [
      "Max sentence length: 97\n"
     ]
    }
   ],
   "source": [
    "print('Max sentence length:', max([len(sen) for sen in input_ids]))"
   ]
  },
  {
   "cell_type": "code",
   "execution_count": 10,
   "metadata": {
    "execution": {
     "iopub.execute_input": "2021-12-20T19:04:52.835649Z",
     "iopub.status.busy": "2021-12-20T19:04:52.835355Z",
     "iopub.status.idle": "2021-12-20T19:04:55.140753Z",
     "shell.execute_reply": "2021-12-20T19:04:55.140021Z",
     "shell.execute_reply.started": "2021-12-20T19:04:52.835621Z"
    }
   },
   "outputs": [
    {
     "name": "stdout",
     "output_type": "stream",
     "text": [
      "\n",
      "Padding/truncating all sentences to 97 values...\n",
      "\n",
      "Padding token: \"[PAD]\", ID: 0\n",
      "\n",
      "Done.\n"
     ]
    }
   ],
   "source": [
    "# Set the maximum sequence length to 97.\n",
    "MAX_LEN = 97\n",
    "\n",
    "print('\\nPadding/truncating all sentences to %d values...' % MAX_LEN)\n",
    "\n",
    "print('\\nPadding token: \"{:}\", ID: {:}'.format(tokenizer.pad_token,\n",
    "                                               tokenizer.pad_token_id))\n",
    "\n",
    "# Pad our input tokens with value 0.\n",
    "# \"post\" indicates that we want to pad and truncate at the end of the sequence,\n",
    "# as opposed to the beginning.\n",
    "input_ids = pad_sequences(input_ids, maxlen=MAX_LEN, dtype=\"long\",\n",
    "                          value=0, truncating=\"post\", padding=\"post\")\n",
    "\n",
    "print('\\nDone.')"
   ]
  },
  {
   "cell_type": "markdown",
   "metadata": {},
   "source": [
    "#### Attention-маски"
   ]
  },
  {
   "cell_type": "code",
   "execution_count": 11,
   "metadata": {
    "execution": {
     "iopub.execute_input": "2021-12-20T19:05:05.298639Z",
     "iopub.status.busy": "2021-12-20T19:05:05.298370Z",
     "iopub.status.idle": "2021-12-20T19:05:29.471699Z",
     "shell.execute_reply": "2021-12-20T19:05:29.470885Z",
     "shell.execute_reply.started": "2021-12-20T19:05:05.298610Z"
    }
   },
   "outputs": [
    {
     "data": {
      "application/vnd.jupyter.widget-view+json": {
       "model_id": "b83124bd8b384c76bf14509a56c9ddcf",
       "version_major": 2,
       "version_minor": 0
      },
      "text/plain": [
       "  0%|          | 0/237779 [00:00<?, ?it/s]"
      ]
     },
     "metadata": {},
     "output_type": "display_data"
    }
   ],
   "source": [
    "# Create attention masks\n",
    "attention_masks = []\n",
    "\n",
    "# For each sentence...\n",
    "for sent in tqdm(input_ids):\n",
    "\n",
    "    # Create the attention mask.\n",
    "    #   - If a token ID is 0, then it's padding, set the mask to 0.\n",
    "    #   - If a token ID is > 0, then it's a real token, set the mask to 1.\n",
    "    att_mask = [int(token_id > 0) for token_id in sent]\n",
    "\n",
    "    # Store the attention mask for this sentence.\n",
    "    attention_masks.append(att_mask)"
   ]
  },
  {
   "cell_type": "markdown",
   "metadata": {},
   "source": [
    "#### Делим датасет\n",
    "Тут будет финт ушами: нужно урезать обучающую выборку, чтобы не ждать выполнения кода до завтра, но не урезать валидационную выборку. Сократим трейновые данные в два раза (с 90% до 45% от общего объема)."
   ]
  },
  {
   "cell_type": "code",
   "execution_count": 12,
   "metadata": {
    "execution": {
     "iopub.execute_input": "2021-12-20T19:05:32.346581Z",
     "iopub.status.busy": "2021-12-20T19:05:32.346104Z",
     "iopub.status.idle": "2021-12-20T19:05:32.459466Z",
     "shell.execute_reply": "2021-12-20T19:05:32.458765Z",
     "shell.execute_reply.started": "2021-12-20T19:05:32.346546Z"
    }
   },
   "outputs": [],
   "source": [
    "# Use 45% for training and 10% for validation.\n",
    "train_inputs, val_inputs, train_labels, val_labels = \\\n",
    "    train_test_split(input_ids, labels, random_state=seed,\n",
    "                     test_size=0.1, train_size=0.45)\n",
    "\n",
    "# Do the same for the masks.\n",
    "train_masks, val_masks, _, _ = train_test_split(attention_masks, labels,\n",
    "                                                random_state=seed,\n",
    "                                                test_size=0.1,\n",
    "                                                train_size=0.45)"
   ]
  },
  {
   "cell_type": "markdown",
   "metadata": {},
   "source": [
    "#### Конвертация в тензоры"
   ]
  },
  {
   "cell_type": "code",
   "execution_count": 13,
   "metadata": {
    "execution": {
     "iopub.execute_input": "2021-12-20T19:05:45.495726Z",
     "iopub.status.busy": "2021-12-20T19:05:45.495423Z",
     "iopub.status.idle": "2021-12-20T19:05:47.097192Z",
     "shell.execute_reply": "2021-12-20T19:05:47.096388Z",
     "shell.execute_reply.started": "2021-12-20T19:05:45.495695Z"
    }
   },
   "outputs": [],
   "source": [
    "# Convert all inputs and labels into torch tensors,\n",
    "# the required datatype for our model.\n",
    "train_inputs = torch.tensor(train_inputs)\n",
    "val_inputs = torch.tensor(val_inputs)\n",
    "\n",
    "train_labels = torch.tensor(train_labels)\n",
    "val_labels = torch.tensor(val_labels)\n",
    "\n",
    "train_masks = torch.tensor(train_masks)\n",
    "val_masks = torch.tensor(val_masks)"
   ]
  },
  {
   "cell_type": "code",
   "execution_count": 14,
   "metadata": {
    "execution": {
     "iopub.execute_input": "2021-12-20T19:05:50.217530Z",
     "iopub.status.busy": "2021-12-20T19:05:50.216946Z",
     "iopub.status.idle": "2021-12-20T19:05:50.224150Z",
     "shell.execute_reply": "2021-12-20T19:05:50.223146Z",
     "shell.execute_reply.started": "2021-12-20T19:05:50.217486Z"
    }
   },
   "outputs": [],
   "source": [
    "# The DataLoader needs to know our batch size for training,\n",
    "# so we specify it here.\n",
    "# For fine-tuning BERT on a specific task,\n",
    "# the authors recommend a batch size of 16 or 32.\n",
    "\n",
    "batch_size = 32\n",
    "\n",
    "# Create the DataLoader for our training set.\n",
    "train_data = TensorDataset(train_inputs, train_masks, train_labels)\n",
    "train_sampler = RandomSampler(train_data)\n",
    "train_dataloader = DataLoader(train_data, sampler=train_sampler,\n",
    "                              batch_size=batch_size)\n",
    "\n",
    "# Create the DataLoader for our validation set.\n",
    "val_data = TensorDataset(val_inputs, val_masks, val_labels)\n",
    "val_sampler = SequentialSampler(val_data)\n",
    "val_dataloader = DataLoader(val_data, sampler=val_sampler,\n",
    "                            batch_size=batch_size)"
   ]
  },
  {
   "cell_type": "markdown",
   "metadata": {},
   "source": [
    "### Обучение"
   ]
  },
  {
   "cell_type": "code",
   "execution_count": 15,
   "metadata": {
    "execution": {
     "iopub.execute_input": "2021-12-20T19:06:16.287274Z",
     "iopub.status.busy": "2021-12-20T19:06:16.286743Z",
     "iopub.status.idle": "2021-12-20T19:06:44.346536Z",
     "shell.execute_reply": "2021-12-20T19:06:44.345864Z",
     "shell.execute_reply.started": "2021-12-20T19:06:16.287240Z"
    }
   },
   "outputs": [
    {
     "data": {
      "application/vnd.jupyter.widget-view+json": {
       "model_id": "a7494f8cdce74cd0814dadbfeecbab94",
       "version_major": 2,
       "version_minor": 0
      },
      "text/plain": [
       "Downloading:   0%|          | 0.00/641M [00:00<?, ?B/s]"
      ]
     },
     "metadata": {},
     "output_type": "display_data"
    },
    {
     "name": "stderr",
     "output_type": "stream",
     "text": [
      "Some weights of the model checkpoint at bert-base-multilingual-uncased were not used when initializing BertForSequenceClassification: ['cls.predictions.transform.LayerNorm.bias', 'cls.seq_relationship.bias', 'cls.predictions.transform.LayerNorm.weight', 'cls.predictions.bias', 'cls.predictions.transform.dense.weight', 'cls.seq_relationship.weight', 'cls.predictions.transform.dense.bias', 'cls.predictions.decoder.weight']\n",
      "- This IS expected if you are initializing BertForSequenceClassification from the checkpoint of a model trained on another task or with another architecture (e.g. initializing a BertForSequenceClassification model from a BertForPreTraining model).\n",
      "- This IS NOT expected if you are initializing BertForSequenceClassification from the checkpoint of a model that you expect to be exactly identical (initializing a BertForSequenceClassification model from a BertForSequenceClassification model).\n",
      "Some weights of BertForSequenceClassification were not initialized from the model checkpoint at bert-base-multilingual-uncased and are newly initialized: ['classifier.weight', 'classifier.bias']\n",
      "You should probably TRAIN this model on a down-stream task to be able to use it for predictions and inference.\n"
     ]
    },
    {
     "data": {
      "text/plain": [
       "BertForSequenceClassification(\n",
       "  (bert): BertModel(\n",
       "    (embeddings): BertEmbeddings(\n",
       "      (word_embeddings): Embedding(105879, 768, padding_idx=0)\n",
       "      (position_embeddings): Embedding(512, 768)\n",
       "      (token_type_embeddings): Embedding(2, 768)\n",
       "      (LayerNorm): LayerNorm((768,), eps=1e-12, elementwise_affine=True)\n",
       "      (dropout): Dropout(p=0.1, inplace=False)\n",
       "    )\n",
       "    (encoder): BertEncoder(\n",
       "      (layer): ModuleList(\n",
       "        (0): BertLayer(\n",
       "          (attention): BertAttention(\n",
       "            (self): BertSelfAttention(\n",
       "              (query): Linear(in_features=768, out_features=768, bias=True)\n",
       "              (key): Linear(in_features=768, out_features=768, bias=True)\n",
       "              (value): Linear(in_features=768, out_features=768, bias=True)\n",
       "              (dropout): Dropout(p=0.1, inplace=False)\n",
       "            )\n",
       "            (output): BertSelfOutput(\n",
       "              (dense): Linear(in_features=768, out_features=768, bias=True)\n",
       "              (LayerNorm): LayerNorm((768,), eps=1e-12, elementwise_affine=True)\n",
       "              (dropout): Dropout(p=0.1, inplace=False)\n",
       "            )\n",
       "          )\n",
       "          (intermediate): BertIntermediate(\n",
       "            (dense): Linear(in_features=768, out_features=3072, bias=True)\n",
       "          )\n",
       "          (output): BertOutput(\n",
       "            (dense): Linear(in_features=3072, out_features=768, bias=True)\n",
       "            (LayerNorm): LayerNorm((768,), eps=1e-12, elementwise_affine=True)\n",
       "            (dropout): Dropout(p=0.1, inplace=False)\n",
       "          )\n",
       "        )\n",
       "        (1): BertLayer(\n",
       "          (attention): BertAttention(\n",
       "            (self): BertSelfAttention(\n",
       "              (query): Linear(in_features=768, out_features=768, bias=True)\n",
       "              (key): Linear(in_features=768, out_features=768, bias=True)\n",
       "              (value): Linear(in_features=768, out_features=768, bias=True)\n",
       "              (dropout): Dropout(p=0.1, inplace=False)\n",
       "            )\n",
       "            (output): BertSelfOutput(\n",
       "              (dense): Linear(in_features=768, out_features=768, bias=True)\n",
       "              (LayerNorm): LayerNorm((768,), eps=1e-12, elementwise_affine=True)\n",
       "              (dropout): Dropout(p=0.1, inplace=False)\n",
       "            )\n",
       "          )\n",
       "          (intermediate): BertIntermediate(\n",
       "            (dense): Linear(in_features=768, out_features=3072, bias=True)\n",
       "          )\n",
       "          (output): BertOutput(\n",
       "            (dense): Linear(in_features=3072, out_features=768, bias=True)\n",
       "            (LayerNorm): LayerNorm((768,), eps=1e-12, elementwise_affine=True)\n",
       "            (dropout): Dropout(p=0.1, inplace=False)\n",
       "          )\n",
       "        )\n",
       "        (2): BertLayer(\n",
       "          (attention): BertAttention(\n",
       "            (self): BertSelfAttention(\n",
       "              (query): Linear(in_features=768, out_features=768, bias=True)\n",
       "              (key): Linear(in_features=768, out_features=768, bias=True)\n",
       "              (value): Linear(in_features=768, out_features=768, bias=True)\n",
       "              (dropout): Dropout(p=0.1, inplace=False)\n",
       "            )\n",
       "            (output): BertSelfOutput(\n",
       "              (dense): Linear(in_features=768, out_features=768, bias=True)\n",
       "              (LayerNorm): LayerNorm((768,), eps=1e-12, elementwise_affine=True)\n",
       "              (dropout): Dropout(p=0.1, inplace=False)\n",
       "            )\n",
       "          )\n",
       "          (intermediate): BertIntermediate(\n",
       "            (dense): Linear(in_features=768, out_features=3072, bias=True)\n",
       "          )\n",
       "          (output): BertOutput(\n",
       "            (dense): Linear(in_features=3072, out_features=768, bias=True)\n",
       "            (LayerNorm): LayerNorm((768,), eps=1e-12, elementwise_affine=True)\n",
       "            (dropout): Dropout(p=0.1, inplace=False)\n",
       "          )\n",
       "        )\n",
       "        (3): BertLayer(\n",
       "          (attention): BertAttention(\n",
       "            (self): BertSelfAttention(\n",
       "              (query): Linear(in_features=768, out_features=768, bias=True)\n",
       "              (key): Linear(in_features=768, out_features=768, bias=True)\n",
       "              (value): Linear(in_features=768, out_features=768, bias=True)\n",
       "              (dropout): Dropout(p=0.1, inplace=False)\n",
       "            )\n",
       "            (output): BertSelfOutput(\n",
       "              (dense): Linear(in_features=768, out_features=768, bias=True)\n",
       "              (LayerNorm): LayerNorm((768,), eps=1e-12, elementwise_affine=True)\n",
       "              (dropout): Dropout(p=0.1, inplace=False)\n",
       "            )\n",
       "          )\n",
       "          (intermediate): BertIntermediate(\n",
       "            (dense): Linear(in_features=768, out_features=3072, bias=True)\n",
       "          )\n",
       "          (output): BertOutput(\n",
       "            (dense): Linear(in_features=3072, out_features=768, bias=True)\n",
       "            (LayerNorm): LayerNorm((768,), eps=1e-12, elementwise_affine=True)\n",
       "            (dropout): Dropout(p=0.1, inplace=False)\n",
       "          )\n",
       "        )\n",
       "        (4): BertLayer(\n",
       "          (attention): BertAttention(\n",
       "            (self): BertSelfAttention(\n",
       "              (query): Linear(in_features=768, out_features=768, bias=True)\n",
       "              (key): Linear(in_features=768, out_features=768, bias=True)\n",
       "              (value): Linear(in_features=768, out_features=768, bias=True)\n",
       "              (dropout): Dropout(p=0.1, inplace=False)\n",
       "            )\n",
       "            (output): BertSelfOutput(\n",
       "              (dense): Linear(in_features=768, out_features=768, bias=True)\n",
       "              (LayerNorm): LayerNorm((768,), eps=1e-12, elementwise_affine=True)\n",
       "              (dropout): Dropout(p=0.1, inplace=False)\n",
       "            )\n",
       "          )\n",
       "          (intermediate): BertIntermediate(\n",
       "            (dense): Linear(in_features=768, out_features=3072, bias=True)\n",
       "          )\n",
       "          (output): BertOutput(\n",
       "            (dense): Linear(in_features=3072, out_features=768, bias=True)\n",
       "            (LayerNorm): LayerNorm((768,), eps=1e-12, elementwise_affine=True)\n",
       "            (dropout): Dropout(p=0.1, inplace=False)\n",
       "          )\n",
       "        )\n",
       "        (5): BertLayer(\n",
       "          (attention): BertAttention(\n",
       "            (self): BertSelfAttention(\n",
       "              (query): Linear(in_features=768, out_features=768, bias=True)\n",
       "              (key): Linear(in_features=768, out_features=768, bias=True)\n",
       "              (value): Linear(in_features=768, out_features=768, bias=True)\n",
       "              (dropout): Dropout(p=0.1, inplace=False)\n",
       "            )\n",
       "            (output): BertSelfOutput(\n",
       "              (dense): Linear(in_features=768, out_features=768, bias=True)\n",
       "              (LayerNorm): LayerNorm((768,), eps=1e-12, elementwise_affine=True)\n",
       "              (dropout): Dropout(p=0.1, inplace=False)\n",
       "            )\n",
       "          )\n",
       "          (intermediate): BertIntermediate(\n",
       "            (dense): Linear(in_features=768, out_features=3072, bias=True)\n",
       "          )\n",
       "          (output): BertOutput(\n",
       "            (dense): Linear(in_features=3072, out_features=768, bias=True)\n",
       "            (LayerNorm): LayerNorm((768,), eps=1e-12, elementwise_affine=True)\n",
       "            (dropout): Dropout(p=0.1, inplace=False)\n",
       "          )\n",
       "        )\n",
       "        (6): BertLayer(\n",
       "          (attention): BertAttention(\n",
       "            (self): BertSelfAttention(\n",
       "              (query): Linear(in_features=768, out_features=768, bias=True)\n",
       "              (key): Linear(in_features=768, out_features=768, bias=True)\n",
       "              (value): Linear(in_features=768, out_features=768, bias=True)\n",
       "              (dropout): Dropout(p=0.1, inplace=False)\n",
       "            )\n",
       "            (output): BertSelfOutput(\n",
       "              (dense): Linear(in_features=768, out_features=768, bias=True)\n",
       "              (LayerNorm): LayerNorm((768,), eps=1e-12, elementwise_affine=True)\n",
       "              (dropout): Dropout(p=0.1, inplace=False)\n",
       "            )\n",
       "          )\n",
       "          (intermediate): BertIntermediate(\n",
       "            (dense): Linear(in_features=768, out_features=3072, bias=True)\n",
       "          )\n",
       "          (output): BertOutput(\n",
       "            (dense): Linear(in_features=3072, out_features=768, bias=True)\n",
       "            (LayerNorm): LayerNorm((768,), eps=1e-12, elementwise_affine=True)\n",
       "            (dropout): Dropout(p=0.1, inplace=False)\n",
       "          )\n",
       "        )\n",
       "        (7): BertLayer(\n",
       "          (attention): BertAttention(\n",
       "            (self): BertSelfAttention(\n",
       "              (query): Linear(in_features=768, out_features=768, bias=True)\n",
       "              (key): Linear(in_features=768, out_features=768, bias=True)\n",
       "              (value): Linear(in_features=768, out_features=768, bias=True)\n",
       "              (dropout): Dropout(p=0.1, inplace=False)\n",
       "            )\n",
       "            (output): BertSelfOutput(\n",
       "              (dense): Linear(in_features=768, out_features=768, bias=True)\n",
       "              (LayerNorm): LayerNorm((768,), eps=1e-12, elementwise_affine=True)\n",
       "              (dropout): Dropout(p=0.1, inplace=False)\n",
       "            )\n",
       "          )\n",
       "          (intermediate): BertIntermediate(\n",
       "            (dense): Linear(in_features=768, out_features=3072, bias=True)\n",
       "          )\n",
       "          (output): BertOutput(\n",
       "            (dense): Linear(in_features=3072, out_features=768, bias=True)\n",
       "            (LayerNorm): LayerNorm((768,), eps=1e-12, elementwise_affine=True)\n",
       "            (dropout): Dropout(p=0.1, inplace=False)\n",
       "          )\n",
       "        )\n",
       "        (8): BertLayer(\n",
       "          (attention): BertAttention(\n",
       "            (self): BertSelfAttention(\n",
       "              (query): Linear(in_features=768, out_features=768, bias=True)\n",
       "              (key): Linear(in_features=768, out_features=768, bias=True)\n",
       "              (value): Linear(in_features=768, out_features=768, bias=True)\n",
       "              (dropout): Dropout(p=0.1, inplace=False)\n",
       "            )\n",
       "            (output): BertSelfOutput(\n",
       "              (dense): Linear(in_features=768, out_features=768, bias=True)\n",
       "              (LayerNorm): LayerNorm((768,), eps=1e-12, elementwise_affine=True)\n",
       "              (dropout): Dropout(p=0.1, inplace=False)\n",
       "            )\n",
       "          )\n",
       "          (intermediate): BertIntermediate(\n",
       "            (dense): Linear(in_features=768, out_features=3072, bias=True)\n",
       "          )\n",
       "          (output): BertOutput(\n",
       "            (dense): Linear(in_features=3072, out_features=768, bias=True)\n",
       "            (LayerNorm): LayerNorm((768,), eps=1e-12, elementwise_affine=True)\n",
       "            (dropout): Dropout(p=0.1, inplace=False)\n",
       "          )\n",
       "        )\n",
       "        (9): BertLayer(\n",
       "          (attention): BertAttention(\n",
       "            (self): BertSelfAttention(\n",
       "              (query): Linear(in_features=768, out_features=768, bias=True)\n",
       "              (key): Linear(in_features=768, out_features=768, bias=True)\n",
       "              (value): Linear(in_features=768, out_features=768, bias=True)\n",
       "              (dropout): Dropout(p=0.1, inplace=False)\n",
       "            )\n",
       "            (output): BertSelfOutput(\n",
       "              (dense): Linear(in_features=768, out_features=768, bias=True)\n",
       "              (LayerNorm): LayerNorm((768,), eps=1e-12, elementwise_affine=True)\n",
       "              (dropout): Dropout(p=0.1, inplace=False)\n",
       "            )\n",
       "          )\n",
       "          (intermediate): BertIntermediate(\n",
       "            (dense): Linear(in_features=768, out_features=3072, bias=True)\n",
       "          )\n",
       "          (output): BertOutput(\n",
       "            (dense): Linear(in_features=3072, out_features=768, bias=True)\n",
       "            (LayerNorm): LayerNorm((768,), eps=1e-12, elementwise_affine=True)\n",
       "            (dropout): Dropout(p=0.1, inplace=False)\n",
       "          )\n",
       "        )\n",
       "        (10): BertLayer(\n",
       "          (attention): BertAttention(\n",
       "            (self): BertSelfAttention(\n",
       "              (query): Linear(in_features=768, out_features=768, bias=True)\n",
       "              (key): Linear(in_features=768, out_features=768, bias=True)\n",
       "              (value): Linear(in_features=768, out_features=768, bias=True)\n",
       "              (dropout): Dropout(p=0.1, inplace=False)\n",
       "            )\n",
       "            (output): BertSelfOutput(\n",
       "              (dense): Linear(in_features=768, out_features=768, bias=True)\n",
       "              (LayerNorm): LayerNorm((768,), eps=1e-12, elementwise_affine=True)\n",
       "              (dropout): Dropout(p=0.1, inplace=False)\n",
       "            )\n",
       "          )\n",
       "          (intermediate): BertIntermediate(\n",
       "            (dense): Linear(in_features=768, out_features=3072, bias=True)\n",
       "          )\n",
       "          (output): BertOutput(\n",
       "            (dense): Linear(in_features=3072, out_features=768, bias=True)\n",
       "            (LayerNorm): LayerNorm((768,), eps=1e-12, elementwise_affine=True)\n",
       "            (dropout): Dropout(p=0.1, inplace=False)\n",
       "          )\n",
       "        )\n",
       "        (11): BertLayer(\n",
       "          (attention): BertAttention(\n",
       "            (self): BertSelfAttention(\n",
       "              (query): Linear(in_features=768, out_features=768, bias=True)\n",
       "              (key): Linear(in_features=768, out_features=768, bias=True)\n",
       "              (value): Linear(in_features=768, out_features=768, bias=True)\n",
       "              (dropout): Dropout(p=0.1, inplace=False)\n",
       "            )\n",
       "            (output): BertSelfOutput(\n",
       "              (dense): Linear(in_features=768, out_features=768, bias=True)\n",
       "              (LayerNorm): LayerNorm((768,), eps=1e-12, elementwise_affine=True)\n",
       "              (dropout): Dropout(p=0.1, inplace=False)\n",
       "            )\n",
       "          )\n",
       "          (intermediate): BertIntermediate(\n",
       "            (dense): Linear(in_features=768, out_features=3072, bias=True)\n",
       "          )\n",
       "          (output): BertOutput(\n",
       "            (dense): Linear(in_features=3072, out_features=768, bias=True)\n",
       "            (LayerNorm): LayerNorm((768,), eps=1e-12, elementwise_affine=True)\n",
       "            (dropout): Dropout(p=0.1, inplace=False)\n",
       "          )\n",
       "        )\n",
       "      )\n",
       "    )\n",
       "    (pooler): BertPooler(\n",
       "      (dense): Linear(in_features=768, out_features=768, bias=True)\n",
       "      (activation): Tanh()\n",
       "    )\n",
       "  )\n",
       "  (dropout): Dropout(p=0.1, inplace=False)\n",
       "  (classifier): Linear(in_features=768, out_features=5, bias=True)\n",
       ")"
      ]
     },
     "execution_count": 15,
     "metadata": {},
     "output_type": "execute_result"
    }
   ],
   "source": [
    "# Load BertForSequenceClassification, the pretrained BERT model with a single\n",
    "# linear classification layer on top.\n",
    "model = BertForSequenceClassification.from_pretrained(\n",
    "    \"bert-base-multilingual-uncased\",  # 12-layer model with an uncased vocab\n",
    "    num_labels=len(data.category.unique()),  # The number of output labels\n",
    "    output_attentions=False,  # Whether the model returns attentions weights.\n",
    "    output_hidden_states=False,  # Whether the model returns all hidden-states.\n",
    ")\n",
    "\n",
    "# Tell pytorch to run this model on the GPU.\n",
    "model.cuda()"
   ]
  },
  {
   "cell_type": "code",
   "execution_count": 16,
   "metadata": {
    "execution": {
     "iopub.execute_input": "2021-12-20T19:06:51.395752Z",
     "iopub.status.busy": "2021-12-20T19:06:51.395494Z",
     "iopub.status.idle": "2021-12-20T19:06:51.402277Z",
     "shell.execute_reply": "2021-12-20T19:06:51.401442Z",
     "shell.execute_reply.started": "2021-12-20T19:06:51.395725Z"
    }
   },
   "outputs": [],
   "source": [
    "b = model.bert.pooler.dense.weight\n",
    "c = model.classifier.weight\n",
    "b = b.cpu().detach().numpy()\n",
    "c = c.cpu().detach().numpy()"
   ]
  },
  {
   "cell_type": "code",
   "execution_count": 17,
   "metadata": {
    "execution": {
     "iopub.execute_input": "2021-12-20T19:06:54.540577Z",
     "iopub.status.busy": "2021-12-20T19:06:54.540312Z",
     "iopub.status.idle": "2021-12-20T19:06:54.556188Z",
     "shell.execute_reply": "2021-12-20T19:06:54.555481Z",
     "shell.execute_reply.started": "2021-12-20T19:06:54.540548Z"
    }
   },
   "outputs": [
    {
     "name": "stdout",
     "output_type": "stream",
     "text": [
      "The BERT model has 201 different named parameters.\n",
      "\n",
      "==== Embedding Layer ====\n",
      "\n",
      "bert.embeddings.word_embeddings.weight                  (105879, 768)\n",
      "bert.embeddings.position_embeddings.weight                (512, 768)\n",
      "bert.embeddings.token_type_embeddings.weight                (2, 768)\n",
      "bert.embeddings.LayerNorm.weight                              (768,)\n",
      "bert.embeddings.LayerNorm.bias                                (768,)\n",
      "\n",
      "==== First Transformer ====\n",
      "\n",
      "bert.encoder.layer.0.attention.self.query.weight          (768, 768)\n",
      "bert.encoder.layer.0.attention.self.query.bias                (768,)\n",
      "bert.encoder.layer.0.attention.self.key.weight            (768, 768)\n",
      "bert.encoder.layer.0.attention.self.key.bias                  (768,)\n",
      "bert.encoder.layer.0.attention.self.value.weight          (768, 768)\n",
      "bert.encoder.layer.0.attention.self.value.bias                (768,)\n",
      "bert.encoder.layer.0.attention.output.dense.weight        (768, 768)\n",
      "bert.encoder.layer.0.attention.output.dense.bias              (768,)\n",
      "bert.encoder.layer.0.attention.output.LayerNorm.weight        (768,)\n",
      "bert.encoder.layer.0.attention.output.LayerNorm.bias          (768,)\n",
      "bert.encoder.layer.0.intermediate.dense.weight           (3072, 768)\n",
      "bert.encoder.layer.0.intermediate.dense.bias                 (3072,)\n",
      "bert.encoder.layer.0.output.dense.weight                 (768, 3072)\n",
      "bert.encoder.layer.0.output.dense.bias                        (768,)\n",
      "bert.encoder.layer.0.output.LayerNorm.weight                  (768,)\n",
      "bert.encoder.layer.0.output.LayerNorm.bias                    (768,)\n",
      "\n",
      "==== Output Layer ====\n",
      "\n",
      "bert.pooler.dense.weight                                  (768, 768)\n",
      "bert.pooler.dense.bias                                        (768,)\n",
      "classifier.weight                                           (5, 768)\n",
      "classifier.bias                                                 (5,)\n"
     ]
    }
   ],
   "source": [
    "# Get all of the model's parameters as a list of tuples.\n",
    "params = list(model.named_parameters())\n",
    "\n",
    "print(\n",
    "    'The BERT model has {:} different named parameters.\\n'.format(\n",
    "        len(params)))\n",
    "\n",
    "print('==== Embedding Layer ====\\n')\n",
    "\n",
    "for p in params[0:5]:\n",
    "    print(\"{:<55} {:>12}\".format(p[0], str(tuple(p[1].size()))))\n",
    "\n",
    "print('\\n==== First Transformer ====\\n')\n",
    "\n",
    "for p in params[5:21]:\n",
    "    print(\"{:<55} {:>12}\".format(p[0], str(tuple(p[1].size()))))\n",
    "\n",
    "print('\\n==== Output Layer ====\\n')\n",
    "\n",
    "for p in params[-4:]:\n",
    "    print(\"{:<55} {:>12}\".format(p[0], str(tuple(p[1].size()))))"
   ]
  },
  {
   "cell_type": "markdown",
   "metadata": {},
   "source": [
    "#### Optimizer & Scheduler"
   ]
  },
  {
   "cell_type": "code",
   "execution_count": 18,
   "metadata": {
    "execution": {
     "iopub.execute_input": "2021-12-20T19:07:00.245055Z",
     "iopub.status.busy": "2021-12-20T19:07:00.244269Z",
     "iopub.status.idle": "2021-12-20T19:07:00.252966Z",
     "shell.execute_reply": "2021-12-20T19:07:00.252240Z",
     "shell.execute_reply.started": "2021-12-20T19:07:00.245010Z"
    }
   },
   "outputs": [],
   "source": [
    "# AdamW is a class from the huggingface library (as opposed to pytorch)\n",
    "# I believe the 'W' stands for 'Weight Decay fix\"\n",
    "optimizer = AdamW(model.parameters(),\n",
    "                  lr=2e-5,  # args.learning_rate - default is 5e-5\n",
    "                  eps=1e-8  # args.adam_epsilon  - default is 1e-8\n",
    "                  )"
   ]
  },
  {
   "cell_type": "code",
   "execution_count": 19,
   "metadata": {
    "execution": {
     "iopub.execute_input": "2021-12-20T19:07:08.977245Z",
     "iopub.status.busy": "2021-12-20T19:07:08.976701Z",
     "iopub.status.idle": "2021-12-20T19:07:08.981531Z",
     "shell.execute_reply": "2021-12-20T19:07:08.980852Z",
     "shell.execute_reply.started": "2021-12-20T19:07:08.977206Z"
    }
   },
   "outputs": [],
   "source": [
    "# Number of training epochs (authors recommend between 2 and 4)\n",
    "epochs = 3\n",
    "\n",
    "# Total number of training steps is number of batches * number of epochs.\n",
    "total_steps = len(train_dataloader) * epochs\n",
    "\n",
    "# Create the learning rate scheduler.\n",
    "scheduler = get_linear_schedule_with_warmup(optimizer,\n",
    "                                            num_warmup_steps=100,\n",
    "                                            num_training_steps=total_steps)"
   ]
  },
  {
   "cell_type": "markdown",
   "metadata": {},
   "source": [
    "### Training loop\n",
    "#### Подсчет ошибки\n",
    "В оригинальной тетрадке accuracy, мы возьмем f1, чтобы метрики были сравнимы."
   ]
  },
  {
   "cell_type": "code",
   "execution_count": 20,
   "metadata": {
    "execution": {
     "iopub.execute_input": "2021-12-20T19:07:15.837554Z",
     "iopub.status.busy": "2021-12-20T19:07:15.837291Z",
     "iopub.status.idle": "2021-12-20T19:07:15.844093Z",
     "shell.execute_reply": "2021-12-20T19:07:15.843357Z",
     "shell.execute_reply.started": "2021-12-20T19:07:15.837524Z"
    }
   },
   "outputs": [],
   "source": [
    "# Function to calculate the f1 of our predictions vs labels\n",
    "def flat_f1_score(preds, labels):\n",
    "    pred_flat = np.argmax(preds, axis=1).flatten()\n",
    "    labels_flat = labels.flatten()\n",
    "    return f1_score(pred_flat, labels_flat, average='micro')"
   ]
  },
  {
   "cell_type": "code",
   "execution_count": 21,
   "metadata": {
    "execution": {
     "iopub.execute_input": "2021-12-20T19:07:22.446385Z",
     "iopub.status.busy": "2021-12-20T19:07:22.446122Z",
     "iopub.status.idle": "2021-12-20T19:07:22.451297Z",
     "shell.execute_reply": "2021-12-20T19:07:22.450577Z",
     "shell.execute_reply.started": "2021-12-20T19:07:22.446357Z"
    }
   },
   "outputs": [],
   "source": [
    "def format_time(elapsed):\n",
    "    \"\"\"\n",
    "    Takes a time in seconds and returns a string hh:mm:ss\n",
    "    \"\"\"\n",
    "    # Round to the nearest second.\n",
    "    elapsed_rounded = int(round((elapsed)))\n",
    "\n",
    "    # Format as hh:mm:ss\n",
    "    return str(datetime.timedelta(seconds=elapsed_rounded))"
   ]
  },
  {
   "cell_type": "code",
   "execution_count": 22,
   "metadata": {
    "execution": {
     "iopub.execute_input": "2021-12-20T19:07:26.309404Z",
     "iopub.status.busy": "2021-12-20T19:07:26.308851Z",
     "iopub.status.idle": "2021-12-20T19:07:26.314566Z",
     "shell.execute_reply": "2021-12-20T19:07:26.313904Z",
     "shell.execute_reply.started": "2021-12-20T19:07:26.309366Z"
    }
   },
   "outputs": [],
   "source": [
    "device = torch.device('cuda') if torch.cuda.is_available()\\\n",
    "    else torch.device('cpu')"
   ]
  },
  {
   "cell_type": "code",
   "execution_count": 24,
   "metadata": {
    "execution": {
     "iopub.execute_input": "2021-12-20T19:26:38.468343Z",
     "iopub.status.busy": "2021-12-20T19:26:38.467944Z",
     "iopub.status.idle": "2021-12-20T20:23:39.392293Z",
     "shell.execute_reply": "2021-12-20T20:23:39.391519Z",
     "shell.execute_reply.started": "2021-12-20T19:26:38.468309Z"
    }
   },
   "outputs": [
    {
     "name": "stdout",
     "output_type": "stream",
     "text": [
      "\n",
      "======== Epoch 1 / 3 ========\n",
      "Training...\n",
      "  Batch    40  of  3,344.    Elapsed: 0:00:13.\n",
      "  Batch    80  of  3,344.    Elapsed: 0:00:26.\n",
      "  Batch   120  of  3,344.    Elapsed: 0:00:38.\n",
      "  Batch   160  of  3,344.    Elapsed: 0:00:51.\n",
      "  Batch   200  of  3,344.    Elapsed: 0:01:04.\n",
      "  Batch   240  of  3,344.    Elapsed: 0:01:17.\n",
      "  Batch   280  of  3,344.    Elapsed: 0:01:29.\n",
      "  Batch   320  of  3,344.    Elapsed: 0:01:42.\n",
      "  Batch   360  of  3,344.    Elapsed: 0:01:55.\n",
      "  Batch   400  of  3,344.    Elapsed: 0:02:08.\n",
      "  Batch   440  of  3,344.    Elapsed: 0:02:21.\n",
      "  Batch   480  of  3,344.    Elapsed: 0:02:33.\n",
      "  Batch   520  of  3,344.    Elapsed: 0:02:46.\n",
      "  Batch   560  of  3,344.    Elapsed: 0:02:59.\n",
      "  Batch   600  of  3,344.    Elapsed: 0:03:12.\n",
      "  Batch   640  of  3,344.    Elapsed: 0:03:24.\n",
      "  Batch   680  of  3,344.    Elapsed: 0:03:37.\n",
      "  Batch   720  of  3,344.    Elapsed: 0:03:50.\n",
      "  Batch   760  of  3,344.    Elapsed: 0:04:03.\n",
      "  Batch   800  of  3,344.    Elapsed: 0:04:15.\n",
      "  Batch   840  of  3,344.    Elapsed: 0:04:28.\n",
      "  Batch   880  of  3,344.    Elapsed: 0:04:41.\n",
      "  Batch   920  of  3,344.    Elapsed: 0:04:54.\n",
      "  Batch   960  of  3,344.    Elapsed: 0:05:06.\n",
      "  Batch 1,000  of  3,344.    Elapsed: 0:05:19.\n",
      "  Batch 1,040  of  3,344.    Elapsed: 0:05:32.\n",
      "  Batch 1,080  of  3,344.    Elapsed: 0:05:45.\n",
      "  Batch 1,120  of  3,344.    Elapsed: 0:05:57.\n",
      "  Batch 1,160  of  3,344.    Elapsed: 0:06:10.\n",
      "  Batch 1,200  of  3,344.    Elapsed: 0:06:23.\n",
      "  Batch 1,240  of  3,344.    Elapsed: 0:06:36.\n",
      "  Batch 1,280  of  3,344.    Elapsed: 0:06:48.\n",
      "  Batch 1,320  of  3,344.    Elapsed: 0:07:01.\n",
      "  Batch 1,360  of  3,344.    Elapsed: 0:07:14.\n",
      "  Batch 1,400  of  3,344.    Elapsed: 0:07:27.\n",
      "  Batch 1,440  of  3,344.    Elapsed: 0:07:39.\n",
      "  Batch 1,480  of  3,344.    Elapsed: 0:07:52.\n",
      "  Batch 1,520  of  3,344.    Elapsed: 0:08:05.\n",
      "  Batch 1,560  of  3,344.    Elapsed: 0:08:18.\n",
      "  Batch 1,600  of  3,344.    Elapsed: 0:08:30.\n",
      "  Batch 1,640  of  3,344.    Elapsed: 0:08:43.\n",
      "  Batch 1,680  of  3,344.    Elapsed: 0:08:56.\n",
      "  Batch 1,720  of  3,344.    Elapsed: 0:09:09.\n",
      "  Batch 1,760  of  3,344.    Elapsed: 0:09:21.\n",
      "  Batch 1,800  of  3,344.    Elapsed: 0:09:34.\n",
      "  Batch 1,840  of  3,344.    Elapsed: 0:09:47.\n",
      "  Batch 1,880  of  3,344.    Elapsed: 0:10:00.\n",
      "  Batch 1,920  of  3,344.    Elapsed: 0:10:12.\n",
      "  Batch 1,960  of  3,344.    Elapsed: 0:10:25.\n",
      "  Batch 2,000  of  3,344.    Elapsed: 0:10:38.\n",
      "  Batch 2,040  of  3,344.    Elapsed: 0:10:51.\n",
      "  Batch 2,080  of  3,344.    Elapsed: 0:11:03.\n",
      "  Batch 2,120  of  3,344.    Elapsed: 0:11:16.\n",
      "  Batch 2,160  of  3,344.    Elapsed: 0:11:29.\n",
      "  Batch 2,200  of  3,344.    Elapsed: 0:11:42.\n",
      "  Batch 2,240  of  3,344.    Elapsed: 0:11:54.\n",
      "  Batch 2,280  of  3,344.    Elapsed: 0:12:07.\n",
      "  Batch 2,320  of  3,344.    Elapsed: 0:12:20.\n",
      "  Batch 2,360  of  3,344.    Elapsed: 0:12:33.\n",
      "  Batch 2,400  of  3,344.    Elapsed: 0:12:46.\n",
      "  Batch 2,440  of  3,344.    Elapsed: 0:12:58.\n",
      "  Batch 2,480  of  3,344.    Elapsed: 0:13:11.\n",
      "  Batch 2,520  of  3,344.    Elapsed: 0:13:24.\n",
      "  Batch 2,560  of  3,344.    Elapsed: 0:13:37.\n",
      "  Batch 2,600  of  3,344.    Elapsed: 0:13:50.\n",
      "  Batch 2,640  of  3,344.    Elapsed: 0:14:02.\n",
      "  Batch 2,680  of  3,344.    Elapsed: 0:14:15.\n",
      "  Batch 2,720  of  3,344.    Elapsed: 0:14:28.\n",
      "  Batch 2,760  of  3,344.    Elapsed: 0:14:41.\n",
      "  Batch 2,800  of  3,344.    Elapsed: 0:14:53.\n",
      "  Batch 2,840  of  3,344.    Elapsed: 0:15:06.\n",
      "  Batch 2,880  of  3,344.    Elapsed: 0:15:19.\n",
      "  Batch 2,920  of  3,344.    Elapsed: 0:15:32.\n",
      "  Batch 2,960  of  3,344.    Elapsed: 0:15:45.\n",
      "  Batch 3,000  of  3,344.    Elapsed: 0:15:57.\n",
      "  Batch 3,040  of  3,344.    Elapsed: 0:16:10.\n",
      "  Batch 3,080  of  3,344.    Elapsed: 0:16:23.\n",
      "  Batch 3,120  of  3,344.    Elapsed: 0:16:36.\n",
      "  Batch 3,160  of  3,344.    Elapsed: 0:16:48.\n",
      "  Batch 3,200  of  3,344.    Elapsed: 0:17:01.\n",
      "  Batch 3,240  of  3,344.    Elapsed: 0:17:14.\n",
      "  Batch 3,280  of  3,344.    Elapsed: 0:17:27.\n",
      "  Batch 3,320  of  3,344.    Elapsed: 0:17:40.\n",
      "\n",
      "  Average training loss: 0.40\n",
      "  Training epcoh took: 0:17:47\n",
      "\n",
      "Running Validation...\n",
      "  F1 score: 0.84\n",
      "  Validation took: 0:01:13\n",
      "\n",
      "======== Epoch 2 / 3 ========\n",
      "Training...\n",
      "  Batch    40  of  3,344.    Elapsed: 0:00:13.\n",
      "  Batch    80  of  3,344.    Elapsed: 0:00:26.\n",
      "  Batch   120  of  3,344.    Elapsed: 0:00:38.\n",
      "  Batch   160  of  3,344.    Elapsed: 0:00:51.\n",
      "  Batch   200  of  3,344.    Elapsed: 0:01:04.\n",
      "  Batch   240  of  3,344.    Elapsed: 0:01:17.\n",
      "  Batch   280  of  3,344.    Elapsed: 0:01:29.\n",
      "  Batch   320  of  3,344.    Elapsed: 0:01:42.\n",
      "  Batch   360  of  3,344.    Elapsed: 0:01:55.\n",
      "  Batch   400  of  3,344.    Elapsed: 0:02:08.\n",
      "  Batch   440  of  3,344.    Elapsed: 0:02:20.\n",
      "  Batch   480  of  3,344.    Elapsed: 0:02:33.\n",
      "  Batch   520  of  3,344.    Elapsed: 0:02:46.\n",
      "  Batch   560  of  3,344.    Elapsed: 0:02:59.\n",
      "  Batch   600  of  3,344.    Elapsed: 0:03:11.\n",
      "  Batch   640  of  3,344.    Elapsed: 0:03:24.\n",
      "  Batch   680  of  3,344.    Elapsed: 0:03:37.\n",
      "  Batch   720  of  3,344.    Elapsed: 0:03:50.\n",
      "  Batch   760  of  3,344.    Elapsed: 0:04:03.\n",
      "  Batch   800  of  3,344.    Elapsed: 0:04:15.\n",
      "  Batch   840  of  3,344.    Elapsed: 0:04:28.\n",
      "  Batch   920  of  3,344.    Elapsed: 0:04:54.\n",
      "  Batch   960  of  3,344.    Elapsed: 0:05:07.\n",
      "  Batch 1,000  of  3,344.    Elapsed: 0:05:19.\n",
      "  Batch 1,040  of  3,344.    Elapsed: 0:05:32.\n",
      "  Batch 1,080  of  3,344.    Elapsed: 0:05:45.\n",
      "  Batch 1,120  of  3,344.    Elapsed: 0:05:58.\n",
      "  Batch 1,160  of  3,344.    Elapsed: 0:06:11.\n",
      "  Batch 1,200  of  3,344.    Elapsed: 0:06:23.\n",
      "  Batch 1,240  of  3,344.    Elapsed: 0:06:36.\n",
      "  Batch 1,280  of  3,344.    Elapsed: 0:06:49.\n",
      "  Batch 1,320  of  3,344.    Elapsed: 0:07:02.\n",
      "  Batch 1,360  of  3,344.    Elapsed: 0:07:14.\n",
      "  Batch 1,400  of  3,344.    Elapsed: 0:07:27.\n",
      "  Batch 1,440  of  3,344.    Elapsed: 0:07:40.\n",
      "  Batch 1,480  of  3,344.    Elapsed: 0:07:53.\n",
      "  Batch 1,520  of  3,344.    Elapsed: 0:08:05.\n",
      "  Batch 1,560  of  3,344.    Elapsed: 0:08:18.\n",
      "  Batch 1,600  of  3,344.    Elapsed: 0:08:31.\n",
      "  Batch 1,640  of  3,344.    Elapsed: 0:08:44.\n",
      "  Batch 1,680  of  3,344.    Elapsed: 0:08:57.\n",
      "  Batch 1,720  of  3,344.    Elapsed: 0:09:09.\n",
      "  Batch 1,760  of  3,344.    Elapsed: 0:09:22.\n",
      "  Batch 1,800  of  3,344.    Elapsed: 0:09:35.\n",
      "  Batch 1,840  of  3,344.    Elapsed: 0:09:48.\n",
      "  Batch 1,880  of  3,344.    Elapsed: 0:10:00.\n",
      "  Batch 1,920  of  3,344.    Elapsed: 0:10:13.\n",
      "  Batch 1,960  of  3,344.    Elapsed: 0:10:26.\n",
      "  Batch 2,000  of  3,344.    Elapsed: 0:10:39.\n",
      "  Batch 2,040  of  3,344.    Elapsed: 0:10:51.\n",
      "  Batch 2,080  of  3,344.    Elapsed: 0:11:04.\n",
      "  Batch 2,120  of  3,344.    Elapsed: 0:11:17.\n",
      "  Batch 2,160  of  3,344.    Elapsed: 0:11:30.\n",
      "  Batch 2,200  of  3,344.    Elapsed: 0:11:42.\n",
      "  Batch 2,240  of  3,344.    Elapsed: 0:11:55.\n",
      "  Batch 2,280  of  3,344.    Elapsed: 0:12:08.\n",
      "  Batch 2,320  of  3,344.    Elapsed: 0:12:21.\n",
      "  Batch 2,360  of  3,344.    Elapsed: 0:12:33.\n",
      "  Batch 2,400  of  3,344.    Elapsed: 0:12:46.\n",
      "  Batch 2,440  of  3,344.    Elapsed: 0:12:59.\n",
      "  Batch 2,480  of  3,344.    Elapsed: 0:13:12.\n",
      "  Batch 2,520  of  3,344.    Elapsed: 0:13:25.\n",
      "  Batch 2,560  of  3,344.    Elapsed: 0:13:37.\n",
      "  Batch 2,600  of  3,344.    Elapsed: 0:13:50.\n",
      "  Batch 2,640  of  3,344.    Elapsed: 0:14:03.\n",
      "  Batch 2,680  of  3,344.    Elapsed: 0:14:16.\n",
      "  Batch 2,720  of  3,344.    Elapsed: 0:14:28.\n",
      "  Batch 2,760  of  3,344.    Elapsed: 0:14:41.\n",
      "  Batch 2,800  of  3,344.    Elapsed: 0:14:54.\n",
      "  Batch 2,840  of  3,344.    Elapsed: 0:15:07.\n",
      "  Batch 2,880  of  3,344.    Elapsed: 0:15:19.\n",
      "  Batch 2,920  of  3,344.    Elapsed: 0:15:32.\n",
      "  Batch 2,960  of  3,344.    Elapsed: 0:15:45.\n",
      "  Batch 3,000  of  3,344.    Elapsed: 0:15:58.\n",
      "  Batch 3,040  of  3,344.    Elapsed: 0:16:11.\n",
      "  Batch 3,080  of  3,344.    Elapsed: 0:16:23.\n",
      "  Batch 3,120  of  3,344.    Elapsed: 0:16:36.\n",
      "  Batch 3,160  of  3,344.    Elapsed: 0:16:49.\n",
      "  Batch 3,200  of  3,344.    Elapsed: 0:17:02.\n",
      "  Batch 3,240  of  3,344.    Elapsed: 0:17:14.\n",
      "  Batch 3,280  of  3,344.    Elapsed: 0:17:27.\n",
      "  Batch 3,320  of  3,344.    Elapsed: 0:17:40.\n",
      "\n",
      "  Average training loss: 0.31\n",
      "  Training epcoh took: 0:17:47\n",
      "\n",
      "Running Validation...\n",
      "  F1 score: 0.84\n",
      "  Validation took: 0:01:13\n",
      "\n",
      "======== Epoch 3 / 3 ========\n",
      "Training...\n",
      "  Batch    40  of  3,344.    Elapsed: 0:00:13.\n",
      "  Batch    80  of  3,344.    Elapsed: 0:00:26.\n",
      "  Batch   120  of  3,344.    Elapsed: 0:00:38.\n",
      "  Batch   160  of  3,344.    Elapsed: 0:00:51.\n",
      "  Batch   200  of  3,344.    Elapsed: 0:01:04.\n",
      "  Batch   240  of  3,344.    Elapsed: 0:01:17.\n",
      "  Batch   280  of  3,344.    Elapsed: 0:01:29.\n",
      "  Batch   320  of  3,344.    Elapsed: 0:01:42.\n",
      "  Batch   360  of  3,344.    Elapsed: 0:01:55.\n",
      "  Batch   400  of  3,344.    Elapsed: 0:02:08.\n",
      "  Batch   440  of  3,344.    Elapsed: 0:02:20.\n",
      "  Batch   480  of  3,344.    Elapsed: 0:02:33.\n",
      "  Batch   520  of  3,344.    Elapsed: 0:02:46.\n",
      "  Batch   560  of  3,344.    Elapsed: 0:02:59.\n",
      "  Batch   600  of  3,344.    Elapsed: 0:03:11.\n",
      "  Batch   640  of  3,344.    Elapsed: 0:03:24.\n",
      "  Batch   680  of  3,344.    Elapsed: 0:03:37.\n",
      "  Batch   720  of  3,344.    Elapsed: 0:03:50.\n",
      "  Batch   760  of  3,344.    Elapsed: 0:04:02.\n",
      "  Batch   800  of  3,344.    Elapsed: 0:04:15.\n",
      "  Batch   840  of  3,344.    Elapsed: 0:04:28.\n",
      "  Batch   880  of  3,344.    Elapsed: 0:04:41.\n",
      "  Batch   920  of  3,344.    Elapsed: 0:04:53.\n",
      "  Batch   960  of  3,344.    Elapsed: 0:05:06.\n",
      "  Batch 1,000  of  3,344.    Elapsed: 0:05:19.\n",
      "  Batch 1,040  of  3,344.    Elapsed: 0:05:32.\n",
      "  Batch 1,080  of  3,344.    Elapsed: 0:05:44.\n",
      "  Batch 1,120  of  3,344.    Elapsed: 0:05:57.\n",
      "  Batch 1,160  of  3,344.    Elapsed: 0:06:10.\n",
      "  Batch 1,200  of  3,344.    Elapsed: 0:06:23.\n",
      "  Batch 1,240  of  3,344.    Elapsed: 0:06:35.\n",
      "  Batch 1,280  of  3,344.    Elapsed: 0:06:48.\n",
      "  Batch 1,320  of  3,344.    Elapsed: 0:07:01.\n",
      "  Batch 1,360  of  3,344.    Elapsed: 0:07:14.\n",
      "  Batch 1,400  of  3,344.    Elapsed: 0:07:27.\n",
      "  Batch 1,440  of  3,344.    Elapsed: 0:07:39.\n",
      "  Batch 1,480  of  3,344.    Elapsed: 0:07:52.\n",
      "  Batch 1,520  of  3,344.    Elapsed: 0:08:05.\n",
      "  Batch 1,560  of  3,344.    Elapsed: 0:08:17.\n",
      "  Batch 1,600  of  3,344.    Elapsed: 0:08:30.\n",
      "  Batch 1,640  of  3,344.    Elapsed: 0:08:43.\n",
      "  Batch 1,680  of  3,344.    Elapsed: 0:08:56.\n",
      "  Batch 1,720  of  3,344.    Elapsed: 0:09:08.\n",
      "  Batch 1,760  of  3,344.    Elapsed: 0:09:21.\n",
      "  Batch 1,800  of  3,344.    Elapsed: 0:09:34.\n",
      "  Batch 1,840  of  3,344.    Elapsed: 0:09:47.\n",
      "  Batch 1,880  of  3,344.    Elapsed: 0:09:59.\n",
      "  Batch 1,920  of  3,344.    Elapsed: 0:10:12.\n",
      "  Batch 1,960  of  3,344.    Elapsed: 0:10:25.\n",
      "  Batch 2,000  of  3,344.    Elapsed: 0:10:38.\n",
      "  Batch 2,040  of  3,344.    Elapsed: 0:10:50.\n",
      "  Batch 2,080  of  3,344.    Elapsed: 0:11:03.\n",
      "  Batch 2,120  of  3,344.    Elapsed: 0:11:16.\n",
      "  Batch 2,160  of  3,344.    Elapsed: 0:11:29.\n",
      "  Batch 2,200  of  3,344.    Elapsed: 0:11:41.\n",
      "  Batch 2,240  of  3,344.    Elapsed: 0:11:54.\n",
      "  Batch 2,280  of  3,344.    Elapsed: 0:12:07.\n",
      "  Batch 2,320  of  3,344.    Elapsed: 0:12:20.\n",
      "  Batch 2,360  of  3,344.    Elapsed: 0:12:32.\n",
      "  Batch 2,400  of  3,344.    Elapsed: 0:12:45.\n",
      "  Batch 2,440  of  3,344.    Elapsed: 0:12:58.\n",
      "  Batch 2,480  of  3,344.    Elapsed: 0:13:11.\n",
      "  Batch 2,520  of  3,344.    Elapsed: 0:13:24.\n",
      "  Batch 2,560  of  3,344.    Elapsed: 0:13:36.\n",
      "  Batch 2,600  of  3,344.    Elapsed: 0:13:49.\n",
      "  Batch 2,640  of  3,344.    Elapsed: 0:14:02.\n",
      "  Batch 2,680  of  3,344.    Elapsed: 0:14:15.\n",
      "  Batch 2,720  of  3,344.    Elapsed: 0:14:27.\n",
      "  Batch 2,760  of  3,344.    Elapsed: 0:14:40.\n",
      "  Batch 2,800  of  3,344.    Elapsed: 0:14:53.\n",
      "  Batch 2,840  of  3,344.    Elapsed: 0:15:06.\n",
      "  Batch 2,880  of  3,344.    Elapsed: 0:15:18.\n",
      "  Batch 2,920  of  3,344.    Elapsed: 0:15:31.\n",
      "  Batch 2,960  of  3,344.    Elapsed: 0:15:44.\n",
      "  Batch 3,000  of  3,344.    Elapsed: 0:15:57.\n",
      "  Batch 3,040  of  3,344.    Elapsed: 0:16:09.\n",
      "  Batch 3,080  of  3,344.    Elapsed: 0:16:22.\n",
      "  Batch 3,120  of  3,344.    Elapsed: 0:16:35.\n",
      "  Batch 3,160  of  3,344.    Elapsed: 0:16:48.\n",
      "  Batch 3,200  of  3,344.    Elapsed: 0:17:00.\n",
      "  Batch 3,240  of  3,344.    Elapsed: 0:17:13.\n",
      "  Batch 3,280  of  3,344.    Elapsed: 0:17:26.\n",
      "  Batch 3,320  of  3,344.    Elapsed: 0:17:39.\n",
      "\n",
      "  Average training loss: 0.27\n",
      "  Training epcoh took: 0:17:46\n",
      "\n",
      "Running Validation...\n",
      "  F1 score: 0.84\n",
      "  Validation took: 0:01:13\n",
      "\n",
      "Training complete!\n"
     ]
    }
   ],
   "source": [
    "# Seed мы задали в самом начале, он не такой, как у авторов\n",
    "# Но у нас и данные другие\n",
    "torch.cuda.manual_seed_all(seed)\n",
    "\n",
    "# Store the average loss after each epoch so we can plot them.\n",
    "loss_values = []\n",
    "\n",
    "# For each epoch...\n",
    "for epoch_i in range(epochs):\n",
    "\n",
    "    # ========================================\n",
    "    #               Training\n",
    "    # ========================================\n",
    "\n",
    "    # Perform one full pass over the training set.\n",
    "\n",
    "    print(\"\")\n",
    "    print('======== Epoch {:} / {:} ========'.format(\n",
    "        epoch_i + 1, epochs))\n",
    "    print('Training...')\n",
    "\n",
    "    # Measure how long the training epoch takes.\n",
    "    t0 = time.time()\n",
    "\n",
    "    # Reset the total loss for this epoch.\n",
    "    total_loss = 0\n",
    "\n",
    "    # Put the model into training mode.\n",
    "    model.train()\n",
    "\n",
    "    # For each batch of training data...\n",
    "    for step, batch in enumerate(train_dataloader):\n",
    "\n",
    "        # Progress update every 40 batches.\n",
    "        if step % 40 == 0 and not step == 0:\n",
    "            # Calculate elapsed time in minutes.\n",
    "            elapsed = format_time(time.time() - t0)\n",
    "            # Report progress.\n",
    "            print(\n",
    "                '  Batch {:>5,}  of  {:>5,}.    Elapsed: {:}.'.format(\n",
    "                    step, len(train_dataloader), elapsed))\n",
    "\n",
    "        # Unpack this training batch from our dataloader.\n",
    "        # `batch` contains three pytorch tensors:\n",
    "        #   [0]: input ids\n",
    "        #   [1]: attention masks\n",
    "        #   [2]: labels\n",
    "        b_input_ids = batch[0].to(device)\n",
    "        b_input_mask = batch[1].to(device)\n",
    "        b_labels = batch[2].to(device)\n",
    "\n",
    "        # Сlear any previously calculated gradients before performing a\n",
    "        # backward pass.\n",
    "        model.zero_grad()\n",
    "\n",
    "        # Perform a forward pass (evaluate the model on this training batch).\n",
    "        # This will return the loss (rather than the model output) because we\n",
    "        # have provided the `labels`.\n",
    "        outputs = model(b_input_ids,\n",
    "                        token_type_ids=None,\n",
    "                        attention_mask=b_input_mask,\n",
    "                        labels=b_labels)\n",
    "\n",
    "        # The call to `model` always returns a tuple, so we need to pull the\n",
    "        # loss value out of the tuple.\n",
    "        loss = outputs[0]\n",
    "\n",
    "        # Accumulate the training loss over all of the batches so that we can\n",
    "        # calculate the average loss at the end.\n",
    "        total_loss += loss.item()\n",
    "\n",
    "        # Perform a backward pass to calculate the gradients.\n",
    "        loss.backward()\n",
    "\n",
    "        # Clip the norm of the gradients to 1.0.\n",
    "        # This is to help prevent the \"exploding gradients\" problem.\n",
    "        torch.nn.utils.clip_grad_norm_(model.parameters(), 1.0)\n",
    "\n",
    "        # Update parameters and take a step using the computed gradient.\n",
    "        optimizer.step()\n",
    "\n",
    "        # Update the learning rate.\n",
    "        scheduler.step()\n",
    "\n",
    "    # Calculate the average loss over the training data.\n",
    "    avg_train_loss = total_loss / len(train_dataloader)\n",
    "\n",
    "    # Store the loss value for plotting the learning curve.\n",
    "    loss_values.append(avg_train_loss)\n",
    "\n",
    "    print(\"\")\n",
    "    print(\"  Average training loss: {0:.2f}\".format(avg_train_loss))\n",
    "    print(\"  Training epcoh took: {:}\".format(\n",
    "        format_time(time.time() - t0)))\n",
    "\n",
    "    # ========================================\n",
    "    #               Validation\n",
    "    # ========================================\n",
    "    # After the completion of each training epoch,\n",
    "    # measure our performance on our validation set.\n",
    "\n",
    "    print(\"\")\n",
    "    print(\"Running Validation...\")\n",
    "\n",
    "    t0 = time.time()\n",
    "\n",
    "    # Put the model in evaluation mode.\n",
    "    model.eval()\n",
    "\n",
    "    # Tracking variables\n",
    "    eval_loss, eval_f1 = 0, 0\n",
    "    nb_eval_steps, nb_eval_examples = 0, 0\n",
    "\n",
    "    # Evaluate data for one epoch\n",
    "    for batch in val_dataloader:\n",
    "\n",
    "        # Add batch to GPU\n",
    "        batch = tuple(t.to(device) for t in batch)\n",
    "\n",
    "        # Unpack the inputs from our dataloader\n",
    "        b_input_ids, b_input_mask, b_labels = batch\n",
    "\n",
    "        # Telling the model not to compute or store gradients,\n",
    "        # saving memory and speeding up validation\n",
    "        with torch.no_grad():\n",
    "\n",
    "            # Forward pass, calculate logit predictions.\n",
    "            # This will return the logits rather than the loss\n",
    "            # because we have not provided labels.\n",
    "            outputs = model(b_input_ids,\n",
    "                            token_type_ids=None,\n",
    "                            attention_mask=b_input_mask)\n",
    "\n",
    "        # Get the \"logits\" output by the model. The \"logits\" are the output\n",
    "        # values prior to applying an activation function like the softmax.\n",
    "        logits = outputs[0]\n",
    "\n",
    "        # Move logits and labels to CPU\n",
    "        logits = logits.detach().cpu().numpy()\n",
    "        label_ids = b_labels.to('cpu').numpy()\n",
    "\n",
    "        # Calculate the f1 for this batch of test sentences.\n",
    "        tmp_eval_f1 = flat_f1_score(logits, label_ids)\n",
    "\n",
    "        # Accumulate the total f1.\n",
    "        eval_f1 += tmp_eval_f1\n",
    "\n",
    "        # Track the number of batches\n",
    "        nb_eval_steps += 1\n",
    "\n",
    "    # Report the final f1 for this validation run.\n",
    "    print(\"  F1 score: {0:.2f}\".format(eval_f1/nb_eval_steps))\n",
    "    print(\"  Validation took: {:}\".format(format_time(time.time() - t0)))\n",
    "\n",
    "print(\"\")\n",
    "print(\"Training complete!\")"
   ]
  },
  {
   "cell_type": "markdown",
   "metadata": {},
   "source": [
    "Качество ровно такое же, как в нашей улучшенной модели :)\n",
    "\n",
    "Визуализируем процесс обучения для полноты картины."
   ]
  },
  {
   "cell_type": "code",
   "execution_count": 26,
   "metadata": {
    "execution": {
     "iopub.execute_input": "2021-12-20T20:25:24.845739Z",
     "iopub.status.busy": "2021-12-20T20:25:24.845141Z",
     "iopub.status.idle": "2021-12-20T20:25:25.130128Z",
     "shell.execute_reply": "2021-12-20T20:25:25.129428Z",
     "shell.execute_reply.started": "2021-12-20T20:25:24.845702Z"
    }
   },
   "outputs": [
    {
     "data": {
      "image/png": "[encoded data removed]",
      "text/plain": [
       "<Figure size 864x432 with 1 Axes>"
      ]
     },
     "metadata": {},
     "output_type": "display_data"
    }
   ],
   "source": [
    "import seaborn as sns\n",
    "import matplotlib.pyplot as plt\n",
    "\n",
    "# Use plot styling from seaborn.\n",
    "sns.set(style='darkgrid')\n",
    "\n",
    "# Increase the plot size and font size.\n",
    "sns.set(font_scale=1.5)\n",
    "plt.rcParams[\"figure.figsize\"] = (12, 6)\n",
    "\n",
    "# Plot the learning curve.\n",
    "plt.plot(loss_values, 'b-o')\n",
    "\n",
    "# Label the plot.\n",
    "plt.title(\"Training loss\")\n",
    "plt.xlabel(\"Epoch\")\n",
    "plt.ylabel(\"Loss\")\n",
    "\n",
    "plt.show()"
   ]
  }
 ],
 "metadata": {
  "kernelspec": {
   "display_name": "Python 3 (ipykernel)",
   "language": "python",
   "name": "python3"
  },
  "language_info": {
   "codemirror_mode": {
    "name": "ipython",
    "version": 3
   },
   "file_extension": ".py",
   "mimetype": "text/x-python",
   "name": "python",
   "nbconvert_exporter": "python",
   "pygments_lexer": "ipython3",
   "version": "3.9.7"
  }
 },
 "nbformat": 4,
 "nbformat_minor": 4
}
