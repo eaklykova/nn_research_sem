{
 "cells": [
  {
   "cell_type": "markdown",
   "metadata": {
    "id": "P8tDK5A9OCM7"
   },
   "source": [
    "# Домашняя работа №1\n",
    "### Выполнила Елизавета Клыкова, БКЛ181\n",
    "\n",
    "* Написать персептрон с двумя слоями\n",
    "* Реализовать форвард и бэквард пропогейшен"
   ]
  },
  {
   "cell_type": "code",
   "execution_count": 1,
   "metadata": {
    "id": "c5IbKpsMN_F1"
   },
   "outputs": [],
   "source": [
    "import time\n",
    "import torch\n",
    "import numpy as np\n",
    "import matplotlib.pyplot as plt\n",
    "from tqdm import tqdm\n",
    "from torch.utils.data import DataLoader\n",
    "from torchvision import transforms\n",
    "from torchvision.datasets import MNIST\n",
    "from sklearn.metrics import f1_score, accuracy_score, classification_report"
   ]
  },
  {
   "cell_type": "markdown",
   "metadata": {
    "id": "zQRYevLNN_GA"
   },
   "source": [
    "## Датасет\n",
    "Загрузим Мнист. Почему именно он? Мы будем решать задачу бинарной классификации на паре цифр: 3 и 7. Плюсы в том, что примеров для этих чисел достаточно, чтобы обучить НС, у каждого примера не так много фичей (28х28 - размерность картинок) и, в целом, эти классы хорошо отделяются. Я б с радостью показал вам пример с текстами, но если писать НС с нуля и пытаться обучаться на текстах, не факт, что у нас хоть что-то обучится :(\n",
    "\n",
    "Торч -- объект, который позволяет нормализовать картинки, можно думать о нем как о предобработке (регулярках) для текстов."
   ]
  },
  {
   "cell_type": "code",
   "execution_count": 2,
   "metadata": {
    "id": "BMugicmkN_GE"
   },
   "outputs": [],
   "source": [
    "transform = transforms.Compose([\n",
    "    transforms.ToTensor(),\n",
    "    transforms.Normalize((0.1307,), (0.3081,))\n",
    "])"
   ]
  },
  {
   "cell_type": "markdown",
   "metadata": {
    "id": "actIVoMKN_GJ"
   },
   "source": [
    "Загружаем датасет. Возращается особенный торчовый класс, чуть ниже мы зададим его сами и научимся им пользоваться, пока оставляем эз из.\n"
   ]
  },
  {
   "cell_type": "code",
   "execution_count": 3,
   "metadata": {
    "colab": {
     "base_uri": "https://localhost:8080/",
     "height": 255
    },
    "id": "fQpJqIWrN_GK",
    "outputId": "2ed59df6-e5df-4487-dc74-74950632d80c"
   },
   "outputs": [
    {
     "name": "stderr",
     "output_type": "stream",
     "text": [
      "C:\\Users\\lizak\\anaconda3\\lib\\site-packages\\torchvision\\datasets\\mnist.py:498: UserWarning: The given NumPy array is not writeable, and PyTorch does not support non-writeable tensors. This means you can write to the underlying (supposedly non-writeable) NumPy array using the tensor. You may want to copy the array to protect its data or make it writeable before converting it to a tensor. This type of warning will be suppressed for the rest of this program. (Triggered internally at  ..\\torch\\csrc\\utils\\tensor_numpy.cpp:180.)\n",
      "  return torch.from_numpy(parsed.astype(m[2], copy=False)).view(*s)\n"
     ]
    }
   ],
   "source": [
    "train_dataset = MNIST('.', train=True, download=True, transform=transform)\n",
    "test_dataset = MNIST('.', train=False, transform=transform)"
   ]
  },
  {
   "cell_type": "markdown",
   "metadata": {
    "id": "aUSUIJbUN_GQ"
   },
   "source": [
    "Выбираем два класса. Если вы достаточно хорошо знакомы с пандас, то можно понять, что никакой магии здесь нет."
   ]
  },
  {
   "cell_type": "code",
   "execution_count": 4,
   "metadata": {
    "id": "vx73oHg9N_GS"
   },
   "outputs": [],
   "source": [
    "# фильтруем дату по значению таргета, берем 3 или 7\n",
    "train_dataset.data = train_dataset.data[(train_dataset.targets == 3) | (train_dataset.targets == 7)]\n",
    "train_dataset.targets = train_dataset.targets[(train_dataset.targets == 3) | (train_dataset.targets == 7)]\n",
    "\n",
    "# то же самое для тестового набора\n",
    "test_dataset.data = test_dataset.data[(test_dataset.targets == 3) | (test_dataset.targets == 7)]\n",
    "test_dataset.targets = test_dataset.targets[(test_dataset.targets == 3) | (test_dataset.targets == 7)]\n",
    "\n",
    "# препроцессинг лейблов (не у всех значений тип integer, а нам нужен именно он)\n",
    "# self.long() is equivalent to self.to(torch.int64). See to()\n",
    "# почему только для 7, непонятно\n",
    "train_dataset.targets = (train_dataset.targets == 7).long()\n",
    "test_dataset.targets = (test_dataset.targets == 7).long()"
   ]
  },
  {
   "cell_type": "markdown",
   "metadata": {
    "id": "RHelnPG0N_GX"
   },
   "source": [
    "Мы неоднократно говорили, что НС обычно тренируются батчами, в торче есть удобный класс, который позволяет обернуть наши датасеты в итерируемый объект. Если не знаете, что такое итерируемый объект, погуглите :) Можно думать об этом как о списке с составными элементами (элемент -- батч -- набор примеров). "
   ]
  },
  {
   "cell_type": "code",
   "execution_count": 5,
   "metadata": {
    "id": "ENLomAueN_GZ"
   },
   "outputs": [],
   "source": [
    "train_loader = DataLoader(train_dataset, batch_size=128, shuffle=True)\n",
    "test_loader = DataLoader(test_dataset, batch_size=128, shuffle=False)"
   ]
  },
  {
   "cell_type": "code",
   "execution_count": 6,
   "metadata": {
    "colab": {
     "base_uri": "https://localhost:8080/",
     "height": 952
    },
    "id": "rdvq5scBXtWY",
    "outputId": "b3ea3409-955b-433a-ac9e-084b117dbcc7"
   },
   "outputs": [
    {
     "data": {
      "text/plain": [
       "tensor([[[[-0.4242, -0.4242, -0.4242,  ..., -0.4242, -0.4242, -0.4242],\n",
       "          [-0.4242, -0.4242, -0.4242,  ..., -0.4242, -0.4242, -0.4242],\n",
       "          [-0.4242, -0.4242, -0.4242,  ..., -0.4242, -0.4242, -0.4242],\n",
       "          ...,\n",
       "          [-0.4242, -0.4242, -0.4242,  ..., -0.4242, -0.4242, -0.4242],\n",
       "          [-0.4242, -0.4242, -0.4242,  ..., -0.4242, -0.4242, -0.4242],\n",
       "          [-0.4242, -0.4242, -0.4242,  ..., -0.4242, -0.4242, -0.4242]]],\n",
       "\n",
       "\n",
       "        [[[-0.4242, -0.4242, -0.4242,  ..., -0.4242, -0.4242, -0.4242],\n",
       "          [-0.4242, -0.4242, -0.4242,  ..., -0.4242, -0.4242, -0.4242],\n",
       "          [-0.4242, -0.4242, -0.4242,  ..., -0.4242, -0.4242, -0.4242],\n",
       "          ...,\n",
       "          [-0.4242, -0.4242, -0.4242,  ..., -0.4242, -0.4242, -0.4242],\n",
       "          [-0.4242, -0.4242, -0.4242,  ..., -0.4242, -0.4242, -0.4242],\n",
       "          [-0.4242, -0.4242, -0.4242,  ..., -0.4242, -0.4242, -0.4242]]],\n",
       "\n",
       "\n",
       "        [[[-0.4242, -0.4242, -0.4242,  ..., -0.4242, -0.4242, -0.4242],\n",
       "          [-0.4242, -0.4242, -0.4242,  ..., -0.4242, -0.4242, -0.4242],\n",
       "          [-0.4242, -0.4242, -0.4242,  ..., -0.4242, -0.4242, -0.4242],\n",
       "          ...,\n",
       "          [-0.4242, -0.4242, -0.4242,  ..., -0.4242, -0.4242, -0.4242],\n",
       "          [-0.4242, -0.4242, -0.4242,  ..., -0.4242, -0.4242, -0.4242],\n",
       "          [-0.4242, -0.4242, -0.4242,  ..., -0.4242, -0.4242, -0.4242]]],\n",
       "\n",
       "\n",
       "        ...,\n",
       "\n",
       "\n",
       "        [[[-0.4242, -0.4242, -0.4242,  ..., -0.4242, -0.4242, -0.4242],\n",
       "          [-0.4242, -0.4242, -0.4242,  ..., -0.4242, -0.4242, -0.4242],\n",
       "          [-0.4242, -0.4242, -0.4242,  ..., -0.4242, -0.4242, -0.4242],\n",
       "          ...,\n",
       "          [-0.4242, -0.4242, -0.4242,  ..., -0.4242, -0.4242, -0.4242],\n",
       "          [-0.4242, -0.4242, -0.4242,  ..., -0.4242, -0.4242, -0.4242],\n",
       "          [-0.4242, -0.4242, -0.4242,  ..., -0.4242, -0.4242, -0.4242]]],\n",
       "\n",
       "\n",
       "        [[[-0.4242, -0.4242, -0.4242,  ..., -0.4242, -0.4242, -0.4242],\n",
       "          [-0.4242, -0.4242, -0.4242,  ..., -0.4242, -0.4242, -0.4242],\n",
       "          [-0.4242, -0.4242, -0.4242,  ..., -0.4242, -0.4242, -0.4242],\n",
       "          ...,\n",
       "          [-0.4242, -0.4242, -0.4242,  ..., -0.4242, -0.4242, -0.4242],\n",
       "          [-0.4242, -0.4242, -0.4242,  ..., -0.4242, -0.4242, -0.4242],\n",
       "          [-0.4242, -0.4242, -0.4242,  ..., -0.4242, -0.4242, -0.4242]]],\n",
       "\n",
       "\n",
       "        [[[-0.4242, -0.4242, -0.4242,  ..., -0.4242, -0.4242, -0.4242],\n",
       "          [-0.4242, -0.4242, -0.4242,  ..., -0.4242, -0.4242, -0.4242],\n",
       "          [-0.4242, -0.4242, -0.4242,  ..., -0.4242, -0.4242, -0.4242],\n",
       "          ...,\n",
       "          [-0.4242, -0.4242, -0.4242,  ..., -0.4242, -0.4242, -0.4242],\n",
       "          [-0.4242, -0.4242, -0.4242,  ..., -0.4242, -0.4242, -0.4242],\n",
       "          [-0.4242, -0.4242, -0.4242,  ..., -0.4242, -0.4242, -0.4242]]]])"
      ]
     },
     "execution_count": 6,
     "metadata": {},
     "output_type": "execute_result"
    }
   ],
   "source": [
    "# next(iter(x)) возвращает следующий элемент итератора\n",
    "X, y = next(iter(train_loader))\n",
    "X"
   ]
  },
  {
   "cell_type": "code",
   "execution_count": 7,
   "metadata": {
    "colab": {
     "base_uri": "https://localhost:8080/",
     "height": 119
    },
    "id": "SAaI0uHWYUrb",
    "outputId": "b9a743d2-f2be-4930-dba3-e9ab123e20b5"
   },
   "outputs": [
    {
     "data": {
      "text/plain": [
       "tensor([0, 1, 0, 0, 1, 1, 0, 1, 1, 1, 1, 1, 0, 1, 1, 0, 1, 1, 1, 0, 0, 0, 1, 1,\n",
       "        1, 1, 1, 1, 0, 0, 1, 0, 0, 0, 0, 1, 1, 1, 0, 0, 1, 0, 0, 1, 0, 0, 1, 1,\n",
       "        0, 0, 1, 0, 1, 0, 0, 0, 1, 1, 1, 0, 1, 0, 1, 1, 1, 0, 1, 1, 1, 1, 1, 0,\n",
       "        1, 1, 1, 1, 0, 1, 0, 0, 1, 1, 0, 0, 1, 1, 0, 1, 0, 0, 1, 0, 1, 1, 0, 1,\n",
       "        0, 0, 1, 0, 0, 1, 1, 0, 0, 0, 1, 1, 1, 1, 1, 0, 0, 0, 1, 0, 0, 1, 0, 0,\n",
       "        1, 0, 0, 0, 0, 0, 1, 1])"
      ]
     },
     "execution_count": 7,
     "metadata": {},
     "output_type": "execute_result"
    }
   ],
   "source": [
    "y"
   ]
  },
  {
   "cell_type": "markdown",
   "metadata": {
    "id": "KPw6jv5hYXhV"
   },
   "source": [
    "Никакой магии, просто многомерные матрицы. Можно даже проверить, что то, что мы получили, т.е. первый батч, имеет правильную размерность. В *y* 1 -- это класс цифры \"7\", 0 -- \"3\"."
   ]
  },
  {
   "cell_type": "code",
   "execution_count": 8,
   "metadata": {
    "colab": {
     "base_uri": "https://localhost:8080/",
     "height": 34
    },
    "id": "mQH1_6dSYlnW",
    "outputId": "f6f72aba-2367-442f-eb82-10f38c7d039d"
   },
   "outputs": [
    {
     "data": {
      "text/plain": [
       "torch.Size([128, 1, 28, 28])"
      ]
     },
     "execution_count": 8,
     "metadata": {},
     "output_type": "execute_result"
    }
   ],
   "source": [
    "# 128 примеров; [1, 28, 28] - размерность картинки\n",
    "# 1 значит, что из 3-x каналов (R, G, B) у нас всего 1, а сама картинка 28x28\n",
    "X.shape"
   ]
  },
  {
   "cell_type": "code",
   "execution_count": 9,
   "metadata": {
    "colab": {
     "base_uri": "https://localhost:8080/",
     "height": 34
    },
    "id": "yGAYt4oqYpW5",
    "outputId": "28184602-483d-45e4-f6b1-3b82cec0d19f"
   },
   "outputs": [
    {
     "data": {
      "text/plain": [
       "torch.Size([128])"
      ]
     },
     "execution_count": 9,
     "metadata": {},
     "output_type": "execute_result"
    }
   ],
   "source": [
    "y.shape"
   ]
  },
  {
   "cell_type": "markdown",
   "metadata": {
    "id": "CNVEJYNXN_Gd"
   },
   "source": [
    "Проверим, правда ли это картинки:"
   ]
  },
  {
   "cell_type": "code",
   "execution_count": 10,
   "metadata": {},
   "outputs": [],
   "source": [
    "X, y = next(iter(train_loader))\n",
    "X = X.numpy()  # перевод тензора в массив numpy\n",
    "y = y.numpy()"
   ]
  },
  {
   "cell_type": "code",
   "execution_count": 11,
   "metadata": {
    "colab": {
     "base_uri": "https://localhost:8080/",
     "height": 420
    },
    "id": "-Kkv2jAKN_Ge",
    "outputId": "10a727e2-6340-4f62-91fa-6f0e441c86ac"
   },
   "outputs": [
    {
     "data": {
      "image/png": "[encoded data removed]",
      "text/plain": [
       "<Figure size 432x504 with 25 Axes>"
      ]
     },
     "metadata": {
      "needs_background": "light"
     },
     "output_type": "display_data"
    }
   ],
   "source": [
    "plt.figure(figsize=(6, 7))\n",
    "for i in range(25):\n",
    "    plt.subplot(5, 5, i+1)\n",
    "    plt.imshow(X[i].reshape(28, 28), cmap=plt.cm.Greys_r)\n",
    "    plt.title(y[i])\n",
    "    plt.axis('off')"
   ]
  },
  {
   "cell_type": "markdown",
   "metadata": {
    "id": "jL6Cd-7tb29_"
   },
   "source": [
    "Нам столько размерностей не нужно, поэтому давайте выпрямим матрицу, тем более, мы знаем, что значение каждого пикселя независимо друг от друга."
   ]
  },
  {
   "cell_type": "code",
   "execution_count": 12,
   "metadata": {
    "colab": {
     "base_uri": "https://localhost:8080/",
     "height": 34
    },
    "id": "tDiEEUYJN_G6",
    "outputId": "c057b0ba-904b-4a91-e982-db48628aa346"
   },
   "outputs": [
    {
     "data": {
      "text/plain": [
       "torch.Size([128, 784])"
      ]
     },
     "execution_count": 12,
     "metadata": {},
     "output_type": "execute_result"
    }
   ],
   "source": [
    "X, y = next(iter(train_loader))\n",
    "X = X.view(X.shape[0], -1)\n",
    "X.shape"
   ]
  },
  {
   "cell_type": "markdown",
   "metadata": {
    "id": "6_m0y3z9N_HN"
   },
   "source": [
    " Размерность\n",
    "- количество примеров в батче\n",
    "- количество фичей"
   ]
  },
  {
   "cell_type": "code",
   "execution_count": 13,
   "metadata": {
    "colab": {
     "base_uri": "https://localhost:8080/",
     "height": 119
    },
    "id": "0rRs_fibN_HX",
    "outputId": "e029c693-4927-4781-e4a7-8ee3a4b02d1e"
   },
   "outputs": [
    {
     "data": {
      "text/plain": [
       "tensor([1, 0, 1, 0, 0, 0, 0, 1, 0, 1, 0, 0, 0, 0, 0, 1, 0, 1, 0, 0, 0, 1, 0, 0,\n",
       "        1, 1, 1, 0, 0, 0, 1, 0, 1, 1, 1, 1, 0, 0, 1, 0, 0, 0, 1, 0, 0, 1, 0, 0,\n",
       "        0, 0, 1, 1, 1, 1, 0, 0, 0, 1, 0, 1, 1, 1, 0, 1, 0, 1, 0, 0, 1, 0, 1, 0,\n",
       "        1, 0, 0, 0, 1, 1, 1, 1, 0, 1, 1, 0, 1, 0, 1, 0, 0, 1, 1, 0, 1, 1, 1, 1,\n",
       "        1, 0, 0, 1, 1, 0, 1, 0, 0, 0, 0, 1, 0, 1, 1, 1, 0, 0, 1, 1, 0, 1, 1, 0,\n",
       "        0, 1, 0, 0, 0, 0, 0, 0])"
      ]
     },
     "execution_count": 13,
     "metadata": {},
     "output_type": "execute_result"
    }
   ],
   "source": [
    "y"
   ]
  },
  {
   "cell_type": "markdown",
   "metadata": {
    "id": "Z4vTsvPZdPQg"
   },
   "source": [
    "Такой *y* нам не совсем подходит. Сейчас объясню почему. Размерность Х (128, 784) матрично перемножим на скрытый слой (784, 1), и получится (128, 1). Нужно понимать, что размерность (128,) и (128, 1) -- это немного разные вещи."
   ]
  },
  {
   "cell_type": "code",
   "execution_count": 14,
   "metadata": {
    "colab": {
     "base_uri": "https://localhost:8080/",
     "height": 34
    },
    "id": "98g7689ON_Hc",
    "outputId": "007d721e-ebd9-4752-d948-97887b4917bd"
   },
   "outputs": [
    {
     "data": {
      "text/plain": [
       "torch.Size([128, 1])"
      ]
     },
     "execution_count": 14,
     "metadata": {},
     "output_type": "execute_result"
    }
   ],
   "source": [
    "w = torch.rand(784, 1)  # рандомные необученные веса\n",
    "pred = X.matmul(w)\n",
    "pred.shape"
   ]
  },
  {
   "cell_type": "code",
   "execution_count": 15,
   "metadata": {
    "colab": {
     "base_uri": "https://localhost:8080/",
     "height": 1000
    },
    "id": "KG9L5xtJd9TQ",
    "outputId": "6e5671bc-eb6a-4e20-f5c9-2d391b067d4a"
   },
   "outputs": [
    {
     "data": {
      "text/plain": [
       "tensor([[-42.1172],\n",
       "        [-77.2633],\n",
       "        [-40.1836],\n",
       "        [ 78.1806],\n",
       "        [  8.8682],\n",
       "        [ 17.3985],\n",
       "        [-42.2030],\n",
       "        [-22.5076],\n",
       "        [  6.0035],\n",
       "        [-35.9149]])"
      ]
     },
     "execution_count": 15,
     "metadata": {},
     "output_type": "execute_result"
    }
   ],
   "source": [
    "pred[0:10]"
   ]
  },
  {
   "cell_type": "markdown",
   "metadata": {
    "id": "Rb1hswcGeEpc"
   },
   "source": [
    "Теперь у нас есть предсказания, их размерность (128,1). Нужно будет считать лосс с *у*, поэтому приведем его к такой же размерности с expand_dims -- эта функция есть в нумпае и в торче."
   ]
  },
  {
   "cell_type": "code",
   "execution_count": 16,
   "metadata": {
    "id": "wAIFQMfwN_Hl"
   },
   "outputs": [
    {
     "data": {
      "text/plain": [
       "array([[1],\n",
       "       [0],\n",
       "       [1],\n",
       "       [0],\n",
       "       [0],\n",
       "       [0],\n",
       "       [0],\n",
       "       [1],\n",
       "       [0],\n",
       "       [1]], dtype=int64)"
      ]
     },
     "execution_count": 16,
     "metadata": {},
     "output_type": "execute_result"
    }
   ],
   "source": [
    "y = np.expand_dims(y, 1)\n",
    "y[0:10]"
   ]
  },
  {
   "cell_type": "markdown",
   "metadata": {
    "id": "TFAKpwY_N_H_"
   },
   "source": [
    "Итерация по эпохам:"
   ]
  },
  {
   "cell_type": "code",
   "execution_count": 17,
   "metadata": {
    "colab": {
     "base_uri": "https://localhost:8080/",
     "height": 68
    },
    "id": "DWmQFlyWN_IB",
    "outputId": "5317f355-03fc-443c-90b2-811c563ac813"
   },
   "outputs": [
    {
     "name": "stdout",
     "output_type": "stream",
     "text": [
      "Эпоха 1, прошли 100.00 % датасета\n",
      "Эпоха 2, прошли 100.00 % датасета\n",
      "Эпоха 3, прошли 100.00 % датасета\n"
     ]
    }
   ],
   "source": [
    "epochs = 3\n",
    "\n",
    "for n_epoch in range(epochs):\n",
    "    dataset_passed_samples = 0\n",
    "\n",
    "    for x, y in train_loader:\n",
    "        # вот здесь мы могли бы как-то манипулировать с данными\n",
    "        # например, учить, но пока этого делать не будем\n",
    "\n",
    "        time.sleep(0.05)\n",
    "        dataset_passed_samples += x.shape[0]\n",
    "        dataset_passed_percent = dataset_passed_samples * 100 / train_loader.dataset.data.shape[0]\n",
    "        print(f'Эпоха {n_epoch + 1}, прошли {dataset_passed_percent:.2f} % датасета', end='\\r')\n",
    "\n",
    "    print('\\r')"
   ]
  },
  {
   "cell_type": "markdown",
   "metadata": {
    "id": "8iBd9MS_f7Eg"
   },
   "source": [
    "## Однослойный персептрон"
   ]
  },
  {
   "cell_type": "code",
   "execution_count": 18,
   "metadata": {
    "colab": {
     "base_uri": "https://localhost:8080/",
     "height": 102
    },
    "id": "x9wKt3z1gIo7",
    "outputId": "1eff2785-550d-4042-b511-05a050f71c96"
   },
   "outputs": [
    {
     "name": "stdout",
     "output_type": "stream",
     "text": [
      "Epoch: 1\n",
      "Epoch: 2\n",
      "Epoch: 3\n",
      "Epoch: 4\n",
      "Epoch: 5\n"
     ]
    }
   ],
   "source": [
    "learning_rate = 0.01  # определяет, какую часть от градиента мы будем брать\n",
    "epochs = 5  # сколько раз мы пройдем по всему тренировочному набору данных\n",
    "\n",
    "# число примеров в батче: понадобится при обучении, чтобы усреднять лосс\n",
    "batch_size = 128\n",
    "n_feat = 784\n",
    "\n",
    "# нормирование весов (чтобы избежать деления на ноль при бэкпропе)\n",
    "# 0.01 выбрано эмпирически, т.к. сами фичи имеют значения, близкие к 0\n",
    "w1 = np.random.rand(n_feat, 1) * 0.01\n",
    "\n",
    "# размерность должна совпадать с количеством параметров,\n",
    "# которые у нас останутся после матричного перемножения\n",
    "b1 = np.zeros(1)  # array([0.])\n",
    "\n",
    "# на каждой итерации (и для всех эпох) будем сохранять сюда лосс,\n",
    "# чтобы видеть, обучается ли НС\n",
    "losses = []\n",
    "\n",
    "for n_epoch in range(epochs):\n",
    "\n",
    "    print(f'Epoch: {n_epoch + 1}')\n",
    "\n",
    "    for x, y in train_loader:\n",
    "\n",
    "        x = x.view(x.shape[0], -1).numpy()  # приводим к размерности (128,784)\n",
    "        y = np.expand_dims(y.numpy(), 1)  # приводим к размерности (128,1)\n",
    "\n",
    "        h1 = x.dot(w1) + b1  # переход в одномерное пространство\n",
    "        p = 1/(1+np.exp(-h1))  # преобразование в \"вероятности\"\n",
    "\n",
    "        # расчет энтропии с усреднением по размеру батча\n",
    "        bce = (-np.sum(np.multiply(np.log(p), y) + np.multiply((1 - y), np.log(1 - p)))) / batch_size\n",
    "        losses.append(bce)\n",
    "\n",
    "        dp = (p - y) / batch_size  # производная bce и sigmoid\n",
    "        dw1 = np.dot(x.T, dp)  # производная по лин. преобразованию относительно W - весов\n",
    "        db1 = np.sum(dp)  # производная по лин. преобразованию относительно В - баяса\n",
    "        # здесь по идее должно быть перемножение на единичный вектор (128,1),\n",
    "        # но это то же самое, что и сумма значений\n",
    "\n",
    "        w1 -= learning_rate * dw1  # обновим веса и баясы\n",
    "        b1 -= learning_rate * db1"
   ]
  },
  {
   "cell_type": "markdown",
   "metadata": {
    "id": "Lc3-pw-4wMum"
   },
   "source": [
    "А теперь построим график функции потерь."
   ]
  },
  {
   "cell_type": "code",
   "execution_count": 19,
   "metadata": {
    "colab": {
     "base_uri": "https://localhost:8080/",
     "height": 747
    },
    "id": "NvB4U5OXhE3t",
    "outputId": "6248bafc-51df-44a5-fc44-5c47efd21817"
   },
   "outputs": [
    {
     "data": {
      "text/plain": [
       "Text(0, 0.5, 'Loss function')"
      ]
     },
     "execution_count": 19,
     "metadata": {},
     "output_type": "execute_result"
    },
    {
     "data": {
      "image/png": "[encoded data removed]",
      "text/plain": [
       "<Figure size 1008x864 with 1 Axes>"
      ]
     },
     "metadata": {
      "needs_background": "light"
     },
     "output_type": "display_data"
    }
   ],
   "source": [
    "plt.figure(figsize=(14, 12))\n",
    "plt.plot(losses)\n",
    "plt.grid()\n",
    "plt.title('Training process')\n",
    "plt.xlabel('Iterations')\n",
    "plt.ylabel('Loss function')"
   ]
  },
  {
   "cell_type": "markdown",
   "metadata": {
    "id": "IfpCVrN2tO5S"
   },
   "source": [
    "## Математика\n",
    "\n",
    "![alt text](https://sun9-39.userapi.com/c850608/v850608777/47a4/fgZlI898IUU.jpg)\n",
    "![alt text](https://sun9-41.userapi.com/c858216/v858216777/cc4f5/v3CPa-tnm80.jpg)\n",
    "![alt text](https://sun9-67.userapi.com/c857632/v857632471/f6e95/H0dsmWsUInc.jpg)\n",
    "![alt text](https://sun9-71.userapi.com/c858120/v858120274/10d0ef/hdKO-3Syk3g.jpg)"
   ]
  },
  {
   "cell_type": "markdown",
   "metadata": {
    "id": "ToNAC3-bN_IN"
   },
   "source": [
    "Двуслойный персептрон:"
   ]
  },
  {
   "cell_type": "code",
   "execution_count": 20,
   "metadata": {
    "id": "yJSR8hdTN_IO",
    "outputId": "a929058d-7946-40e3-e9d7-f9bad80b1de3"
   },
   "outputs": [
    {
     "name": "stdout",
     "output_type": "stream",
     "text": [
      "Epoch: 1\n",
      "Epoch: 2\n",
      "Epoch: 3\n",
      "Epoch: 4\n",
      "Epoch: 5\n"
     ]
    }
   ],
   "source": [
    "learning_rate = 0.01\n",
    "epochs = 5\n",
    "batch_size = 128\n",
    "n_feat = 784  # 28x28\n",
    "inner_feat = 300\n",
    "\n",
    "w1 = np.random.rand(n_feat, inner_feat) * 0.01  # (784, 300)\n",
    "b1 = np.zeros(inner_feat)  # (300,)\n",
    "w2 = np.random.rand(inner_feat, 1) * 0.01  # (300, 1)\n",
    "b2 = np.zeros(1)  # (1,)\n",
    "\n",
    "losses = []\n",
    "\n",
    "for n_epoch in range(epochs):\n",
    "\n",
    "    print(f'Epoch: {n_epoch + 1}')\n",
    "\n",
    "    for x, y in train_loader:\n",
    "\n",
    "        x = x.view(x.shape[0], -1).numpy()  # (128, 784)\n",
    "        y = np.expand_dims(y.numpy(), 1)  # (128, 1)\n",
    "\n",
    "        # -----------------------\n",
    "\n",
    "        # forward\n",
    "\n",
    "        # z1 - первое линейное преобразование - (BATCH_SIZE, INNER_FEATURES)\n",
    "        z1 = x.dot(w1) + b1  # (128, 300)\n",
    "        # a1 - применение нелинейности - (BATCH_SIZE, INNER_FEATURES)\n",
    "        a1 = 1 / (1 + np.exp(-z1))  # (128, 300)\n",
    "\n",
    "        # z2 - второе нелинейное преобразование - (BATCH_SIZE, 1)\n",
    "        z2 = a1.dot(w2) + b2  # (128, 1)\n",
    "        # pred - сигмоида - (BATCH_SIZE, 1)\n",
    "        pred = 1 / (1 + np.exp(-z2))  # (128, 1)\n",
    "\n",
    "        # -----------------------\n",
    "\n",
    "        # расчет bce\n",
    "\n",
    "        # loss = -(true_labels*log(predicted) + (1-true_labels)*log(1-predicted))\n",
    "        bce = (-np.sum(np.multiply(np.log(pred), y) +\n",
    "                       np.multiply((1 - y), np.log(1 - pred)))) / batch_size\n",
    "        losses.append(bce)\n",
    "\n",
    "        # -----------------------\n",
    "\n",
    "        # backward\n",
    "\n",
    "        batch_size = x.shape[0]\n",
    "\n",
    "        # d_BCE/d_pred - градиент функции потерь по pred - (BATCH_SIZE, 1)\n",
    "        d_pred = (pred - y) / batch_size  # (128, 1)\n",
    "\n",
    "        # d_pred/dz2 - градиент сигмоиды по z2 - (BATCH_SIZE, 1)\n",
    "        # d_z2 = exp(-z2) / (1 + exp(-z2))**2\n",
    "\n",
    "        # dz2/dw2 - градиент линейного преобразования по w2 - (INNER_FEATURES, 1)\n",
    "        d_w2 = np.dot(a1.T, d_pred)  # (300, 1)\n",
    "\n",
    "        # dz2/db2 - градиент линейного преобразования по b2 - (1,)\n",
    "        d_b2 = np.sum(d_pred)  # (1,)\n",
    "\n",
    "        # da1/dz1 - градиент нелинейной функции по z1 - (BATCH_SIZE, INNER_FEATURES)\n",
    "        # d_z1 = exp(-z1) / (1 + exp(-z1))**2\n",
    "\n",
    "        # dz1/dw1 - градиент линейного преобразования по w1 - (IN_FEATURES, INNER_FEATURES)\n",
    "        d_w1 = np.dot(x.T, np.dot(d_pred, w2.T) * a1 * (1 - a1))  # (784, 300)\n",
    "\n",
    "        # dz1/db1 - градиент линейного преобразования по b1 - (INNER_FEATURES,)\n",
    "        d_b1 = np.sum(np.dot(d_pred, w2.T))  # (300,)\n",
    "\n",
    "        # -----------------------\n",
    "\n",
    "        # gradient descent\n",
    "\n",
    "        # обновляем веса и bias'ы\n",
    "        w2 -= learning_rate * d_w2\n",
    "        b2 -= learning_rate * d_b2\n",
    "        w1 -= learning_rate * d_w1\n",
    "        b1 -= learning_rate * d_b1"
   ]
  },
  {
   "cell_type": "markdown",
   "metadata": {
    "id": "ur7SqyVGN_IY"
   },
   "source": [
    "## Подсказки по размерностям\n",
    "\n",
    "### Forward\n",
    "\n",
    "- z1 - первое линейное преобразование - (BATCH_SIZE, INNER_FEATURES)\n",
    "- a1 - применение нелинейности - (BATCH_SIZE, INNER_FEATURES)\n",
    "- z2 - второе нелинейное преобразование - (BATCH_SIZE, 1)\n",
    "- pred или a2 - сигмоида - (BATCH_SIZE, 1)\n",
    "- loss - функция потерь - скаляр\n",
    "\n",
    "### Backward\n",
    "\n",
    "- d_BCE/d_pred - градиент функции потерь по pred - (BATCH_SIZE, 1)\n",
    "- d_pred/dz2 - градиент сигмоиды по z2 - (BATCH_SIZE, 1)\n",
    "- dz2/da1 - градиент линейного преобразования по a1 - (BATCH_SIZE, INNER_FEATURES)\n",
    "- dz2/dw2 - градиент линейного преобразования по w2 - (INNER_FEATURES, 1)\n",
    "- dz2/db2 - градиент линейного преобразования по b2 - (1,)\n",
    "- da1/dz1 - градиент нелинейной функции по z1 - (BATCH_SIZE, INNER_FEATURES)\n",
    "- dz1/dw1 - градиент линейного преобразования по w1 - (IN_FEATURES, INNER_FEATURES)\n",
    "- dz1/db1 - градиент линейного преобразования по b1 - (INNER_FEATURES,)"
   ]
  },
  {
   "cell_type": "markdown",
   "metadata": {
    "id": "ihOoASMAN_Ia"
   },
   "source": [
    "И график:"
   ]
  },
  {
   "cell_type": "code",
   "execution_count": 21,
   "metadata": {
    "id": "CwRzXKRNN_Ic",
    "outputId": "a0cf5951-b66f-431d-9482-d258760039e1"
   },
   "outputs": [
    {
     "data": {
      "text/plain": [
       "Text(0, 0.5, 'Loss function')"
      ]
     },
     "execution_count": 21,
     "metadata": {},
     "output_type": "execute_result"
    },
    {
     "data": {
      "image/png": "[encoded data removed]",
      "text/plain": [
       "<Figure size 1008x864 with 1 Axes>"
      ]
     },
     "metadata": {
      "needs_background": "light"
     },
     "output_type": "display_data"
    }
   ],
   "source": [
    "plt.figure(figsize=(14, 12))\n",
    "plt.plot(losses)\n",
    "plt.grid()\n",
    "plt.title('Training process')\n",
    "plt.xlabel('Iterations')\n",
    "plt.ylabel('Loss function')"
   ]
  },
  {
   "cell_type": "markdown",
   "metadata": {
    "id": "axU2DnJ1IT1J"
   },
   "source": [
    "## Тестирование"
   ]
  },
  {
   "cell_type": "markdown",
   "metadata": {
    "id": "4sd8o1ZbIEXH"
   },
   "source": [
    "А как это тестировать? Да очень просто: нужно просто выполнять форвард без бэкворда, то есть последовательно применять преобразования с обученными весами."
   ]
  },
  {
   "cell_type": "code",
   "execution_count": 22,
   "metadata": {
    "id": "7DKeGWwzIliO"
   },
   "outputs": [],
   "source": [
    "losses_test = []\n",
    "predicted = []\n",
    "true_lbls = []\n",
    "\n",
    "for x, y in test_loader:\n",
    "\n",
    "    x = x.view(x.shape[0], -1).numpy()\n",
    "    y = np.expand_dims(y.numpy(), 1)\n",
    "\n",
    "    h1 = x.dot(w1) + b1  # переход в одномерное пространство\n",
    "    p = 1/(1+np.exp(-h1))  # преобразование в \"вероятности\"\n",
    "\n",
    "    # расчет энтропии с усреднением по размеру батча\n",
    "    bce = (-np.sum(np.multiply(np.log(p), y) +\n",
    "                   np.multiply((1 - y), np.log(1 - p)))) / batch_size\n",
    "\n",
    "    losses_test.append(bce)\n",
    "    predicted.extend(p)\n",
    "    true_lbls.extend(y)"
   ]
  },
  {
   "cell_type": "markdown",
   "metadata": {
    "id": "259SOuP5K2HR"
   },
   "source": [
    "Проверим, что для каждого семпла у нас есть предсказание:"
   ]
  },
  {
   "cell_type": "code",
   "execution_count": 23,
   "metadata": {
    "colab": {
     "base_uri": "https://localhost:8080/",
     "height": 34
    },
    "id": "J3NQGFxfJY-4",
    "outputId": "2f71ca0f-f296-481d-b076-1b80a4385b4e"
   },
   "outputs": [
    {
     "name": "stdout",
     "output_type": "stream",
     "text": [
      "2038 2038\n"
     ]
    }
   ],
   "source": [
    "print(len(predicted), len(true_lbls))"
   ]
  },
  {
   "cell_type": "markdown",
   "metadata": {
    "id": "xWJ3fjLhK9z4"
   },
   "source": [
    "Теперь применим стандартную F-меру и оценим нашу модель."
   ]
  },
  {
   "cell_type": "code",
   "execution_count": 24,
   "metadata": {
    "colab": {
     "base_uri": "https://localhost:8080/",
     "height": 34
    },
    "id": "BbD-n9rVJlBe",
    "outputId": "1f3fb485-9ec7-42f6-aba8-6e390cef1b60"
   },
   "outputs": [
    {
     "name": "stdout",
     "output_type": "stream",
     "text": [
      "F1 score is equal to: 0.87\n"
     ]
    }
   ],
   "source": [
    "pred = np.array([round(i[0]) for i in predicted])\n",
    "\n",
    "# у нас были вероятности, а нужны классы\n",
    "# поэтому просто округлим каждое значение и получим лейблы\n",
    "t_lbls = np.array(true_lbls).squeeze()  # снимем лишнюю размерность\n",
    "\n",
    "f1 = f1_score(pred, t_lbls, average='weighted')\n",
    "print('F1 score is equal to: {0:0.02f}'.format(f1))"
   ]
  },
  {
   "cell_type": "markdown",
   "metadata": {
    "id": "vMxfUk9DLfNx"
   },
   "source": [
    "Сделайте то же самое для своей модели."
   ]
  },
  {
   "cell_type": "code",
   "execution_count": 25,
   "metadata": {
    "id": "plkig1rcLmG_"
   },
   "outputs": [],
   "source": [
    "losses_test = []\n",
    "predicted = []\n",
    "true_lbls = []\n",
    "\n",
    "for x, y in test_loader:\n",
    "    x = x.view(x.shape[0], -1).numpy()  # (128, 784)\n",
    "    y = np.expand_dims(y.numpy(), 1)  # (128, 1)\n",
    "\n",
    "    # -----------------------\n",
    "\n",
    "    # forward\n",
    "\n",
    "    # z1 - первое линейное преобразование - (BATCH_SIZE, INNER_FEATURES)\n",
    "    z1 = x.dot(w1) + b1  # (128, 300)\n",
    "    # a1 - применение нелинейности - (BATCH_SIZE, INNER_FEATURES)\n",
    "    a1 = 1 / (1 + np.exp(-z1))  # (128, 300)\n",
    "\n",
    "    # z2 - второе нелинейное преобразование - (BATCH_SIZE, 1)\n",
    "    z2 = a1.dot(w2) + b2  # (128, 1)\n",
    "    # pred - сигмоида - (BATCH_SIZE, 1)\n",
    "    pred = 1 / (1 + np.exp(-z2))  # (128, 1)\n",
    "\n",
    "    # -----------------------\n",
    "\n",
    "    # расчет bce\n",
    "\n",
    "    # loss = -(true_labels*log(predicted) + (1-true_labels)*log(1-predicted))\n",
    "    bce = (-np.sum(np.multiply(np.log(pred), y) +\n",
    "                   np.multiply((1 - y), np.log(1 - pred)))) / batch_size\n",
    "\n",
    "    losses_test.append(bce)\n",
    "    predicted.extend(pred)\n",
    "    true_lbls.extend(y)"
   ]
  },
  {
   "cell_type": "code",
   "execution_count": 26,
   "metadata": {},
   "outputs": [
    {
     "data": {
      "text/plain": [
       "True"
      ]
     },
     "execution_count": 26,
     "metadata": {},
     "output_type": "execute_result"
    }
   ],
   "source": [
    "len(predicted) == len(true_lbls)"
   ]
  },
  {
   "cell_type": "code",
   "execution_count": 27,
   "metadata": {},
   "outputs": [
    {
     "name": "stdout",
     "output_type": "stream",
     "text": [
      "F1 score is equal to: 0.97\n"
     ]
    }
   ],
   "source": [
    "pred = np.array([round(i[0]) for i in predicted])\n",
    "\n",
    "t_lbls = np.array(true_lbls).squeeze()\n",
    "\n",
    "f1 = f1_score(pred, t_lbls, average='weighted')\n",
    "print('F1 score is equal to: {0:0.02f}'.format(f1))"
   ]
  },
  {
   "cell_type": "markdown",
   "metadata": {
    "id": "zHg6S-QgN_Mm"
   },
   "source": [
    "## Немного торча\n",
    "#### Мы можем определить нашу модель как последовательность уже существующих слоев, как в керасе."
   ]
  },
  {
   "cell_type": "code",
   "execution_count": 28,
   "metadata": {
    "colab": {
     "base_uri": "https://localhost:8080/"
    },
    "id": "7WkLbwyAN_Mr",
    "outputId": "701a7938-6d56-4870-e967-99302c50b4f5"
   },
   "outputs": [
    {
     "data": {
      "text/plain": [
       "Sequential(\n",
       "  (linear_1): Linear(in_features=784, out_features=256, bias=True)\n",
       "  (relu): ReLU()\n",
       "  (linear_2): Linear(in_features=256, out_features=1, bias=True)\n",
       "  (sigmoid): Sigmoid()\n",
       ")"
      ]
     },
     "execution_count": 28,
     "metadata": {},
     "output_type": "execute_result"
    }
   ],
   "source": [
    "model = torch.nn.Sequential()\n",
    "\n",
    "model.add_module(name='linear_1', module=torch.nn.Linear(in_features=784, out_features=256))\n",
    "model.add_module(name='relu', module=torch.nn.ReLU())\n",
    "model.add_module(name='linear_2', module=torch.nn.Linear(in_features=256, out_features=1))\n",
    "model.add_module(name='sigmoid', module=torch.nn.Sigmoid())\n",
    "\n",
    "model"
   ]
  },
  {
   "cell_type": "markdown",
   "metadata": {
    "id": "xFnSynhmN_Mw"
   },
   "source": [
    "#### Либо так:"
   ]
  },
  {
   "cell_type": "code",
   "execution_count": 29,
   "metadata": {
    "colab": {
     "base_uri": "https://localhost:8080/"
    },
    "id": "NjBXbnSNN_Mx",
    "outputId": "8fc4430a-67b3-410d-b201-2a076d03c67a"
   },
   "outputs": [
    {
     "data": {
      "text/plain": [
       "Sequential(\n",
       "  (0): Linear(in_features=784, out_features=256, bias=True)\n",
       "  (1): ReLU()\n",
       "  (2): Linear(in_features=256, out_features=1, bias=True)\n",
       "  (3): Sigmoid()\n",
       ")"
      ]
     },
     "execution_count": 29,
     "metadata": {},
     "output_type": "execute_result"
    }
   ],
   "source": [
    "model = torch.nn.Sequential(\n",
    "    torch.nn.Linear(in_features=784, out_features=256),\n",
    "    torch.nn.ReLU(),\n",
    "    torch.nn.Linear(in_features=256, out_features=1),\n",
    "    torch.nn.Sigmoid()\n",
    ")\n",
    "\n",
    "model"
   ]
  },
  {
   "cell_type": "markdown",
   "metadata": {
    "id": "MKOnBBifN_M1"
   },
   "source": [
    "## А вот для чего нужно было писать в домашке классы\n",
    "## Для определения своих моделей/слоев/чего вам захочется нам нужно сделать такую структуру"
   ]
  },
  {
   "cell_type": "code",
   "execution_count": 30,
   "metadata": {
    "id": "iNXM6WnUN_M9"
   },
   "outputs": [],
   "source": [
    "# наследуемся от класса torch.nn.Module\n",
    "class MLP(torch.nn.Module):\n",
    "\n",
    "    # определяем метод __init__\n",
    "    # он нужен для того, чтобы мы могли определить нужные нам слои, веса, сохраняемые операции\n",
    "    # передаем ссылку на самого себя первым параметром\n",
    "    # определяем любые другие передаваемые аргументы\n",
    "    # могут быть чем угодно: числа, словари, другие слои, другие модели и вообще все что угодно\n",
    "\n",
    "    def __init__(self, in_features, inner_features, out_features):\n",
    "\n",
    "        # Главная задача этого метода - возможность использования в классе потомке, методов класса-родителя\n",
    "        # Вызываем __init__ родителя - torch.nn.Module\n",
    "        super().__init__()\n",
    "\n",
    "        # определяем слои и все что захотим сохранять/использовать\n",
    "        self.linear_1 = torch.nn.Linear(in_features=in_features, out_features=inner_features)\n",
    "        self.non_linear_function = torch.nn.ReLU()\n",
    "        self.linear_2 = torch.nn.Linear(in_features=inner_features, out_features=out_features)\n",
    "        self.sigmoid = torch.nn.Sigmoid()\n",
    "\n",
    "    # нам нужно обязательно реализовать метод forward\n",
    "    # это то, что нашей модели нужно делать, как оперировать с входными данными, как рассчитывать\n",
    "    # метод backward нам не нужно реализовывать, потому что в торче есть автоматическое дифференцирование\n",
    "    # главное, чтобы наши операции были дифференцируемы\n",
    "    # некоторые подробности можете узнать здесь:\n",
    "    # https://pytorch.org/tutorials/beginner/blitz/autograd_tutorial.html#sphx-glr-beginner-blitz-autograd-tutorial-py\n",
    "    # также список доступных дифференцируемых операций можете посмотреть здесь:\n",
    "    # https://pytorch.org/docs/stable/tensors.html\n",
    "\n",
    "    def forward(self, x):\n",
    "\n",
    "        # наша привычная схема\n",
    "        x = self.linear_1(x)\n",
    "        x = self.non_linear_function(x)\n",
    "        x = self.linear_2(x)\n",
    "        x = self.sigmoid(x)\n",
    "\n",
    "        return x\n",
    "\n",
    "    # мы также можем реализовать любые другие полезные нам методы внутри класса"
   ]
  },
  {
   "cell_type": "code",
   "execution_count": 31,
   "metadata": {
    "id": "Ftetvx8MN_NA"
   },
   "outputs": [
    {
     "data": {
      "text/plain": [
       "MLP(\n",
       "  (linear_1): Linear(in_features=784, out_features=256, bias=True)\n",
       "  (non_linear_function): ReLU()\n",
       "  (linear_2): Linear(in_features=256, out_features=1, bias=True)\n",
       "  (sigmoid): Sigmoid()\n",
       ")"
      ]
     },
     "execution_count": 31,
     "metadata": {},
     "output_type": "execute_result"
    }
   ],
   "source": [
    "# определяем нашу модель\n",
    "model = MLP(in_features=784, inner_features=256, out_features=1)\n",
    "model"
   ]
  },
  {
   "cell_type": "code",
   "execution_count": 32,
   "metadata": {
    "colab": {
     "base_uri": "https://localhost:8080/"
    },
    "id": "pa4BG_t_N_NG",
    "outputId": "ac7dbe4a-e253-4ba5-f5ee-8da36cd5b715"
   },
   "outputs": [
    {
     "data": {
      "text/plain": [
       "torch.Size([256, 784])"
      ]
     },
     "execution_count": 32,
     "metadata": {},
     "output_type": "execute_result"
    }
   ],
   "source": [
    "# можем посмотреть веса\n",
    "model.linear_1.weight.shape"
   ]
  },
  {
   "cell_type": "code",
   "execution_count": 33,
   "metadata": {
    "id": "n2hPqcyxN_NQ"
   },
   "outputs": [],
   "source": [
    "# еще нам нужно задать функцию потерь\n",
    "criterion = torch.nn.BCELoss()"
   ]
  },
  {
   "cell_type": "code",
   "execution_count": 34,
   "metadata": {
    "id": "IEpYutCqN_Na"
   },
   "outputs": [],
   "source": [
    "# и оптимизатор, куда нужно передать параметры модели\n",
    "# параметры модели можно взять методом класса .parameters()\n",
    "optimizer = torch.optim.SGD(params=model.parameters(), lr=0.01)"
   ]
  },
  {
   "cell_type": "code",
   "execution_count": 35,
   "metadata": {
    "colab": {
     "base_uri": "https://localhost:8080/"
    },
    "id": "V-ssB6KsN_Nf",
    "outputId": "2538defa-f558-49d4-8103-e415be2c4d62"
   },
   "outputs": [
    {
     "data": {
      "text/plain": [
       "[Parameter containing:\n",
       " tensor([[ 0.0291,  0.0284,  0.0088,  ..., -0.0138,  0.0317,  0.0288],\n",
       "         [-0.0350,  0.0349,  0.0099,  ..., -0.0236, -0.0089,  0.0344],\n",
       "         [ 0.0092, -0.0256,  0.0106,  ..., -0.0216, -0.0350,  0.0253],\n",
       "         ...,\n",
       "         [ 0.0204, -0.0204,  0.0065,  ...,  0.0307, -0.0048,  0.0126],\n",
       "         [-0.0090, -0.0155, -0.0346,  ..., -0.0260, -0.0007, -0.0050],\n",
       "         [-0.0099,  0.0234,  0.0049,  ...,  0.0066,  0.0284, -0.0155]],\n",
       "        requires_grad=True),\n",
       " Parameter containing:\n",
       " tensor([ 2.8833e-02,  2.9575e-02,  1.1621e-02, -2.7623e-02,  1.8095e-02,\n",
       "         -3.0264e-02, -3.4287e-02, -3.0562e-02,  8.1303e-04,  9.5380e-04,\n",
       "          5.0009e-03,  3.0445e-02, -2.7361e-02, -5.7175e-03, -3.2624e-03,\n",
       "          2.6410e-02,  3.3832e-03, -1.8981e-02, -9.2115e-03, -2.5989e-02,\n",
       "         -3.0938e-02, -1.4841e-02, -3.3628e-02,  1.1714e-02,  3.3182e-02,\n",
       "         -1.0284e-02, -1.7307e-02,  2.8895e-02,  3.1603e-02, -3.2353e-02,\n",
       "          1.0347e-02,  2.9754e-02, -3.3758e-02,  1.3917e-02, -1.1893e-02,\n",
       "          2.9741e-02,  2.9468e-02,  3.5563e-02, -2.1822e-02, -2.7315e-02,\n",
       "         -2.9220e-02, -3.4682e-02, -1.0085e-03,  2.6593e-02, -2.7390e-03,\n",
       "         -3.2454e-02,  4.8144e-03,  1.6650e-02,  2.6609e-02,  7.3957e-03,\n",
       "         -5.9696e-03, -3.5238e-02,  2.4868e-02, -1.6144e-02, -3.1263e-02,\n",
       "         -2.9065e-02, -3.4295e-02, -4.4142e-03, -3.4021e-02, -2.3414e-02,\n",
       "          2.4673e-03, -1.6216e-02, -3.1400e-02,  1.1833e-03, -8.2387e-03,\n",
       "          1.5147e-02, -2.6273e-02,  1.9517e-02, -1.5515e-03, -6.5539e-03,\n",
       "         -2.0157e-02,  2.4125e-03,  1.6428e-02,  2.2076e-02, -2.7215e-02,\n",
       "         -2.4315e-02, -3.3315e-02, -3.5701e-02,  7.6897e-03,  2.5962e-02,\n",
       "         -9.2714e-03,  1.2204e-02, -2.0736e-02, -1.4887e-02, -5.2990e-03,\n",
       "          2.4592e-02, -9.7884e-03, -2.6504e-02,  1.5505e-02,  1.0535e-03,\n",
       "          2.0551e-02,  1.1810e-02, -1.7189e-02,  9.4774e-03, -1.6981e-02,\n",
       "          8.8227e-04,  3.3006e-02, -1.7444e-02, -2.0871e-02,  1.3304e-02,\n",
       "         -2.9239e-02, -2.4920e-02, -2.2906e-02,  3.4900e-02, -5.9344e-03,\n",
       "         -8.9425e-04, -9.2183e-03,  2.9171e-02,  1.3698e-02, -2.5784e-02,\n",
       "         -3.5581e-02, -5.3941e-03, -2.2150e-02, -5.2198e-03,  1.2240e-02,\n",
       "         -7.5094e-03,  3.8350e-03,  1.1568e-02, -2.2096e-02,  2.6677e-02,\n",
       "         -1.5486e-02,  3.5212e-02,  2.5752e-02,  2.8537e-02,  1.4468e-02,\n",
       "          1.3007e-03,  2.5088e-02,  2.5121e-02,  2.9884e-02,  3.4590e-03,\n",
       "          1.8768e-02,  8.9959e-03,  6.6414e-03,  2.4895e-02, -3.3897e-02,\n",
       "          4.9735e-03, -2.7858e-02,  2.3728e-02,  1.6584e-02, -3.4497e-02,\n",
       "         -2.4788e-02,  2.7920e-02, -8.9768e-04,  1.4468e-02,  2.2064e-02,\n",
       "         -2.8545e-02,  2.7528e-03,  5.4157e-03,  1.6630e-02, -2.8149e-02,\n",
       "         -3.4904e-02,  1.7076e-02, -3.4711e-02, -5.2495e-03,  1.6651e-02,\n",
       "         -2.0897e-02,  1.6473e-02, -6.4023e-03, -2.3120e-02, -1.5832e-02,\n",
       "         -1.5164e-02, -1.1477e-02, -7.8248e-03, -1.9080e-02,  3.0678e-02,\n",
       "         -3.4338e-02, -2.3110e-02,  2.8938e-04,  1.9015e-02, -1.2207e-02,\n",
       "          4.5389e-03,  8.2475e-03, -3.9437e-03, -6.0919e-03, -3.0796e-02,\n",
       "         -9.9633e-03, -9.6057e-03,  1.4331e-03, -3.5199e-02, -9.5528e-03,\n",
       "          1.7278e-02, -2.6041e-02, -5.0319e-03, -8.4173e-04, -4.3008e-03,\n",
       "          9.4195e-03,  2.4167e-02,  1.3392e-02, -2.5981e-02,  1.8780e-02,\n",
       "          3.0662e-02,  2.7371e-02, -3.6464e-03, -3.2340e-02, -5.2229e-03,\n",
       "         -3.0690e-02, -2.8814e-03,  1.8624e-02, -5.7398e-03,  3.3795e-02,\n",
       "         -1.1948e-02,  2.3093e-02,  6.9698e-03, -6.6718e-03,  2.5244e-02,\n",
       "          2.1986e-02,  2.8039e-03,  1.9337e-02,  2.1992e-02,  1.3819e-02,\n",
       "         -2.3132e-02, -3.4548e-02,  2.6463e-02,  1.9212e-02, -2.6798e-02,\n",
       "         -8.0166e-04, -3.2059e-02,  4.6007e-03, -3.1828e-03,  1.5014e-02,\n",
       "          3.3588e-02,  2.9937e-02,  1.9039e-02, -1.7175e-02, -2.9127e-02,\n",
       "          3.5131e-02, -1.8990e-02, -2.1575e-02,  2.3970e-02,  8.2634e-05,\n",
       "         -7.1242e-03,  2.7081e-02, -2.9947e-02,  2.9229e-02,  3.0113e-02,\n",
       "         -4.0287e-04, -2.6265e-02,  3.7871e-03,  1.9407e-02, -1.5221e-02,\n",
       "         -1.6953e-02,  2.0938e-02, -2.9566e-02,  1.5033e-02,  4.2745e-03,\n",
       "          2.8539e-02,  7.6873e-03,  2.5934e-02,  4.6594e-03,  3.3549e-02,\n",
       "          2.8683e-02, -3.0880e-03,  7.0880e-03, -2.6769e-02,  3.3274e-02,\n",
       "         -2.6477e-02], requires_grad=True),\n",
       " Parameter containing:\n",
       " tensor([[-0.0291,  0.0057,  0.0131, -0.0604,  0.0622, -0.0416,  0.0025,  0.0337,\n",
       "           0.0051, -0.0440, -0.0143, -0.0335, -0.0026,  0.0103,  0.0585,  0.0478,\n",
       "           0.0087, -0.0241,  0.0295,  0.0591,  0.0013, -0.0198, -0.0588, -0.0343,\n",
       "           0.0202,  0.0460, -0.0023, -0.0413,  0.0241, -0.0073, -0.0506, -0.0504,\n",
       "           0.0065,  0.0045,  0.0347, -0.0306,  0.0421,  0.0505,  0.0052,  0.0541,\n",
       "          -0.0153, -0.0203,  0.0057,  0.0293,  0.0051,  0.0581,  0.0141, -0.0057,\n",
       "          -0.0058, -0.0467, -0.0350, -0.0022, -0.0305,  0.0353,  0.0546, -0.0025,\n",
       "          -0.0089, -0.0283,  0.0355,  0.0078,  0.0577,  0.0432,  0.0434, -0.0580,\n",
       "          -0.0461,  0.0228,  0.0437, -0.0350, -0.0109,  0.0455, -0.0369, -0.0354,\n",
       "           0.0270,  0.0269, -0.0516,  0.0472, -0.0378, -0.0239, -0.0620, -0.0280,\n",
       "           0.0384, -0.0265, -0.0330,  0.0159,  0.0524, -0.0138,  0.0515, -0.0285,\n",
       "          -0.0405,  0.0241,  0.0086, -0.0087,  0.0181, -0.0173, -0.0140, -0.0369,\n",
       "          -0.0128,  0.0185, -0.0031, -0.0210,  0.0443, -0.0447,  0.0578, -0.0142,\n",
       "           0.0254,  0.0151, -0.0591,  0.0335,  0.0158, -0.0473, -0.0433,  0.0498,\n",
       "           0.0558,  0.0337, -0.0580,  0.0020, -0.0059,  0.0222, -0.0256,  0.0430,\n",
       "          -0.0036,  0.0618, -0.0016,  0.0533, -0.0492,  0.0524,  0.0248, -0.0590,\n",
       "          -0.0420, -0.0158,  0.0557,  0.0023,  0.0564, -0.0619, -0.0287,  0.0382,\n",
       "           0.0406,  0.0100,  0.0187, -0.0334, -0.0144, -0.0594, -0.0210, -0.0346,\n",
       "          -0.0451,  0.0593,  0.0382,  0.0281, -0.0462, -0.0033,  0.0234, -0.0471,\n",
       "           0.0118, -0.0240,  0.0026,  0.0217, -0.0279, -0.0552,  0.0215, -0.0030,\n",
       "          -0.0619, -0.0443,  0.0605,  0.0153,  0.0082, -0.0345, -0.0124,  0.0391,\n",
       "          -0.0013,  0.0013, -0.0113,  0.0127,  0.0584,  0.0257,  0.0318,  0.0236,\n",
       "          -0.0099, -0.0500,  0.0171,  0.0164, -0.0326,  0.0194, -0.0602, -0.0439,\n",
       "           0.0076,  0.0493, -0.0418, -0.0064, -0.0147,  0.0113, -0.0422, -0.0167,\n",
       "           0.0007, -0.0352,  0.0041, -0.0475, -0.0547, -0.0400,  0.0232,  0.0487,\n",
       "          -0.0212,  0.0012,  0.0194,  0.0105, -0.0233,  0.0171, -0.0148,  0.0009,\n",
       "           0.0023,  0.0342,  0.0366, -0.0125, -0.0121,  0.0177,  0.0292,  0.0280,\n",
       "           0.0421,  0.0054, -0.0004, -0.0446,  0.0510, -0.0061,  0.0563,  0.0056,\n",
       "          -0.0234,  0.0611, -0.0486, -0.0559,  0.0382,  0.0370,  0.0489, -0.0078,\n",
       "          -0.0574, -0.0599, -0.0057, -0.0058,  0.0197,  0.0479,  0.0241, -0.0115,\n",
       "           0.0157,  0.0436, -0.0227,  0.0493,  0.0548,  0.0080,  0.0338,  0.0114,\n",
       "           0.0533,  0.0317,  0.0309, -0.0317,  0.0596,  0.0087,  0.0377, -0.0216]],\n",
       "        requires_grad=True),\n",
       " Parameter containing:\n",
       " tensor([-0.0530], requires_grad=True)]"
      ]
     },
     "execution_count": 35,
     "metadata": {},
     "output_type": "execute_result"
    }
   ],
   "source": [
    "# можем посмотреть на параметры нашей модели\n",
    "params = list(model.parameters())\n",
    "params"
   ]
  },
  {
   "cell_type": "markdown",
   "metadata": {
    "id": "5dnDbvw0N_No"
   },
   "source": [
    "# Обучим нашу модель"
   ]
  },
  {
   "cell_type": "code",
   "execution_count": 36,
   "metadata": {
    "colab": {
     "base_uri": "https://localhost:8080/",
     "height": 235
    },
    "id": "O8ayasdLN_Np",
    "outputId": "562e950a-927e-4dfa-971f-4248c56b5a9a"
   },
   "outputs": [],
   "source": [
    "# давайте сохранять значения нашей функции потерь каждую итерацию обучения\n",
    "losses = []\n",
    "\n",
    "# эта штука все еще отдает нам батчи данных\n",
    "# мы поговорим про нее позже\n",
    "for x, y in train_loader:\n",
    "\n",
    "    x = x.view(x.shape[0], -1)\n",
    "    y = y.unsqueeze(1).float()\n",
    "\n",
    "    # обновим наши градиенты\n",
    "    # будем делать это каждую итерацию обучения\n",
    "    # потому что торч сохраняет в себе все градиенты пока не удалите таким образом рассчитанные градиенты\n",
    "\n",
    "    # НЕОБЯЗАТЕЛЬНЫЕ ДЕТАЛИ\n",
    "    # функция сохранения градиентов нужна для аккамуляции градиентов\n",
    "    # например, когда нам не хватает памяти на большой батч\n",
    "    # мы можем несколько раз прогнать forward на разных батчах\n",
    "    # наши градиенты будут сохраняться\n",
    "    # и только потом обновить через несколько итераций forward обновить наши веса\n",
    "    # таким образом у нас получается больше батч\n",
    "\n",
    "    optimizer.zero_grad()\n",
    "\n",
    "    # предсказание нашей модели\n",
    "    # здесь торч сам сохраняет необходимую информацию\n",
    "    # чтобы понять эту логику у нас как раз и была часть домашки про собственные классы\n",
    "    # торч строит динамический граф вычислений\n",
    "    # то есть строит граф по тем операциям, которые вы определили в методе forward\n",
    "    # то есть торч понимает, что вы сначала применили линейное преобразование\n",
    "    # знает, где лежат веса для этого линейного преобразования\n",
    "    # знает, что вы затем применили релу\n",
    "    # затем опять линейное преобразование\n",
    "    # затем сигмоиду\n",
    "    # и вот таким образом торч выстроил граф\n",
    "    # который нужен будет для backpropogation\n",
    "\n",
    "    pred = model(x)\n",
    "\n",
    "    # рассчитываем функцию потерь, добавляя в наш граф вычислений этот узел\n",
    "    loss = criterion(pred, y.float())\n",
    "\n",
    "    # вызываем метод backward() от нашей функции потерь (это крайний узел нашего графа вычислений)\n",
    "    # этот метод проходит от конца графа в начало, вычисляя необходимые градиенты\n",
    "    # передаем градиенты на следующие узлы\n",
    "    # для весов сохраняет\n",
    "    # то есть это почти то же самое, что мы делали в домашке с классами\n",
    "\n",
    "    loss.backward()\n",
    "\n",
    "    # теперь мы знаем необходимые градиенты и можем обновить веса с помощью градиентного спуска\n",
    "    optimizer.step()\n",
    "\n",
    "    # сохраним текущее значение функции потерь, чтобы потом могли посмотреть на график\n",
    "    # очень важный момент: нам нужно отсоединить значение нашей фунции потерь от графа вычислений\n",
    "    # чтобы граф не строился дальше на каждой итерации обучения\n",
    "    # так мы рано или поздно переполним память\n",
    "    # поэтому вызываем этот метод\n",
    "    # работает для скаляров\n",
    "    # для тензоров работает метод .tolist()\n",
    "    current_loss_value = loss.item()\n",
    "    losses.append(loss.item())"
   ]
  },
  {
   "cell_type": "markdown",
   "metadata": {
    "id": "KhopLN33N_Nw"
   },
   "source": [
    "Одна эпоха прошла."
   ]
  },
  {
   "cell_type": "code",
   "execution_count": 37,
   "metadata": {
    "colab": {
     "base_uri": "https://localhost:8080/",
     "height": 235
    },
    "id": "SIGFnAeMN_Nz",
    "outputId": "e225e2b2-28dd-4ffa-d8b6-fd42ebca2e08"
   },
   "outputs": [
    {
     "data": {
      "text/plain": [
       "Text(0, 0.5, 'Loss function')"
      ]
     },
     "execution_count": 37,
     "metadata": {},
     "output_type": "execute_result"
    },
    {
     "data": {
      "image/png": "[encoded data removed]",
      "text/plain": [
       "<Figure size 1008x864 with 1 Axes>"
      ]
     },
     "metadata": {
      "needs_background": "light"
     },
     "output_type": "display_data"
    }
   ],
   "source": [
    "plt.figure(figsize=(14, 12))\n",
    "plt.plot(losses)\n",
    "plt.grid()\n",
    "plt.title('Training process')\n",
    "plt.xlabel('Iterations')\n",
    "plt.ylabel('Loss function')"
   ]
  },
  {
   "cell_type": "markdown",
   "metadata": {
    "id": "8oBFJlYrN_N3"
   },
   "source": [
    "# Теперь мы можем что-то предсказать"
   ]
  },
  {
   "cell_type": "code",
   "execution_count": 38,
   "metadata": {
    "id": "pYQ-5cXnN_N4"
   },
   "outputs": [],
   "source": [
    "for x, y in test_loader:\n",
    "\n",
    "    x = x.view(x.shape[0], -1)\n",
    "    y = y.unsqueeze(1).float()\n",
    "\n",
    "    # чтобы не ходить по всему тестовому датасету, прекратим ходить после первой итерации\n",
    "    break"
   ]
  },
  {
   "cell_type": "code",
   "execution_count": 39,
   "metadata": {
    "id": "Rb3ImXPNN_N_",
    "outputId": "a9ea50e8-2230-4b85-b1e2-d75408597581"
   },
   "outputs": [
    {
     "data": {
      "text/plain": [
       "torch.Size([128, 784])"
      ]
     },
     "execution_count": 39,
     "metadata": {},
     "output_type": "execute_result"
    }
   ],
   "source": [
    "x.shape"
   ]
  },
  {
   "cell_type": "code",
   "execution_count": 40,
   "metadata": {
    "id": "5V_GO6_zN_OE",
    "outputId": "b12de3e1-6478-42b4-82a4-230411f251a6"
   },
   "outputs": [
    {
     "data": {
      "text/plain": [
       "torch.Size([128, 1])"
      ]
     },
     "execution_count": 40,
     "metadata": {},
     "output_type": "execute_result"
    }
   ],
   "source": [
    "y.shape"
   ]
  },
  {
   "cell_type": "code",
   "execution_count": 41,
   "metadata": {
    "id": "_zHM8GRpN_OG",
    "outputId": "1526be79-e75b-4b8f-c7e0-771c0e7960ba"
   },
   "outputs": [
    {
     "data": {
      "text/plain": [
       "MLP(\n",
       "  (linear_1): Linear(in_features=784, out_features=256, bias=True)\n",
       "  (non_linear_function): ReLU()\n",
       "  (linear_2): Linear(in_features=256, out_features=1, bias=True)\n",
       "  (sigmoid): Sigmoid()\n",
       ")"
      ]
     },
     "execution_count": 41,
     "metadata": {},
     "output_type": "execute_result"
    }
   ],
   "source": [
    "# переходим в режим предсказания\n",
    "# позже в курсе мы разберем зачем конкретно это нужно\n",
    "\n",
    "# для искушенного нетерпеливого читателя: дропаут больше не дропаутит,\n",
    "# батч норм больше не нормирует каждый батч,\n",
    "# а использует накопленную статистику при обучении и т.д.\n",
    "\n",
    "model.eval()"
   ]
  },
  {
   "cell_type": "code",
   "execution_count": 42,
   "metadata": {
    "id": "CT4N0ZAPN_OI"
   },
   "outputs": [],
   "source": [
    "# этот контект позволяет не сохранять необходимую информацию для рассчета градиентов\n",
    "with torch.no_grad():\n",
    "    pred = model(x)"
   ]
  },
  {
   "cell_type": "code",
   "execution_count": 43,
   "metadata": {
    "id": "R48ZI_iJN_OK",
    "outputId": "193d89f9-61e1-4a96-8445-7b47d57ff8d1"
   },
   "outputs": [
    {
     "data": {
      "text/plain": [
       "torch.Size([128, 1])"
      ]
     },
     "execution_count": 43,
     "metadata": {},
     "output_type": "execute_result"
    }
   ],
   "source": [
    "pred.shape"
   ]
  },
  {
   "cell_type": "code",
   "execution_count": 44,
   "metadata": {
    "id": "Azbcidg1N_OM"
   },
   "outputs": [],
   "source": [
    "# избавимся от единичной размерности\n",
    "pred = pred.squeeze()\n",
    "y = y.squeeze()"
   ]
  },
  {
   "cell_type": "code",
   "execution_count": 45,
   "metadata": {
    "id": "L7zm8vzBN_OO",
    "outputId": "67f0fe47-50f7-44c8-9148-701fdec25e1f"
   },
   "outputs": [
    {
     "data": {
      "text/plain": [
       "torch.Size([128])"
      ]
     },
     "execution_count": 45,
     "metadata": {},
     "output_type": "execute_result"
    }
   ],
   "source": [
    "pred.shape"
   ]
  },
  {
   "cell_type": "code",
   "execution_count": 46,
   "metadata": {
    "id": "JBARJLDIN_OT"
   },
   "outputs": [],
   "source": [
    "# таким образом из торчовых тензоров мы можем сделать нумпаевские массивы\n",
    "pred = pred.numpy()\n",
    "y = y.numpy()"
   ]
  },
  {
   "cell_type": "code",
   "execution_count": 47,
   "metadata": {
    "id": "8Y4gi0q7N_OZ",
    "outputId": "a170d0d4-c6a8-408e-c3bf-1148de786113"
   },
   "outputs": [
    {
     "data": {
      "text/plain": [
       "array([1., 1., 0., 1., 0., 0., 1., 1., 1., 0., 0., 1., 0., 1., 0., 1., 1.,\n",
       "       0., 1., 1., 1., 1., 0., 0., 0., 1., 1., 0., 1., 1., 1., 1., 1., 0.,\n",
       "       1., 0., 1., 0., 1., 0., 0., 0., 0., 0., 1., 1., 1., 0., 0., 1., 1.,\n",
       "       0., 1., 1., 1., 1., 0., 1., 1., 1., 0., 0., 0., 0., 1., 0., 0., 1.,\n",
       "       0., 0., 1., 0., 1., 0., 0., 1., 0., 0., 1., 1., 1., 1., 0., 1., 0.,\n",
       "       0., 0., 0., 0., 0., 1., 1., 0., 1., 0., 0., 0., 1., 0., 1., 0., 0.,\n",
       "       0., 0., 0., 1., 1., 1., 1., 0., 0., 0., 0., 0., 0., 1., 1., 0., 0.,\n",
       "       1., 0., 1., 1., 0., 1., 0., 0., 1.], dtype=float32)"
      ]
     },
     "execution_count": 47,
     "metadata": {},
     "output_type": "execute_result"
    }
   ],
   "source": [
    "y"
   ]
  },
  {
   "cell_type": "code",
   "execution_count": 48,
   "metadata": {
    "id": "QPlZdMfiN_Og",
    "outputId": "3673c2d3-fffe-4112-97d7-a31c06691daa"
   },
   "outputs": [
    {
     "data": {
      "text/plain": [
       "numpy.ndarray"
      ]
     },
     "execution_count": 48,
     "metadata": {},
     "output_type": "execute_result"
    }
   ],
   "source": [
    "type(y)"
   ]
  },
  {
   "cell_type": "code",
   "execution_count": 49,
   "metadata": {
    "id": "Ck7Voa7HN_Ok"
   },
   "outputs": [],
   "source": [
    "# бинаризируем наши предсказания\n",
    "pred[pred > 0.5] = 1\n",
    "pred[pred <= 0.5] = 0"
   ]
  },
  {
   "cell_type": "code",
   "execution_count": 50,
   "metadata": {
    "id": "Ts85uzXFN_Om",
    "outputId": "62122006-ec73-4b48-ccb2-ca6ad01d42a2"
   },
   "outputs": [
    {
     "data": {
      "text/plain": [
       "0.953125"
      ]
     },
     "execution_count": 50,
     "metadata": {},
     "output_type": "execute_result"
    }
   ],
   "source": [
    "# посчитаем метрику на батче\n",
    "accuracy_score(y, pred)"
   ]
  },
  {
   "cell_type": "code",
   "execution_count": 51,
   "metadata": {
    "id": "yoynJ1-2N_Op"
   },
   "outputs": [],
   "source": [
    "# заново определим нашу модель и выучимся несколько эпох\n",
    "# будут уже новые параметры\n",
    "model = MLP(in_features=784, inner_features=256, out_features=1)\n",
    "\n",
    "criterion = torch.nn.BCELoss()\n",
    "# мы позже поговорим про этот оптимизационный алгоритм\n",
    "optimizer = torch.optim.Adam(params=model.parameters())"
   ]
  },
  {
   "cell_type": "markdown",
   "metadata": {
    "id": "hzBgaRe7N_Os"
   },
   "source": [
    "# Типичный цикл обучения с кучей сохранений лоссов"
   ]
  },
  {
   "cell_type": "code",
   "execution_count": 52,
   "metadata": {
    "id": "1zO6ruQbN_Ot",
    "outputId": "7d4304f2-a0f5-4c08-bd00-098719fe4df9"
   },
   "outputs": [
    {
     "name": "stderr",
     "output_type": "stream",
     "text": [
      "Epoch 1: 100%|██████████████████████████████████████████████| 12396/12396 [00:02<00:00, 4763.96it/s, train_loss=0.0721]\n",
      "Epoch 2:   6%|██▉                                             | 768/12396 [00:00<00:02, 4313.98it/s, train_loss=0.0561]"
     ]
    },
    {
     "name": "stdout",
     "output_type": "stream",
     "text": [
      "Losses: train - 0.072, test = 0.057\n",
      "Test: accuracy - 0.980\n"
     ]
    },
    {
     "name": "stderr",
     "output_type": "stream",
     "text": [
      "Epoch 2: 100%|██████████████████████████████████████████████| 12396/12396 [00:02<00:00, 4662.10it/s, train_loss=0.0313]\n",
      "Epoch 3:   6%|██▉                                             | 768/12396 [00:00<00:02, 5092.91it/s, train_loss=0.0283]"
     ]
    },
    {
     "name": "stdout",
     "output_type": "stream",
     "text": [
      "Losses: train - 0.030, test = 0.037\n",
      "Test: accuracy - 0.988\n"
     ]
    },
    {
     "name": "stderr",
     "output_type": "stream",
     "text": [
      "Epoch 3: 100%|██████████████████████████████████████████████| 12396/12396 [00:02<00:00, 4699.54it/s, train_loss=0.0186]\n",
      "Epoch 4:   7%|███▍                                            | 896/12396 [00:00<00:02, 4984.21it/s, train_loss=0.0178]"
     ]
    },
    {
     "name": "stdout",
     "output_type": "stream",
     "text": [
      "Losses: train - 0.019, test = 0.025\n",
      "Test: accuracy - 0.991\n"
     ]
    },
    {
     "name": "stderr",
     "output_type": "stream",
     "text": [
      "Epoch 4: 100%|██████████████████████████████████████████████| 12396/12396 [00:02<00:00, 4693.79it/s, train_loss=0.0116]\n",
      "Epoch 5:   6%|██▉                                             | 768/12396 [00:00<00:02, 4503.19it/s, train_loss=0.0112]"
     ]
    },
    {
     "name": "stdout",
     "output_type": "stream",
     "text": [
      "Losses: train - 0.012, test = 0.022\n",
      "Test: accuracy - 0.992\n"
     ]
    },
    {
     "name": "stderr",
     "output_type": "stream",
     "text": [
      "Epoch 5: 100%|█████████████████████████████████████████████| 12396/12396 [00:02<00:00, 4618.79it/s, train_loss=0.00809]\n"
     ]
    },
    {
     "name": "stdout",
     "output_type": "stream",
     "text": [
      "Losses: train - 0.008, test = 0.022\n",
      "Test: accuracy - 0.993\n",
      "Early stopping\n"
     ]
    }
   ],
   "source": [
    "epochs = 10\n",
    "losses = []\n",
    "# нужно для early stopping, то есть трекать лучший лосс на валидации\n",
    "best_test_loss = 10.\n",
    "\n",
    "for n_epoch in range(epochs):\n",
    "\n",
    "    train_losses = []\n",
    "    test_losses = []\n",
    "    test_preds = []\n",
    "    test_targets = []\n",
    "\n",
    "    progress_bar = tqdm(total=len(train_loader.dataset), desc='Epoch {}'.format(n_epoch + 1))\n",
    "\n",
    "    for x, y in train_loader:\n",
    "\n",
    "        x = x.view(x.shape[0], -1)\n",
    "        y = y.unsqueeze(1).float()\n",
    "\n",
    "        optimizer.zero_grad()\n",
    "\n",
    "        pred = model(x)\n",
    "\n",
    "        loss = criterion(pred, y.float())\n",
    "\n",
    "        loss.backward()\n",
    "\n",
    "        optimizer.step()\n",
    "\n",
    "        train_losses.append(loss.item())\n",
    "        losses.append(loss.item())\n",
    "\n",
    "        progress_bar.set_postfix(train_loss=np.mean(losses[-100:]))\n",
    "\n",
    "        progress_bar.update(x.shape[0])\n",
    "\n",
    "    progress_bar.close()\n",
    "\n",
    "    for x, y in test_loader:\n",
    "\n",
    "        x = x.view(x.shape[0], -1)\n",
    "        y = y.unsqueeze(1).float()\n",
    "\n",
    "        with torch.no_grad():\n",
    "\n",
    "            pred = model(x)\n",
    "\n",
    "        test_preds.append(pred.numpy())\n",
    "        test_targets.append(y.numpy())\n",
    "\n",
    "        loss = criterion(pred, y)\n",
    "\n",
    "        test_losses.append(loss.item())\n",
    "\n",
    "    mean_test_loss = np.mean(test_losses)\n",
    "\n",
    "    print('Losses: train - {:.3f}, test = {:.3f}'.format(np.mean(train_losses), mean_test_loss))\n",
    "\n",
    "    test_preds = np.concatenate(test_preds)\n",
    "    test_preds = test_preds.squeeze()\n",
    "    test_targets = np.concatenate(test_targets).squeeze()\n",
    "\n",
    "    test_preds[test_preds > 0.5] = 1\n",
    "    test_preds[test_preds <= 0.5] = 0\n",
    "\n",
    "    accurary = accuracy_score(test_targets, test_preds)\n",
    "\n",
    "    print('Test: accuracy - {:.3f}'.format(accurary))\n",
    "\n",
    "    # как раз early stopping\n",
    "    # то есть: если наша функция потерь на валидационном датасете стала расти, то прекращаем обучение\n",
    "    # рост фунции потерь на валидационном датасете говорит о переобучении\n",
    "    # пожалуй, самый популярный метод валидации для нейронных сетей\n",
    "    if mean_test_loss < best_test_loss:\n",
    "        best_test_loss = mean_test_loss\n",
    "    else:\n",
    "        print('Early stopping')\n",
    "        break"
   ]
  },
  {
   "cell_type": "code",
   "execution_count": 53,
   "metadata": {
    "id": "U4URcBJPN_Ow",
    "outputId": "c5b2dd03-5307-4d95-80e5-99a3b65a3f65"
   },
   "outputs": [
    {
     "data": {
      "text/plain": [
       "Text(0, 0.5, 'Loss function')"
      ]
     },
     "execution_count": 53,
     "metadata": {},
     "output_type": "execute_result"
    },
    {
     "data": {
      "image/png": "[encoded data removed]",
      "text/plain": [
       "<Figure size 1008x864 with 1 Axes>"
      ]
     },
     "metadata": {
      "needs_background": "light"
     },
     "output_type": "display_data"
    }
   ],
   "source": [
    "plt.figure(figsize=(14, 12))\n",
    "plt.plot(losses)\n",
    "plt.grid()\n",
    "plt.title('Training process')\n",
    "plt.xlabel('Iterations')\n",
    "plt.ylabel('Loss function')"
   ]
  }
 ],
 "metadata": {
  "accelerator": "GPU",
  "colab": {
   "name": "Homework1Part1.ipynb",
   "provenance": []
  },
  "kernelspec": {
   "display_name": "Python 3",
   "language": "python",
   "name": "python3"
  },
  "language_info": {
   "codemirror_mode": {
    "name": "ipython",
    "version": 3
   },
   "file_extension": ".py",
   "mimetype": "text/x-python",
   "name": "python",
   "nbconvert_exporter": "python",
   "pygments_lexer": "ipython3",
   "version": "3.8.8"
  }
 },
 "nbformat": 4,
 "nbformat_minor": 1
}
