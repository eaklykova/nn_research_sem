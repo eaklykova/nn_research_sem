{
 "cells": [
  {
   "cell_type": "markdown",
   "metadata": {
    "id": "-kHuaXOYylHY"
   },
   "source": [
    "# Домашняя работа №2\n",
    "### Выполнила Елизавета Клыкова, БКЛ181\n",
    "Включаем проверку на PEP-8, импортируем библиотеки..."
   ]
  },
  {
   "cell_type": "code",
   "execution_count": 1,
   "metadata": {
    "id": "Sodxa_Q3ylHa"
   },
   "outputs": [],
   "source": [
    "%load_ext pycodestyle_magic\n",
    "%pycodestyle_on"
   ]
  },
  {
   "cell_type": "code",
   "execution_count": 2,
   "metadata": {
    "id": "9ogw9Qf-ylHb"
   },
   "outputs": [],
   "source": [
    "import json\n",
    "import random\n",
    "import numpy as np\n",
    "from tqdm import tqdm\n",
    "from collections import Counter\n",
    "\n",
    "from matplotlib import pyplot as plt\n",
    "from sklearn.decomposition import TruncatedSVD\n",
    "from sklearn.manifold import TSNE\n",
    "\n",
    "import torch\n",
    "\n",
    "from pylab import rcParams\n",
    "rcParams['figure.figsize'] = 15, 15"
   ]
  },
  {
   "cell_type": "markdown",
   "metadata": {},
   "source": [
    "Задаем сид, чтобы результаты воспроизводились:"
   ]
  },
  {
   "cell_type": "code",
   "execution_count": 3,
   "metadata": {},
   "outputs": [],
   "source": [
    "random.seed(117)\n",
    "np.random.seed(117)\n",
    "torch.manual_seed(117)\n",
    "torch.cuda.manual_seed(117)\n",
    "torch.backends.cudnn.deterministic = True"
   ]
  },
  {
   "cell_type": "code",
   "execution_count": 4,
   "metadata": {},
   "outputs": [
    {
     "data": {
      "text/plain": [
       "True"
      ]
     },
     "execution_count": 4,
     "metadata": {},
     "output_type": "execute_result"
    }
   ],
   "source": [
    "# самая сложная часть в домашке\n",
    "torch.cuda.is_available()"
   ]
  },
  {
   "cell_type": "markdown",
   "metadata": {
    "id": "p0XyJ4gjylHc"
   },
   "source": [
    "# Что делать?\n",
    "Где есть пометка # CODE писать код\n",
    "\n",
    "[Полезный туториал](http://jalammar.github.io/illustrated-word2vec/)"
   ]
  },
  {
   "cell_type": "markdown",
   "metadata": {
    "id": "LvRPq5eMylHd"
   },
   "source": [
    "# Загружаем данные\n",
    "Они уже обработанные и токенизированные. Процесс можно посмотреть в тетрадке *preprocessing.ipynb*."
   ]
  },
  {
   "cell_type": "code",
   "execution_count": 5,
   "metadata": {
    "id": "0zFw19ZkylHd"
   },
   "outputs": [],
   "source": [
    "# не забыть разархивировать файл\n",
    "with open('data/processed_corpus.json', 'r', encoding='utf-8') as f:\n",
    "    corpus = json.load(f)"
   ]
  },
  {
   "cell_type": "code",
   "execution_count": 6,
   "metadata": {
    "colab": {
     "base_uri": "https://localhost:8080/"
    },
    "id": "xRTFqU1aylHd",
    "outputId": "4ecd5d96-1176-471c-eed1-cb785379d5de"
   },
   "outputs": [
    {
     "data": {
      "text/plain": [
       "100000"
      ]
     },
     "execution_count": 6,
     "metadata": {},
     "output_type": "execute_result"
    }
   ],
   "source": [
    "len(corpus)"
   ]
  },
  {
   "cell_type": "code",
   "execution_count": 7,
   "metadata": {
    "colab": {
     "base_uri": "https://localhost:8080/"
    },
    "id": "Zle5RPGYylHe",
    "outputId": "3cbe6d50-dbb3-4843-8d8a-c7cc95e96cc7"
   },
   "outputs": [
    {
     "name": "stdout",
     "output_type": "stream",
     "text": [
      "второй UNK год окончательно разочаровать решить податься альфабанк\n",
      "вернуть денежный средство лицевой счёт либо зачесть счёт погашение кредит\n",
      "притом ситуация решиться участие течение сутки заявить\n",
      "мой ##число летний жизнь это самый неповоротливый работник банк который видеть\n",
      "везде написать вклад принимать очередь это\n"
     ]
    }
   ],
   "source": [
    "for text in corpus[:5]:\n",
    "    print(' '.join(text))"
   ]
  },
  {
   "cell_type": "markdown",
   "metadata": {
    "id": "3wEOsZy-ylHf"
   },
   "source": [
    "# CBOW"
   ]
  },
  {
   "cell_type": "code",
   "execution_count": 8,
   "metadata": {
    "id": "xdFI45Q2ylHf"
   },
   "outputs": [],
   "source": [
    "sample_text = corpus[1]"
   ]
  },
  {
   "cell_type": "code",
   "execution_count": 9,
   "metadata": {
    "colab": {
     "base_uri": "https://localhost:8080/",
     "height": 35
    },
    "id": "KmAH2t3jylHf",
    "outputId": "26aff8bd-ec98-40b5-ade0-04bd7c968a6f"
   },
   "outputs": [
    {
     "data": {
      "text/plain": [
       "'вернуть денежный средство лицевой счёт либо зачесть счёт погашение кредит'"
      ]
     },
     "execution_count": 9,
     "metadata": {},
     "output_type": "execute_result"
    }
   ],
   "source": [
    "' '.join(sample_text)"
   ]
  },
  {
   "cell_type": "markdown",
   "metadata": {
    "id": "p2CQHSsHylHf"
   },
   "source": [
    "# Реализуйте разделение предложения на примеры методом CBOW"
   ]
  },
  {
   "cell_type": "code",
   "execution_count": 10,
   "metadata": {
    "id": "3Ub-BY7eylHg"
   },
   "outputs": [],
   "source": [
    "def cbow_split(tokens, window, pad_token='PAD'):\n",
    "\n",
    "    splits = []\n",
    "    text_len = len(tokens)\n",
    "\n",
    "    for n in range(text_len):\n",
    "\n",
    "        # центральное слово\n",
    "        central_word = tokens[n]\n",
    "\n",
    "        # левый контекст\n",
    "        if (n - window) > 0:\n",
    "            left_context = tokens[(n-window):n]\n",
    "        else:\n",
    "            left_context = tokens[0:n]\n",
    "\n",
    "        # добавляем PAD\n",
    "        left_context = [pad_token] * (window - len(left_context)) \\\n",
    "            + left_context\n",
    "\n",
    "        # правый контекст\n",
    "        right_context = tokens[(n+1):(n+window+1)]\n",
    "        right_context += [pad_token] * (window - len(right_context))\n",
    "\n",
    "        splits.append((left_context, central_word, right_context))\n",
    "\n",
    "    return splits"
   ]
  },
  {
   "cell_type": "code",
   "execution_count": 11,
   "metadata": {
    "id": "gVQB9IuDylHg"
   },
   "outputs": [],
   "source": [
    "splits = cbow_split(sample_text, window=2)"
   ]
  },
  {
   "cell_type": "code",
   "execution_count": 12,
   "metadata": {
    "colab": {
     "base_uri": "https://localhost:8080/"
    },
    "id": "puiysD4XylHg",
    "outputId": "82bdd991-cf90-4163-a11a-706511557221",
    "scrolled": true
   },
   "outputs": [
    {
     "name": "stdout",
     "output_type": "stream",
     "text": [
      "Левый контекст: ['PAD', 'PAD']\n",
      "Центральное слово: вернуть\n",
      "Правый контекст: ['денежный', 'средство']\n",
      "\n",
      "Левый контекст: ['PAD', 'вернуть']\n",
      "Центральное слово: денежный\n",
      "Правый контекст: ['средство', 'лицевой']\n",
      "\n",
      "Левый контекст: ['вернуть', 'денежный']\n",
      "Центральное слово: средство\n",
      "Правый контекст: ['лицевой', 'счёт']\n",
      "\n",
      "Левый контекст: ['денежный', 'средство']\n",
      "Центральное слово: лицевой\n",
      "Правый контекст: ['счёт', 'либо']\n",
      "\n",
      "Левый контекст: ['средство', 'лицевой']\n",
      "Центральное слово: счёт\n",
      "Правый контекст: ['либо', 'зачесть']\n",
      "\n",
      "Левый контекст: ['лицевой', 'счёт']\n",
      "Центральное слово: либо\n",
      "Правый контекст: ['зачесть', 'счёт']\n",
      "\n",
      "Левый контекст: ['счёт', 'либо']\n",
      "Центральное слово: зачесть\n",
      "Правый контекст: ['счёт', 'погашение']\n",
      "\n",
      "Левый контекст: ['либо', 'зачесть']\n",
      "Центральное слово: счёт\n",
      "Правый контекст: ['погашение', 'кредит']\n",
      "\n",
      "Левый контекст: ['зачесть', 'счёт']\n",
      "Центральное слово: погашение\n",
      "Правый контекст: ['кредит', 'PAD']\n",
      "\n",
      "Левый контекст: ['счёт', 'погашение']\n",
      "Центральное слово: кредит\n",
      "Правый контекст: ['PAD', 'PAD']\n",
      "\n"
     ]
    }
   ],
   "source": [
    "for sample in splits:\n",
    "    print('Левый контекст:', sample[0])\n",
    "    print('Центральное слово:', sample[1])\n",
    "    print('Правый контекст:', sample[2], end='\\n\\n')"
   ]
  },
  {
   "cell_type": "code",
   "execution_count": 13,
   "metadata": {
    "colab": {
     "base_uri": "https://localhost:8080/"
    },
    "id": "a-igGLbLylHg",
    "outputId": "5759e973-a877-40d5-a24c-9ad5ce0169e0"
   },
   "outputs": [
    {
     "data": {
      "text/plain": [
       "[(['PAD', 'PAD'], 'вернуть', ['денежный', 'средство']),\n",
       " (['PAD', 'вернуть'], 'денежный', ['средство', 'лицевой']),\n",
       " (['вернуть', 'денежный'], 'средство', ['лицевой', 'счёт']),\n",
       " (['денежный', 'средство'], 'лицевой', ['счёт', 'либо']),\n",
       " (['средство', 'лицевой'], 'счёт', ['либо', 'зачесть']),\n",
       " (['лицевой', 'счёт'], 'либо', ['зачесть', 'счёт']),\n",
       " (['счёт', 'либо'], 'зачесть', ['счёт', 'погашение']),\n",
       " (['либо', 'зачесть'], 'счёт', ['погашение', 'кредит']),\n",
       " (['зачесть', 'счёт'], 'погашение', ['кредит', 'PAD']),\n",
       " (['счёт', 'погашение'], 'кредит', ['PAD', 'PAD'])]"
      ]
     },
     "execution_count": 13,
     "metadata": {},
     "output_type": "execute_result"
    }
   ],
   "source": [
    "splits"
   ]
  },
  {
   "cell_type": "markdown",
   "metadata": {
    "id": "1J1ddV4YylHh"
   },
   "source": [
    "# Expected\n",
    "\n",
    "```python\n",
    "[(['PAD', 'PAD'], 'вопрос', ['почему', 'например']),\n",
    " (['PAD', 'вопрос'], 'почему', ['например', 'китайский']),\n",
    " (['вопрос', 'почему'], 'например', ['китайский', 'японский']),\n",
    " (['почему', 'например'], 'китайский', ['японский', 'UNK']),\n",
    " (['например', 'китайский'], 'японский', ['UNK', 'PAD']),\n",
    " (['китайский', 'японский'], 'UNK', ['PAD', 'PAD'])]\n",
    "```"
   ]
  },
  {
   "cell_type": "code",
   "execution_count": 14,
   "metadata": {
    "colab": {
     "base_uri": "https://localhost:8080/"
    },
    "id": "Pe1tmOZ8ylHh",
    "outputId": "9096c35c-1e15-4c3a-adf1-4a7902437ddf"
   },
   "outputs": [
    {
     "data": {
      "text/plain": [
       "[(['PAD', 'PAD', 'PAD'], 'вернуть', ['денежный', 'средство', 'лицевой']),\n",
       " (['PAD', 'PAD', 'вернуть'], 'денежный', ['средство', 'лицевой', 'счёт']),\n",
       " (['PAD', 'вернуть', 'денежный'], 'средство', ['лицевой', 'счёт', 'либо']),\n",
       " (['вернуть', 'денежный', 'средство'], 'лицевой', ['счёт', 'либо', 'зачесть']),\n",
       " (['денежный', 'средство', 'лицевой'], 'счёт', ['либо', 'зачесть', 'счёт']),\n",
       " (['средство', 'лицевой', 'счёт'], 'либо', ['зачесть', 'счёт', 'погашение']),\n",
       " (['лицевой', 'счёт', 'либо'], 'зачесть', ['счёт', 'погашение', 'кредит']),\n",
       " (['счёт', 'либо', 'зачесть'], 'счёт', ['погашение', 'кредит', 'PAD']),\n",
       " (['либо', 'зачесть', 'счёт'], 'погашение', ['кредит', 'PAD', 'PAD']),\n",
       " (['зачесть', 'счёт', 'погашение'], 'кредит', ['PAD', 'PAD', 'PAD'])]"
      ]
     },
     "execution_count": 14,
     "metadata": {},
     "output_type": "execute_result"
    }
   ],
   "source": [
    "cbow_split(sample_text, window=3)"
   ]
  },
  {
   "cell_type": "markdown",
   "metadata": {
    "id": "kslCx9raylHh"
   },
   "source": [
    "# Expected\n",
    "\n",
    "```python\n",
    "[(['PAD', 'PAD', 'PAD'], 'вопрос', ['почему', 'например', 'китайский']),\n",
    " (['PAD', 'PAD', 'вопрос'], 'почему', ['например', 'китайский', 'японский']),\n",
    " (['PAD', 'вопрос', 'почему'], 'например', ['китайский', 'японский', 'UNK']),\n",
    " (['вопрос', 'почему', 'например'], 'китайский', ['японский', 'UNK', 'PAD']),\n",
    " (['почему', 'например', 'китайский'], 'японский', ['UNK', 'PAD', 'PAD']),\n",
    " (['например', 'китайский', 'японский'], 'UNK', ['PAD', 'PAD', 'PAD'])]\n",
    "```"
   ]
  },
  {
   "cell_type": "markdown",
   "metadata": {
    "id": "XxwxD-OxylHi"
   },
   "source": [
    "# Skipgram"
   ]
  },
  {
   "cell_type": "code",
   "execution_count": 15,
   "metadata": {
    "colab": {
     "base_uri": "https://localhost:8080/",
     "height": 35
    },
    "id": "aN7gsK7uylHi",
    "outputId": "689bdfc9-602f-456f-c6f8-813ce74ca0f7"
   },
   "outputs": [
    {
     "data": {
      "text/plain": [
       "'вернуть денежный средство лицевой счёт либо зачесть счёт погашение кредит'"
      ]
     },
     "execution_count": 15,
     "metadata": {},
     "output_type": "execute_result"
    }
   ],
   "source": [
    "' '.join(sample_text)"
   ]
  },
  {
   "cell_type": "markdown",
   "metadata": {
    "id": "NBCKCR27ylHi"
   },
   "source": [
    "# Реализуйте разделение предложения на примеры методом Skipgram"
   ]
  },
  {
   "cell_type": "code",
   "execution_count": 16,
   "metadata": {
    "id": "wfjFz9flylHj"
   },
   "outputs": [],
   "source": [
    "def skipgram_split(tokens, window):\n",
    "\n",
    "    splits = []\n",
    "    text_len = len(tokens)\n",
    "\n",
    "    for i in range(text_len):\n",
    "\n",
    "        central_word = tokens[i]\n",
    "\n",
    "        if (i - window) >= 0:\n",
    "            left_len = i - window\n",
    "        else:\n",
    "            left_len = 0\n",
    "\n",
    "        left_context = tokens[left_len:i]\n",
    "\n",
    "        if (i + window + 1) <= text_len:\n",
    "            right_len = i + window + 1\n",
    "        else:\n",
    "            right_len = text_len\n",
    "\n",
    "        right_context = tokens[i+1:right_len]\n",
    "\n",
    "        context = left_context + right_context\n",
    "        for cont in context:\n",
    "            splits.append((cont, central_word))\n",
    "\n",
    "    return splits"
   ]
  },
  {
   "cell_type": "code",
   "execution_count": 17,
   "metadata": {
    "id": "C1ZRo5aTylHj"
   },
   "outputs": [],
   "source": [
    "splits = skipgram_split(sample_text, window=2)"
   ]
  },
  {
   "cell_type": "code",
   "execution_count": 18,
   "metadata": {
    "colab": {
     "base_uri": "https://localhost:8080/"
    },
    "id": "iMfk642eylHj",
    "outputId": "d6c98b43-26ea-419d-de26-c7f77d6ded2e"
   },
   "outputs": [
    {
     "name": "stdout",
     "output_type": "stream",
     "text": [
      "Контекст: денежный\n",
      "Центральное слово: вернуть\n",
      "\n",
      "Контекст: средство\n",
      "Центральное слово: вернуть\n",
      "\n",
      "Контекст: вернуть\n",
      "Центральное слово: денежный\n",
      "\n",
      "Контекст: средство\n",
      "Центральное слово: денежный\n",
      "\n",
      "Контекст: лицевой\n",
      "Центральное слово: денежный\n",
      "\n",
      "Контекст: вернуть\n",
      "Центральное слово: средство\n",
      "\n",
      "Контекст: денежный\n",
      "Центральное слово: средство\n",
      "\n",
      "Контекст: лицевой\n",
      "Центральное слово: средство\n",
      "\n",
      "Контекст: счёт\n",
      "Центральное слово: средство\n",
      "\n",
      "Контекст: денежный\n",
      "Центральное слово: лицевой\n",
      "\n",
      "Контекст: средство\n",
      "Центральное слово: лицевой\n",
      "\n",
      "Контекст: счёт\n",
      "Центральное слово: лицевой\n",
      "\n",
      "Контекст: либо\n",
      "Центральное слово: лицевой\n",
      "\n",
      "Контекст: средство\n",
      "Центральное слово: счёт\n",
      "\n",
      "Контекст: лицевой\n",
      "Центральное слово: счёт\n",
      "\n",
      "Контекст: либо\n",
      "Центральное слово: счёт\n",
      "\n",
      "Контекст: зачесть\n",
      "Центральное слово: счёт\n",
      "\n",
      "Контекст: лицевой\n",
      "Центральное слово: либо\n",
      "\n",
      "Контекст: счёт\n",
      "Центральное слово: либо\n",
      "\n",
      "Контекст: зачесть\n",
      "Центральное слово: либо\n",
      "\n",
      "Контекст: счёт\n",
      "Центральное слово: либо\n",
      "\n",
      "Контекст: счёт\n",
      "Центральное слово: зачесть\n",
      "\n",
      "Контекст: либо\n",
      "Центральное слово: зачесть\n",
      "\n",
      "Контекст: счёт\n",
      "Центральное слово: зачесть\n",
      "\n",
      "Контекст: погашение\n",
      "Центральное слово: зачесть\n",
      "\n",
      "Контекст: либо\n",
      "Центральное слово: счёт\n",
      "\n",
      "Контекст: зачесть\n",
      "Центральное слово: счёт\n",
      "\n",
      "Контекст: погашение\n",
      "Центральное слово: счёт\n",
      "\n",
      "Контекст: кредит\n",
      "Центральное слово: счёт\n",
      "\n",
      "Контекст: зачесть\n",
      "Центральное слово: погашение\n",
      "\n",
      "Контекст: счёт\n",
      "Центральное слово: погашение\n",
      "\n",
      "Контекст: кредит\n",
      "Центральное слово: погашение\n",
      "\n",
      "Контекст: счёт\n",
      "Центральное слово: кредит\n",
      "\n",
      "Контекст: погашение\n",
      "Центральное слово: кредит\n",
      "\n"
     ]
    }
   ],
   "source": [
    "for sample in splits:\n",
    "    print('Контекст:', sample[0])\n",
    "    print('Центральное слово:', sample[1], end='\\n\\n')"
   ]
  },
  {
   "cell_type": "code",
   "execution_count": 19,
   "metadata": {
    "colab": {
     "base_uri": "https://localhost:8080/"
    },
    "id": "4gjKJoSKylHj",
    "outputId": "caf7a21b-41a9-40e5-e0f3-73be8d8067a7"
   },
   "outputs": [
    {
     "data": {
      "text/plain": [
       "[('денежный', 'вернуть'),\n",
       " ('средство', 'вернуть'),\n",
       " ('вернуть', 'денежный'),\n",
       " ('средство', 'денежный'),\n",
       " ('лицевой', 'денежный'),\n",
       " ('вернуть', 'средство'),\n",
       " ('денежный', 'средство'),\n",
       " ('лицевой', 'средство'),\n",
       " ('счёт', 'средство'),\n",
       " ('денежный', 'лицевой'),\n",
       " ('средство', 'лицевой'),\n",
       " ('счёт', 'лицевой'),\n",
       " ('либо', 'лицевой'),\n",
       " ('средство', 'счёт'),\n",
       " ('лицевой', 'счёт'),\n",
       " ('либо', 'счёт'),\n",
       " ('зачесть', 'счёт'),\n",
       " ('лицевой', 'либо'),\n",
       " ('счёт', 'либо'),\n",
       " ('зачесть', 'либо'),\n",
       " ('счёт', 'либо'),\n",
       " ('счёт', 'зачесть'),\n",
       " ('либо', 'зачесть'),\n",
       " ('счёт', 'зачесть'),\n",
       " ('погашение', 'зачесть'),\n",
       " ('либо', 'счёт'),\n",
       " ('зачесть', 'счёт'),\n",
       " ('погашение', 'счёт'),\n",
       " ('кредит', 'счёт'),\n",
       " ('зачесть', 'погашение'),\n",
       " ('счёт', 'погашение'),\n",
       " ('кредит', 'погашение'),\n",
       " ('счёт', 'кредит'),\n",
       " ('погашение', 'кредит')]"
      ]
     },
     "execution_count": 19,
     "metadata": {},
     "output_type": "execute_result"
    }
   ],
   "source": [
    "skipgram_split(sample_text, window=2)"
   ]
  },
  {
   "cell_type": "markdown",
   "metadata": {
    "id": "a_EIiFyuylHk"
   },
   "source": [
    "# Expected\n",
    "\n",
    "```python\n",
    "[('почему', 'вопрос'),\n",
    " ('например', 'вопрос'),\n",
    " ('вопрос', 'почему'),\n",
    " ('например', 'почему'),\n",
    " ('китайский', 'почему'),\n",
    " ('вопрос', 'например'),\n",
    " ('почему', 'например'),\n",
    " ('китайский', 'например'),\n",
    " ('японский', 'например'),\n",
    " ('почему', 'китайский'),\n",
    " ('например', 'китайский'),\n",
    " ('японский', 'китайский'),\n",
    " ('UNK', 'китайский'),\n",
    " ('например', 'японский'),\n",
    " ('китайский', 'японский'),\n",
    " ('UNK', 'японский'),\n",
    " ('китайский', 'UNK'),\n",
    " ('японский', 'UNK')]\n",
    "```"
   ]
  },
  {
   "cell_type": "code",
   "execution_count": 20,
   "metadata": {
    "colab": {
     "base_uri": "https://localhost:8080/"
    },
    "id": "y3nJ9J_GylHk",
    "outputId": "2ea44e68-8cd5-4890-dda1-ad0e055b5bc3"
   },
   "outputs": [
    {
     "data": {
      "text/plain": [
       "[('денежный', 'вернуть'),\n",
       " ('средство', 'вернуть'),\n",
       " ('лицевой', 'вернуть'),\n",
       " ('вернуть', 'денежный'),\n",
       " ('средство', 'денежный'),\n",
       " ('лицевой', 'денежный'),\n",
       " ('счёт', 'денежный'),\n",
       " ('вернуть', 'средство'),\n",
       " ('денежный', 'средство'),\n",
       " ('лицевой', 'средство'),\n",
       " ('счёт', 'средство'),\n",
       " ('либо', 'средство'),\n",
       " ('вернуть', 'лицевой'),\n",
       " ('денежный', 'лицевой'),\n",
       " ('средство', 'лицевой'),\n",
       " ('счёт', 'лицевой'),\n",
       " ('либо', 'лицевой'),\n",
       " ('зачесть', 'лицевой'),\n",
       " ('денежный', 'счёт'),\n",
       " ('средство', 'счёт'),\n",
       " ('лицевой', 'счёт'),\n",
       " ('либо', 'счёт'),\n",
       " ('зачесть', 'счёт'),\n",
       " ('счёт', 'счёт'),\n",
       " ('средство', 'либо'),\n",
       " ('лицевой', 'либо'),\n",
       " ('счёт', 'либо'),\n",
       " ('зачесть', 'либо'),\n",
       " ('счёт', 'либо'),\n",
       " ('погашение', 'либо'),\n",
       " ('лицевой', 'зачесть'),\n",
       " ('счёт', 'зачесть'),\n",
       " ('либо', 'зачесть'),\n",
       " ('счёт', 'зачесть'),\n",
       " ('погашение', 'зачесть'),\n",
       " ('кредит', 'зачесть'),\n",
       " ('счёт', 'счёт'),\n",
       " ('либо', 'счёт'),\n",
       " ('зачесть', 'счёт'),\n",
       " ('погашение', 'счёт'),\n",
       " ('кредит', 'счёт'),\n",
       " ('либо', 'погашение'),\n",
       " ('зачесть', 'погашение'),\n",
       " ('счёт', 'погашение'),\n",
       " ('кредит', 'погашение'),\n",
       " ('зачесть', 'кредит'),\n",
       " ('счёт', 'кредит'),\n",
       " ('погашение', 'кредит')]"
      ]
     },
     "execution_count": 20,
     "metadata": {},
     "output_type": "execute_result"
    }
   ],
   "source": [
    "skipgram_split(sample_text, window=3)"
   ]
  },
  {
   "cell_type": "markdown",
   "metadata": {
    "id": "KWtgpIFnylHk"
   },
   "source": [
    "# Expected\n",
    "\n",
    "```python\n",
    "[('почему', 'вопрос'),\n",
    " ('например', 'вопрос'),\n",
    " ('китайский', 'вопрос'),\n",
    " ('вопрос', 'почему'),\n",
    " ('например', 'почему'),\n",
    " ('китайский', 'почему'),\n",
    " ('японский', 'почему'),\n",
    " ('вопрос', 'например'),\n",
    " ('почему', 'например'),\n",
    " ('китайский', 'например'),\n",
    " ('японский', 'например'),\n",
    " ('UNK', 'например'),\n",
    " ('вопрос', 'китайский'),\n",
    " ('почему', 'китайский'),\n",
    " ('например', 'китайский'),\n",
    " ('японский', 'китайский'),\n",
    " ('UNK', 'китайский'),\n",
    " ('почему', 'японский'),\n",
    " ('например', 'японский'),\n",
    " ('китайский', 'японский'),\n",
    " ('UNK', 'японский'),\n",
    " ('например', 'UNK'),\n",
    " ('китайский', 'UNK'),\n",
    " ('японский', 'UNK')]\n",
    "```"
   ]
  },
  {
   "cell_type": "code",
   "execution_count": 21,
   "metadata": {
    "id": "rLBeyT5LylHk"
   },
   "outputs": [],
   "source": [
    "word2index = {}\n",
    "\n",
    "for text in corpus:\n",
    "    for token in text:\n",
    "        if token not in word2index:\n",
    "            word2index[token] = len(word2index)"
   ]
  },
  {
   "cell_type": "code",
   "execution_count": 22,
   "metadata": {
    "colab": {
     "base_uri": "https://localhost:8080/"
    },
    "id": "Gq7N-XAgylHl",
    "outputId": "4aa64bba-b4da-4b69-e624-a0b85e70d8e5"
   },
   "outputs": [
    {
     "data": {
      "text/plain": [
       "13076"
      ]
     },
     "execution_count": 22,
     "metadata": {},
     "output_type": "execute_result"
    }
   ],
   "source": [
    "len(word2index)"
   ]
  },
  {
   "cell_type": "code",
   "execution_count": 23,
   "metadata": {
    "colab": {
     "base_uri": "https://localhost:8080/"
    },
    "id": "8Mzd11bDylHl",
    "outputId": "bf2c5601-a45a-45c8-bd4f-944423bdf5f0"
   },
   "outputs": [
    {
     "data": {
      "text/plain": [
       "1"
      ]
     },
     "execution_count": 23,
     "metadata": {},
     "output_type": "execute_result"
    }
   ],
   "source": [
    "word2index['UNK']"
   ]
  },
  {
   "cell_type": "code",
   "execution_count": 24,
   "metadata": {
    "colab": {
     "base_uri": "https://localhost:8080/"
    },
    "id": "fJ_jKHnqylHl",
    "outputId": "512db07c-1d59-4693-8e41-3e4b45cf6fbb"
   },
   "outputs": [
    {
     "data": {
      "text/plain": [
       "[1282, 8436, 1]"
      ]
     },
     "execution_count": 24,
     "metadata": {},
     "output_type": "execute_result"
    }
   ],
   "source": [
    "[word2index[tok] if tok in word2index\n",
    " else word2index['UNK'] for tok in 'мама мыть рама'.split()]"
   ]
  },
  {
   "cell_type": "markdown",
   "metadata": {
    "id": "5kt2kJdvylHl"
   },
   "source": [
    "# Torch Dataset\n",
    "В торче есть очень удобная читалка данных"
   ]
  },
  {
   "cell_type": "code",
   "execution_count": 25,
   "metadata": {
    "id": "T3V-yE7CylHl"
   },
   "outputs": [],
   "source": [
    "from torch.utils.data import Dataset, DataLoader"
   ]
  },
  {
   "cell_type": "code",
   "execution_count": 26,
   "metadata": {
    "id": "80Sk2YPnylHl"
   },
   "outputs": [],
   "source": [
    "# игрушечный датасет\n",
    "# 121535 примера, 4 фичи, 3 класса\n",
    "some_data_x = np.random.rand(121535, 4)\n",
    "some_data_y = np.random.randint(3, size=(121535,))"
   ]
  },
  {
   "cell_type": "code",
   "execution_count": 27,
   "metadata": {
    "colab": {
     "base_uri": "https://localhost:8080/"
    },
    "id": "ULix_8QHylHm",
    "outputId": "7f1330b4-8c45-4100-b406-7123ae7b4056"
   },
   "outputs": [
    {
     "data": {
      "text/plain": [
       "array([[0.45141113, 0.29933311, 0.2309617 , 0.8853034 ],\n",
       "       [0.18644359, 0.93156671, 0.04540221, 0.75970544],\n",
       "       [0.08780745, 0.14074832, 0.67584966, 0.96646157],\n",
       "       [0.81806472, 0.89862461, 0.74417184, 0.72684547],\n",
       "       [0.15089277, 0.73137032, 0.28175354, 0.58374409],\n",
       "       [0.02739388, 0.03030734, 0.0218579 , 0.53899224],\n",
       "       [0.07752654, 0.88674119, 0.970845  , 0.82929428],\n",
       "       [0.78692053, 0.7303765 , 0.98339232, 0.50893489],\n",
       "       [0.90838263, 0.59848902, 0.54664701, 0.75271567],\n",
       "       [0.1017185 , 0.03260192, 0.75262785, 0.3642821 ]])"
      ]
     },
     "execution_count": 27,
     "metadata": {},
     "output_type": "execute_result"
    }
   ],
   "source": [
    "# соверешенно игрушечный, просто цифры\n",
    "some_data_x[:10]"
   ]
  },
  {
   "cell_type": "code",
   "execution_count": 28,
   "metadata": {
    "colab": {
     "base_uri": "https://localhost:8080/"
    },
    "id": "13QsMkAvylHm",
    "outputId": "4306d66b-b9f9-4f5a-effb-897ee027f69c"
   },
   "outputs": [
    {
     "data": {
      "text/plain": [
       "array([2, 2, 2, ..., 1, 1, 1])"
      ]
     },
     "execution_count": 28,
     "metadata": {},
     "output_type": "execute_result"
    }
   ],
   "source": [
    "some_data_y"
   ]
  },
  {
   "cell_type": "code",
   "execution_count": 29,
   "metadata": {
    "id": "ZpyM_enaylHm"
   },
   "outputs": [],
   "source": [
    "class ToyDataset(Dataset):\n",
    "\n",
    "    def __init__(self, data_x, data_y):\n",
    "\n",
    "        super().__init__()\n",
    "\n",
    "        self.data_x = data_x\n",
    "        self.data_y = data_y\n",
    "\n",
    "    def __len__(self):\n",
    "\n",
    "        # Нужно обязательно определить эту функцию\n",
    "        # Должна возвращать размер датасета\n",
    "\n",
    "        return len(self.data_x)\n",
    "\n",
    "    def __getitem__(self, idx):\n",
    "\n",
    "        # Еще нужно определить этот метод\n",
    "        # То есть как мы будем доставать наши данные по индексу\n",
    "\n",
    "        return self.data_x[idx], self.data_y[idx]"
   ]
  },
  {
   "cell_type": "code",
   "execution_count": 30,
   "metadata": {
    "id": "2TVs-sDRylHm"
   },
   "outputs": [],
   "source": [
    "some_dataset = ToyDataset(some_data_x, some_data_y)"
   ]
  },
  {
   "cell_type": "code",
   "execution_count": 31,
   "metadata": {
    "colab": {
     "base_uri": "https://localhost:8080/"
    },
    "id": "Ni4LTJinylHm",
    "outputId": "ba2310c6-6cf1-452f-81bf-4aa0dad80f3c"
   },
   "outputs": [
    {
     "data": {
      "text/plain": [
       "((array([0.02739388, 0.03030734, 0.0218579 , 0.53899224]), 1),\n",
       " (array([0.52510766, 0.64066169, 0.17227696, 0.5056511 ]), 1))"
      ]
     },
     "execution_count": 31,
     "metadata": {},
     "output_type": "execute_result"
    }
   ],
   "source": [
    "some_dataset[5], some_dataset[467]"
   ]
  },
  {
   "cell_type": "code",
   "execution_count": 32,
   "metadata": {
    "id": "vSCpEQgKylHn"
   },
   "outputs": [],
   "source": [
    "some_loader = DataLoader(some_dataset, batch_size=16, shuffle=True)"
   ]
  },
  {
   "cell_type": "code",
   "execution_count": 33,
   "metadata": {
    "colab": {
     "base_uri": "https://localhost:8080/"
    },
    "id": "qmOJU4h2ylHn",
    "outputId": "10b1de7c-8ef2-483e-adf8-726014225bc7"
   },
   "outputs": [
    {
     "data": {
      "text/plain": [
       "(16,\n",
       " tensor([[0.9497, 0.2477, 0.0820, 0.7899],\n",
       "         [0.9094, 0.3224, 0.0522, 0.0927],\n",
       "         [0.3932, 0.6151, 0.5788, 0.4957],\n",
       "         [0.7733, 0.1349, 0.6188, 0.2731],\n",
       "         [0.2485, 0.2245, 0.1562, 0.6645],\n",
       "         [0.6553, 0.0022, 0.9235, 0.1509],\n",
       "         [0.0666, 0.5620, 0.6837, 0.2552],\n",
       "         [0.3837, 0.8529, 0.8717, 0.8885],\n",
       "         [0.9539, 0.7751, 0.9535, 0.0514],\n",
       "         [0.5247, 0.0318, 0.6941, 0.8291],\n",
       "         [0.6438, 0.0649, 0.5960, 0.7720],\n",
       "         [0.9391, 0.9469, 0.5426, 0.3230],\n",
       "         [0.3994, 0.3894, 0.4701, 0.8339],\n",
       "         [0.7579, 0.1217, 0.0271, 0.8452],\n",
       "         [0.5402, 0.3355, 0.7931, 0.8172],\n",
       "         [0.4728, 0.0779, 0.5686, 0.5386]], dtype=torch.float64))"
      ]
     },
     "execution_count": 33,
     "metadata": {},
     "output_type": "execute_result"
    }
   ],
   "source": [
    "for x, y in some_loader:\n",
    "    break\n",
    "\n",
    "len(x), x"
   ]
  },
  {
   "cell_type": "code",
   "execution_count": 34,
   "metadata": {
    "colab": {
     "base_uri": "https://localhost:8080/"
    },
    "id": "BIoyH7W3ylHn",
    "outputId": "bcf42df3-4950-47b0-b99d-2e506bc3d594"
   },
   "outputs": [
    {
     "data": {
      "text/plain": [
       "15"
      ]
     },
     "execution_count": 34,
     "metadata": {},
     "output_type": "execute_result"
    }
   ],
   "source": [
    "for x, y in some_loader:\n",
    "    pass\n",
    "\n",
    "len(x)"
   ]
  },
  {
   "cell_type": "code",
   "execution_count": 35,
   "metadata": {
    "colab": {
     "base_uri": "https://localhost:8080/"
    },
    "id": "Xv2dMQF3ylHn",
    "outputId": "2674b73d-053e-477b-e490-21656a4fb437"
   },
   "outputs": [
    {
     "data": {
      "text/plain": [
       "15"
      ]
     },
     "execution_count": 35,
     "metadata": {},
     "output_type": "execute_result"
    }
   ],
   "source": [
    "# почему 13? (потому что 15)\n",
    "# потому что количество наших данных нацело не делится на 16\n",
    "# и поэтому последний батч меньше 16-ти\n",
    "len(some_dataset) % 16"
   ]
  },
  {
   "cell_type": "markdown",
   "metadata": {
    "id": "FV_TSPtLylHn"
   },
   "source": [
    "# А зачем?"
   ]
  },
  {
   "cell_type": "code",
   "execution_count": 36,
   "metadata": {
    "id": "g1QpXRH-ylHn"
   },
   "outputs": [],
   "source": [
    "class ToyDataset(Dataset):\n",
    "\n",
    "    def __init__(self, data_x, data_y):\n",
    "\n",
    "        super().__init__()\n",
    "\n",
    "        self.data_x = data_x\n",
    "        self.data_y = data_y\n",
    "\n",
    "    def __len__(self):\n",
    "\n",
    "        # Нужно обязательно определить эту функцию\n",
    "        # Должна возвращать размер датасета\n",
    "\n",
    "        return len(self.data_x)\n",
    "\n",
    "    @staticmethod\n",
    "    def add_pow_features(x, n=2):\n",
    "\n",
    "        return np.concatenate([x, x ** n])\n",
    "\n",
    "    @staticmethod\n",
    "    def add_log_features(x):\n",
    "\n",
    "        return np.concatenate([x, np.log(x)])\n",
    "\n",
    "    def __getitem__(self, idx):\n",
    "\n",
    "        # Еще нужно определить этот метод\n",
    "        # То есть как мы будем доставать наши данные по индексу\n",
    "\n",
    "        x = self.data_x[idx]\n",
    "\n",
    "        # внутри датасета мы можем делать все что угодно с нашими данными\n",
    "        # например выше определим функции, которые добавляют степенные фичи\n",
    "        x = self.add_pow_features(x, n=2)\n",
    "        x = self.add_pow_features(x, n=3)\n",
    "        # и еще возьмем логарифмические фичи\n",
    "        x = self.add_log_features(x)\n",
    "\n",
    "        y = self.data_y[idx]\n",
    "\n",
    "        return x, y"
   ]
  },
  {
   "cell_type": "code",
   "execution_count": 37,
   "metadata": {
    "id": "lC9Gtzb7ylHo"
   },
   "outputs": [],
   "source": [
    "toy_dataset = ToyDataset(some_data_x, some_data_y)"
   ]
  },
  {
   "cell_type": "code",
   "execution_count": 38,
   "metadata": {
    "id": "1cmI0FPjylHo"
   },
   "outputs": [],
   "source": [
    "toy_loader = DataLoader(dataset=toy_dataset, batch_size=128)"
   ]
  },
  {
   "cell_type": "code",
   "execution_count": 39,
   "metadata": {
    "id": "RfmlgXtfylHo"
   },
   "outputs": [],
   "source": [
    "for x, y in toy_loader:\n",
    "    break"
   ]
  },
  {
   "cell_type": "code",
   "execution_count": 40,
   "metadata": {
    "colab": {
     "base_uri": "https://localhost:8080/"
    },
    "id": "saIN1SyzylHo",
    "outputId": "cbd6c387-9083-49be-d437-5681cf185c20"
   },
   "outputs": [
    {
     "data": {
      "text/plain": [
       "torch.Size([128, 32])"
      ]
     },
     "execution_count": 40,
     "metadata": {},
     "output_type": "execute_result"
    }
   ],
   "source": [
    "x.shape"
   ]
  },
  {
   "cell_type": "code",
   "execution_count": 41,
   "metadata": {
    "colab": {
     "base_uri": "https://localhost:8080/"
    },
    "id": "8lXgbovhylHo",
    "outputId": "08a9bfc6-c674-41be-9a6b-ece130da130c"
   },
   "outputs": [
    {
     "data": {
      "text/plain": [
       "tensor([[  0.4514,   0.2993,   0.2310,  ...,  -7.2372,  -8.7930,  -0.7309],\n",
       "        [  0.1864,   0.9316,   0.0454,  ...,  -0.4253, -18.5532,  -1.6489],\n",
       "        [  0.0878,   0.1407,   0.6758,  ..., -11.7647,  -2.3507,  -0.2047],\n",
       "        ...,\n",
       "        [  0.2256,   0.2936,   0.3126,  ...,  -7.3531,  -6.9775,  -2.2453],\n",
       "        [  0.8302,   0.5785,   0.2988,  ...,  -3.2834,  -7.2484,  -7.1828],\n",
       "        [  0.6415,   0.5639,   0.6400,  ...,  -3.4374,  -2.6776,  -4.5696]],\n",
       "       dtype=torch.float64)"
      ]
     },
     "execution_count": 41,
     "metadata": {},
     "output_type": "execute_result"
    }
   ],
   "source": [
    "# заметим, что мы сразу получаем торчовый формат данных\n",
    "x"
   ]
  },
  {
   "cell_type": "code",
   "execution_count": 42,
   "metadata": {
    "colab": {
     "base_uri": "https://localhost:8080/"
    },
    "id": "YRO-uk7kylHo",
    "outputId": "77c584b0-a940-4725-b2b6-0c06e1c48cc1"
   },
   "outputs": [
    {
     "data": {
      "text/plain": [
       "tensor([2, 2, 2, 1, 0, 1, 1, 2, 1, 1, 0, 2, 1, 2, 1, 2, 0, 1, 2, 0, 1, 1, 0, 2,\n",
       "        2, 1, 1, 2, 0, 1, 1, 0, 0, 1, 0, 1, 0, 1, 2, 1, 2, 0, 0, 1, 1, 0, 0, 0,\n",
       "        1, 2, 2, 2, 0, 2, 1, 2, 1, 0, 2, 1, 2, 0, 1, 0, 2, 1, 0, 2, 1, 2, 0, 2,\n",
       "        1, 0, 2, 2, 1, 1, 0, 0, 2, 0, 2, 0, 1, 1, 0, 2, 1, 1, 1, 1, 2, 2, 0, 0,\n",
       "        2, 0, 2, 2, 2, 0, 0, 1, 2, 0, 0, 1, 1, 1, 2, 2, 2, 1, 1, 1, 1, 1, 0, 2,\n",
       "        0, 0, 1, 1, 0, 2, 2, 1], dtype=torch.int32)"
      ]
     },
     "execution_count": 42,
     "metadata": {},
     "output_type": "execute_result"
    }
   ],
   "source": [
    "y"
   ]
  },
  {
   "cell_type": "markdown",
   "metadata": {
    "id": "zMcJuDGwylHp"
   },
   "source": [
    "# Если вы ничего здесь не понимаете, то вернитесь в конец первой домашки, там все объясняется"
   ]
  },
  {
   "cell_type": "code",
   "execution_count": 43,
   "metadata": {
    "id": "8FcCT1b2ylHp"
   },
   "outputs": [],
   "source": [
    "model = torch.nn.Sequential(torch.nn.Linear(32, 16),\n",
    "                            torch.nn.ReLU(),\n",
    "                            torch.nn.Linear(16, 8),\n",
    "                            torch.nn.ReLU(),\n",
    "                            torch.nn.Linear(8, 3))\n",
    "\n",
    "criterion = torch.nn.CrossEntropyLoss()"
   ]
  },
  {
   "cell_type": "code",
   "execution_count": 44,
   "metadata": {
    "colab": {
     "base_uri": "https://localhost:8080/"
    },
    "id": "VGx94mhZylHp",
    "outputId": "3641acaf-5f94-4849-a66a-65943e46e198"
   },
   "outputs": [
    {
     "data": {
      "text/plain": [
       "1.1213287115097046"
      ]
     },
     "execution_count": 44,
     "metadata": {},
     "output_type": "execute_result"
    }
   ],
   "source": [
    "with torch.no_grad():\n",
    "\n",
    "    prediction = model(x.float())\n",
    "    # RuntimeError: expected scalar type Long but found Int\n",
    "    loss = criterion(prediction, y.long())\n",
    "\n",
    "loss.item()"
   ]
  },
  {
   "cell_type": "markdown",
   "metadata": {
    "id": "blw77ChlylHp"
   },
   "source": [
    "# Боевые датасеты"
   ]
  },
  {
   "cell_type": "code",
   "execution_count": 45,
   "metadata": {
    "id": "diwlLEsxylHp"
   },
   "outputs": [],
   "source": [
    "class CBOWDataset(Dataset):\n",
    "\n",
    "    def __init__(self,\n",
    "                 corpus,\n",
    "                 word2index,\n",
    "                 window=2,\n",
    "                 unk_token='UNK',\n",
    "                 pad_token='PAD',\n",
    "                 collect_verbose=True):\n",
    "\n",
    "        self.corpus = corpus\n",
    "        self.word2index = word2index\n",
    "        self.index2word = {value: key for key, value\n",
    "                           in self.word2index.items()}\n",
    "        self.window = window\n",
    "\n",
    "        self.unk_token = unk_token\n",
    "        self.unk_index = self.word2index[self.unk_token]\n",
    "\n",
    "        self.pad_token = pad_token\n",
    "        self.pad_index = len(self.word2index)\n",
    "\n",
    "        self.collect_verbose = collect_verbose\n",
    "\n",
    "        self.data = []\n",
    "\n",
    "        self.collect_data()\n",
    "\n",
    "    def __len__(self):\n",
    "\n",
    "        return len(self.data)\n",
    "\n",
    "    def _split_function(self, tokenized_text):\n",
    "\n",
    "        splits = []\n",
    "        text_len = len(tokenized_text)\n",
    "\n",
    "        for n in range(text_len):\n",
    "\n",
    "            # центральное слово\n",
    "            central_word = tokenized_text[n]\n",
    "\n",
    "            # левый контекст\n",
    "            if (n - self.window) > 0:\n",
    "                left_context = tokenized_text[(n-self.window):n]\n",
    "            else:\n",
    "                left_context = tokenized_text[0:n]\n",
    "\n",
    "            # добавляем PAD\n",
    "            left_context = [self.pad_index] * \\\n",
    "                (self.window - len(left_context)) + left_context\n",
    "\n",
    "            # правый контекст\n",
    "            right_context = tokenized_text[(n+1):(n+self.window+1)]\n",
    "            right_context += [self.pad_index] * \\\n",
    "                (self.window - len(right_context))\n",
    "\n",
    "            splits.append((left_context + right_context, central_word))\n",
    "\n",
    "        return splits\n",
    "\n",
    "    def indexing(self, tokenized_text):\n",
    "\n",
    "        return [self.word2index[token] if token in self.word2index\n",
    "                else self.unk_index for token in tokenized_text]\n",
    "\n",
    "    def collect_data(self):\n",
    "\n",
    "        corpus = tqdm(self.corpus, disable=not self.collect_verbose)\n",
    "\n",
    "        for tokenized_text in corpus:\n",
    "            indexed_text = self.indexing(tokenized_text)\n",
    "            cbow_examples = self._split_function(indexed_text)\n",
    "\n",
    "            self.data.extend(cbow_examples)\n",
    "\n",
    "    def __getitem__(self, idx):\n",
    "\n",
    "        context, central_word = self.data[idx]\n",
    "\n",
    "        context = torch.Tensor(context).long()\n",
    "\n",
    "        return context, central_word"
   ]
  },
  {
   "cell_type": "markdown",
   "metadata": {
    "id": "iOpMUYXkylHq"
   },
   "source": [
    "# Мы будем учить модель Skipgram\n",
    "Реализуйте читалку данных"
   ]
  },
  {
   "cell_type": "code",
   "execution_count": 46,
   "metadata": {
    "id": "hVF5WRL5ylHq"
   },
   "outputs": [],
   "source": [
    "class SkipgramDataset(Dataset):\n",
    "\n",
    "    def __init__(self,\n",
    "                 corpus,\n",
    "                 word2index,\n",
    "                 window=2,\n",
    "                 unk_token='UNK',\n",
    "                 collect_verbose=True):\n",
    "\n",
    "        # дописанный инит класса\n",
    "        self.corpus = corpus\n",
    "        self.word2index = word2index\n",
    "        self.index2word = {\n",
    "            value: key for key, value in self.word2index.items()\n",
    "        }\n",
    "        self.window = window\n",
    "\n",
    "        self.unk_token = unk_token\n",
    "        self.unk_index = self.word2index[self.unk_token]\n",
    "\n",
    "        self.collect_verbose = collect_verbose\n",
    "\n",
    "        self.data = []\n",
    "\n",
    "        self.collect_data()\n",
    "\n",
    "    def __len__(self):\n",
    "\n",
    "        return len(self.data)\n",
    "\n",
    "    def _split_function(self, tokenized_text):\n",
    "\n",
    "        splits = []\n",
    "        text_len = len(tokenized_text)\n",
    "\n",
    "        for i in range(text_len):\n",
    "\n",
    "            central_word = tokenized_text[i]\n",
    "\n",
    "            if (i - self.window) >= 0:\n",
    "                left_len = i - self.window\n",
    "            else:\n",
    "                left_len = 0\n",
    "\n",
    "            left_context = tokenized_text[left_len:i]\n",
    "\n",
    "            if (i + self.window + 1) <= text_len:\n",
    "                right_len = i + self.window + 1\n",
    "            else:\n",
    "                right_len = text_len\n",
    "\n",
    "            right_context = tokenized_text[i+1:right_len]\n",
    "\n",
    "            context = left_context + right_context\n",
    "            for cont in context:\n",
    "                splits.append((cont, central_word))\n",
    "\n",
    "        return splits\n",
    "\n",
    "    def indexing(self, tokenized_text):\n",
    "\n",
    "        return [self.word2index[token] if token in self.word2index\n",
    "                else self.unk_index for token in tokenized_text]\n",
    "\n",
    "    def collect_data(self):\n",
    "\n",
    "        corpus = tqdm(self.corpus, disable=not self.collect_verbose)\n",
    "\n",
    "        for tokenized_text in corpus:\n",
    "            indexed_text = self.indexing(tokenized_text)\n",
    "            skipgram_examples = self._split_function(indexed_text)\n",
    "\n",
    "            self.data.extend(skipgram_examples)\n",
    "\n",
    "    def __getitem__(self, idx):\n",
    "\n",
    "        context, central_word = self.data[idx]\n",
    "        # context = torch.Tensor(context).long()\n",
    "\n",
    "        return context, central_word"
   ]
  },
  {
   "cell_type": "markdown",
   "metadata": {
    "id": "MrNgUx_EylHq"
   },
   "source": [
    "Можете положить SkipgramDataset в отдельный файлик, например word2vec_utils, и относительным импортом достать его."
   ]
  },
  {
   "cell_type": "code",
   "execution_count": 47,
   "metadata": {
    "colab": {
     "base_uri": "https://localhost:8080/"
    },
    "id": "AQCOkgYGylHq",
    "outputId": "796ad186-f3f5-42d3-a0e5-dd9caf86a228",
    "scrolled": true
   },
   "outputs": [
    {
     "name": "stderr",
     "output_type": "stream",
     "text": [
      "100%|███████████████████████████████████████████████████████████████████████| 100000/100000 [00:01<00:00, 68534.01it/s]\n"
     ]
    }
   ],
   "source": [
    "# from .word2vec_utils import SkipgramDataset\n",
    "dataset = SkipgramDataset(corpus, word2index)"
   ]
  },
  {
   "cell_type": "code",
   "execution_count": 48,
   "metadata": {
    "id": "nTzwdwPwylHq"
   },
   "outputs": [],
   "source": [
    "BATCH_SIZE = 512"
   ]
  },
  {
   "cell_type": "code",
   "execution_count": 49,
   "metadata": {
    "id": "l68jnijkylHr"
   },
   "outputs": [],
   "source": [
    "dataset_loader = DataLoader(dataset, shuffle=True, batch_size=BATCH_SIZE)"
   ]
  },
  {
   "cell_type": "code",
   "execution_count": 50,
   "metadata": {
    "id": "ZckWtQXXylHr"
   },
   "outputs": [],
   "source": [
    "for x, y in dataset_loader:\n",
    "    break"
   ]
  },
  {
   "cell_type": "code",
   "execution_count": 51,
   "metadata": {
    "colab": {
     "base_uri": "https://localhost:8080/"
    },
    "id": "7Z8VT95zylHr",
    "outputId": "286ace4c-2b5b-4a0a-d96f-46f89eff904e"
   },
   "outputs": [
    {
     "data": {
      "text/plain": [
       "tensor([2045,    8,  209,  889, 3336])"
      ]
     },
     "execution_count": 51,
     "metadata": {},
     "output_type": "execute_result"
    }
   ],
   "source": [
    "x[:5]"
   ]
  },
  {
   "cell_type": "code",
   "execution_count": 52,
   "metadata": {
    "colab": {
     "base_uri": "https://localhost:8080/"
    },
    "id": "1D0yi8x_ylHr",
    "outputId": "66a8a862-d96e-45b9-97a8-3ab1c249bdd0"
   },
   "outputs": [
    {
     "data": {
      "text/plain": [
       "tensor([1036,    8,   32,  231,   44])"
      ]
     },
     "execution_count": 52,
     "metadata": {},
     "output_type": "execute_result"
    }
   ],
   "source": [
    "y[:5]"
   ]
  },
  {
   "cell_type": "code",
   "execution_count": 53,
   "metadata": {
    "colab": {
     "base_uri": "https://localhost:8080/"
    },
    "id": "_ojlcLqkylHr",
    "outputId": "f93343ff-449e-4b30-a075-afbdcd06ab17"
   },
   "outputs": [
    {
     "data": {
      "text/plain": [
       "(torch.Size([512]), torch.Size([512]))"
      ]
     },
     "execution_count": 53,
     "metadata": {},
     "output_type": "execute_result"
    }
   ],
   "source": [
    "x.shape, y.shape"
   ]
  },
  {
   "cell_type": "code",
   "execution_count": 54,
   "metadata": {
    "id": "GEHFIJXVylHr"
   },
   "outputs": [],
   "source": [
    "class CBOW(torch.nn.Module):\n",
    "\n",
    "    def __init__(self, vocab_size, embedding_dim, pad_index):\n",
    "\n",
    "        super().__init__()\n",
    "\n",
    "        if pad_index > 0:\n",
    "            vocab_size += 1\n",
    "\n",
    "        self.in_embedding = torch.nn.Embedding(num_embeddings=vocab_size,\n",
    "                                               embedding_dim=embedding_dim,\n",
    "                                               padding_idx=pad_index)\n",
    "\n",
    "        self.out_embedding = torch.nn.Linear(in_features=embedding_dim,\n",
    "                                             out_features=vocab_size,\n",
    "                                             bias=False)\n",
    "\n",
    "    def forward(self, x):\n",
    "\n",
    "        x = self.in_embedding(x).sum(dim=-2)\n",
    "        x = self.out_embedding(x)\n",
    "\n",
    "        return x"
   ]
  },
  {
   "cell_type": "markdown",
   "metadata": {
    "id": "nD_2WORnylHr"
   },
   "source": [
    "# Мы будем учить модель Skipgram\n",
    "Реализуйте ее"
   ]
  },
  {
   "cell_type": "code",
   "execution_count": 55,
   "metadata": {
    "id": "JpzK0DNhylHs"
   },
   "outputs": [],
   "source": [
    "class SkipGram(torch.nn.Module):\n",
    "\n",
    "    def __init__(self, vocab_size, embedding_dim):\n",
    "\n",
    "        super().__init__()\n",
    "\n",
    "        self.in_embedding = torch.nn.Embedding(num_embeddings=vocab_size,\n",
    "                                               embedding_dim=embedding_dim)\n",
    "\n",
    "        self.out_embedding = torch.nn.Linear(in_features=embedding_dim,\n",
    "                                             out_features=vocab_size,\n",
    "                                             bias=False)\n",
    "\n",
    "    def forward(self, x):\n",
    "\n",
    "        x = self.in_embedding(x)\n",
    "        x = self.out_embedding(x)\n",
    "\n",
    "        return x"
   ]
  },
  {
   "cell_type": "code",
   "execution_count": 56,
   "metadata": {
    "id": "aKhx-nq9ylHs"
   },
   "outputs": [],
   "source": [
    "# размерность эмбеддинга\n",
    "# маленькая, чтобы мы могли недолго поучить ворд2век и увидеть результаты\n",
    "EMBEDDING_DIM = 20"
   ]
  },
  {
   "cell_type": "code",
   "execution_count": 57,
   "metadata": {
    "id": "6x3HIDYdylHs"
   },
   "outputs": [],
   "source": [
    "model = SkipGram(vocab_size=len(word2index),\n",
    "                 embedding_dim=EMBEDDING_DIM).to('cuda')"
   ]
  },
  {
   "cell_type": "code",
   "execution_count": 58,
   "metadata": {
    "colab": {
     "base_uri": "https://localhost:8080/"
    },
    "id": "aqTGyHNeylHs",
    "outputId": "d6b2280d-acf6-4c3c-ff48-0b422c0dc7c4"
   },
   "outputs": [
    {
     "data": {
      "text/plain": [
       "torch.Size([512, 13076])"
      ]
     },
     "execution_count": 58,
     "metadata": {},
     "output_type": "execute_result"
    }
   ],
   "source": [
    "with torch.no_grad():\n",
    "    pred = model(x.to('cuda'))\n",
    "\n",
    "pred.shape"
   ]
  },
  {
   "cell_type": "code",
   "execution_count": 59,
   "metadata": {
    "id": "bU0RgQCWylHs"
   },
   "outputs": [],
   "source": [
    "optimizer = torch.optim.Adam(params=model.parameters(), lr=0.0001)\n",
    "\n",
    "# aka loss function\n",
    "criterion = torch.nn.CrossEntropyLoss()"
   ]
  },
  {
   "cell_type": "markdown",
   "metadata": {
    "id": "tVTYa5RxylHt"
   },
   "source": [
    "# Допишите обучалку"
   ]
  },
  {
   "cell_type": "code",
   "execution_count": 60,
   "metadata": {},
   "outputs": [],
   "source": [
    "def train_model(word2index, epochs=3, emb_size=20, lr=0.0001):\n",
    "\n",
    "    losses = []\n",
    "    model = SkipGram(vocab_size=len(word2index),\n",
    "                     embedding_dim=EMBEDDING_DIM).to('cuda')\n",
    "    optimizer = torch.optim.Adam(params=model.parameters(), lr=lr)\n",
    "    criterion = torch.nn.CrossEntropyLoss()\n",
    "\n",
    "    for n_epoch in range(epochs):\n",
    "\n",
    "        try:\n",
    "\n",
    "            progress_bar = tqdm(total=len(dataset_loader.dataset),\n",
    "                                desc='Epoch {}'.format(n_epoch + 1))\n",
    "\n",
    "            for x, y in dataset_loader:\n",
    "\n",
    "                x = x.to('cuda')\n",
    "                y = y.to('cuda')\n",
    "\n",
    "                y_pred = model(x)\n",
    "\n",
    "                loss = criterion(y_pred, y)\n",
    "\n",
    "                loss.backward()\n",
    "                optimizer.step()\n",
    "\n",
    "                losses.append(loss.item())\n",
    "\n",
    "                progress_bar.set_postfix(loss=np.mean(losses[-100:]))\n",
    "                progress_bar.update(x.shape[0])\n",
    "\n",
    "            progress_bar.close()\n",
    "\n",
    "        except KeyboardInterrupt:\n",
    "\n",
    "            progress_bar.close()\n",
    "            break\n",
    "\n",
    "    return losses, model.in_embedding.weight.detach().cpu()"
   ]
  },
  {
   "cell_type": "code",
   "execution_count": 61,
   "metadata": {},
   "outputs": [
    {
     "name": "stderr",
     "output_type": "stream",
     "text": [
      "Epoch 1: 100%|█████████████████████████████████████████████████| 2983124/2983124 [00:43<00:00, 68312.42it/s, loss=7.37]\n",
      "Epoch 2: 100%|█████████████████████████████████████████████████| 2983124/2983124 [00:44<00:00, 67352.23it/s, loss=7.29]\n",
      "Epoch 3: 100%|█████████████████████████████████████████████████| 2983124/2983124 [00:44<00:00, 67276.80it/s, loss=7.14]\n"
     ]
    }
   ],
   "source": [
    "losses0, matrix0 = train_model(word2index)"
   ]
  },
  {
   "cell_type": "code",
   "execution_count": 62,
   "metadata": {
    "id": "CUZ9Iwj4ylHt",
    "outputId": "590e315a-9787-4f54-d023-4ce1c452934e"
   },
   "outputs": [
    {
     "data": {
      "text/plain": [
       "[<matplotlib.lines.Line2D at 0x177bbc8d400>]"
      ]
     },
     "execution_count": 62,
     "metadata": {},
     "output_type": "execute_result"
    },
    {
     "data": {
      "image/png": "[encoded data removed]",
      "text/plain": [
       "<Figure size 1080x1080 with 1 Axes>"
      ]
     },
     "metadata": {
      "needs_background": "light"
     },
     "output_type": "display_data"
    }
   ],
   "source": [
    "plt.title('SkipGram Training Process')\n",
    "plt.xlabel('Itearations')\n",
    "plt.ylabel('Loss')\n",
    "plt.grid()\n",
    "plt.plot(losses0)"
   ]
  },
  {
   "cell_type": "code",
   "execution_count": 63,
   "metadata": {
    "id": "BUEDOvX3ylHt"
   },
   "outputs": [],
   "source": [
    "# проверка, что хоть что-то выучилось\n",
    "assert np.mean(losses0[-1000:]) < 7.5"
   ]
  },
  {
   "cell_type": "code",
   "execution_count": 64,
   "metadata": {},
   "outputs": [
    {
     "data": {
      "text/plain": [
       "7.549025700775752"
      ]
     },
     "execution_count": 64,
     "metadata": {},
     "output_type": "execute_result"
    }
   ],
   "source": [
    "# буду использовать для сравнения при улучшении\n",
    "initial_loss = np.mean(losses0)\n",
    "initial_loss"
   ]
  },
  {
   "cell_type": "markdown",
   "metadata": {
    "id": "x2Dm_9lFylHu"
   },
   "source": [
    "# Косинусная близость\n",
    "От 0 до 1, где 0 - вектора абсолютно разные, где 1 - идентичные."
   ]
  },
  {
   "cell_type": "code",
   "execution_count": 65,
   "metadata": {
    "id": "cyCDBVP_ylHt"
   },
   "outputs": [],
   "source": [
    "def cos_sim(embedding_matrix, token2id, word1, word2):\n",
    "\n",
    "    i1 = token2id[word1]\n",
    "    i2 = token2id[word2]\n",
    "\n",
    "    v1, v2 = embedding_matrix[i1], embedding_matrix[i2]\n",
    "\n",
    "    v1_n = v1.div(v1.norm(keepdim=True))\n",
    "    v2_n = v2.div(v2.norm(keepdim=True))\n",
    "\n",
    "    similarity = torch.dot(v1_n, v2_n).item()\n",
    "\n",
    "    return similarity"
   ]
  },
  {
   "cell_type": "code",
   "execution_count": 66,
   "metadata": {
    "id": "2j3O4JidylHu",
    "outputId": "48a0e866-cf0c-4d1d-fb17-94d79a37dd85"
   },
   "outputs": [
    {
     "data": {
      "text/plain": [
       "0.7800936698913574"
      ]
     },
     "execution_count": 66,
     "metadata": {},
     "output_type": "execute_result"
    }
   ],
   "source": [
    "cos_sim(matrix0, word2index, 'день', 'месяц')"
   ]
  },
  {
   "cell_type": "code",
   "execution_count": 67,
   "metadata": {
    "id": "JPrMO6VyylHu",
    "outputId": "09436a51-f0d2-4639-d69d-ee56e3973c9b"
   },
   "outputs": [
    {
     "data": {
      "text/plain": [
       "0.6742182374000549"
      ]
     },
     "execution_count": 67,
     "metadata": {},
     "output_type": "execute_result"
    }
   ],
   "source": [
    "cos_sim(matrix0, word2index, 'минута', 'месяц')"
   ]
  },
  {
   "cell_type": "code",
   "execution_count": 68,
   "metadata": {
    "id": "4OBbcotzylHu",
    "outputId": "fd2c5caa-a650-4f44-89c1-fe6be92611b1"
   },
   "outputs": [
    {
     "data": {
      "text/plain": [
       "0.8428484201431274"
      ]
     },
     "execution_count": 68,
     "metadata": {},
     "output_type": "execute_result"
    }
   ],
   "source": [
    "cos_sim(matrix0, word2index, 'сотрудник', 'сотрудница')"
   ]
  },
  {
   "cell_type": "code",
   "execution_count": 69,
   "metadata": {
    "id": "ZPwC_gc0ylHu",
    "outputId": "c7e709e4-8c23-4d66-f9b5-e66d17e0188b"
   },
   "outputs": [
    {
     "data": {
      "text/plain": [
       "0.46486541628837585"
      ]
     },
     "execution_count": 69,
     "metadata": {},
     "output_type": "execute_result"
    }
   ],
   "source": [
    "cos_sim(matrix0, word2index, 'вклад', 'перевод')"
   ]
  },
  {
   "cell_type": "code",
   "execution_count": 70,
   "metadata": {
    "id": "9gBhZWvTylHu",
    "outputId": "ddf5f059-97c7-47d0-d03e-6affccae42aa"
   },
   "outputs": [
    {
     "data": {
      "text/plain": [
       "'Косинусная близость слова \"день\" к случайному выбраному слову \"пересчитать\" равна 0.708'"
      ]
     },
     "execution_count": 70,
     "metadata": {},
     "output_type": "execute_result"
    }
   ],
   "source": [
    "random_word = random.choice(list(word2index.keys()))\n",
    "sim = cos_sim(matrix0, word2index, 'день', random_word)\n",
    "'''Косинусная близость слова \"день\" к случайному выбраному слову \\\n",
    "\"{}\" равна {:.3f}'''.format(random_word, sim)"
   ]
  },
  {
   "cell_type": "code",
   "execution_count": 72,
   "metadata": {
    "id": "VOklqzS-ylHv"
   },
   "outputs": [
    {
     "data": {
      "text/plain": [
       "[('##число', 35310),\n",
       " ('банк', 28716),\n",
       " ('карта', 13516),\n",
       " ('UNK', 12637),\n",
       " ('кредит', 7465)]"
      ]
     },
     "execution_count": 72,
     "metadata": {},
     "output_type": "execute_result"
    }
   ],
   "source": [
    "all_tokens = []\n",
    "for text in corpus:\n",
    "    all_tokens.extend(text)\n",
    "\n",
    "sorted_freq = Counter(all_tokens).most_common()\n",
    "sorted_freq[0:5]"
   ]
  },
  {
   "cell_type": "code",
   "execution_count": 73,
   "metadata": {},
   "outputs": [],
   "source": [
    "top_sorted_freq = sorted_freq[0:200]"
   ]
  },
  {
   "cell_type": "code",
   "execution_count": 74,
   "metadata": {
    "id": "sJnre0G1ylHv",
    "outputId": "7c6f42b6-6966-444c-8cd3-67922e5dcaa3"
   },
   "outputs": [
    {
     "name": "stdout",
     "output_type": "stream",
     "text": [
      "[t-SNE] Computing 91 nearest neighbors...\n",
      "[t-SNE] Indexed 13076 samples in 0.000s...\n",
      "[t-SNE] Computed neighbors for 13076 samples in 4.303s...\n",
      "[t-SNE] Computed conditional probabilities for sample 1000 / 13076\n",
      "[t-SNE] Computed conditional probabilities for sample 2000 / 13076\n",
      "[t-SNE] Computed conditional probabilities for sample 3000 / 13076\n",
      "[t-SNE] Computed conditional probabilities for sample 4000 / 13076\n",
      "[t-SNE] Computed conditional probabilities for sample 5000 / 13076\n",
      "[t-SNE] Computed conditional probabilities for sample 6000 / 13076\n",
      "[t-SNE] Computed conditional probabilities for sample 7000 / 13076\n",
      "[t-SNE] Computed conditional probabilities for sample 8000 / 13076\n",
      "[t-SNE] Computed conditional probabilities for sample 9000 / 13076\n",
      "[t-SNE] Computed conditional probabilities for sample 10000 / 13076\n",
      "[t-SNE] Computed conditional probabilities for sample 11000 / 13076\n",
      "[t-SNE] Computed conditional probabilities for sample 12000 / 13076\n",
      "[t-SNE] Computed conditional probabilities for sample 13000 / 13076\n",
      "[t-SNE] Computed conditional probabilities for sample 13076 / 13076\n",
      "[t-SNE] Mean sigma: 1.059120\n",
      "[t-SNE] Computed conditional probabilities in 0.435s\n",
      "[t-SNE] Iteration 50: error = 97.6392212, gradient norm = 0.0003487 (50 iterations in 5.392s)\n",
      "[t-SNE] Iteration 100: error = 97.7064056, gradient norm = 0.0000206 (50 iterations in 4.455s)\n",
      "[t-SNE] Iteration 150: error = 97.7135468, gradient norm = 0.0000029 (50 iterations in 3.780s)\n",
      "[t-SNE] Iteration 200: error = 97.7145844, gradient norm = 0.0000012 (50 iterations in 4.043s)\n",
      "[t-SNE] Iteration 250: error = 97.7147522, gradient norm = 0.0000013 (50 iterations in 3.965s)\n",
      "[t-SNE] KL divergence after 250 iterations with early exaggeration: 97.714752\n",
      "[t-SNE] Iteration 300: error = 4.8168235, gradient norm = 0.0009958 (50 iterations in 4.108s)\n",
      "[t-SNE] Iteration 350: error = 4.2328253, gradient norm = 0.0005844 (50 iterations in 4.779s)\n",
      "[t-SNE] Iteration 400: error = 4.1024151, gradient norm = 0.0003146 (50 iterations in 4.495s)\n",
      "[t-SNE] Iteration 450: error = 4.0219626, gradient norm = 0.0002150 (50 iterations in 4.311s)\n",
      "[t-SNE] Iteration 500: error = 3.9647465, gradient norm = 0.0001600 (50 iterations in 4.535s)\n",
      "[t-SNE] Iteration 550: error = 3.9209161, gradient norm = 0.0001277 (50 iterations in 4.369s)\n",
      "[t-SNE] Iteration 600: error = 3.8859839, gradient norm = 0.0001037 (50 iterations in 4.530s)\n",
      "[t-SNE] Iteration 650: error = 3.8572731, gradient norm = 0.0000905 (50 iterations in 4.309s)\n",
      "[t-SNE] Iteration 700: error = 3.8332744, gradient norm = 0.0000757 (50 iterations in 4.160s)\n",
      "[t-SNE] Iteration 750: error = 3.8130608, gradient norm = 0.0000660 (50 iterations in 4.203s)\n",
      "[t-SNE] Iteration 800: error = 3.7958882, gradient norm = 0.0000603 (50 iterations in 4.459s)\n",
      "[t-SNE] Iteration 850: error = 3.7812953, gradient norm = 0.0000549 (50 iterations in 4.613s)\n",
      "[t-SNE] Iteration 900: error = 3.7687118, gradient norm = 0.0000509 (50 iterations in 4.263s)\n",
      "[t-SNE] Iteration 950: error = 3.7575247, gradient norm = 0.0000508 (50 iterations in 4.316s)\n",
      "[t-SNE] Iteration 1000: error = 3.7485993, gradient norm = 0.0000450 (50 iterations in 4.246s)\n",
      "[t-SNE] KL divergence after 1000 iterations: 3.748599\n"
     ]
    }
   ],
   "source": [
    "tsne = TSNE(n_components=2, init='pca', random_state=117, verbose=2)\n",
    "reduced = tsne.fit_transform(matrix0)"
   ]
  },
  {
   "cell_type": "code",
   "execution_count": 75,
   "metadata": {
    "id": "bgvJfsZvylHv"
   },
   "outputs": [],
   "source": [
    "top_words = [a for a, _ in top_sorted_freq]"
   ]
  },
  {
   "cell_type": "code",
   "execution_count": 76,
   "metadata": {
    "id": "QMxMvJzCylHv"
   },
   "outputs": [],
   "source": [
    "inds = [word2index[word] for word in top_words]\n",
    "x_coords = [coords[0] for coords in reduced[inds]]\n",
    "y_coords = [coords[1] for coords in reduced[inds]]"
   ]
  },
  {
   "cell_type": "code",
   "execution_count": 77,
   "metadata": {
    "id": "U1RjeT1HylHv",
    "outputId": "2939de03-db8b-4a79-edd7-7357baf2aad0"
   },
   "outputs": [
    {
     "data": {
      "image/png": "[encoded data removed]",
      "text/plain": [
       "<Figure size 1080x1080 with 1 Axes>"
      ]
     },
     "metadata": {
      "needs_background": "light"
     },
     "output_type": "display_data"
    }
   ],
   "source": [
    "for (x, y, word) in zip(x_coords, y_coords, top_words):\n",
    "    plt.scatter(x, y, marker='.', color='blue')\n",
    "    plt.text(x+0.01, y+0.01, word, fontsize=9)\n",
    "plt.show()"
   ]
  },
  {
   "cell_type": "markdown",
   "metadata": {
    "id": "OTngYQsKylHw"
   },
   "source": [
    "# Оценка\n",
    "1. Вы добрались сюда и все работает, значит уже получили 7 баллов.\n",
    "2. 8 баллов -- взяли корпус для оценка качества эмбеддингов [здесь](https://rusvectores.org/static/testsets/ru_simlex965_tagged.tsv). Описание к нему [здесь](https://arxiv.org/pdf/1801.06407.pdf). Его английская версия для понимания, того что же это такое [тут](https://fh295.github.io/simlex.html). Если вкратце -- он похож на гугл аналогии, просто иначе составлен. Определили качество своих эмбеддингов. Как качество измерить? Можете все значения отнормировать (привести к 1) и затем считать MSE между тем, что у вас и что в оригинале.\n",
    "3. 9 баллов -- поставили эксперименты, поменяли любые параметры, хоть корпус увеличили или как-то почистили. Показали метрики до и после. После должно быть лучше, иначе это все еще 8 баллов.\n",
    "4. 10 баллов -- удивили своим подходом (или просто удивили), пока делали на 9 баллов."
   ]
  },
  {
   "cell_type": "code",
   "execution_count": 78,
   "metadata": {
    "id": "Vu613mpEylHw"
   },
   "outputs": [],
   "source": [
    "import pandas as pd"
   ]
  },
  {
   "cell_type": "code",
   "execution_count": 79,
   "metadata": {},
   "outputs": [
    {
     "data": {
      "text/html": [
       "<div>\n",
       "<style scoped>\n",
       "    .dataframe tbody tr th:only-of-type {\n",
       "        vertical-align: middle;\n",
       "    }\n",
       "\n",
       "    .dataframe tbody tr th {\n",
       "        vertical-align: top;\n",
       "    }\n",
       "\n",
       "    .dataframe thead th {\n",
       "        text-align: right;\n",
       "    }\n",
       "</style>\n",
       "<table border=\"1\" class=\"dataframe\">\n",
       "  <thead>\n",
       "    <tr style=\"text-align: right;\">\n",
       "      <th></th>\n",
       "      <th>Word1</th>\n",
       "      <th>Word2</th>\n",
       "      <th>Average Score</th>\n",
       "    </tr>\n",
       "  </thead>\n",
       "  <tbody>\n",
       "    <tr>\n",
       "      <th>0</th>\n",
       "      <td>авария_NOUN</td>\n",
       "      <td>бедствие_NOUN</td>\n",
       "      <td>6.15</td>\n",
       "    </tr>\n",
       "    <tr>\n",
       "      <th>1</th>\n",
       "      <td>август_NOUN</td>\n",
       "      <td>месяц_NOUN</td>\n",
       "      <td>2.85</td>\n",
       "    </tr>\n",
       "    <tr>\n",
       "      <th>2</th>\n",
       "      <td>авиация_NOUN</td>\n",
       "      <td>полет_NOUN</td>\n",
       "      <td>6.77</td>\n",
       "    </tr>\n",
       "    <tr>\n",
       "      <th>3</th>\n",
       "      <td>автомобиль_NOUN</td>\n",
       "      <td>гудок_NOUN</td>\n",
       "      <td>1.85</td>\n",
       "    </tr>\n",
       "    <tr>\n",
       "      <th>4</th>\n",
       "      <td>автомобиль_NOUN</td>\n",
       "      <td>автострада_NOUN</td>\n",
       "      <td>1.23</td>\n",
       "    </tr>\n",
       "  </tbody>\n",
       "</table>\n",
       "</div>"
      ],
      "text/plain": [
       "             Word1            Word2  Average Score\n",
       "0      авария_NOUN    бедствие_NOUN           6.15\n",
       "1      август_NOUN       месяц_NOUN           2.85\n",
       "2     авиация_NOUN       полет_NOUN           6.77\n",
       "3  автомобиль_NOUN       гудок_NOUN           1.85\n",
       "4  автомобиль_NOUN  автострада_NOUN           1.23"
      ]
     },
     "execution_count": 79,
     "metadata": {},
     "output_type": "execute_result"
    }
   ],
   "source": [
    "eval_df = pd.read_csv('data/ru_simlex965_tagged.tsv', sep='\\t')\n",
    "eval_df.rename(columns={'# Word1': 'Word1'}, inplace=True)\n",
    "eval_df.head()"
   ]
  },
  {
   "cell_type": "code",
   "execution_count": 80,
   "metadata": {},
   "outputs": [
    {
     "data": {
      "text/html": [
       "<div>\n",
       "<style scoped>\n",
       "    .dataframe tbody tr th:only-of-type {\n",
       "        vertical-align: middle;\n",
       "    }\n",
       "\n",
       "    .dataframe tbody tr th {\n",
       "        vertical-align: top;\n",
       "    }\n",
       "\n",
       "    .dataframe thead th {\n",
       "        text-align: right;\n",
       "    }\n",
       "</style>\n",
       "<table border=\"1\" class=\"dataframe\">\n",
       "  <thead>\n",
       "    <tr style=\"text-align: right;\">\n",
       "      <th></th>\n",
       "      <th>Word1</th>\n",
       "      <th>Word2</th>\n",
       "      <th>Average Score</th>\n",
       "    </tr>\n",
       "  </thead>\n",
       "  <tbody>\n",
       "    <tr>\n",
       "      <th>0</th>\n",
       "      <td>авария</td>\n",
       "      <td>бедствие</td>\n",
       "      <td>6.15</td>\n",
       "    </tr>\n",
       "    <tr>\n",
       "      <th>1</th>\n",
       "      <td>август</td>\n",
       "      <td>месяц</td>\n",
       "      <td>2.85</td>\n",
       "    </tr>\n",
       "    <tr>\n",
       "      <th>2</th>\n",
       "      <td>авиация</td>\n",
       "      <td>полет</td>\n",
       "      <td>6.77</td>\n",
       "    </tr>\n",
       "    <tr>\n",
       "      <th>3</th>\n",
       "      <td>автомобиль</td>\n",
       "      <td>гудок</td>\n",
       "      <td>1.85</td>\n",
       "    </tr>\n",
       "    <tr>\n",
       "      <th>4</th>\n",
       "      <td>автомобиль</td>\n",
       "      <td>автострада</td>\n",
       "      <td>1.23</td>\n",
       "    </tr>\n",
       "  </tbody>\n",
       "</table>\n",
       "</div>"
      ],
      "text/plain": [
       "        Word1       Word2  Average Score\n",
       "0      авария    бедствие           6.15\n",
       "1      август       месяц           2.85\n",
       "2     авиация       полет           6.77\n",
       "3  автомобиль       гудок           1.85\n",
       "4  автомобиль  автострада           1.23"
      ]
     },
     "execution_count": 80,
     "metadata": {},
     "output_type": "execute_result"
    }
   ],
   "source": [
    "eval_df1 = eval_df.copy()\n",
    "eval_df1['Word1'] = eval_df1.apply(lambda row:\n",
    "                                   row['Word1'].split('_')[0], axis=1)\n",
    "eval_df1['Word2'] = eval_df1.apply(lambda row:\n",
    "                                   row['Word2'].split('_')[0], axis=1)\n",
    "eval_df1.head()"
   ]
  },
  {
   "cell_type": "code",
   "execution_count": 81,
   "metadata": {},
   "outputs": [],
   "source": [
    "def get_scores(word1_list, word2_list, gold_list,\n",
    "               embedding_matrix, word2index):\n",
    "\n",
    "    model_words = list(word2index.keys())\n",
    "    gold_scores, pred_scores = [], []\n",
    "\n",
    "    for i, word1 in enumerate(word1_list):\n",
    "        word2 = word2_list[i]\n",
    "\n",
    "        # считаем только на словах, которые есть в модели\n",
    "        if word1 in model_words and word2 in model_words:\n",
    "            pred_sc = cos_sim(embedding_matrix, word2index,\n",
    "                              word1, word2)\n",
    "            gold_scores.append(gold_list[i])\n",
    "            pred_scores.append(pred_sc)\n",
    "\n",
    "    return gold_scores, pred_scores"
   ]
  },
  {
   "cell_type": "code",
   "execution_count": 82,
   "metadata": {},
   "outputs": [],
   "source": [
    "gold, pred = get_scores(eval_df1['Word1'].tolist(),\n",
    "                        eval_df1['Word2'].tolist(),\n",
    "                        eval_df1['Average Score'].tolist(),\n",
    "                        matrix0, word2index)"
   ]
  },
  {
   "cell_type": "code",
   "execution_count": 83,
   "metadata": {},
   "outputs": [
    {
     "data": {
      "text/plain": [
       "498"
      ]
     },
     "execution_count": 83,
     "metadata": {},
     "output_type": "execute_result"
    }
   ],
   "source": [
    "len(pred)"
   ]
  },
  {
   "cell_type": "markdown",
   "metadata": {},
   "source": [
    "Пояснение про нормализацию: изначально было оговорено, что мы приводим скоры из оценочного датасета в интервал от 0 до 1. Однако косинусная близость возвращает значения от -1 до 1, причем значения, лежащие в pred, не распределены от -1 до 1, они все меньше 1 по модулю. Можно нормировать оценочные скоры от -1 до 1, но это все равно не будет честно, потому что у нас нет оценок для слов, которым косинусная близость приписала бы, например, значение 1. Сранивать значения, заведомо лежащие в разных интервалах, звучит как провальная затея. Поэтому я буду одинаково нормировать все скоры (и голд, и предиктед), приводя их в интервал от -1 до 1."
   ]
  },
  {
   "cell_type": "code",
   "execution_count": 84,
   "metadata": {},
   "outputs": [],
   "source": [
    "from sklearn.preprocessing import MinMaxScaler\n",
    "from sklearn.metrics import mean_squared_error"
   ]
  },
  {
   "cell_type": "code",
   "execution_count": 85,
   "metadata": {},
   "outputs": [],
   "source": [
    "def normalize_scores(scores):\n",
    "    scaler = MinMaxScaler(feature_range=(-1, 1))\n",
    "    norm_scores = scaler.fit_transform(\n",
    "        np.array(scores).reshape(-1, 1))\n",
    "    return norm_scores"
   ]
  },
  {
   "cell_type": "code",
   "execution_count": 86,
   "metadata": {},
   "outputs": [],
   "source": [
    "def count_mse(gold, pred):\n",
    "\n",
    "    gold = np.array(normalize_scores(gold))\n",
    "    pred = np.array(normalize_scores(pred))\n",
    "\n",
    "    mse = mean_squared_error(gold, pred)\n",
    "\n",
    "    return mse"
   ]
  },
  {
   "cell_type": "code",
   "execution_count": 87,
   "metadata": {},
   "outputs": [
    {
     "data": {
      "text/plain": [
       "0.7064294291886518"
      ]
     },
     "execution_count": 87,
     "metadata": {},
     "output_type": "execute_result"
    }
   ],
   "source": [
    "initial_mse = count_mse(gold, pred)\n",
    "initial_mse"
   ]
  },
  {
   "cell_type": "markdown",
   "metadata": {
    "id": "BAI31L6bylHw"
   },
   "source": [
    "# Улучшения\n",
    "### Эксперимент 1: эпохи\n",
    "Не меняя корпус и препроцессинг, попробуем увеличить количество эпох. Остальные параметры пока по умолчанию."
   ]
  },
  {
   "cell_type": "code",
   "execution_count": 88,
   "metadata": {},
   "outputs": [
    {
     "name": "stderr",
     "output_type": "stream",
     "text": [
      "Epoch 1: 100%|█████████████████████████████████████████████████| 2983124/2983124 [00:44<00:00, 67273.80it/s, loss=7.37]\n",
      "Epoch 2: 100%|█████████████████████████████████████████████████| 2983124/2983124 [00:44<00:00, 67423.91it/s, loss=7.28]\n",
      "Epoch 3: 100%|█████████████████████████████████████████████████| 2983124/2983124 [00:43<00:00, 67932.58it/s, loss=7.09]\n",
      "Epoch 4: 100%|█████████████████████████████████████████████████| 2983124/2983124 [00:44<00:00, 66965.38it/s, loss=7.06]\n",
      "Epoch 5: 100%|█████████████████████████████████████████████████| 2983124/2983124 [00:44<00:00, 66536.60it/s, loss=7.05]\n"
     ]
    }
   ],
   "source": [
    "losses1, matrix1 = train_model(word2index, epochs=5)"
   ]
  },
  {
   "cell_type": "code",
   "execution_count": 89,
   "metadata": {},
   "outputs": [],
   "source": [
    "def get_pred_and_mse(eval_df, embedding_matrix, word2index):\n",
    "\n",
    "    gold, pred = get_scores(eval_df['Word1'].tolist(),\n",
    "                            eval_df['Word2'].tolist(),\n",
    "                            eval_df['Average Score'].tolist(),\n",
    "                            embedding_matrix, word2index)\n",
    "\n",
    "    mse = count_mse(gold, pred)\n",
    "\n",
    "    return mse"
   ]
  },
  {
   "cell_type": "code",
   "execution_count": 90,
   "metadata": {},
   "outputs": [
    {
     "name": "stdout",
     "output_type": "stream",
     "text": [
      "Mean loss: before -- 7.549, after -- 7.334\n",
      "MSE: before -- 0.706, after -- 0.644\n"
     ]
    }
   ],
   "source": [
    "mse1 = get_pred_and_mse(eval_df1, matrix1, word2index)\n",
    "\n",
    "print('Mean loss: before -- {:.3f}, after -- {:.3f}'.format(\n",
    "    initial_loss, np.mean(losses1)))\n",
    "print('MSE: before -- {:.3f}, after -- {:.3f}'.format(initial_mse, mse1))"
   ]
  },
  {
   "cell_type": "markdown",
   "metadata": {},
   "source": [
    "Ура! Увеличение числа эпох ожидаемо дало прирост качества. На переобучение не похоже -- падает и средний лосс, и MSE.\n",
    "\n",
    "### Эксперимент 2: размер эмбеддингов\n",
    "Я буду менять параметры по одному, сравнивая результаты с теми, что получились у самой первой модели с дефолтными параметрами. (То есть сейчас число эпох опять 3, а не 5, и это намеренно)."
   ]
  },
  {
   "cell_type": "code",
   "execution_count": 91,
   "metadata": {},
   "outputs": [
    {
     "name": "stderr",
     "output_type": "stream",
     "text": [
      "Epoch 1: 100%|█████████████████████████████████████████████████| 2983124/2983124 [00:44<00:00, 66747.39it/s, loss=7.41]\n",
      "Epoch 2: 100%|█████████████████████████████████████████████████| 2983124/2983124 [00:45<00:00, 66211.58it/s, loss=7.29]\n",
      "Epoch 3: 100%|█████████████████████████████████████████████████| 2983124/2983124 [00:44<00:00, 67367.50it/s, loss=7.11]\n"
     ]
    }
   ],
   "source": [
    "losses2, matrix2 = train_model(word2index, emb_size=100)"
   ]
  },
  {
   "cell_type": "code",
   "execution_count": 92,
   "metadata": {},
   "outputs": [
    {
     "name": "stdout",
     "output_type": "stream",
     "text": [
      "Mean loss: before -- 7.549, after -- 7.533\n",
      "MSE: before -- 0.706, after -- 0.625\n"
     ]
    }
   ],
   "source": [
    "mse2 = get_pred_and_mse(eval_df1, matrix2, word2index)\n",
    "\n",
    "print('Mean loss: before -- {:.3f}, after -- {:.3f}'.format(initial_loss,\n",
    "                                                            np.mean(losses2)))\n",
    "print('MSE: before -- {:.3f}, after -- {:.3f}'.format(initial_mse, mse2))"
   ]
  },
  {
   "cell_type": "markdown",
   "metadata": {},
   "source": [
    "Чуть-чуть лучше! Можно увеличить до 150."
   ]
  },
  {
   "cell_type": "code",
   "execution_count": 93,
   "metadata": {},
   "outputs": [
    {
     "name": "stderr",
     "output_type": "stream",
     "text": [
      "Epoch 1: 100%|█████████████████████████████████████████████████| 2983124/2983124 [00:45<00:00, 66197.52it/s, loss=7.39]\n",
      "Epoch 2: 100%|█████████████████████████████████████████████████| 2983124/2983124 [00:44<00:00, 66972.99it/s, loss=7.28]\n",
      "Epoch 3: 100%|█████████████████████████████████████████████████| 2983124/2983124 [00:43<00:00, 67889.01it/s, loss=7.12]\n"
     ]
    }
   ],
   "source": [
    "losses3, matrix3 = train_model(word2index, emb_size=150)"
   ]
  },
  {
   "cell_type": "code",
   "execution_count": 94,
   "metadata": {},
   "outputs": [
    {
     "name": "stdout",
     "output_type": "stream",
     "text": [
      "Mean loss: before -- 7.549, after -- 7.527\n",
      "MSE: before -- 0.706, after -- 0.621\n"
     ]
    }
   ],
   "source": [
    "mse3 = get_pred_and_mse(eval_df1, matrix3, word2index)\n",
    "\n",
    "print('Mean loss: before -- {:.3f}, after -- {:.3f}'.format(initial_loss,\n",
    "                                                            np.mean(losses3)))\n",
    "print('MSE: before -- {:.3f}, after -- {:.3f}'.format(initial_mse, mse3))"
   ]
  },
  {
   "cell_type": "markdown",
   "metadata": {},
   "source": [
    "Попробуем теперь уменьшить (слишком большие эмбеддинги -- тоже плохо, корпус не очень большой)."
   ]
  },
  {
   "cell_type": "code",
   "execution_count": 95,
   "metadata": {},
   "outputs": [
    {
     "name": "stderr",
     "output_type": "stream",
     "text": [
      "Epoch 1: 100%|██████████████████████████████████████████████████| 2983124/2983124 [00:44<00:00, 67198.92it/s, loss=7.4]\n",
      "Epoch 2: 100%|█████████████████████████████████████████████████| 2983124/2983124 [00:44<00:00, 67099.62it/s, loss=7.29]\n",
      "Epoch 3: 100%|█████████████████████████████████████████████████| 2983124/2983124 [00:53<00:00, 55964.49it/s, loss=7.11]\n"
     ]
    }
   ],
   "source": [
    "losses4, matrix4 = train_model(word2index, emb_size=50)"
   ]
  },
  {
   "cell_type": "code",
   "execution_count": 96,
   "metadata": {},
   "outputs": [
    {
     "name": "stdout",
     "output_type": "stream",
     "text": [
      "Mean loss: before -- 7.549, after -- 7.538\n",
      "MSE: before -- 0.706, after -- 0.821\n"
     ]
    }
   ],
   "source": [
    "mse4 = get_pred_and_mse(eval_df1, matrix4, word2index)\n",
    "\n",
    "print('Mean loss: before -- {:.3f}, after -- {:.3f}'.format(initial_loss,\n",
    "                                                            np.mean(losses4)))\n",
    "print('MSE: before -- {:.3f}, after -- {:.3f}'.format(initial_mse, mse4))"
   ]
  },
  {
   "cell_type": "markdown",
   "metadata": {},
   "source": [
    "Вот это было зря, оставляем 150.\n",
    "\n",
    "### Эксперимент 3: learning rate"
   ]
  },
  {
   "cell_type": "code",
   "execution_count": 97,
   "metadata": {},
   "outputs": [
    {
     "name": "stderr",
     "output_type": "stream",
     "text": [
      "Epoch 1: 100%|█████████████████████████████████████████████████| 2983124/2983124 [01:07<00:00, 44342.93it/s, loss=8.81]\n",
      "Epoch 2: 100%|█████████████████████████████████████████████████| 2983124/2983124 [01:05<00:00, 45311.59it/s, loss=9.69]\n",
      "Epoch 3: 100%|█████████████████████████████████████████████████| 2983124/2983124 [01:07<00:00, 44029.07it/s, loss=10.7]\n"
     ]
    }
   ],
   "source": [
    "losses5, matrix5 = train_model(word2index, lr=0.001)"
   ]
  },
  {
   "cell_type": "code",
   "execution_count": 98,
   "metadata": {},
   "outputs": [
    {
     "name": "stdout",
     "output_type": "stream",
     "text": [
      "Mean loss: before -- 7.549, after -- 9.224\n",
      "MSE: before -- 0.706, after -- 0.679\n"
     ]
    }
   ],
   "source": [
    "mse5 = get_pred_and_mse(eval_df1, matrix5, word2index)\n",
    "\n",
    "print('Mean loss: before -- {:.3f}, after -- {:.3f}'.format(initial_loss,\n",
    "                                                            np.mean(losses5)))\n",
    "print('MSE: before -- {:.3f}, after -- {:.3f}'.format(initial_mse, mse5))"
   ]
  },
  {
   "cell_type": "markdown",
   "metadata": {},
   "source": [
    "MSE падает, но средний Loss растет... Ага, лернинг рейту больше не наливаем (но можно попробовать налить меньше):"
   ]
  },
  {
   "cell_type": "code",
   "execution_count": 99,
   "metadata": {},
   "outputs": [
    {
     "name": "stderr",
     "output_type": "stream",
     "text": [
      "Epoch 1: 100%|█████████████████████████████████████████████████| 2983124/2983124 [01:11<00:00, 41638.17it/s, loss=7.62]\n",
      "Epoch 2: 100%|██████████████████████████████████████████████████| 2983124/2983124 [01:08<00:00, 43535.40it/s, loss=7.8]\n",
      "Epoch 3: 100%|█████████████████████████████████████████████████| 2983124/2983124 [01:05<00:00, 45472.52it/s, loss=7.92]\n"
     ]
    }
   ],
   "source": [
    "losses6, matrix6 = train_model(word2index, lr=0.0005)"
   ]
  },
  {
   "cell_type": "code",
   "execution_count": 100,
   "metadata": {},
   "outputs": [
    {
     "name": "stdout",
     "output_type": "stream",
     "text": [
      "Mean loss: before -- 7.549, after -- 7.743\n",
      "MSE: before -- 0.706, after -- 0.714\n"
     ]
    }
   ],
   "source": [
    "mse6 = get_pred_and_mse(eval_df1, matrix6, word2index)\n",
    "\n",
    "print('Mean loss: before -- {:.3f}, after -- {:.3f}'.format(initial_loss,\n",
    "                                                            np.mean(losses6)))\n",
    "print('MSE: before -- {:.3f}, after -- {:.3f}'.format(initial_mse, mse6))"
   ]
  },
  {
   "cell_type": "markdown",
   "metadata": {},
   "source": [
    "Нет, все равно плохо, попробуем взять даже меньше дефолтного:"
   ]
  },
  {
   "cell_type": "code",
   "execution_count": 101,
   "metadata": {},
   "outputs": [
    {
     "name": "stderr",
     "output_type": "stream",
     "text": [
      "Epoch 1: 100%|█████████████████████████████████████████████████| 2983124/2983124 [01:12<00:00, 41066.12it/s, loss=7.74]\n",
      "Epoch 2: 100%|█████████████████████████████████████████████████| 2983124/2983124 [01:10<00:00, 42399.59it/s, loss=7.33]\n",
      "Epoch 3: 100%|█████████████████████████████████████████████████| 2983124/2983124 [01:07<00:00, 44306.29it/s, loss=7.38]\n"
     ]
    }
   ],
   "source": [
    "losses7, matrix7 = train_model(word2index, lr=0.00005)"
   ]
  },
  {
   "cell_type": "code",
   "execution_count": 102,
   "metadata": {},
   "outputs": [
    {
     "name": "stdout",
     "output_type": "stream",
     "text": [
      "Mean loss: before -- 7.549, after -- 7.835\n",
      "MSE: before -- 0.706, after -- 0.671\n"
     ]
    }
   ],
   "source": [
    "mse7 = get_pred_and_mse(eval_df1, matrix7, word2index)\n",
    "\n",
    "print('Mean loss: before -- {:.3f}, after -- {:.3f}'.format(initial_loss,\n",
    "                                                            np.mean(losses7)))\n",
    "print('MSE: before -- {:.3f}, after -- {:.3f}'.format(initial_mse, mse7))"
   ]
  },
  {
   "cell_type": "markdown",
   "metadata": {},
   "source": [
    "Сдаюсь, оставляем дефолтный))\n",
    "\n",
    "### Эксперимент 4: другой препроцессинг\n",
    "Структура оценочного датасета наталкивает на мысль, что можно использовать не только сами слова, но и их частеречные теги. Это довольно распространенный подход, позволяющий решать, среди прочих, проблему \"склеивания\" эмбеддингов омонимичных лексем. Но для более правильного определения частей речи нужен контекст, а это значит, что для препроцессинга лучше использовать Майстем (он вроде как способен его учитывать). У меня Винда, а на Винде библиотека Майстема адски медленная, так что будем извращаться с консольным. Необходимость использовать контекст не позволяет лемматизировать только уникальные слова, что существенно увеличивает время предобработки.\n",
    "\n",
    "Новый вариант препроцессинга можно посмотреть в тетрадке new_preprocessing.ipynb, а новый корпус -- в подпапке data (файл new_corpus.json). Если вкратце, то препроцессинг организован так:\n",
    "\n",
    "1. Корпус делится на 15 примерно равных батчей (иначе итоговые файлы слишком велики и не влазят в память -- целый корпус с грамматической информацией весит больше 2 Гб).\n",
    "2. Каждая часть парсится консольным Майстемом.\n",
    "3. Файл с разметкой считывается построчно, собирается информация о леммах и частях речи, при этом не учитывается мусор (который Майстем не распознает): сюда попадают слова в транслите, ссылки, опечатки и т.д. (они бы и так отсеялись при обрезании по порогу).\n",
    "4. Порог вхождения в корпус -- 10 (т.к. мусора стало меньше, а омонимичные леммы разных частей речи могли раздвоиться или даже растроиться). Итоговый словарь полного корпуса -- 15248 слов, заменено на UNK 51360 слов (1.05%).\n",
    "5. В остальном все так же: редкие слова заменяются на UNK, идущие подряд UNK'и \"схлопываются\"."
   ]
  },
  {
   "cell_type": "code",
   "execution_count": 103,
   "metadata": {},
   "outputs": [],
   "source": [
    "with open('data/new_corpus.json', 'r', encoding='utf-8') as f:\n",
    "    new_corpus = json.load(f)"
   ]
  },
  {
   "cell_type": "code",
   "execution_count": 104,
   "metadata": {},
   "outputs": [
    {
     "data": {
      "text/plain": [
       "100000"
      ]
     },
     "execution_count": 104,
     "metadata": {},
     "output_type": "execute_result"
    }
   ],
   "source": [
    "len(new_corpus)"
   ]
  },
  {
   "cell_type": "code",
   "execution_count": 105,
   "metadata": {},
   "outputs": [
    {
     "name": "stdout",
     "output_type": "stream",
     "text": [
      "главное_ADV это_PRON стабильность_NOUN надежность_NOUN граница_NOUN\n",
      "очень_ADV удивлять_VERB банк_NOUN траст_NOUN информационный_ADJ обеспечение_NOUN низкий_ADJ уровень_NOUN\n",
      "весь_PRON прошлый_ADJ отчет_NOUN весь_PRON зеленый_ADJ свежий_ADJ задержка_NOUN число_NOUN день_NOUN\n",
      "хотеть_VERB обращаться_VERB газпромбанк_NOUN работать_VERB человек_NOUN который_PRON наплевать_VERB клиент_NOUN\n",
      "вряд_ADV находиться_VERB герой_NOUN осиливать_VERB чтение_NOUN UNK\n"
     ]
    }
   ],
   "source": [
    "# слов \"это\" и \"весь\" нет в списке стоп-слов nltk\n",
    "for text in new_corpus[:5]:\n",
    "    print(' '.join(text))"
   ]
  },
  {
   "cell_type": "code",
   "execution_count": 106,
   "metadata": {},
   "outputs": [],
   "source": [
    "new_word2index = {}\n",
    "\n",
    "for text in new_corpus:\n",
    "    for token in text:\n",
    "        if token not in new_word2index:\n",
    "            new_word2index[token] = len(new_word2index)"
   ]
  },
  {
   "cell_type": "code",
   "execution_count": 107,
   "metadata": {},
   "outputs": [
    {
     "data": {
      "text/plain": [
       "13613"
      ]
     },
     "execution_count": 107,
     "metadata": {},
     "output_type": "execute_result"
    }
   ],
   "source": [
    "len(new_word2index)"
   ]
  },
  {
   "cell_type": "code",
   "execution_count": 108,
   "metadata": {},
   "outputs": [
    {
     "name": "stderr",
     "output_type": "stream",
     "text": [
      "Epoch 1: 100%|█████████████████████████████████████████████████| 2983124/2983124 [01:07<00:00, 44241.97it/s, loss=7.36]\n",
      "Epoch 2: 100%|█████████████████████████████████████████████████| 2983124/2983124 [01:14<00:00, 40127.96it/s, loss=7.28]\n",
      "Epoch 3: 100%|█████████████████████████████████████████████████| 2983124/2983124 [01:14<00:00, 40196.76it/s, loss=7.14]\n"
     ]
    }
   ],
   "source": [
    "losses8, matrix8 = train_model(new_word2index)"
   ]
  },
  {
   "cell_type": "code",
   "execution_count": 109,
   "metadata": {},
   "outputs": [
    {
     "name": "stdout",
     "output_type": "stream",
     "text": [
      "Mean loss: before -- 7.549, after -- 7.540\n",
      "MSE: before -- 0.706, after -- 0.812\n"
     ]
    }
   ],
   "source": [
    "mse8 = get_pred_and_mse(eval_df, matrix8, new_word2index)\n",
    "\n",
    "print('Mean loss: before -- {:.3f}, after -- {:.3f}'.format(initial_loss,\n",
    "                                                            np.mean(losses8)))\n",
    "print('MSE: before -- {:.3f}, after -- {:.3f}'.format(initial_mse, mse8))"
   ]
  },
  {
   "cell_type": "markdown",
   "metadata": {},
   "source": [
    "За потраченные три часа на борьбу с майстемом и огромными файлами, конечно, обидно)) Видимо, Майстем не так уж хорош в учитывании контекста, либо в выброшенный при лемматизации мусор попали какие-то важные данные.\n",
    "\n",
    "Раз уж новый препроцессинг не улучшил качество, попробуем хотя бы увеличить размер корпуса (правда, он тоже предобработан новым способом)."
   ]
  },
  {
   "cell_type": "code",
   "execution_count": 113,
   "metadata": {},
   "outputs": [],
   "source": [
    "with open('data/full_new_corpus.json', 'r', encoding='utf-8') as f:\n",
    "    full_new_corpus = json.load(f)"
   ]
  },
  {
   "cell_type": "code",
   "execution_count": 114,
   "metadata": {},
   "outputs": [
    {
     "data": {
      "text/plain": [
       "200000"
      ]
     },
     "execution_count": 114,
     "metadata": {},
     "output_type": "execute_result"
    }
   ],
   "source": [
    "len(full_new_corpus)"
   ]
  },
  {
   "cell_type": "code",
   "execution_count": 115,
   "metadata": {},
   "outputs": [],
   "source": [
    "full_word2index = {}\n",
    "\n",
    "for text in full_new_corpus:\n",
    "    for token in text:\n",
    "        if token not in full_word2index:\n",
    "            full_word2index[token] = len(full_word2index)"
   ]
  },
  {
   "cell_type": "code",
   "execution_count": 116,
   "metadata": {},
   "outputs": [
    {
     "data": {
      "text/plain": [
       "14827"
      ]
     },
     "execution_count": 116,
     "metadata": {},
     "output_type": "execute_result"
    }
   ],
   "source": [
    "len(full_word2index)"
   ]
  },
  {
   "cell_type": "code",
   "execution_count": 117,
   "metadata": {},
   "outputs": [
    {
     "name": "stderr",
     "output_type": "stream",
     "text": [
      "Epoch 1: 100%|█████████████████████████████████████████████████| 2983124/2983124 [01:13<00:00, 40782.13it/s, loss=7.41]\n",
      "Epoch 2: 100%|█████████████████████████████████████████████████| 2983124/2983124 [01:12<00:00, 41057.21it/s, loss=7.26]\n",
      "Epoch 3: 100%|█████████████████████████████████████████████████| 2983124/2983124 [01:11<00:00, 41661.19it/s, loss=7.11]\n"
     ]
    }
   ],
   "source": [
    "losses9, matrix9 = train_model(full_word2index)"
   ]
  },
  {
   "cell_type": "code",
   "execution_count": 118,
   "metadata": {},
   "outputs": [
    {
     "name": "stdout",
     "output_type": "stream",
     "text": [
      "Mean loss: before -- 7.549, after -- 7.539\n",
      "MSE: before -- 0.706, after -- 0.717\n"
     ]
    }
   ],
   "source": [
    "mse9 = get_pred_and_mse(eval_df, matrix9, full_word2index)\n",
    "\n",
    "print('Mean loss: before -- {:.3f}, after -- {:.3f}'.format(initial_loss,\n",
    "                                                            np.mean(losses9)))\n",
    "print('MSE: before -- {:.3f}, after -- {:.3f}'.format(initial_mse, mse9))"
   ]
  },
  {
   "cell_type": "markdown",
   "metadata": {},
   "source": [
    "Либо с данными все совсем плохо, либо нужно менять размер эмбеддинга и другие параметры, но на это уже нет ни времени, ни энтузиазма.\n",
    "\n",
    "### Эксперимент 5: объединение параметров\n",
    "Возьмем подобранные ранее параметры и обучим еще одну модель -- сначала на исходных данных."
   ]
  },
  {
   "cell_type": "code",
   "execution_count": 110,
   "metadata": {},
   "outputs": [
    {
     "name": "stderr",
     "output_type": "stream",
     "text": [
      "Epoch 1: 100%|█████████████████████████████████████████████████| 2983124/2983124 [01:06<00:00, 45086.39it/s, loss=7.39]\n",
      "Epoch 2: 100%|██████████████████████████████████████████████████| 2983124/2983124 [01:07<00:00, 44476.05it/s, loss=7.3]\n",
      "Epoch 3: 100%|█████████████████████████████████████████████████| 2983124/2983124 [01:06<00:00, 44753.05it/s, loss=7.12]\n",
      "Epoch 4: 100%|█████████████████████████████████████████████████| 2983124/2983124 [01:08<00:00, 43479.95it/s, loss=7.06]\n",
      "Epoch 5: 100%|█████████████████████████████████████████████████| 2983124/2983124 [01:05<00:00, 45275.42it/s, loss=7.03]\n"
     ]
    }
   ],
   "source": [
    "new_losses, new_matrix = train_model(word2index, epochs=5,\n",
    "                                     emb_size=150, lr=0.0001)"
   ]
  },
  {
   "cell_type": "code",
   "execution_count": 112,
   "metadata": {},
   "outputs": [
    {
     "name": "stdout",
     "output_type": "stream",
     "text": [
      "Mean loss: before -- 7.549, after -- 7.320\n",
      "MSE: before -- 0.706, after -- 0.627\n"
     ]
    }
   ],
   "source": [
    "new_mse = get_pred_and_mse(eval_df1, new_matrix, word2index)\n",
    "\n",
    "print('Mean loss: before -- {:.3f}, after -- {:.3f}'.format(\n",
    "    initial_loss, np.mean(new_losses)))\n",
    "print('MSE: before -- {:.3f}, after -- {:.3f}'.format(initial_mse, new_mse))"
   ]
  },
  {
   "cell_type": "markdown",
   "metadata": {},
   "source": [
    "Вот это уже приятнее! Уменьшились и лосс, и MSE; мы не перескакиваем минимум и не переобучаемся. Рискнем здоровьем и обучим последнюю модель с такими же параметрами, но на бОльшем корпусе."
   ]
  },
  {
   "cell_type": "code",
   "execution_count": 119,
   "metadata": {},
   "outputs": [
    {
     "name": "stderr",
     "output_type": "stream",
     "text": [
      "Epoch 1: 100%|█████████████████████████████████████████████████| 2983124/2983124 [01:12<00:00, 41377.63it/s, loss=7.38]\n",
      "Epoch 2: 100%|█████████████████████████████████████████████████| 2983124/2983124 [01:11<00:00, 41903.73it/s, loss=7.27]\n",
      "Epoch 3: 100%|█████████████████████████████████████████████████| 2983124/2983124 [01:11<00:00, 41669.62it/s, loss=7.12]\n",
      "Epoch 4: 100%|█████████████████████████████████████████████████| 2983124/2983124 [01:12<00:00, 41289.72it/s, loss=7.05]\n",
      "Epoch 5: 100%|█████████████████████████████████████████████████| 2983124/2983124 [01:11<00:00, 41448.28it/s, loss=7.04]\n"
     ]
    }
   ],
   "source": [
    "final_losses, final_matrix = train_model(full_word2index,\n",
    "                                         epochs=5,\n",
    "                                         emb_size=150,\n",
    "                                         lr=0.0001)"
   ]
  },
  {
   "cell_type": "code",
   "execution_count": 120,
   "metadata": {},
   "outputs": [
    {
     "name": "stdout",
     "output_type": "stream",
     "text": [
      "Mean loss: before -- 7.549, after -- 7.342\n",
      "MSE: before -- 0.706, after -- 0.904\n"
     ]
    }
   ],
   "source": [
    "final_mse = get_pred_and_mse(eval_df, final_matrix, full_word2index)\n",
    "\n",
    "print('Mean loss: before -- {:.3f}, after -- {:.3f}'.format(\n",
    "    initial_loss, np.mean(final_losses)))\n",
    "print('MSE: before -- {:.3f}, after -- {:.3f}'.format(\n",
    "    initial_mse, final_mse))"
   ]
  },
  {
   "cell_type": "markdown",
   "metadata": {},
   "source": [
    "Ладно, это было лишнее))\n",
    "\n",
    "**Итак, наибольшие улучшения дает:**\n",
    "1. Увеличение числа эпох до 5 (Mean loss: before -- 7.549, after -- 7.334; MSE: before -- 0.706, after -- 0.644).\n",
    "2. Увеличение размера эмбеддинга до 150 (Mean loss: before -- 7.549, after -- 7.527; MSE: before -- 0.706, after -- 0.621) -- я пробовала и дальнейшее увеличение, но там качество начинает падать.\n",
    "3. Одновременное увеличение числа эпох и размера эмбеддингов показывает следующие результаты: **Mean loss: before -- 7.549, after -- 7.320; MSE: before -- 0.706, after -- 0.627** (оптимально, если брать в расчет и лосс, и MSE).\n",
    "\n",
    "Результатам вроде как можно верить, потому что элемент случайности сведен к минимуму (см. начало тетрадки, где задаются сиды). MSE довольно высокая, но это связано с тем, как я нормализовала скоры (когда нормализация была от 0 до 1, MSE была что-то около 0.13).\n",
    "\n",
    "### Потенциальные улучшения\n",
    "Я все еще считаю, что использование контекста и POS-тегов -- хорошая идея, но нужно более тщательно разбираться с тем, что майстем не смог лемматизировать (может быть, помимо мусора туда попали какие-то названия и имена собственные). Еще интересно поменять корпус, потому что оценочный датасет включает множество самых разнообразных понятий, а наш корпус, судя по всему, представляет собой отзывы о банках (?? я не очень вчитывалась, не бейте), поэтому даже те слова оценочного датасета, которые попали в готовую модель, могли получить не очень хорошую репрезентацию.\n",
    "\n",
    "### Финальный комментарий\n",
    "Оценивая мое решение, пожалуйста, примите во внимание те удивительные вещи, которые мне пришлось совершить :) Мой ноут в субботу вечером оказался залит чаем и сейчас в ремонте, так что пришлось сдувать пыль с папиного рабочего ноутбука и с нуля устанавливать на нем питон и анаконду, настраивать GPU (что я делала в первый раз) и за воскресенье заново писать весь код домашки."
   ]
  }
 ],
 "metadata": {
  "colab": {
   "collapsed_sections": [
    "kslCx9raylHh",
    "x2Dm_9lFylHu",
    "OTngYQsKylHw"
   ],
   "name": "klykova_networks_hw2.ipynb",
   "provenance": []
  },
  "kernelspec": {
   "display_name": "Python 3 (ipykernel)",
   "language": "python",
   "name": "python3"
  },
  "language_info": {
   "codemirror_mode": {
    "name": "ipython",
    "version": 3
   },
   "file_extension": ".py",
   "mimetype": "text/x-python",
   "name": "python",
   "nbconvert_exporter": "python",
   "pygments_lexer": "ipython3",
   "version": "3.9.7"
  }
 },
 "nbformat": 4,
 "nbformat_minor": 1
}
