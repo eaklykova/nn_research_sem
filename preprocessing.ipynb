{
 "cells": [
  {
   "cell_type": "markdown",
   "metadata": {},
   "source": [
    "# Новый препроцессинг"
   ]
  },
  {
   "cell_type": "code",
   "execution_count": 1,
   "metadata": {},
   "outputs": [],
   "source": [
    "import json\n",
    "import nltk\n",
    "import random\n",
    "import numpy as np\n",
    "import pandas as pd\n",
    "from tqdm.auto import tqdm\n",
    "from subprocess import Popen\n",
    "from collections import Counter"
   ]
  },
  {
   "cell_type": "code",
   "execution_count": 2,
   "metadata": {},
   "outputs": [],
   "source": [
    "with open('data/corpus.json', 'r', encoding='utf-8') as f:\n",
    "    corpus = json.load(f)"
   ]
  },
  {
   "cell_type": "code",
   "execution_count": 3,
   "metadata": {},
   "outputs": [
    {
     "data": {
      "text/plain": [
       "'Текстов -- 1157366, слов -- 16028874.'"
      ]
     },
     "execution_count": 3,
     "metadata": {},
     "output_type": "execute_result"
    }
   ],
   "source": [
    "'Текстов -- {}, слов -- {}.'.format(len(corpus),\n",
    "                                    sum([len(sample) for sample in corpus]))"
   ]
  },
  {
   "cell_type": "code",
   "execution_count": 4,
   "metadata": {},
   "outputs": [
    {
     "data": {
      "text/plain": [
       "'оказалось для пользовании этой услугой банку нужно предоставить фото отчет накладных и магазина склада'"
      ]
     },
     "execution_count": 4,
     "metadata": {},
     "output_type": "execute_result"
    }
   ],
   "source": [
    "' '.join(corpus[0])"
   ]
  },
  {
   "cell_type": "code",
   "execution_count": 5,
   "metadata": {},
   "outputs": [
    {
     "data": {
      "text/plain": [
       "[77158,\n",
       " 77158,\n",
       " 77158,\n",
       " 77158,\n",
       " 77158,\n",
       " 77158,\n",
       " 77158,\n",
       " 77158,\n",
       " 77158,\n",
       " 77158,\n",
       " 77158,\n",
       " 77157,\n",
       " 77157,\n",
       " 77157,\n",
       " 77157]"
      ]
     },
     "execution_count": 5,
     "metadata": {},
     "output_type": "execute_result"
    }
   ],
   "source": [
    "sents = [' '.join(sent) for sent in corpus]\n",
    "batches = np.array_split(sents, 15)\n",
    "[len(batch) for batch in batches]"
   ]
  },
  {
   "cell_type": "markdown",
   "metadata": {},
   "source": [
    "Части речи у Майстема бывают [вот такие](https://yandex.ru/dev/mystem/doc/grammemes-values.html), но в нашем оценочном датасете они обозначаются по-другому, поэтому обозначения нужно унифицировать (но не все, а только существительные, прилагательные и глаголы, потому что больше в оценочном датасете ничего нет)."
   ]
  },
  {
   "cell_type": "code",
   "execution_count": 6,
   "metadata": {},
   "outputs": [],
   "source": [
    "def unify_pos(word_pos):\n",
    "    if word_pos == 'A':\n",
    "        return 'ADJ'\n",
    "    if word_pos == 'S':\n",
    "        return 'NOUN'\n",
    "    if word_pos == 'V':\n",
    "        return 'VERB'\n",
    "    if word_pos == 'ADV':\n",
    "        return 'ADV'\n",
    "    if word_pos == 'PR':\n",
    "        return 'PREP'\n",
    "    if 'NUM' in word_pos:\n",
    "        return 'NUM'\n",
    "    if 'PRO' in word_pos:\n",
    "        return 'PRON'\n",
    "    return word_pos"
   ]
  },
  {
   "cell_type": "code",
   "execution_count": 7,
   "metadata": {},
   "outputs": [],
   "source": [
    "stopwords = nltk.corpus.stopwords.words('russian')"
   ]
  },
  {
   "cell_type": "code",
   "execution_count": 8,
   "metadata": {},
   "outputs": [],
   "source": [
    "def parse_line(line, stopwords=stopwords):\n",
    "\n",
    "    if 'analysis' in line:  # есть только у слов\n",
    "\n",
    "        if line['analysis']:  # если не распозналось, это мусор\n",
    "            analysis = line['analysis'][0]\n",
    "            lem = analysis['lex']  # лемма\n",
    "\n",
    "            # сразу убираем стоп-слова\n",
    "            if lem not in stopwords:\n",
    "                ps = analysis['gr'].split(',')[0].split('=')[0]  # pos\n",
    "                res = lem + '_' + unify_pos(ps)\n",
    "                return res\n",
    "\n",
    "    elif '^' in line['text']:\n",
    "        res = '^'\n",
    "        return res"
   ]
  },
  {
   "cell_type": "code",
   "execution_count": 9,
   "metadata": {},
   "outputs": [
    {
     "data": {
      "application/vnd.jupyter.widget-view+json": {
       "model_id": "644d830766bd4e208c69394f84c3d0de",
       "version_major": 2,
       "version_minor": 0
      },
      "text/plain": [
       "  0%|          | 0/15 [00:00<?, ?it/s]"
      ]
     },
     "metadata": {},
     "output_type": "display_data"
    },
    {
     "data": {
      "application/vnd.jupyter.widget-view+json": {
       "model_id": "56e832af6c684f96bbbfc4435b1c6ddb",
       "version_major": 2,
       "version_minor": 0
      },
      "text/plain": [
       "  0%|          | 0/2267053 [00:00<?, ?it/s]"
      ]
     },
     "metadata": {},
     "output_type": "display_data"
    },
    {
     "data": {
      "application/vnd.jupyter.widget-view+json": {
       "model_id": "2eac1af928984723a2f384b3b5b4ad4a",
       "version_major": 2,
       "version_minor": 0
      },
      "text/plain": [
       "  0%|          | 0/2269919 [00:00<?, ?it/s]"
      ]
     },
     "metadata": {},
     "output_type": "display_data"
    },
    {
     "data": {
      "application/vnd.jupyter.widget-view+json": {
       "model_id": "3fd93a0da3c448daad74b275ec706b11",
       "version_major": 2,
       "version_minor": 0
      },
      "text/plain": [
       "  0%|          | 0/2269583 [00:00<?, ?it/s]"
      ]
     },
     "metadata": {},
     "output_type": "display_data"
    },
    {
     "data": {
      "application/vnd.jupyter.widget-view+json": {
       "model_id": "b577c8ad74a84ecd83546cbcb0d8a68e",
       "version_major": 2,
       "version_minor": 0
      },
      "text/plain": [
       "  0%|          | 0/2271909 [00:00<?, ?it/s]"
      ]
     },
     "metadata": {},
     "output_type": "display_data"
    },
    {
     "data": {
      "application/vnd.jupyter.widget-view+json": {
       "model_id": "52945e5c965847db9fbb782219e7c108",
       "version_major": 2,
       "version_minor": 0
      },
      "text/plain": [
       "  0%|          | 0/2271433 [00:00<?, ?it/s]"
      ]
     },
     "metadata": {},
     "output_type": "display_data"
    },
    {
     "data": {
      "application/vnd.jupyter.widget-view+json": {
       "model_id": "f689696bb85448a380c748d58765deb2",
       "version_major": 2,
       "version_minor": 0
      },
      "text/plain": [
       "  0%|          | 0/2271763 [00:00<?, ?it/s]"
      ]
     },
     "metadata": {},
     "output_type": "display_data"
    },
    {
     "data": {
      "application/vnd.jupyter.widget-view+json": {
       "model_id": "12e2db4b281b4bd6a3b45ea2ecc34f62",
       "version_major": 2,
       "version_minor": 0
      },
      "text/plain": [
       "  0%|          | 0/2270303 [00:00<?, ?it/s]"
      ]
     },
     "metadata": {},
     "output_type": "display_data"
    },
    {
     "data": {
      "application/vnd.jupyter.widget-view+json": {
       "model_id": "ce0e1730e1134206989e8bc3dbf222eb",
       "version_major": 2,
       "version_minor": 0
      },
      "text/plain": [
       "  0%|          | 0/2270371 [00:00<?, ?it/s]"
      ]
     },
     "metadata": {},
     "output_type": "display_data"
    },
    {
     "data": {
      "application/vnd.jupyter.widget-view+json": {
       "model_id": "66f72d6a93dc475a86a9866c4310b680",
       "version_major": 2,
       "version_minor": 0
      },
      "text/plain": [
       "  0%|          | 0/2266163 [00:00<?, ?it/s]"
      ]
     },
     "metadata": {},
     "output_type": "display_data"
    },
    {
     "data": {
      "application/vnd.jupyter.widget-view+json": {
       "model_id": "203c23edf5534fb799ba637e23826518",
       "version_major": 2,
       "version_minor": 0
      },
      "text/plain": [
       "  0%|          | 0/2264497 [00:00<?, ?it/s]"
      ]
     },
     "metadata": {},
     "output_type": "display_data"
    },
    {
     "data": {
      "application/vnd.jupyter.widget-view+json": {
       "model_id": "9da5c7a33dcf46999f33b8aff782299d",
       "version_major": 2,
       "version_minor": 0
      },
      "text/plain": [
       "  0%|          | 0/2275311 [00:00<?, ?it/s]"
      ]
     },
     "metadata": {},
     "output_type": "display_data"
    },
    {
     "data": {
      "application/vnd.jupyter.widget-view+json": {
       "model_id": "663eea7698e34643b84988eb40989962",
       "version_major": 2,
       "version_minor": 0
      },
      "text/plain": [
       "  0%|          | 0/2275442 [00:00<?, ?it/s]"
      ]
     },
     "metadata": {},
     "output_type": "display_data"
    },
    {
     "data": {
      "application/vnd.jupyter.widget-view+json": {
       "model_id": "00d778644c184f1e8f752705ea9e97fd",
       "version_major": 2,
       "version_minor": 0
      },
      "text/plain": [
       "  0%|          | 0/2271866 [00:00<?, ?it/s]"
      ]
     },
     "metadata": {},
     "output_type": "display_data"
    },
    {
     "data": {
      "application/vnd.jupyter.widget-view+json": {
       "model_id": "e328bcd4f2b8432d872b4631cacf139c",
       "version_major": 2,
       "version_minor": 0
      },
      "text/plain": [
       "  0%|          | 0/2272096 [00:00<?, ?it/s]"
      ]
     },
     "metadata": {},
     "output_type": "display_data"
    },
    {
     "data": {
      "application/vnd.jupyter.widget-view+json": {
       "model_id": "54dbb81e39344244a6feebad2f42b011",
       "version_major": 2,
       "version_minor": 0
      },
      "text/plain": [
       "  0%|          | 0/2253424 [00:00<?, ?it/s]"
      ]
     },
     "metadata": {},
     "output_type": "display_data"
    }
   ],
   "source": [
    "clean_lines = []\n",
    "\n",
    "for batch in tqdm(batches):\n",
    "\n",
    "    # создаем исходный файл с разделителем\n",
    "    joined_batch = '\\n^\\n'.join(batch)\n",
    "    with open('raw_batch.txt', 'w', encoding='utf-8') as f:\n",
    "        f.write(joined_batch)\n",
    "\n",
    "    # парсим консольным майстемом\n",
    "    Popen(r'.\\mystem.exe -c -n -d -i --format json raw_batch.txt parsed_batch.json',\n",
    "          shell=True).wait()\n",
    "\n",
    "    # считываем предобработанный батч\n",
    "    lines = []\n",
    "    with open('parsed_batch.json', 'r', encoding='utf-8') as f:\n",
    "        for line in f.readlines():\n",
    "            lines.append(json.loads(line))\n",
    "\n",
    "    # получаем нужную информацию\n",
    "    for line in tqdm(lines):\n",
    "        clean_line = parse_line(line)\n",
    "        if clean_line:\n",
    "            clean_lines.append(clean_line)"
   ]
  },
  {
   "cell_type": "code",
   "execution_count": 11,
   "metadata": {},
   "outputs": [],
   "source": [
    "clean_corpus = []\n",
    "one_text = []\n",
    "\n",
    "for i, line in enumerate(clean_lines):\n",
    "    if line == '^':\n",
    "        clean_corpus.append(one_text)\n",
    "        one_text = []\n",
    "    elif i == len(clean_lines) - 1:\n",
    "        clean_corpus.append(one_text)\n",
    "    else:\n",
    "        one_text.append(line)\n",
    "\n",
    "clean_corpus = [t for t in clean_corpus if t]"
   ]
  },
  {
   "cell_type": "code",
   "execution_count": 12,
   "metadata": {},
   "outputs": [
    {
     "data": {
      "text/plain": [
       "1157224"
      ]
     },
     "execution_count": 12,
     "metadata": {},
     "output_type": "execute_result"
    }
   ],
   "source": [
    "len(clean_corpus)"
   ]
  },
  {
   "cell_type": "markdown",
   "metadata": {},
   "source": [
    "# Соберем частотный словарь"
   ]
  },
  {
   "cell_type": "code",
   "execution_count": 13,
   "metadata": {},
   "outputs": [],
   "source": [
    "all_lemmas = []\n",
    "for text in clean_corpus:\n",
    "    all_lemmas.extend(text)"
   ]
  },
  {
   "cell_type": "code",
   "execution_count": 14,
   "metadata": {},
   "outputs": [
    {
     "data": {
      "text/plain": [
       "[('число_NOUN', 419528),\n",
       " ('банк_NOUN', 311595),\n",
       " ('карта_NOUN', 156216),\n",
       " ('кредит_NOUN', 86866),\n",
       " ('деньги_NOUN', 78313),\n",
       " ('это_PRON', 77045),\n",
       " ('день_NOUN', 74886),\n",
       " ('сотрудник_NOUN', 69477),\n",
       " ('весь_PRON', 66929),\n",
       " ('счет_NOUN', 64141)]"
      ]
     },
     "execution_count": 14,
     "metadata": {},
     "output_type": "execute_result"
    }
   ],
   "source": [
    "Counter(all_lemmas).most_common(10)"
   ]
  },
  {
   "cell_type": "code",
   "execution_count": 17,
   "metadata": {},
   "outputs": [
    {
     "data": {
      "text/html": [
       "<div>\n",
       "<style scoped>\n",
       "    .dataframe tbody tr th:only-of-type {\n",
       "        vertical-align: middle;\n",
       "    }\n",
       "\n",
       "    .dataframe tbody tr th {\n",
       "        vertical-align: top;\n",
       "    }\n",
       "\n",
       "    .dataframe thead th {\n",
       "        text-align: right;\n",
       "    }\n",
       "</style>\n",
       "<table border=\"1\" class=\"dataframe\">\n",
       "  <thead>\n",
       "    <tr style=\"text-align: right;\">\n",
       "      <th></th>\n",
       "      <th>word</th>\n",
       "      <th>freq</th>\n",
       "    </tr>\n",
       "  </thead>\n",
       "  <tbody>\n",
       "    <tr>\n",
       "      <th>0</th>\n",
       "      <td>число_NOUN</td>\n",
       "      <td>419528</td>\n",
       "    </tr>\n",
       "    <tr>\n",
       "      <th>1</th>\n",
       "      <td>банк_NOUN</td>\n",
       "      <td>311595</td>\n",
       "    </tr>\n",
       "    <tr>\n",
       "      <th>2</th>\n",
       "      <td>карта_NOUN</td>\n",
       "      <td>156216</td>\n",
       "    </tr>\n",
       "    <tr>\n",
       "      <th>3</th>\n",
       "      <td>кредит_NOUN</td>\n",
       "      <td>86866</td>\n",
       "    </tr>\n",
       "    <tr>\n",
       "      <th>4</th>\n",
       "      <td>деньги_NOUN</td>\n",
       "      <td>78313</td>\n",
       "    </tr>\n",
       "    <tr>\n",
       "      <th>...</th>\n",
       "      <td>...</td>\n",
       "      <td>...</td>\n",
       "    </tr>\n",
       "    <tr>\n",
       "      <th>66603</th>\n",
       "      <td>непогасить_VERB</td>\n",
       "      <td>1</td>\n",
       "    </tr>\n",
       "    <tr>\n",
       "      <th>66604</th>\n",
       "      <td>посейдон_NOUN</td>\n",
       "      <td>1</td>\n",
       "    </tr>\n",
       "    <tr>\n",
       "      <th>66605</th>\n",
       "      <td>троллят_NOUN</td>\n",
       "      <td>1</td>\n",
       "    </tr>\n",
       "    <tr>\n",
       "      <th>66606</th>\n",
       "      <td>забоиться_VERB</td>\n",
       "      <td>1</td>\n",
       "    </tr>\n",
       "    <tr>\n",
       "      <th>66607</th>\n",
       "      <td>собчак_NOUN</td>\n",
       "      <td>1</td>\n",
       "    </tr>\n",
       "  </tbody>\n",
       "</table>\n",
       "<p>66608 rows × 2 columns</p>\n",
       "</div>"
      ],
      "text/plain": [
       "                  word    freq\n",
       "0           число_NOUN  419528\n",
       "1            банк_NOUN  311595\n",
       "2           карта_NOUN  156216\n",
       "3          кредит_NOUN   86866\n",
       "4          деньги_NOUN   78313\n",
       "...                ...     ...\n",
       "66603  непогасить_VERB       1\n",
       "66604    посейдон_NOUN       1\n",
       "66605     троллят_NOUN       1\n",
       "66606   забоиться_VERB       1\n",
       "66607      собчак_NOUN       1\n",
       "\n",
       "[66608 rows x 2 columns]"
      ]
     },
     "execution_count": 17,
     "metadata": {},
     "output_type": "execute_result"
    }
   ],
   "source": [
    "freq_df = pd.DataFrame.from_records(Counter(all_lemmas).most_common(),\n",
    "                                    columns=['word', 'freq'])\n",
    "freq_df"
   ]
  },
  {
   "cell_type": "code",
   "execution_count": 19,
   "metadata": {},
   "outputs": [
    {
     "data": {
      "text/plain": [
       "66608"
      ]
     },
     "execution_count": 19,
     "metadata": {},
     "output_type": "execute_result"
    }
   ],
   "source": [
    "# уникальных слов в словаре\n",
    "freq_df.shape[0]"
   ]
  },
  {
   "cell_type": "code",
   "execution_count": 20,
   "metadata": {},
   "outputs": [
    {
     "data": {
      "text/plain": [
       "10034226"
      ]
     },
     "execution_count": 20,
     "metadata": {},
     "output_type": "execute_result"
    }
   ],
   "source": [
    "# всего слов в очищенном корпусе\n",
    "n_words = freq_df.freq.sum()\n",
    "n_words"
   ]
  },
  {
   "cell_type": "markdown",
   "metadata": {},
   "source": [
    "# Замена редких слов\n",
    "В нашем корпусе осталось много слов, которые встречаются очень редко. Давайте мы редкие слова заменим на специальный токе UNK - unknown. Так мы разительно сократим размер нашего словаря слов с незначительной потерей информации."
   ]
  },
  {
   "cell_type": "code",
   "execution_count": 22,
   "metadata": {},
   "outputs": [
    {
     "name": "stdout",
     "output_type": "stream",
     "text": [
      "Доля слов, которые мы заменим на UNK:\n",
      "Порог отсечения - 5, доля UNK - 0.67 %, осталось 21059 слов, удалили 45549 слов\n",
      "Порог отсечения - 10, доля UNK - 1.05 %, осталось 15248 слов, удалили 51360 слов\n",
      "Порог отсечения - 15, доля UNK - 1.37 %, осталось 12567 слов, удалили 54041 слов\n",
      "Порог отсечения - 20, доля UNK - 1.65 %, осталось 10897 слов, удалили 55711 слов\n",
      "Порог отсечения - 25, доля UNK - 1.88 %, осталось 9807 слов, удалили 56801 слов\n",
      "Порог отсечения - 30, доля UNK - 2.10 %, осталось 9002 слов, удалили 57606 слов\n"
     ]
    }
   ],
   "source": [
    "print('Доля слов, которые мы заменим на UNK:')\n",
    "\n",
    "for threshold in np.arange(5, 31, 5):\n",
    "\n",
    "    sub_df = freq_df[freq_df.freq < threshold]\n",
    "\n",
    "    unk_freq = sub_df['freq'].sum() * 100 / n_words\n",
    "\n",
    "    print('Порог отсечения - {}, доля UNK - {:.2f} %, осталось {} слов, удалили {} слов'.format(\n",
    "        threshold, unk_freq, freq_df.shape[0] - sub_df.shape[0], sub_df.shape[0]))"
   ]
  },
  {
   "cell_type": "markdown",
   "metadata": {},
   "source": [
    "Видно, что наш препроцессинг уменьшил количество мусора в корпусе, поэтому сейчас отсеивается меньше слов. Тем не менее слов стало меньше, чем было, поэтому уменьшим и threshold."
   ]
  },
  {
   "cell_type": "code",
   "execution_count": 23,
   "metadata": {},
   "outputs": [],
   "source": [
    "threshold = 10\n",
    "vocab = freq_df[freq_df.freq >= threshold]"
   ]
  },
  {
   "cell_type": "code",
   "execution_count": 24,
   "metadata": {},
   "outputs": [],
   "source": [
    "words = set(vocab.word)"
   ]
  },
  {
   "cell_type": "code",
   "execution_count": 25,
   "metadata": {},
   "outputs": [
    {
     "data": {
      "text/plain": [
       "15248"
      ]
     },
     "execution_count": 25,
     "metadata": {},
     "output_type": "execute_result"
    }
   ],
   "source": [
    "len(words)"
   ]
  },
  {
   "cell_type": "code",
   "execution_count": 27,
   "metadata": {},
   "outputs": [
    {
     "data": {
      "text/plain": [
       "'Мы сократили наш словарь в 4.37 раз с потерей 1.05 % всех слов.'"
      ]
     },
     "execution_count": 27,
     "metadata": {},
     "output_type": "execute_result"
    }
   ],
   "source": [
    "'Мы сократили наш словарь в {:.2f} раз с потерей 1.05 % всех слов.'.format(freq_df.shape[0] / len(words))"
   ]
  },
  {
   "cell_type": "code",
   "execution_count": 28,
   "metadata": {},
   "outputs": [],
   "source": [
    "def get_correct_words(word):\n",
    "    \n",
    "    if word in words:\n",
    "        return word\n",
    "    else:\n",
    "        return 'UNK'"
   ]
  },
  {
   "cell_type": "code",
   "execution_count": 29,
   "metadata": {},
   "outputs": [
    {
     "data": {
      "application/vnd.jupyter.widget-view+json": {
       "model_id": "5eeb9068e9e44243af92005273e844a8",
       "version_major": 2,
       "version_minor": 0
      },
      "text/plain": [
       "  0%|          | 0/1157224 [00:00<?, ?it/s]"
      ]
     },
     "metadata": {},
     "output_type": "display_data"
    }
   ],
   "source": [
    "# заменим слово токеном UNK, если его нет в нашем новом словаре\n",
    "processed_corpus = [[get_correct_words(tok) for tok in text] for text in tqdm(clean_corpus)]"
   ]
  },
  {
   "cell_type": "code",
   "execution_count": 30,
   "metadata": {},
   "outputs": [],
   "source": [
    "def drop_duplicate_unks(tokens):\n",
    "\n",
    "    output_tokens = []\n",
    "\n",
    "    for tok in tokens:\n",
    "\n",
    "        if tok == 'UNK' and output_tokens and output_tokens[-1] == 'UNK':\n",
    "            continue\n",
    "\n",
    "        output_tokens.append(tok)\n",
    "\n",
    "    return output_tokens"
   ]
  },
  {
   "cell_type": "code",
   "execution_count": 31,
   "metadata": {},
   "outputs": [
    {
     "data": {
      "application/vnd.jupyter.widget-view+json": {
       "model_id": "974ab19cea34472c839c992606252ca4",
       "version_major": 2,
       "version_minor": 0
      },
      "text/plain": [
       "  0%|          | 0/1157224 [00:00<?, ?it/s]"
      ]
     },
     "metadata": {},
     "output_type": "display_data"
    }
   ],
   "source": [
    "# дедублируем подряд идущие унки (оставим только один)\n",
    "processed_corpus = [drop_duplicate_unks(sample) for sample in tqdm(processed_corpus)]"
   ]
  },
  {
   "cell_type": "code",
   "execution_count": 32,
   "metadata": {},
   "outputs": [],
   "source": [
    "random.shuffle(processed_corpus)"
   ]
  },
  {
   "cell_type": "code",
   "execution_count": 36,
   "metadata": {},
   "outputs": [],
   "source": [
    "with open('data/new_corpus.json', 'w', encoding='utf-8') as f:\n",
    "    json.dump(processed_corpus[:100000], f)"
   ]
  },
  {
   "cell_type": "code",
   "execution_count": 38,
   "metadata": {},
   "outputs": [],
   "source": [
    "with open('data/full_new_corpus.json', 'w', encoding='utf-8') as f:\n",
    "    json.dump(processed_corpus[:200000], f)"
   ]
  }
 ],
 "metadata": {
  "kernelspec": {
   "display_name": "Python 3 (ipykernel)",
   "language": "python",
   "name": "python3"
  },
  "language_info": {
   "codemirror_mode": {
    "name": "ipython",
    "version": 3
   },
   "file_extension": ".py",
   "mimetype": "text/x-python",
   "name": "python",
   "nbconvert_exporter": "python",
   "pygments_lexer": "ipython3",
   "version": "3.9.7"
  }
 },
 "nbformat": 4,
 "nbformat_minor": 2
}
